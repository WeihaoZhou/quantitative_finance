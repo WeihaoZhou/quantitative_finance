{
 "cells": [
  {
   "cell_type": "markdown",
   "metadata": {},
   "source": [
    "# Model: Decision Tree"
   ]
  },
  {
   "cell_type": "markdown",
   "metadata": {},
   "source": [
    "### Importing Libraries"
   ]
  },
  {
   "cell_type": "code",
   "execution_count": 1,
   "metadata": {},
   "outputs": [],
   "source": [
    "import _pickle as pickle\n",
    "import numpy as np\n",
    "import pandas as pd\n",
    "from sklearn.model_selection import train_test_split\n",
    "from sklearn.metrics import precision_score, recall_score, accuracy_score, f1_score, confusion_matrix, classification_report\n",
    "import matplotlib.pyplot as plt"
   ]
  },
  {
   "cell_type": "markdown",
   "metadata": {},
   "source": [
    "### Loading in Data"
   ]
  },
  {
   "cell_type": "code",
   "execution_count": 2,
   "metadata": {},
   "outputs": [],
   "source": [
    "with open(\"top10_df.pkl\",'rb') as fp:\n",
    "    df = pickle.load(fp)"
   ]
  },
  {
   "cell_type": "markdown",
   "metadata": {},
   "source": [
    "### Scaling the Data"
   ]
  },
  {
   "cell_type": "code",
   "execution_count": 3,
   "metadata": {},
   "outputs": [],
   "source": [
    "from sklearn.preprocessing import StandardScaler\n",
    "\n",
    "scaler = StandardScaler()\n",
    "\n",
    "features_df = df.drop([\"Decision\"], 1)\n",
    "\n",
    "scaled_df = pd.DataFrame(scaler.fit_transform(features_df), \n",
    "                               index=features_df.index, \n",
    "                               columns=features_df.columns)\n",
    "\n",
    "df = scaled_df.join(df.Decision)"
   ]
  },
  {
   "cell_type": "markdown",
   "metadata": {},
   "source": [
    "### Splitting the Data"
   ]
  },
  {
   "cell_type": "code",
   "execution_count": 4,
   "metadata": {},
   "outputs": [],
   "source": [
    "X = df.drop([\"Decision\"], 1)\n",
    "y = df.Decision\n",
    "\n",
    "# Train, test, split\n",
    "X_train, X_test, y_train, y_test = train_test_split(X, y)"
   ]
  },
  {
   "cell_type": "markdown",
   "metadata": {},
   "source": [
    "### Helper Functions"
   ]
  },
  {
   "cell_type": "markdown",
   "metadata": {},
   "source": [
    "#### Function for plotting confusion matrix"
   ]
  },
  {
   "cell_type": "code",
   "execution_count": 5,
   "metadata": {},
   "outputs": [],
   "source": [
    "def plot_confusion_matrix(y_true, y_pred, labels=[\"Sell\", \"Buy\", \"Hold\"], \n",
    "                          normalize=False, title=None, cmap=plt.cm.coolwarm):\n",
    "\n",
    "    cm = confusion_matrix(y_true, y_pred)\n",
    "    fig, ax = plt.subplots(figsize=(12,6))\n",
    "    im = ax.imshow(cm, interpolation='nearest', cmap=cmap)\n",
    "    ax.figure.colorbar(im, ax=ax)\n",
    "    # We want to show all ticks...\n",
    "    ax.set(xticks=np.arange(cm.shape[1]),\n",
    "           yticks=np.arange(cm.shape[0]),\n",
    "           # ... and label them with the respective list entries\n",
    "           xticklabels=labels, yticklabels=labels,\n",
    "           title=title,\n",
    "           ylabel='ACTUAL',\n",
    "           xlabel='PREDICTED')\n",
    "    # Rotate the tick labels and set their alignment.\n",
    "    plt.setp(ax.get_xticklabels(), rotation=45, ha=\"right\",\n",
    "             rotation_mode=\"anchor\")\n",
    "    # Loop over data dimensions and create text annotations.\n",
    "    fmt = '.2f' if normalize else 'd'\n",
    "    thresh = cm.max() / 1.5\n",
    "    for i in range(cm.shape[0]):\n",
    "        for j in range(cm.shape[1]):\n",
    "            ax.text(j, i, format(cm[i, j], fmt),\n",
    "                    ha=\"center\", va=\"center\",\n",
    "                    color=\"snow\" if cm[i, j] > thresh else \"orange\",\n",
    "                    size=26)\n",
    "    ax.grid(False)\n",
    "    fig.tight_layout()\n",
    "    return ax"
   ]
  },
  {
   "cell_type": "markdown",
   "metadata": {},
   "source": [
    "## Modeling\n",
    "The preferred evaluation metric used will be __Precision__ for each class.  They will be optimized using the __F1 Score-Macro-Average__ to balance the Precision and Recall.  This is done because we want to not only be correct when predicting but also make a decent amount of predictions for each class.  Classes such as 'Buy' and 'Sell' are more important than 'Hold'."
   ]
  },
  {
   "cell_type": "markdown",
   "metadata": {},
   "source": [
    "### Fitting and Training"
   ]
  },
  {
   "cell_type": "code",
   "execution_count": 6,
   "metadata": {
    "scrolled": false
   },
   "outputs": [
    {
     "data": {
      "text/plain": [
       "DecisionTreeClassifier(class_weight=None, criterion='gini', max_depth=None,\n",
       "            max_features=None, max_leaf_nodes=None,\n",
       "            min_impurity_decrease=0.0, min_impurity_split=None,\n",
       "            min_samples_leaf=1, min_samples_split=2,\n",
       "            min_weight_fraction_leaf=0.0, presort=False, random_state=None,\n",
       "            splitter='best')"
      ]
     },
     "execution_count": 6,
     "metadata": {},
     "output_type": "execute_result"
    }
   ],
   "source": [
    "# Importing the model\n",
    "from sklearn.tree import DecisionTreeClassifier\n",
    "\n",
    "# Fitting and training\n",
    "clf = DecisionTreeClassifier()\n",
    "clf.fit(X_train, y_train)"
   ]
  },
  {
   "cell_type": "markdown",
   "metadata": {},
   "source": [
    "### Printing out Evaluation Metrics"
   ]
  },
  {
   "cell_type": "code",
   "execution_count": 7,
   "metadata": {},
   "outputs": [
    {
     "name": "stdout",
     "output_type": "stream",
     "text": [
      "              precision    recall  f1-score   support\n",
      "\n",
      "        Sell       0.23      0.23      0.23      2978\n",
      "         Buy       0.38      0.38      0.38      5542\n",
      "        Hold       0.44      0.45      0.44      6523\n",
      "\n",
      "   micro avg       0.38      0.38      0.38     15043\n",
      "   macro avg       0.35      0.35      0.35     15043\n",
      "weighted avg       0.38      0.38      0.38     15043\n",
      "\n"
     ]
    }
   ],
   "source": [
    "# Classifier predictions\n",
    "pred = clf.predict(X_test)\n",
    "\n",
    "#Printing out results\n",
    "report = classification_report(y_test, pred, target_names=['Sell', 'Buy', 'Hold'])\n",
    "print(report)"
   ]
  },
  {
   "cell_type": "markdown",
   "metadata": {},
   "source": [
    "### Confusion Matrix"
   ]
  },
  {
   "cell_type": "code",
   "execution_count": 8,
   "metadata": {},
   "outputs": [
    {
     "data": {
      "image/png": "[encoded data removed]",
      "text/plain": [
       "<Figure size 864x432 with 2 Axes>"
      ]
     },
     "metadata": {
      "needs_background": "light"
     },
     "output_type": "display_data"
    }
   ],
   "source": [
    "plot_confusion_matrix(y_test, pred, title=\"Confusion Matrix\")\n",
    "np.set_printoptions(precision=1)\n",
    "# Plot non-normalized confusion matrix\n",
    "plt.show()"
   ]
  },
  {
   "cell_type": "markdown",
   "metadata": {},
   "source": [
    "## Tuning Model Parameters"
   ]
  },
  {
   "cell_type": "code",
   "execution_count": 9,
   "metadata": {},
   "outputs": [],
   "source": [
    "from sklearn.model_selection import GridSearchCV"
   ]
  },
  {
   "cell_type": "markdown",
   "metadata": {},
   "source": [
    "### Parameters"
   ]
  },
  {
   "cell_type": "code",
   "execution_count": 10,
   "metadata": {},
   "outputs": [],
   "source": [
    "# Parameters to Tune\n",
    "params = {'criterion': ['gini', 'entropy'],\n",
    "          'max_depth': [None, 2, 3, 4, 5, 6],\n",
    "          'min_samples_split': [2, 5, 10],\n",
    "          'min_samples_leaf': [1,2,3,4,5,6]}"
   ]
  },
  {
   "cell_type": "code",
   "execution_count": 11,
   "metadata": {
    "scrolled": true
   },
   "outputs": [
    {
     "name": "stdout",
     "output_type": "stream",
     "text": [
      "Fitting 3 folds for each of 216 candidates, totalling 648 fits\n",
      "[CV] criterion=gini, max_depth=None, min_samples_leaf=1, min_samples_split=2 \n"
     ]
    },
    {
     "name": "stderr",
     "output_type": "stream",
     "text": [
      "[Parallel(n_jobs=1)]: Using backend SequentialBackend with 1 concurrent workers.\n"
     ]
    },
    {
     "name": "stdout",
     "output_type": "stream",
     "text": [
      "[CV]  criterion=gini, max_depth=None, min_samples_leaf=1, min_samples_split=2, score=0.3584370721756705, total=   0.8s\n",
      "[CV] criterion=gini, max_depth=None, min_samples_leaf=1, min_samples_split=2 \n"
     ]
    },
    {
     "name": "stderr",
     "output_type": "stream",
     "text": [
      "[Parallel(n_jobs=1)]: Done   1 out of   1 | elapsed:    0.8s remaining:    0.0s\n"
     ]
    },
    {
     "name": "stdout",
     "output_type": "stream",
     "text": [
      "[CV]  criterion=gini, max_depth=None, min_samples_leaf=1, min_samples_split=2, score=0.3540815561877609, total=   0.8s\n",
      "[CV] criterion=gini, max_depth=None, min_samples_leaf=1, min_samples_split=2 \n"
     ]
    },
    {
     "name": "stderr",
     "output_type": "stream",
     "text": [
      "[Parallel(n_jobs=1)]: Done   2 out of   2 | elapsed:    1.7s remaining:    0.0s\n"
     ]
    },
    {
     "name": "stdout",
     "output_type": "stream",
     "text": [
      "[CV]  criterion=gini, max_depth=None, min_samples_leaf=1, min_samples_split=2, score=0.3523400760647724, total=   0.8s\n",
      "[CV] criterion=gini, max_depth=None, min_samples_leaf=1, min_samples_split=5 \n"
     ]
    },
    {
     "name": "stderr",
     "output_type": "stream",
     "text": [
      "[Parallel(n_jobs=1)]: Done   3 out of   3 | elapsed:    2.5s remaining:    0.0s\n"
     ]
    },
    {
     "name": "stdout",
     "output_type": "stream",
     "text": [
      "[CV]  criterion=gini, max_depth=None, min_samples_leaf=1, min_samples_split=5, score=0.35510449739352995, total=   0.7s\n",
      "[CV] criterion=gini, max_depth=None, min_samples_leaf=1, min_samples_split=5 \n"
     ]
    },
    {
     "name": "stderr",
     "output_type": "stream",
     "text": [
      "[Parallel(n_jobs=1)]: Done   4 out of   4 | elapsed:    3.3s remaining:    0.0s\n"
     ]
    },
    {
     "name": "stdout",
     "output_type": "stream",
     "text": [
      "[CV]  criterion=gini, max_depth=None, min_samples_leaf=1, min_samples_split=5, score=0.3556878800169305, total=   0.8s\n",
      "[CV] criterion=gini, max_depth=None, min_samples_leaf=1, min_samples_split=5 \n",
      "[CV]  criterion=gini, max_depth=None, min_samples_leaf=1, min_samples_split=5, score=0.3541033413843417, total=   0.9s\n",
      "[CV] criterion=gini, max_depth=None, min_samples_leaf=1, min_samples_split=10 \n",
      "[CV]  criterion=gini, max_depth=None, min_samples_leaf=1, min_samples_split=10, score=0.3563723783911185, total=   0.7s\n",
      "[CV] criterion=gini, max_depth=None, min_samples_leaf=1, min_samples_split=10 \n",
      "[CV]  criterion=gini, max_depth=None, min_samples_leaf=1, min_samples_split=10, score=0.35967367573866654, total=   0.8s\n",
      "[CV] criterion=gini, max_depth=None, min_samples_leaf=1, min_samples_split=10 \n",
      "[CV]  criterion=gini, max_depth=None, min_samples_leaf=1, min_samples_split=10, score=0.3570494280648577, total=   0.8s\n",
      "[CV] criterion=gini, max_depth=None, min_samples_leaf=2, min_samples_split=2 \n",
      "[CV]  criterion=gini, max_depth=None, min_samples_leaf=2, min_samples_split=2, score=0.35305492227227636, total=   0.8s\n",
      "[CV] criterion=gini, max_depth=None, min_samples_leaf=2, min_samples_split=2 \n",
      "[CV]  criterion=gini, max_depth=None, min_samples_leaf=2, min_samples_split=2, score=0.35471854828227833, total=   0.8s\n",
      "[CV] criterion=gini, max_depth=None, min_samples_leaf=2, min_samples_split=2 \n",
      "[CV]  criterion=gini, max_depth=None, min_samples_leaf=2, min_samples_split=2, score=0.35453967280033255, total=   0.7s\n",
      "[CV] criterion=gini, max_depth=None, min_samples_leaf=2, min_samples_split=5 \n",
      "[CV]  criterion=gini, max_depth=None, min_samples_leaf=2, min_samples_split=5, score=0.35283987407022516, total=   0.8s\n",
      "[CV] criterion=gini, max_depth=None, min_samples_leaf=2, min_samples_split=5 \n",
      "[CV]  criterion=gini, max_depth=None, min_samples_leaf=2, min_samples_split=5, score=0.353167115970006, total=   0.8s\n",
      "[CV] criterion=gini, max_depth=None, min_samples_leaf=2, min_samples_split=5 \n",
      "[CV]  criterion=gini, max_depth=None, min_samples_leaf=2, min_samples_split=5, score=0.3547753206707564, total=   0.9s\n",
      "[CV] criterion=gini, max_depth=None, min_samples_leaf=2, min_samples_split=10 \n",
      "[CV]  criterion=gini, max_depth=None, min_samples_leaf=2, min_samples_split=10, score=0.3551701312839854, total=   0.8s\n",
      "[CV] criterion=gini, max_depth=None, min_samples_leaf=2, min_samples_split=10 \n",
      "[CV]  criterion=gini, max_depth=None, min_samples_leaf=2, min_samples_split=10, score=0.3604907337104284, total=   0.9s\n",
      "[CV] criterion=gini, max_depth=None, min_samples_leaf=2, min_samples_split=10 \n",
      "[CV]  criterion=gini, max_depth=None, min_samples_leaf=2, min_samples_split=10, score=0.35529742953288457, total=   0.8s\n",
      "[CV] criterion=gini, max_depth=None, min_samples_leaf=3, min_samples_split=2 \n",
      "[CV]  criterion=gini, max_depth=None, min_samples_leaf=3, min_samples_split=2, score=0.3569516954265641, total=   0.8s\n",
      "[CV] criterion=gini, max_depth=None, min_samples_leaf=3, min_samples_split=2 \n",
      "[CV]  criterion=gini, max_depth=None, min_samples_leaf=3, min_samples_split=2, score=0.35868227167208117, total=   0.9s\n",
      "[CV] criterion=gini, max_depth=None, min_samples_leaf=3, min_samples_split=2 \n",
      "[CV]  criterion=gini, max_depth=None, min_samples_leaf=3, min_samples_split=2, score=0.3534559585153511, total=   0.8s\n",
      "[CV] criterion=gini, max_depth=None, min_samples_leaf=3, min_samples_split=5 \n",
      "[CV]  criterion=gini, max_depth=None, min_samples_leaf=3, min_samples_split=5, score=0.3552864633940764, total=   0.8s\n",
      "[CV] criterion=gini, max_depth=None, min_samples_leaf=3, min_samples_split=5 \n",
      "[CV]  criterion=gini, max_depth=None, min_samples_leaf=3, min_samples_split=5, score=0.35671368833162004, total=   0.8s\n",
      "[CV] criterion=gini, max_depth=None, min_samples_leaf=3, min_samples_split=5 \n",
      "[CV]  criterion=gini, max_depth=None, min_samples_leaf=3, min_samples_split=5, score=0.3521767185982707, total=   0.9s\n",
      "[CV] criterion=gini, max_depth=None, min_samples_leaf=3, min_samples_split=10 \n",
      "[CV]  criterion=gini, max_depth=None, min_samples_leaf=3, min_samples_split=10, score=0.35689857858114954, total=   0.7s\n",
      "[CV] criterion=gini, max_depth=None, min_samples_leaf=3, min_samples_split=10 \n",
      "[CV]  criterion=gini, max_depth=None, min_samples_leaf=3, min_samples_split=10, score=0.3614496404697712, total=   0.7s\n",
      "[CV] criterion=gini, max_depth=None, min_samples_leaf=3, min_samples_split=10 \n",
      "[CV]  criterion=gini, max_depth=None, min_samples_leaf=3, min_samples_split=10, score=0.3513006215244299, total=   0.7s\n",
      "[CV] criterion=gini, max_depth=None, min_samples_leaf=4, min_samples_split=2 \n",
      "[CV]  criterion=gini, max_depth=None, min_samples_leaf=4, min_samples_split=2, score=0.35974076510587866, total=   0.7s\n",
      "[CV] criterion=gini, max_depth=None, min_samples_leaf=4, min_samples_split=2 \n",
      "[CV]  criterion=gini, max_depth=None, min_samples_leaf=4, min_samples_split=2, score=0.3590354231063088, total=   0.7s\n",
      "[CV] criterion=gini, max_depth=None, min_samples_leaf=4, min_samples_split=2 \n",
      "[CV]  criterion=gini, max_depth=None, min_samples_leaf=4, min_samples_split=2, score=0.3549547552981131, total=   0.7s\n",
      "[CV] criterion=gini, max_depth=None, min_samples_leaf=4, min_samples_split=5 \n",
      "[CV]  criterion=gini, max_depth=None, min_samples_leaf=4, min_samples_split=5, score=0.35988047762009995, total=   0.6s\n",
      "[CV] criterion=gini, max_depth=None, min_samples_leaf=4, min_samples_split=5 \n",
      "[CV]  criterion=gini, max_depth=None, min_samples_leaf=4, min_samples_split=5, score=0.358447369238666, total=   0.7s\n",
      "[CV] criterion=gini, max_depth=None, min_samples_leaf=4, min_samples_split=5 \n",
      "[CV]  criterion=gini, max_depth=None, min_samples_leaf=4, min_samples_split=5, score=0.35297545895240257, total=   0.7s\n",
      "[CV] criterion=gini, max_depth=None, min_samples_leaf=4, min_samples_split=10 \n",
      "[CV]  criterion=gini, max_depth=None, min_samples_leaf=4, min_samples_split=10, score=0.35759302391408765, total=   0.8s\n",
      "[CV] criterion=gini, max_depth=None, min_samples_leaf=4, min_samples_split=10 \n",
      "[CV]  criterion=gini, max_depth=None, min_samples_leaf=4, min_samples_split=10, score=0.36445305579498705, total=   0.7s\n",
      "[CV] criterion=gini, max_depth=None, min_samples_leaf=4, min_samples_split=10 \n",
      "[CV]  criterion=gini, max_depth=None, min_samples_leaf=4, min_samples_split=10, score=0.3540954220185026, total=   0.7s\n",
      "[CV] criterion=gini, max_depth=None, min_samples_leaf=5, min_samples_split=2 \n",
      "[CV]  criterion=gini, max_depth=None, min_samples_leaf=5, min_samples_split=2, score=0.3614926881152076, total=   0.7s\n",
      "[CV] criterion=gini, max_depth=None, min_samples_leaf=5, min_samples_split=2 \n",
      "[CV]  criterion=gini, max_depth=None, min_samples_leaf=5, min_samples_split=2, score=0.36271267901724635, total=   0.7s\n",
      "[CV] criterion=gini, max_depth=None, min_samples_leaf=5, min_samples_split=2 \n",
      "[CV]  criterion=gini, max_depth=None, min_samples_leaf=5, min_samples_split=2, score=0.3532646042772032, total=   0.7s\n",
      "[CV] criterion=gini, max_depth=None, min_samples_leaf=5, min_samples_split=5 \n",
      "[CV]  criterion=gini, max_depth=None, min_samples_leaf=5, min_samples_split=5, score=0.361507068516618, total=   0.7s\n",
      "[CV] criterion=gini, max_depth=None, min_samples_leaf=5, min_samples_split=5 \n",
      "[CV]  criterion=gini, max_depth=None, min_samples_leaf=5, min_samples_split=5, score=0.3643351708751729, total=   0.7s\n",
      "[CV] criterion=gini, max_depth=None, min_samples_leaf=5, min_samples_split=5 \n",
      "[CV]  criterion=gini, max_depth=None, min_samples_leaf=5, min_samples_split=5, score=0.352064915449595, total=   0.7s\n",
      "[CV] criterion=gini, max_depth=None, min_samples_leaf=5, min_samples_split=10 \n",
      "[CV]  criterion=gini, max_depth=None, min_samples_leaf=5, min_samples_split=10, score=0.3629042160441613, total=   0.7s\n",
      "[CV] criterion=gini, max_depth=None, min_samples_leaf=5, min_samples_split=10 \n",
      "[CV]  criterion=gini, max_depth=None, min_samples_leaf=5, min_samples_split=10, score=0.3654032766489532, total=   0.7s\n",
      "[CV] criterion=gini, max_depth=None, min_samples_leaf=5, min_samples_split=10 \n",
      "[CV]  criterion=gini, max_depth=None, min_samples_leaf=5, min_samples_split=10, score=0.3543297494502419, total=   0.8s\n",
      "[CV] criterion=gini, max_depth=None, min_samples_leaf=6, min_samples_split=2 \n",
      "[CV]  criterion=gini, max_depth=None, min_samples_leaf=6, min_samples_split=2, score=0.3620215335672803, total=   1.1s\n",
      "[CV] criterion=gini, max_depth=None, min_samples_leaf=6, min_samples_split=2 \n"
     ]
    },
    {
     "name": "stdout",
     "output_type": "stream",
     "text": [
      "[CV]  criterion=gini, max_depth=None, min_samples_leaf=6, min_samples_split=2, score=0.3652950476090521, total=   1.2s\n",
      "[CV] criterion=gini, max_depth=None, min_samples_leaf=6, min_samples_split=2 \n",
      "[CV]  criterion=gini, max_depth=None, min_samples_leaf=6, min_samples_split=2, score=0.3589418883641737, total=   1.3s\n",
      "[CV] criterion=gini, max_depth=None, min_samples_leaf=6, min_samples_split=5 \n",
      "[CV]  criterion=gini, max_depth=None, min_samples_leaf=6, min_samples_split=5, score=0.3609704019808291, total=   0.8s\n",
      "[CV] criterion=gini, max_depth=None, min_samples_leaf=6, min_samples_split=5 \n",
      "[CV]  criterion=gini, max_depth=None, min_samples_leaf=6, min_samples_split=5, score=0.36541085745333296, total=   0.9s\n",
      "[CV] criterion=gini, max_depth=None, min_samples_leaf=6, min_samples_split=5 \n",
      "[CV]  criterion=gini, max_depth=None, min_samples_leaf=6, min_samples_split=5, score=0.35900917402812427, total=   0.9s\n",
      "[CV] criterion=gini, max_depth=None, min_samples_leaf=6, min_samples_split=10 \n",
      "[CV]  criterion=gini, max_depth=None, min_samples_leaf=6, min_samples_split=10, score=0.3610001415330972, total=   0.9s\n",
      "[CV] criterion=gini, max_depth=None, min_samples_leaf=6, min_samples_split=10 \n",
      "[CV]  criterion=gini, max_depth=None, min_samples_leaf=6, min_samples_split=10, score=0.3648660312480831, total=   0.9s\n",
      "[CV] criterion=gini, max_depth=None, min_samples_leaf=6, min_samples_split=10 \n",
      "[CV]  criterion=gini, max_depth=None, min_samples_leaf=6, min_samples_split=10, score=0.3591522853660263, total=   0.8s\n",
      "[CV] criterion=gini, max_depth=2, min_samples_leaf=1, min_samples_split=2 \n",
      "[CV]  criterion=gini, max_depth=2, min_samples_leaf=1, min_samples_split=2, score=0.30171782559209154, total=   0.1s\n",
      "[CV] criterion=gini, max_depth=2, min_samples_leaf=1, min_samples_split=2 \n"
     ]
    },
    {
     "name": "stderr",
     "output_type": "stream",
     "text": [
      "/anaconda3/lib/python3.7/site-packages/sklearn/metrics/classification.py:1143: UndefinedMetricWarning: F-score is ill-defined and being set to 0.0 in labels with no predicted samples.\n",
      "  'precision', 'predicted', average, warn_for)\n",
      "/anaconda3/lib/python3.7/site-packages/sklearn/metrics/classification.py:1143: UndefinedMetricWarning: F-score is ill-defined and being set to 0.0 in labels with no predicted samples.\n",
      "  'precision', 'predicted', average, warn_for)\n",
      "/anaconda3/lib/python3.7/site-packages/sklearn/metrics/classification.py:1143: UndefinedMetricWarning: F-score is ill-defined and being set to 0.0 in labels with no predicted samples.\n",
      "  'precision', 'predicted', average, warn_for)\n",
      "/anaconda3/lib/python3.7/site-packages/sklearn/metrics/classification.py:1143: UndefinedMetricWarning: F-score is ill-defined and being set to 0.0 in labels with no predicted samples.\n",
      "  'precision', 'predicted', average, warn_for)\n"
     ]
    },
    {
     "name": "stdout",
     "output_type": "stream",
     "text": [
      "[CV]  criterion=gini, max_depth=2, min_samples_leaf=1, min_samples_split=2, score=0.3207236109344786, total=   0.1s\n",
      "[CV] criterion=gini, max_depth=2, min_samples_leaf=1, min_samples_split=2 \n",
      "[CV]  criterion=gini, max_depth=2, min_samples_leaf=1, min_samples_split=2, score=0.30934550234235053, total=   0.1s\n",
      "[CV] criterion=gini, max_depth=2, min_samples_leaf=1, min_samples_split=5 \n"
     ]
    },
    {
     "name": "stderr",
     "output_type": "stream",
     "text": [
      "/anaconda3/lib/python3.7/site-packages/sklearn/metrics/classification.py:1143: UndefinedMetricWarning: F-score is ill-defined and being set to 0.0 in labels with no predicted samples.\n",
      "  'precision', 'predicted', average, warn_for)\n",
      "/anaconda3/lib/python3.7/site-packages/sklearn/metrics/classification.py:1143: UndefinedMetricWarning: F-score is ill-defined and being set to 0.0 in labels with no predicted samples.\n",
      "  'precision', 'predicted', average, warn_for)\n",
      "/anaconda3/lib/python3.7/site-packages/sklearn/metrics/classification.py:1143: UndefinedMetricWarning: F-score is ill-defined and being set to 0.0 in labels with no predicted samples.\n",
      "  'precision', 'predicted', average, warn_for)\n",
      "/anaconda3/lib/python3.7/site-packages/sklearn/metrics/classification.py:1143: UndefinedMetricWarning: F-score is ill-defined and being set to 0.0 in labels with no predicted samples.\n",
      "  'precision', 'predicted', average, warn_for)\n"
     ]
    },
    {
     "name": "stdout",
     "output_type": "stream",
     "text": [
      "[CV]  criterion=gini, max_depth=2, min_samples_leaf=1, min_samples_split=5, score=0.30171782559209154, total=   0.1s\n",
      "[CV] criterion=gini, max_depth=2, min_samples_leaf=1, min_samples_split=5 \n",
      "[CV]  criterion=gini, max_depth=2, min_samples_leaf=1, min_samples_split=5, score=0.3207236109344786, total=   0.1s\n",
      "[CV] criterion=gini, max_depth=2, min_samples_leaf=1, min_samples_split=5 \n"
     ]
    },
    {
     "name": "stderr",
     "output_type": "stream",
     "text": [
      "/anaconda3/lib/python3.7/site-packages/sklearn/metrics/classification.py:1143: UndefinedMetricWarning: F-score is ill-defined and being set to 0.0 in labels with no predicted samples.\n",
      "  'precision', 'predicted', average, warn_for)\n",
      "/anaconda3/lib/python3.7/site-packages/sklearn/metrics/classification.py:1143: UndefinedMetricWarning: F-score is ill-defined and being set to 0.0 in labels with no predicted samples.\n",
      "  'precision', 'predicted', average, warn_for)\n",
      "/anaconda3/lib/python3.7/site-packages/sklearn/metrics/classification.py:1143: UndefinedMetricWarning: F-score is ill-defined and being set to 0.0 in labels with no predicted samples.\n",
      "  'precision', 'predicted', average, warn_for)\n",
      "/anaconda3/lib/python3.7/site-packages/sklearn/metrics/classification.py:1143: UndefinedMetricWarning: F-score is ill-defined and being set to 0.0 in labels with no predicted samples.\n",
      "  'precision', 'predicted', average, warn_for)\n"
     ]
    },
    {
     "name": "stdout",
     "output_type": "stream",
     "text": [
      "[CV]  criterion=gini, max_depth=2, min_samples_leaf=1, min_samples_split=5, score=0.30934550234235053, total=   0.1s\n",
      "[CV] criterion=gini, max_depth=2, min_samples_leaf=1, min_samples_split=10 \n",
      "[CV]  criterion=gini, max_depth=2, min_samples_leaf=1, min_samples_split=10, score=0.30171782559209154, total=   0.1s\n",
      "[CV] criterion=gini, max_depth=2, min_samples_leaf=1, min_samples_split=10 \n"
     ]
    },
    {
     "name": "stderr",
     "output_type": "stream",
     "text": [
      "/anaconda3/lib/python3.7/site-packages/sklearn/metrics/classification.py:1143: UndefinedMetricWarning: F-score is ill-defined and being set to 0.0 in labels with no predicted samples.\n",
      "  'precision', 'predicted', average, warn_for)\n",
      "/anaconda3/lib/python3.7/site-packages/sklearn/metrics/classification.py:1143: UndefinedMetricWarning: F-score is ill-defined and being set to 0.0 in labels with no predicted samples.\n",
      "  'precision', 'predicted', average, warn_for)\n",
      "/anaconda3/lib/python3.7/site-packages/sklearn/metrics/classification.py:1143: UndefinedMetricWarning: F-score is ill-defined and being set to 0.0 in labels with no predicted samples.\n",
      "  'precision', 'predicted', average, warn_for)\n",
      "/anaconda3/lib/python3.7/site-packages/sklearn/metrics/classification.py:1143: UndefinedMetricWarning: F-score is ill-defined and being set to 0.0 in labels with no predicted samples.\n",
      "  'precision', 'predicted', average, warn_for)\n"
     ]
    },
    {
     "name": "stdout",
     "output_type": "stream",
     "text": [
      "[CV]  criterion=gini, max_depth=2, min_samples_leaf=1, min_samples_split=10, score=0.3207236109344786, total=   0.1s\n",
      "[CV] criterion=gini, max_depth=2, min_samples_leaf=1, min_samples_split=10 \n",
      "[CV]  criterion=gini, max_depth=2, min_samples_leaf=1, min_samples_split=10, score=0.30934550234235053, total=   0.1s\n",
      "[CV] criterion=gini, max_depth=2, min_samples_leaf=2, min_samples_split=2 \n"
     ]
    },
    {
     "name": "stderr",
     "output_type": "stream",
     "text": [
      "/anaconda3/lib/python3.7/site-packages/sklearn/metrics/classification.py:1143: UndefinedMetricWarning: F-score is ill-defined and being set to 0.0 in labels with no predicted samples.\n",
      "  'precision', 'predicted', average, warn_for)\n",
      "/anaconda3/lib/python3.7/site-packages/sklearn/metrics/classification.py:1143: UndefinedMetricWarning: F-score is ill-defined and being set to 0.0 in labels with no predicted samples.\n",
      "  'precision', 'predicted', average, warn_for)\n",
      "/anaconda3/lib/python3.7/site-packages/sklearn/metrics/classification.py:1143: UndefinedMetricWarning: F-score is ill-defined and being set to 0.0 in labels with no predicted samples.\n",
      "  'precision', 'predicted', average, warn_for)\n",
      "/anaconda3/lib/python3.7/site-packages/sklearn/metrics/classification.py:1143: UndefinedMetricWarning: F-score is ill-defined and being set to 0.0 in labels with no predicted samples.\n",
      "  'precision', 'predicted', average, warn_for)\n"
     ]
    },
    {
     "name": "stdout",
     "output_type": "stream",
     "text": [
      "[CV]  criterion=gini, max_depth=2, min_samples_leaf=2, min_samples_split=2, score=0.30171782559209154, total=   0.1s\n",
      "[CV] criterion=gini, max_depth=2, min_samples_leaf=2, min_samples_split=2 \n"
     ]
    },
    {
     "name": "stderr",
     "output_type": "stream",
     "text": [
      "/anaconda3/lib/python3.7/site-packages/sklearn/metrics/classification.py:1143: UndefinedMetricWarning: F-score is ill-defined and being set to 0.0 in labels with no predicted samples.\n",
      "  'precision', 'predicted', average, warn_for)\n",
      "/anaconda3/lib/python3.7/site-packages/sklearn/metrics/classification.py:1143: UndefinedMetricWarning: F-score is ill-defined and being set to 0.0 in labels with no predicted samples.\n",
      "  'precision', 'predicted', average, warn_for)\n",
      "/anaconda3/lib/python3.7/site-packages/sklearn/metrics/classification.py:1143: UndefinedMetricWarning: F-score is ill-defined and being set to 0.0 in labels with no predicted samples.\n",
      "  'precision', 'predicted', average, warn_for)\n"
     ]
    },
    {
     "name": "stdout",
     "output_type": "stream",
     "text": [
      "[CV]  criterion=gini, max_depth=2, min_samples_leaf=2, min_samples_split=2, score=0.3207236109344786, total=   0.2s\n",
      "[CV] criterion=gini, max_depth=2, min_samples_leaf=2, min_samples_split=2 \n",
      "[CV]  criterion=gini, max_depth=2, min_samples_leaf=2, min_samples_split=2, score=0.30934550234235053, total=   0.2s\n",
      "[CV] criterion=gini, max_depth=2, min_samples_leaf=2, min_samples_split=5 \n"
     ]
    },
    {
     "name": "stderr",
     "output_type": "stream",
     "text": [
      "/anaconda3/lib/python3.7/site-packages/sklearn/metrics/classification.py:1143: UndefinedMetricWarning: F-score is ill-defined and being set to 0.0 in labels with no predicted samples.\n",
      "  'precision', 'predicted', average, warn_for)\n",
      "/anaconda3/lib/python3.7/site-packages/sklearn/metrics/classification.py:1143: UndefinedMetricWarning: F-score is ill-defined and being set to 0.0 in labels with no predicted samples.\n",
      "  'precision', 'predicted', average, warn_for)\n",
      "/anaconda3/lib/python3.7/site-packages/sklearn/metrics/classification.py:1143: UndefinedMetricWarning: F-score is ill-defined and being set to 0.0 in labels with no predicted samples.\n",
      "  'precision', 'predicted', average, warn_for)\n"
     ]
    },
    {
     "name": "stdout",
     "output_type": "stream",
     "text": [
      "[CV]  criterion=gini, max_depth=2, min_samples_leaf=2, min_samples_split=5, score=0.30171782559209154, total=   0.1s\n",
      "[CV] criterion=gini, max_depth=2, min_samples_leaf=2, min_samples_split=5 \n",
      "[CV]  criterion=gini, max_depth=2, min_samples_leaf=2, min_samples_split=5, score=0.3207236109344786, total=   0.1s\n",
      "[CV] criterion=gini, max_depth=2, min_samples_leaf=2, min_samples_split=5 \n"
     ]
    },
    {
     "name": "stderr",
     "output_type": "stream",
     "text": [
      "/anaconda3/lib/python3.7/site-packages/sklearn/metrics/classification.py:1143: UndefinedMetricWarning: F-score is ill-defined and being set to 0.0 in labels with no predicted samples.\n",
      "  'precision', 'predicted', average, warn_for)\n",
      "/anaconda3/lib/python3.7/site-packages/sklearn/metrics/classification.py:1143: UndefinedMetricWarning: F-score is ill-defined and being set to 0.0 in labels with no predicted samples.\n",
      "  'precision', 'predicted', average, warn_for)\n",
      "/anaconda3/lib/python3.7/site-packages/sklearn/metrics/classification.py:1143: UndefinedMetricWarning: F-score is ill-defined and being set to 0.0 in labels with no predicted samples.\n",
      "  'precision', 'predicted', average, warn_for)\n",
      "/anaconda3/lib/python3.7/site-packages/sklearn/metrics/classification.py:1143: UndefinedMetricWarning: F-score is ill-defined and being set to 0.0 in labels with no predicted samples.\n",
      "  'precision', 'predicted', average, warn_for)\n"
     ]
    },
    {
     "name": "stdout",
     "output_type": "stream",
     "text": [
      "[CV]  criterion=gini, max_depth=2, min_samples_leaf=2, min_samples_split=5, score=0.30934550234235053, total=   0.1s\n",
      "[CV] criterion=gini, max_depth=2, min_samples_leaf=2, min_samples_split=10 \n",
      "[CV]  criterion=gini, max_depth=2, min_samples_leaf=2, min_samples_split=10, score=0.30171782559209154, total=   0.1s\n",
      "[CV] criterion=gini, max_depth=2, min_samples_leaf=2, min_samples_split=10 \n"
     ]
    },
    {
     "name": "stderr",
     "output_type": "stream",
     "text": [
      "/anaconda3/lib/python3.7/site-packages/sklearn/metrics/classification.py:1143: UndefinedMetricWarning: F-score is ill-defined and being set to 0.0 in labels with no predicted samples.\n",
      "  'precision', 'predicted', average, warn_for)\n",
      "/anaconda3/lib/python3.7/site-packages/sklearn/metrics/classification.py:1143: UndefinedMetricWarning: F-score is ill-defined and being set to 0.0 in labels with no predicted samples.\n",
      "  'precision', 'predicted', average, warn_for)\n",
      "/anaconda3/lib/python3.7/site-packages/sklearn/metrics/classification.py:1143: UndefinedMetricWarning: F-score is ill-defined and being set to 0.0 in labels with no predicted samples.\n",
      "  'precision', 'predicted', average, warn_for)\n",
      "/anaconda3/lib/python3.7/site-packages/sklearn/metrics/classification.py:1143: UndefinedMetricWarning: F-score is ill-defined and being set to 0.0 in labels with no predicted samples.\n",
      "  'precision', 'predicted', average, warn_for)\n"
     ]
    },
    {
     "name": "stdout",
     "output_type": "stream",
     "text": [
      "[CV]  criterion=gini, max_depth=2, min_samples_leaf=2, min_samples_split=10, score=0.3207236109344786, total=   0.1s\n",
      "[CV] criterion=gini, max_depth=2, min_samples_leaf=2, min_samples_split=10 \n",
      "[CV]  criterion=gini, max_depth=2, min_samples_leaf=2, min_samples_split=10, score=0.30934550234235053, total=   0.1s\n",
      "[CV] criterion=gini, max_depth=2, min_samples_leaf=3, min_samples_split=2 \n"
     ]
    },
    {
     "name": "stderr",
     "output_type": "stream",
     "text": [
      "/anaconda3/lib/python3.7/site-packages/sklearn/metrics/classification.py:1143: UndefinedMetricWarning: F-score is ill-defined and being set to 0.0 in labels with no predicted samples.\n",
      "  'precision', 'predicted', average, warn_for)\n",
      "/anaconda3/lib/python3.7/site-packages/sklearn/metrics/classification.py:1143: UndefinedMetricWarning: F-score is ill-defined and being set to 0.0 in labels with no predicted samples.\n",
      "  'precision', 'predicted', average, warn_for)\n",
      "/anaconda3/lib/python3.7/site-packages/sklearn/metrics/classification.py:1143: UndefinedMetricWarning: F-score is ill-defined and being set to 0.0 in labels with no predicted samples.\n",
      "  'precision', 'predicted', average, warn_for)\n",
      "/anaconda3/lib/python3.7/site-packages/sklearn/metrics/classification.py:1143: UndefinedMetricWarning: F-score is ill-defined and being set to 0.0 in labels with no predicted samples.\n",
      "  'precision', 'predicted', average, warn_for)\n"
     ]
    },
    {
     "name": "stdout",
     "output_type": "stream",
     "text": [
      "[CV]  criterion=gini, max_depth=2, min_samples_leaf=3, min_samples_split=2, score=0.30171782559209154, total=   0.1s\n",
      "[CV] criterion=gini, max_depth=2, min_samples_leaf=3, min_samples_split=2 \n",
      "[CV]  criterion=gini, max_depth=2, min_samples_leaf=3, min_samples_split=2, score=0.3207236109344786, total=   0.1s\n",
      "[CV] criterion=gini, max_depth=2, min_samples_leaf=3, min_samples_split=2 \n"
     ]
    },
    {
     "name": "stderr",
     "output_type": "stream",
     "text": [
      "/anaconda3/lib/python3.7/site-packages/sklearn/metrics/classification.py:1143: UndefinedMetricWarning: F-score is ill-defined and being set to 0.0 in labels with no predicted samples.\n",
      "  'precision', 'predicted', average, warn_for)\n",
      "/anaconda3/lib/python3.7/site-packages/sklearn/metrics/classification.py:1143: UndefinedMetricWarning: F-score is ill-defined and being set to 0.0 in labels with no predicted samples.\n",
      "  'precision', 'predicted', average, warn_for)\n",
      "/anaconda3/lib/python3.7/site-packages/sklearn/metrics/classification.py:1143: UndefinedMetricWarning: F-score is ill-defined and being set to 0.0 in labels with no predicted samples.\n",
      "  'precision', 'predicted', average, warn_for)\n",
      "/anaconda3/lib/python3.7/site-packages/sklearn/metrics/classification.py:1143: UndefinedMetricWarning: F-score is ill-defined and being set to 0.0 in labels with no predicted samples.\n",
      "  'precision', 'predicted', average, warn_for)\n"
     ]
    },
    {
     "name": "stdout",
     "output_type": "stream",
     "text": [
      "[CV]  criterion=gini, max_depth=2, min_samples_leaf=3, min_samples_split=2, score=0.30934550234235053, total=   0.1s\n",
      "[CV] criterion=gini, max_depth=2, min_samples_leaf=3, min_samples_split=5 \n",
      "[CV]  criterion=gini, max_depth=2, min_samples_leaf=3, min_samples_split=5, score=0.30171782559209154, total=   0.1s\n",
      "[CV] criterion=gini, max_depth=2, min_samples_leaf=3, min_samples_split=5 \n"
     ]
    },
    {
     "name": "stderr",
     "output_type": "stream",
     "text": [
      "/anaconda3/lib/python3.7/site-packages/sklearn/metrics/classification.py:1143: UndefinedMetricWarning: F-score is ill-defined and being set to 0.0 in labels with no predicted samples.\n",
      "  'precision', 'predicted', average, warn_for)\n",
      "/anaconda3/lib/python3.7/site-packages/sklearn/metrics/classification.py:1143: UndefinedMetricWarning: F-score is ill-defined and being set to 0.0 in labels with no predicted samples.\n",
      "  'precision', 'predicted', average, warn_for)\n",
      "/anaconda3/lib/python3.7/site-packages/sklearn/metrics/classification.py:1143: UndefinedMetricWarning: F-score is ill-defined and being set to 0.0 in labels with no predicted samples.\n",
      "  'precision', 'predicted', average, warn_for)\n",
      "/anaconda3/lib/python3.7/site-packages/sklearn/metrics/classification.py:1143: UndefinedMetricWarning: F-score is ill-defined and being set to 0.0 in labels with no predicted samples.\n",
      "  'precision', 'predicted', average, warn_for)\n"
     ]
    },
    {
     "name": "stdout",
     "output_type": "stream",
     "text": [
      "[CV]  criterion=gini, max_depth=2, min_samples_leaf=3, min_samples_split=5, score=0.3207236109344786, total=   0.1s\n",
      "[CV] criterion=gini, max_depth=2, min_samples_leaf=3, min_samples_split=5 \n",
      "[CV]  criterion=gini, max_depth=2, min_samples_leaf=3, min_samples_split=5, score=0.30934550234235053, total=   0.1s\n",
      "[CV] criterion=gini, max_depth=2, min_samples_leaf=3, min_samples_split=10 \n"
     ]
    },
    {
     "name": "stderr",
     "output_type": "stream",
     "text": [
      "/anaconda3/lib/python3.7/site-packages/sklearn/metrics/classification.py:1143: UndefinedMetricWarning: F-score is ill-defined and being set to 0.0 in labels with no predicted samples.\n",
      "  'precision', 'predicted', average, warn_for)\n",
      "/anaconda3/lib/python3.7/site-packages/sklearn/metrics/classification.py:1143: UndefinedMetricWarning: F-score is ill-defined and being set to 0.0 in labels with no predicted samples.\n",
      "  'precision', 'predicted', average, warn_for)\n",
      "/anaconda3/lib/python3.7/site-packages/sklearn/metrics/classification.py:1143: UndefinedMetricWarning: F-score is ill-defined and being set to 0.0 in labels with no predicted samples.\n",
      "  'precision', 'predicted', average, warn_for)\n",
      "/anaconda3/lib/python3.7/site-packages/sklearn/metrics/classification.py:1143: UndefinedMetricWarning: F-score is ill-defined and being set to 0.0 in labels with no predicted samples.\n",
      "  'precision', 'predicted', average, warn_for)\n"
     ]
    },
    {
     "name": "stdout",
     "output_type": "stream",
     "text": [
      "[CV]  criterion=gini, max_depth=2, min_samples_leaf=3, min_samples_split=10, score=0.30171782559209154, total=   0.1s\n",
      "[CV] criterion=gini, max_depth=2, min_samples_leaf=3, min_samples_split=10 \n",
      "[CV]  criterion=gini, max_depth=2, min_samples_leaf=3, min_samples_split=10, score=0.3207236109344786, total=   0.1s\n",
      "[CV] criterion=gini, max_depth=2, min_samples_leaf=3, min_samples_split=10 \n"
     ]
    },
    {
     "name": "stderr",
     "output_type": "stream",
     "text": [
      "/anaconda3/lib/python3.7/site-packages/sklearn/metrics/classification.py:1143: UndefinedMetricWarning: F-score is ill-defined and being set to 0.0 in labels with no predicted samples.\n",
      "  'precision', 'predicted', average, warn_for)\n",
      "/anaconda3/lib/python3.7/site-packages/sklearn/metrics/classification.py:1143: UndefinedMetricWarning: F-score is ill-defined and being set to 0.0 in labels with no predicted samples.\n",
      "  'precision', 'predicted', average, warn_for)\n",
      "/anaconda3/lib/python3.7/site-packages/sklearn/metrics/classification.py:1143: UndefinedMetricWarning: F-score is ill-defined and being set to 0.0 in labels with no predicted samples.\n",
      "  'precision', 'predicted', average, warn_for)\n",
      "/anaconda3/lib/python3.7/site-packages/sklearn/metrics/classification.py:1143: UndefinedMetricWarning: F-score is ill-defined and being set to 0.0 in labels with no predicted samples.\n",
      "  'precision', 'predicted', average, warn_for)\n"
     ]
    },
    {
     "name": "stdout",
     "output_type": "stream",
     "text": [
      "[CV]  criterion=gini, max_depth=2, min_samples_leaf=3, min_samples_split=10, score=0.30934550234235053, total=   0.1s\n",
      "[CV] criterion=gini, max_depth=2, min_samples_leaf=4, min_samples_split=2 \n",
      "[CV]  criterion=gini, max_depth=2, min_samples_leaf=4, min_samples_split=2, score=0.30171782559209154, total=   0.1s\n",
      "[CV] criterion=gini, max_depth=2, min_samples_leaf=4, min_samples_split=2 \n"
     ]
    },
    {
     "name": "stderr",
     "output_type": "stream",
     "text": [
      "/anaconda3/lib/python3.7/site-packages/sklearn/metrics/classification.py:1143: UndefinedMetricWarning: F-score is ill-defined and being set to 0.0 in labels with no predicted samples.\n",
      "  'precision', 'predicted', average, warn_for)\n",
      "/anaconda3/lib/python3.7/site-packages/sklearn/metrics/classification.py:1143: UndefinedMetricWarning: F-score is ill-defined and being set to 0.0 in labels with no predicted samples.\n",
      "  'precision', 'predicted', average, warn_for)\n",
      "/anaconda3/lib/python3.7/site-packages/sklearn/metrics/classification.py:1143: UndefinedMetricWarning: F-score is ill-defined and being set to 0.0 in labels with no predicted samples.\n",
      "  'precision', 'predicted', average, warn_for)\n",
      "/anaconda3/lib/python3.7/site-packages/sklearn/metrics/classification.py:1143: UndefinedMetricWarning: F-score is ill-defined and being set to 0.0 in labels with no predicted samples.\n",
      "  'precision', 'predicted', average, warn_for)\n"
     ]
    },
    {
     "name": "stdout",
     "output_type": "stream",
     "text": [
      "[CV]  criterion=gini, max_depth=2, min_samples_leaf=4, min_samples_split=2, score=0.3207236109344786, total=   0.1s\n",
      "[CV] criterion=gini, max_depth=2, min_samples_leaf=4, min_samples_split=2 \n",
      "[CV]  criterion=gini, max_depth=2, min_samples_leaf=4, min_samples_split=2, score=0.30934550234235053, total=   0.1s\n",
      "[CV] criterion=gini, max_depth=2, min_samples_leaf=4, min_samples_split=5 \n"
     ]
    },
    {
     "name": "stderr",
     "output_type": "stream",
     "text": [
      "/anaconda3/lib/python3.7/site-packages/sklearn/metrics/classification.py:1143: UndefinedMetricWarning: F-score is ill-defined and being set to 0.0 in labels with no predicted samples.\n",
      "  'precision', 'predicted', average, warn_for)\n",
      "/anaconda3/lib/python3.7/site-packages/sklearn/metrics/classification.py:1143: UndefinedMetricWarning: F-score is ill-defined and being set to 0.0 in labels with no predicted samples.\n",
      "  'precision', 'predicted', average, warn_for)\n",
      "/anaconda3/lib/python3.7/site-packages/sklearn/metrics/classification.py:1143: UndefinedMetricWarning: F-score is ill-defined and being set to 0.0 in labels with no predicted samples.\n",
      "  'precision', 'predicted', average, warn_for)\n",
      "/anaconda3/lib/python3.7/site-packages/sklearn/metrics/classification.py:1143: UndefinedMetricWarning: F-score is ill-defined and being set to 0.0 in labels with no predicted samples.\n",
      "  'precision', 'predicted', average, warn_for)\n"
     ]
    },
    {
     "name": "stdout",
     "output_type": "stream",
     "text": [
      "[CV]  criterion=gini, max_depth=2, min_samples_leaf=4, min_samples_split=5, score=0.30171782559209154, total=   0.1s\n",
      "[CV] criterion=gini, max_depth=2, min_samples_leaf=4, min_samples_split=5 \n",
      "[CV]  criterion=gini, max_depth=2, min_samples_leaf=4, min_samples_split=5, score=0.3207236109344786, total=   0.1s\n",
      "[CV] criterion=gini, max_depth=2, min_samples_leaf=4, min_samples_split=5 \n"
     ]
    },
    {
     "name": "stderr",
     "output_type": "stream",
     "text": [
      "/anaconda3/lib/python3.7/site-packages/sklearn/metrics/classification.py:1143: UndefinedMetricWarning: F-score is ill-defined and being set to 0.0 in labels with no predicted samples.\n",
      "  'precision', 'predicted', average, warn_for)\n",
      "/anaconda3/lib/python3.7/site-packages/sklearn/metrics/classification.py:1143: UndefinedMetricWarning: F-score is ill-defined and being set to 0.0 in labels with no predicted samples.\n",
      "  'precision', 'predicted', average, warn_for)\n",
      "/anaconda3/lib/python3.7/site-packages/sklearn/metrics/classification.py:1143: UndefinedMetricWarning: F-score is ill-defined and being set to 0.0 in labels with no predicted samples.\n",
      "  'precision', 'predicted', average, warn_for)\n",
      "/anaconda3/lib/python3.7/site-packages/sklearn/metrics/classification.py:1143: UndefinedMetricWarning: F-score is ill-defined and being set to 0.0 in labels with no predicted samples.\n",
      "  'precision', 'predicted', average, warn_for)\n"
     ]
    },
    {
     "name": "stdout",
     "output_type": "stream",
     "text": [
      "[CV]  criterion=gini, max_depth=2, min_samples_leaf=4, min_samples_split=5, score=0.30934550234235053, total=   0.1s\n",
      "[CV] criterion=gini, max_depth=2, min_samples_leaf=4, min_samples_split=10 \n",
      "[CV]  criterion=gini, max_depth=2, min_samples_leaf=4, min_samples_split=10, score=0.30171782559209154, total=   0.1s\n",
      "[CV] criterion=gini, max_depth=2, min_samples_leaf=4, min_samples_split=10 \n"
     ]
    },
    {
     "name": "stderr",
     "output_type": "stream",
     "text": [
      "/anaconda3/lib/python3.7/site-packages/sklearn/metrics/classification.py:1143: UndefinedMetricWarning: F-score is ill-defined and being set to 0.0 in labels with no predicted samples.\n",
      "  'precision', 'predicted', average, warn_for)\n",
      "/anaconda3/lib/python3.7/site-packages/sklearn/metrics/classification.py:1143: UndefinedMetricWarning: F-score is ill-defined and being set to 0.0 in labels with no predicted samples.\n",
      "  'precision', 'predicted', average, warn_for)\n",
      "/anaconda3/lib/python3.7/site-packages/sklearn/metrics/classification.py:1143: UndefinedMetricWarning: F-score is ill-defined and being set to 0.0 in labels with no predicted samples.\n",
      "  'precision', 'predicted', average, warn_for)\n",
      "/anaconda3/lib/python3.7/site-packages/sklearn/metrics/classification.py:1143: UndefinedMetricWarning: F-score is ill-defined and being set to 0.0 in labels with no predicted samples.\n",
      "  'precision', 'predicted', average, warn_for)\n"
     ]
    },
    {
     "name": "stdout",
     "output_type": "stream",
     "text": [
      "[CV]  criterion=gini, max_depth=2, min_samples_leaf=4, min_samples_split=10, score=0.3207236109344786, total=   0.1s\n",
      "[CV] criterion=gini, max_depth=2, min_samples_leaf=4, min_samples_split=10 \n",
      "[CV]  criterion=gini, max_depth=2, min_samples_leaf=4, min_samples_split=10, score=0.30934550234235053, total=   0.1s\n",
      "[CV] criterion=gini, max_depth=2, min_samples_leaf=5, min_samples_split=2 \n"
     ]
    },
    {
     "name": "stderr",
     "output_type": "stream",
     "text": [
      "/anaconda3/lib/python3.7/site-packages/sklearn/metrics/classification.py:1143: UndefinedMetricWarning: F-score is ill-defined and being set to 0.0 in labels with no predicted samples.\n",
      "  'precision', 'predicted', average, warn_for)\n",
      "/anaconda3/lib/python3.7/site-packages/sklearn/metrics/classification.py:1143: UndefinedMetricWarning: F-score is ill-defined and being set to 0.0 in labels with no predicted samples.\n",
      "  'precision', 'predicted', average, warn_for)\n",
      "/anaconda3/lib/python3.7/site-packages/sklearn/metrics/classification.py:1143: UndefinedMetricWarning: F-score is ill-defined and being set to 0.0 in labels with no predicted samples.\n",
      "  'precision', 'predicted', average, warn_for)\n",
      "/anaconda3/lib/python3.7/site-packages/sklearn/metrics/classification.py:1143: UndefinedMetricWarning: F-score is ill-defined and being set to 0.0 in labels with no predicted samples.\n",
      "  'precision', 'predicted', average, warn_for)\n"
     ]
    },
    {
     "name": "stdout",
     "output_type": "stream",
     "text": [
      "[CV]  criterion=gini, max_depth=2, min_samples_leaf=5, min_samples_split=2, score=0.30171782559209154, total=   0.1s\n",
      "[CV] criterion=gini, max_depth=2, min_samples_leaf=5, min_samples_split=2 \n",
      "[CV]  criterion=gini, max_depth=2, min_samples_leaf=5, min_samples_split=2, score=0.3207236109344786, total=   0.1s\n",
      "[CV] criterion=gini, max_depth=2, min_samples_leaf=5, min_samples_split=2 \n"
     ]
    },
    {
     "name": "stderr",
     "output_type": "stream",
     "text": [
      "/anaconda3/lib/python3.7/site-packages/sklearn/metrics/classification.py:1143: UndefinedMetricWarning: F-score is ill-defined and being set to 0.0 in labels with no predicted samples.\n",
      "  'precision', 'predicted', average, warn_for)\n",
      "/anaconda3/lib/python3.7/site-packages/sklearn/metrics/classification.py:1143: UndefinedMetricWarning: F-score is ill-defined and being set to 0.0 in labels with no predicted samples.\n",
      "  'precision', 'predicted', average, warn_for)\n",
      "/anaconda3/lib/python3.7/site-packages/sklearn/metrics/classification.py:1143: UndefinedMetricWarning: F-score is ill-defined and being set to 0.0 in labels with no predicted samples.\n",
      "  'precision', 'predicted', average, warn_for)\n",
      "/anaconda3/lib/python3.7/site-packages/sklearn/metrics/classification.py:1143: UndefinedMetricWarning: F-score is ill-defined and being set to 0.0 in labels with no predicted samples.\n",
      "  'precision', 'predicted', average, warn_for)\n"
     ]
    },
    {
     "name": "stdout",
     "output_type": "stream",
     "text": [
      "[CV]  criterion=gini, max_depth=2, min_samples_leaf=5, min_samples_split=2, score=0.30934550234235053, total=   0.1s\n",
      "[CV] criterion=gini, max_depth=2, min_samples_leaf=5, min_samples_split=5 \n",
      "[CV]  criterion=gini, max_depth=2, min_samples_leaf=5, min_samples_split=5, score=0.30171782559209154, total=   0.1s\n",
      "[CV] criterion=gini, max_depth=2, min_samples_leaf=5, min_samples_split=5 \n"
     ]
    },
    {
     "name": "stderr",
     "output_type": "stream",
     "text": [
      "/anaconda3/lib/python3.7/site-packages/sklearn/metrics/classification.py:1143: UndefinedMetricWarning: F-score is ill-defined and being set to 0.0 in labels with no predicted samples.\n",
      "  'precision', 'predicted', average, warn_for)\n",
      "/anaconda3/lib/python3.7/site-packages/sklearn/metrics/classification.py:1143: UndefinedMetricWarning: F-score is ill-defined and being set to 0.0 in labels with no predicted samples.\n",
      "  'precision', 'predicted', average, warn_for)\n",
      "/anaconda3/lib/python3.7/site-packages/sklearn/metrics/classification.py:1143: UndefinedMetricWarning: F-score is ill-defined and being set to 0.0 in labels with no predicted samples.\n",
      "  'precision', 'predicted', average, warn_for)\n",
      "/anaconda3/lib/python3.7/site-packages/sklearn/metrics/classification.py:1143: UndefinedMetricWarning: F-score is ill-defined and being set to 0.0 in labels with no predicted samples.\n",
      "  'precision', 'predicted', average, warn_for)\n"
     ]
    },
    {
     "name": "stdout",
     "output_type": "stream",
     "text": [
      "[CV]  criterion=gini, max_depth=2, min_samples_leaf=5, min_samples_split=5, score=0.3207236109344786, total=   0.1s\n",
      "[CV] criterion=gini, max_depth=2, min_samples_leaf=5, min_samples_split=5 \n",
      "[CV]  criterion=gini, max_depth=2, min_samples_leaf=5, min_samples_split=5, score=0.30934550234235053, total=   0.1s\n",
      "[CV] criterion=gini, max_depth=2, min_samples_leaf=5, min_samples_split=10 \n"
     ]
    },
    {
     "name": "stderr",
     "output_type": "stream",
     "text": [
      "/anaconda3/lib/python3.7/site-packages/sklearn/metrics/classification.py:1143: UndefinedMetricWarning: F-score is ill-defined and being set to 0.0 in labels with no predicted samples.\n",
      "  'precision', 'predicted', average, warn_for)\n",
      "/anaconda3/lib/python3.7/site-packages/sklearn/metrics/classification.py:1143: UndefinedMetricWarning: F-score is ill-defined and being set to 0.0 in labels with no predicted samples.\n",
      "  'precision', 'predicted', average, warn_for)\n",
      "/anaconda3/lib/python3.7/site-packages/sklearn/metrics/classification.py:1143: UndefinedMetricWarning: F-score is ill-defined and being set to 0.0 in labels with no predicted samples.\n",
      "  'precision', 'predicted', average, warn_for)\n",
      "/anaconda3/lib/python3.7/site-packages/sklearn/metrics/classification.py:1143: UndefinedMetricWarning: F-score is ill-defined and being set to 0.0 in labels with no predicted samples.\n",
      "  'precision', 'predicted', average, warn_for)\n"
     ]
    },
    {
     "name": "stdout",
     "output_type": "stream",
     "text": [
      "[CV]  criterion=gini, max_depth=2, min_samples_leaf=5, min_samples_split=10, score=0.30171782559209154, total=   0.1s\n",
      "[CV] criterion=gini, max_depth=2, min_samples_leaf=5, min_samples_split=10 \n",
      "[CV]  criterion=gini, max_depth=2, min_samples_leaf=5, min_samples_split=10, score=0.3207236109344786, total=   0.1s\n",
      "[CV] criterion=gini, max_depth=2, min_samples_leaf=5, min_samples_split=10 \n"
     ]
    },
    {
     "name": "stderr",
     "output_type": "stream",
     "text": [
      "/anaconda3/lib/python3.7/site-packages/sklearn/metrics/classification.py:1143: UndefinedMetricWarning: F-score is ill-defined and being set to 0.0 in labels with no predicted samples.\n",
      "  'precision', 'predicted', average, warn_for)\n",
      "/anaconda3/lib/python3.7/site-packages/sklearn/metrics/classification.py:1143: UndefinedMetricWarning: F-score is ill-defined and being set to 0.0 in labels with no predicted samples.\n",
      "  'precision', 'predicted', average, warn_for)\n",
      "/anaconda3/lib/python3.7/site-packages/sklearn/metrics/classification.py:1143: UndefinedMetricWarning: F-score is ill-defined and being set to 0.0 in labels with no predicted samples.\n",
      "  'precision', 'predicted', average, warn_for)\n",
      "/anaconda3/lib/python3.7/site-packages/sklearn/metrics/classification.py:1143: UndefinedMetricWarning: F-score is ill-defined and being set to 0.0 in labels with no predicted samples.\n",
      "  'precision', 'predicted', average, warn_for)\n"
     ]
    },
    {
     "name": "stdout",
     "output_type": "stream",
     "text": [
      "[CV]  criterion=gini, max_depth=2, min_samples_leaf=5, min_samples_split=10, score=0.30934550234235053, total=   0.1s\n",
      "[CV] criterion=gini, max_depth=2, min_samples_leaf=6, min_samples_split=2 \n",
      "[CV]  criterion=gini, max_depth=2, min_samples_leaf=6, min_samples_split=2, score=0.30171782559209154, total=   0.1s\n",
      "[CV] criterion=gini, max_depth=2, min_samples_leaf=6, min_samples_split=2 \n"
     ]
    },
    {
     "name": "stderr",
     "output_type": "stream",
     "text": [
      "/anaconda3/lib/python3.7/site-packages/sklearn/metrics/classification.py:1143: UndefinedMetricWarning: F-score is ill-defined and being set to 0.0 in labels with no predicted samples.\n",
      "  'precision', 'predicted', average, warn_for)\n",
      "/anaconda3/lib/python3.7/site-packages/sklearn/metrics/classification.py:1143: UndefinedMetricWarning: F-score is ill-defined and being set to 0.0 in labels with no predicted samples.\n",
      "  'precision', 'predicted', average, warn_for)\n",
      "/anaconda3/lib/python3.7/site-packages/sklearn/metrics/classification.py:1143: UndefinedMetricWarning: F-score is ill-defined and being set to 0.0 in labels with no predicted samples.\n",
      "  'precision', 'predicted', average, warn_for)\n",
      "/anaconda3/lib/python3.7/site-packages/sklearn/metrics/classification.py:1143: UndefinedMetricWarning: F-score is ill-defined and being set to 0.0 in labels with no predicted samples.\n",
      "  'precision', 'predicted', average, warn_for)\n"
     ]
    },
    {
     "name": "stdout",
     "output_type": "stream",
     "text": [
      "[CV]  criterion=gini, max_depth=2, min_samples_leaf=6, min_samples_split=2, score=0.3207236109344786, total=   0.1s\n",
      "[CV] criterion=gini, max_depth=2, min_samples_leaf=6, min_samples_split=2 \n",
      "[CV]  criterion=gini, max_depth=2, min_samples_leaf=6, min_samples_split=2, score=0.30934550234235053, total=   0.1s\n",
      "[CV] criterion=gini, max_depth=2, min_samples_leaf=6, min_samples_split=5 \n"
     ]
    },
    {
     "name": "stderr",
     "output_type": "stream",
     "text": [
      "/anaconda3/lib/python3.7/site-packages/sklearn/metrics/classification.py:1143: UndefinedMetricWarning: F-score is ill-defined and being set to 0.0 in labels with no predicted samples.\n",
      "  'precision', 'predicted', average, warn_for)\n",
      "/anaconda3/lib/python3.7/site-packages/sklearn/metrics/classification.py:1143: UndefinedMetricWarning: F-score is ill-defined and being set to 0.0 in labels with no predicted samples.\n",
      "  'precision', 'predicted', average, warn_for)\n",
      "/anaconda3/lib/python3.7/site-packages/sklearn/metrics/classification.py:1143: UndefinedMetricWarning: F-score is ill-defined and being set to 0.0 in labels with no predicted samples.\n",
      "  'precision', 'predicted', average, warn_for)\n",
      "/anaconda3/lib/python3.7/site-packages/sklearn/metrics/classification.py:1143: UndefinedMetricWarning: F-score is ill-defined and being set to 0.0 in labels with no predicted samples.\n",
      "  'precision', 'predicted', average, warn_for)\n"
     ]
    },
    {
     "name": "stdout",
     "output_type": "stream",
     "text": [
      "[CV]  criterion=gini, max_depth=2, min_samples_leaf=6, min_samples_split=5, score=0.30171782559209154, total=   0.1s\n",
      "[CV] criterion=gini, max_depth=2, min_samples_leaf=6, min_samples_split=5 \n",
      "[CV]  criterion=gini, max_depth=2, min_samples_leaf=6, min_samples_split=5, score=0.3207236109344786, total=   0.1s\n",
      "[CV] criterion=gini, max_depth=2, min_samples_leaf=6, min_samples_split=5 \n"
     ]
    },
    {
     "name": "stderr",
     "output_type": "stream",
     "text": [
      "/anaconda3/lib/python3.7/site-packages/sklearn/metrics/classification.py:1143: UndefinedMetricWarning: F-score is ill-defined and being set to 0.0 in labels with no predicted samples.\n",
      "  'precision', 'predicted', average, warn_for)\n",
      "/anaconda3/lib/python3.7/site-packages/sklearn/metrics/classification.py:1143: UndefinedMetricWarning: F-score is ill-defined and being set to 0.0 in labels with no predicted samples.\n",
      "  'precision', 'predicted', average, warn_for)\n",
      "/anaconda3/lib/python3.7/site-packages/sklearn/metrics/classification.py:1143: UndefinedMetricWarning: F-score is ill-defined and being set to 0.0 in labels with no predicted samples.\n",
      "  'precision', 'predicted', average, warn_for)\n",
      "/anaconda3/lib/python3.7/site-packages/sklearn/metrics/classification.py:1143: UndefinedMetricWarning: F-score is ill-defined and being set to 0.0 in labels with no predicted samples.\n",
      "  'precision', 'predicted', average, warn_for)\n"
     ]
    },
    {
     "name": "stdout",
     "output_type": "stream",
     "text": [
      "[CV]  criterion=gini, max_depth=2, min_samples_leaf=6, min_samples_split=5, score=0.30934550234235053, total=   0.1s\n",
      "[CV] criterion=gini, max_depth=2, min_samples_leaf=6, min_samples_split=10 \n",
      "[CV]  criterion=gini, max_depth=2, min_samples_leaf=6, min_samples_split=10, score=0.30171782559209154, total=   0.1s\n",
      "[CV] criterion=gini, max_depth=2, min_samples_leaf=6, min_samples_split=10 \n"
     ]
    },
    {
     "name": "stderr",
     "output_type": "stream",
     "text": [
      "/anaconda3/lib/python3.7/site-packages/sklearn/metrics/classification.py:1143: UndefinedMetricWarning: F-score is ill-defined and being set to 0.0 in labels with no predicted samples.\n",
      "  'precision', 'predicted', average, warn_for)\n",
      "/anaconda3/lib/python3.7/site-packages/sklearn/metrics/classification.py:1143: UndefinedMetricWarning: F-score is ill-defined and being set to 0.0 in labels with no predicted samples.\n",
      "  'precision', 'predicted', average, warn_for)\n",
      "/anaconda3/lib/python3.7/site-packages/sklearn/metrics/classification.py:1143: UndefinedMetricWarning: F-score is ill-defined and being set to 0.0 in labels with no predicted samples.\n",
      "  'precision', 'predicted', average, warn_for)\n",
      "/anaconda3/lib/python3.7/site-packages/sklearn/metrics/classification.py:1143: UndefinedMetricWarning: F-score is ill-defined and being set to 0.0 in labels with no predicted samples.\n",
      "  'precision', 'predicted', average, warn_for)\n"
     ]
    },
    {
     "name": "stdout",
     "output_type": "stream",
     "text": [
      "[CV]  criterion=gini, max_depth=2, min_samples_leaf=6, min_samples_split=10, score=0.3207236109344786, total=   0.1s\n",
      "[CV] criterion=gini, max_depth=2, min_samples_leaf=6, min_samples_split=10 \n",
      "[CV]  criterion=gini, max_depth=2, min_samples_leaf=6, min_samples_split=10, score=0.30934550234235053, total=   0.2s\n",
      "[CV] criterion=gini, max_depth=3, min_samples_leaf=1, min_samples_split=2 \n"
     ]
    },
    {
     "name": "stderr",
     "output_type": "stream",
     "text": [
      "/anaconda3/lib/python3.7/site-packages/sklearn/metrics/classification.py:1143: UndefinedMetricWarning: F-score is ill-defined and being set to 0.0 in labels with no predicted samples.\n",
      "  'precision', 'predicted', average, warn_for)\n",
      "/anaconda3/lib/python3.7/site-packages/sklearn/metrics/classification.py:1143: UndefinedMetricWarning: F-score is ill-defined and being set to 0.0 in labels with no predicted samples.\n",
      "  'precision', 'predicted', average, warn_for)\n",
      "/anaconda3/lib/python3.7/site-packages/sklearn/metrics/classification.py:1143: UndefinedMetricWarning: F-score is ill-defined and being set to 0.0 in labels with no predicted samples.\n",
      "  'precision', 'predicted', average, warn_for)\n",
      "/anaconda3/lib/python3.7/site-packages/sklearn/metrics/classification.py:1143: UndefinedMetricWarning: F-score is ill-defined and being set to 0.0 in labels with no predicted samples.\n",
      "  'precision', 'predicted', average, warn_for)\n"
     ]
    },
    {
     "name": "stdout",
     "output_type": "stream",
     "text": [
      "[CV]  criterion=gini, max_depth=3, min_samples_leaf=1, min_samples_split=2, score=0.3226102528740004, total=   0.2s\n",
      "[CV] criterion=gini, max_depth=3, min_samples_leaf=1, min_samples_split=2 \n"
     ]
    },
    {
     "name": "stderr",
     "output_type": "stream",
     "text": [
      "/anaconda3/lib/python3.7/site-packages/sklearn/metrics/classification.py:1143: UndefinedMetricWarning: F-score is ill-defined and being set to 0.0 in labels with no predicted samples.\n",
      "  'precision', 'predicted', average, warn_for)\n",
      "/anaconda3/lib/python3.7/site-packages/sklearn/metrics/classification.py:1143: UndefinedMetricWarning: F-score is ill-defined and being set to 0.0 in labels with no predicted samples.\n",
      "  'precision', 'predicted', average, warn_for)\n"
     ]
    },
    {
     "name": "stdout",
     "output_type": "stream",
     "text": [
      "[CV]  criterion=gini, max_depth=3, min_samples_leaf=1, min_samples_split=2, score=0.2761127934157218, total=   0.2s\n",
      "[CV] criterion=gini, max_depth=3, min_samples_leaf=1, min_samples_split=2 \n"
     ]
    },
    {
     "name": "stderr",
     "output_type": "stream",
     "text": [
      "/anaconda3/lib/python3.7/site-packages/sklearn/metrics/classification.py:1143: UndefinedMetricWarning: F-score is ill-defined and being set to 0.0 in labels with no predicted samples.\n",
      "  'precision', 'predicted', average, warn_for)\n",
      "/anaconda3/lib/python3.7/site-packages/sklearn/metrics/classification.py:1143: UndefinedMetricWarning: F-score is ill-defined and being set to 0.0 in labels with no predicted samples.\n",
      "  'precision', 'predicted', average, warn_for)\n"
     ]
    },
    {
     "name": "stdout",
     "output_type": "stream",
     "text": [
      "[CV]  criterion=gini, max_depth=3, min_samples_leaf=1, min_samples_split=2, score=0.29078931106895783, total=   0.2s\n",
      "[CV] criterion=gini, max_depth=3, min_samples_leaf=1, min_samples_split=5 \n"
     ]
    },
    {
     "name": "stderr",
     "output_type": "stream",
     "text": [
      "/anaconda3/lib/python3.7/site-packages/sklearn/metrics/classification.py:1143: UndefinedMetricWarning: F-score is ill-defined and being set to 0.0 in labels with no predicted samples.\n",
      "  'precision', 'predicted', average, warn_for)\n",
      "/anaconda3/lib/python3.7/site-packages/sklearn/metrics/classification.py:1143: UndefinedMetricWarning: F-score is ill-defined and being set to 0.0 in labels with no predicted samples.\n",
      "  'precision', 'predicted', average, warn_for)\n",
      "/anaconda3/lib/python3.7/site-packages/sklearn/metrics/classification.py:1143: UndefinedMetricWarning: F-score is ill-defined and being set to 0.0 in labels with no predicted samples.\n",
      "  'precision', 'predicted', average, warn_for)\n"
     ]
    },
    {
     "name": "stdout",
     "output_type": "stream",
     "text": [
      "[CV]  criterion=gini, max_depth=3, min_samples_leaf=1, min_samples_split=5, score=0.3226102528740004, total=   0.2s\n",
      "[CV] criterion=gini, max_depth=3, min_samples_leaf=1, min_samples_split=5 \n",
      "[CV]  criterion=gini, max_depth=3, min_samples_leaf=1, min_samples_split=5, score=0.2761127934157218, total=   0.2s\n",
      "[CV] criterion=gini, max_depth=3, min_samples_leaf=1, min_samples_split=5 \n"
     ]
    },
    {
     "name": "stderr",
     "output_type": "stream",
     "text": [
      "/anaconda3/lib/python3.7/site-packages/sklearn/metrics/classification.py:1143: UndefinedMetricWarning: F-score is ill-defined and being set to 0.0 in labels with no predicted samples.\n",
      "  'precision', 'predicted', average, warn_for)\n",
      "/anaconda3/lib/python3.7/site-packages/sklearn/metrics/classification.py:1143: UndefinedMetricWarning: F-score is ill-defined and being set to 0.0 in labels with no predicted samples.\n",
      "  'precision', 'predicted', average, warn_for)\n",
      "/anaconda3/lib/python3.7/site-packages/sklearn/metrics/classification.py:1143: UndefinedMetricWarning: F-score is ill-defined and being set to 0.0 in labels with no predicted samples.\n",
      "  'precision', 'predicted', average, warn_for)\n"
     ]
    },
    {
     "name": "stdout",
     "output_type": "stream",
     "text": [
      "[CV]  criterion=gini, max_depth=3, min_samples_leaf=1, min_samples_split=5, score=0.29078931106895783, total=   0.2s\n",
      "[CV] criterion=gini, max_depth=3, min_samples_leaf=1, min_samples_split=10 \n"
     ]
    },
    {
     "name": "stderr",
     "output_type": "stream",
     "text": [
      "/anaconda3/lib/python3.7/site-packages/sklearn/metrics/classification.py:1143: UndefinedMetricWarning: F-score is ill-defined and being set to 0.0 in labels with no predicted samples.\n",
      "  'precision', 'predicted', average, warn_for)\n",
      "/anaconda3/lib/python3.7/site-packages/sklearn/metrics/classification.py:1143: UndefinedMetricWarning: F-score is ill-defined and being set to 0.0 in labels with no predicted samples.\n",
      "  'precision', 'predicted', average, warn_for)\n"
     ]
    },
    {
     "name": "stdout",
     "output_type": "stream",
     "text": [
      "[CV]  criterion=gini, max_depth=3, min_samples_leaf=1, min_samples_split=10, score=0.3226102528740004, total=   0.2s\n",
      "[CV] criterion=gini, max_depth=3, min_samples_leaf=1, min_samples_split=10 \n",
      "[CV]  criterion=gini, max_depth=3, min_samples_leaf=1, min_samples_split=10, score=0.2761127934157218, total=   0.2s\n",
      "[CV] criterion=gini, max_depth=3, min_samples_leaf=1, min_samples_split=10 \n"
     ]
    },
    {
     "name": "stderr",
     "output_type": "stream",
     "text": [
      "/anaconda3/lib/python3.7/site-packages/sklearn/metrics/classification.py:1143: UndefinedMetricWarning: F-score is ill-defined and being set to 0.0 in labels with no predicted samples.\n",
      "  'precision', 'predicted', average, warn_for)\n",
      "/anaconda3/lib/python3.7/site-packages/sklearn/metrics/classification.py:1143: UndefinedMetricWarning: F-score is ill-defined and being set to 0.0 in labels with no predicted samples.\n",
      "  'precision', 'predicted', average, warn_for)\n",
      "/anaconda3/lib/python3.7/site-packages/sklearn/metrics/classification.py:1143: UndefinedMetricWarning: F-score is ill-defined and being set to 0.0 in labels with no predicted samples.\n",
      "  'precision', 'predicted', average, warn_for)\n",
      "/anaconda3/lib/python3.7/site-packages/sklearn/metrics/classification.py:1143: UndefinedMetricWarning: F-score is ill-defined and being set to 0.0 in labels with no predicted samples.\n",
      "  'precision', 'predicted', average, warn_for)\n",
      "/anaconda3/lib/python3.7/site-packages/sklearn/metrics/classification.py:1143: UndefinedMetricWarning: F-score is ill-defined and being set to 0.0 in labels with no predicted samples.\n",
      "  'precision', 'predicted', average, warn_for)\n",
      "/anaconda3/lib/python3.7/site-packages/sklearn/metrics/classification.py:1143: UndefinedMetricWarning: F-score is ill-defined and being set to 0.0 in labels with no predicted samples.\n",
      "  'precision', 'predicted', average, warn_for)\n"
     ]
    },
    {
     "name": "stdout",
     "output_type": "stream",
     "text": [
      "[CV]  criterion=gini, max_depth=3, min_samples_leaf=1, min_samples_split=10, score=0.29078931106895783, total=   0.2s\n",
      "[CV] criterion=gini, max_depth=3, min_samples_leaf=2, min_samples_split=2 \n",
      "[CV]  criterion=gini, max_depth=3, min_samples_leaf=2, min_samples_split=2, score=0.3226102528740004, total=   0.2s\n",
      "[CV] criterion=gini, max_depth=3, min_samples_leaf=2, min_samples_split=2 \n"
     ]
    },
    {
     "name": "stderr",
     "output_type": "stream",
     "text": [
      "/anaconda3/lib/python3.7/site-packages/sklearn/metrics/classification.py:1143: UndefinedMetricWarning: F-score is ill-defined and being set to 0.0 in labels with no predicted samples.\n",
      "  'precision', 'predicted', average, warn_for)\n",
      "/anaconda3/lib/python3.7/site-packages/sklearn/metrics/classification.py:1143: UndefinedMetricWarning: F-score is ill-defined and being set to 0.0 in labels with no predicted samples.\n",
      "  'precision', 'predicted', average, warn_for)\n",
      "/anaconda3/lib/python3.7/site-packages/sklearn/metrics/classification.py:1143: UndefinedMetricWarning: F-score is ill-defined and being set to 0.0 in labels with no predicted samples.\n",
      "  'precision', 'predicted', average, warn_for)\n",
      "/anaconda3/lib/python3.7/site-packages/sklearn/metrics/classification.py:1143: UndefinedMetricWarning: F-score is ill-defined and being set to 0.0 in labels with no predicted samples.\n",
      "  'precision', 'predicted', average, warn_for)\n"
     ]
    },
    {
     "name": "stdout",
     "output_type": "stream",
     "text": [
      "[CV]  criterion=gini, max_depth=3, min_samples_leaf=2, min_samples_split=2, score=0.2761127934157218, total=   0.2s\n",
      "[CV] criterion=gini, max_depth=3, min_samples_leaf=2, min_samples_split=2 \n",
      "[CV]  criterion=gini, max_depth=3, min_samples_leaf=2, min_samples_split=2, score=0.29078931106895783, total=   0.2s\n",
      "[CV] criterion=gini, max_depth=3, min_samples_leaf=2, min_samples_split=5 \n"
     ]
    },
    {
     "name": "stderr",
     "output_type": "stream",
     "text": [
      "/anaconda3/lib/python3.7/site-packages/sklearn/metrics/classification.py:1143: UndefinedMetricWarning: F-score is ill-defined and being set to 0.0 in labels with no predicted samples.\n",
      "  'precision', 'predicted', average, warn_for)\n",
      "/anaconda3/lib/python3.7/site-packages/sklearn/metrics/classification.py:1143: UndefinedMetricWarning: F-score is ill-defined and being set to 0.0 in labels with no predicted samples.\n",
      "  'precision', 'predicted', average, warn_for)\n",
      "/anaconda3/lib/python3.7/site-packages/sklearn/metrics/classification.py:1143: UndefinedMetricWarning: F-score is ill-defined and being set to 0.0 in labels with no predicted samples.\n",
      "  'precision', 'predicted', average, warn_for)\n",
      "/anaconda3/lib/python3.7/site-packages/sklearn/metrics/classification.py:1143: UndefinedMetricWarning: F-score is ill-defined and being set to 0.0 in labels with no predicted samples.\n",
      "  'precision', 'predicted', average, warn_for)\n"
     ]
    },
    {
     "name": "stdout",
     "output_type": "stream",
     "text": [
      "[CV]  criterion=gini, max_depth=3, min_samples_leaf=2, min_samples_split=5, score=0.3226102528740004, total=   0.1s\n",
      "[CV] criterion=gini, max_depth=3, min_samples_leaf=2, min_samples_split=5 \n",
      "[CV]  criterion=gini, max_depth=3, min_samples_leaf=2, min_samples_split=5, score=0.2761127934157218, total=   0.2s\n",
      "[CV] criterion=gini, max_depth=3, min_samples_leaf=2, min_samples_split=5 \n"
     ]
    },
    {
     "name": "stderr",
     "output_type": "stream",
     "text": [
      "/anaconda3/lib/python3.7/site-packages/sklearn/metrics/classification.py:1143: UndefinedMetricWarning: F-score is ill-defined and being set to 0.0 in labels with no predicted samples.\n",
      "  'precision', 'predicted', average, warn_for)\n",
      "/anaconda3/lib/python3.7/site-packages/sklearn/metrics/classification.py:1143: UndefinedMetricWarning: F-score is ill-defined and being set to 0.0 in labels with no predicted samples.\n",
      "  'precision', 'predicted', average, warn_for)\n",
      "/anaconda3/lib/python3.7/site-packages/sklearn/metrics/classification.py:1143: UndefinedMetricWarning: F-score is ill-defined and being set to 0.0 in labels with no predicted samples.\n",
      "  'precision', 'predicted', average, warn_for)\n"
     ]
    },
    {
     "name": "stdout",
     "output_type": "stream",
     "text": [
      "[CV]  criterion=gini, max_depth=3, min_samples_leaf=2, min_samples_split=5, score=0.29078931106895783, total=   0.2s\n",
      "[CV] criterion=gini, max_depth=3, min_samples_leaf=2, min_samples_split=10 \n",
      "[CV]  criterion=gini, max_depth=3, min_samples_leaf=2, min_samples_split=10, score=0.3226102528740004, total=   0.2s\n",
      "[CV] criterion=gini, max_depth=3, min_samples_leaf=2, min_samples_split=10 \n"
     ]
    },
    {
     "name": "stderr",
     "output_type": "stream",
     "text": [
      "/anaconda3/lib/python3.7/site-packages/sklearn/metrics/classification.py:1143: UndefinedMetricWarning: F-score is ill-defined and being set to 0.0 in labels with no predicted samples.\n",
      "  'precision', 'predicted', average, warn_for)\n",
      "/anaconda3/lib/python3.7/site-packages/sklearn/metrics/classification.py:1143: UndefinedMetricWarning: F-score is ill-defined and being set to 0.0 in labels with no predicted samples.\n",
      "  'precision', 'predicted', average, warn_for)\n",
      "/anaconda3/lib/python3.7/site-packages/sklearn/metrics/classification.py:1143: UndefinedMetricWarning: F-score is ill-defined and being set to 0.0 in labels with no predicted samples.\n",
      "  'precision', 'predicted', average, warn_for)\n"
     ]
    },
    {
     "name": "stdout",
     "output_type": "stream",
     "text": [
      "[CV]  criterion=gini, max_depth=3, min_samples_leaf=2, min_samples_split=10, score=0.2761127934157218, total=   0.2s\n",
      "[CV] criterion=gini, max_depth=3, min_samples_leaf=2, min_samples_split=10 \n",
      "[CV]  criterion=gini, max_depth=3, min_samples_leaf=2, min_samples_split=10, score=0.29078931106895783, total=   0.1s\n",
      "[CV] criterion=gini, max_depth=3, min_samples_leaf=3, min_samples_split=2 \n"
     ]
    },
    {
     "name": "stderr",
     "output_type": "stream",
     "text": [
      "/anaconda3/lib/python3.7/site-packages/sklearn/metrics/classification.py:1143: UndefinedMetricWarning: F-score is ill-defined and being set to 0.0 in labels with no predicted samples.\n",
      "  'precision', 'predicted', average, warn_for)\n",
      "/anaconda3/lib/python3.7/site-packages/sklearn/metrics/classification.py:1143: UndefinedMetricWarning: F-score is ill-defined and being set to 0.0 in labels with no predicted samples.\n",
      "  'precision', 'predicted', average, warn_for)\n",
      "/anaconda3/lib/python3.7/site-packages/sklearn/metrics/classification.py:1143: UndefinedMetricWarning: F-score is ill-defined and being set to 0.0 in labels with no predicted samples.\n",
      "  'precision', 'predicted', average, warn_for)\n",
      "/anaconda3/lib/python3.7/site-packages/sklearn/metrics/classification.py:1143: UndefinedMetricWarning: F-score is ill-defined and being set to 0.0 in labels with no predicted samples.\n",
      "  'precision', 'predicted', average, warn_for)\n"
     ]
    },
    {
     "name": "stdout",
     "output_type": "stream",
     "text": [
      "[CV]  criterion=gini, max_depth=3, min_samples_leaf=3, min_samples_split=2, score=0.3226102528740004, total=   0.2s\n",
      "[CV] criterion=gini, max_depth=3, min_samples_leaf=3, min_samples_split=2 \n",
      "[CV]  criterion=gini, max_depth=3, min_samples_leaf=3, min_samples_split=2, score=0.2761127934157218, total=   0.1s\n",
      "[CV] criterion=gini, max_depth=3, min_samples_leaf=3, min_samples_split=2 \n"
     ]
    },
    {
     "name": "stderr",
     "output_type": "stream",
     "text": [
      "/anaconda3/lib/python3.7/site-packages/sklearn/metrics/classification.py:1143: UndefinedMetricWarning: F-score is ill-defined and being set to 0.0 in labels with no predicted samples.\n",
      "  'precision', 'predicted', average, warn_for)\n",
      "/anaconda3/lib/python3.7/site-packages/sklearn/metrics/classification.py:1143: UndefinedMetricWarning: F-score is ill-defined and being set to 0.0 in labels with no predicted samples.\n",
      "  'precision', 'predicted', average, warn_for)\n",
      "/anaconda3/lib/python3.7/site-packages/sklearn/metrics/classification.py:1143: UndefinedMetricWarning: F-score is ill-defined and being set to 0.0 in labels with no predicted samples.\n",
      "  'precision', 'predicted', average, warn_for)\n",
      "/anaconda3/lib/python3.7/site-packages/sklearn/metrics/classification.py:1143: UndefinedMetricWarning: F-score is ill-defined and being set to 0.0 in labels with no predicted samples.\n",
      "  'precision', 'predicted', average, warn_for)\n"
     ]
    },
    {
     "name": "stdout",
     "output_type": "stream",
     "text": [
      "[CV]  criterion=gini, max_depth=3, min_samples_leaf=3, min_samples_split=2, score=0.29078931106895783, total=   0.2s\n",
      "[CV] criterion=gini, max_depth=3, min_samples_leaf=3, min_samples_split=5 \n",
      "[CV]  criterion=gini, max_depth=3, min_samples_leaf=3, min_samples_split=5, score=0.3226102528740004, total=   0.1s\n",
      "[CV] criterion=gini, max_depth=3, min_samples_leaf=3, min_samples_split=5 \n"
     ]
    },
    {
     "name": "stderr",
     "output_type": "stream",
     "text": [
      "/anaconda3/lib/python3.7/site-packages/sklearn/metrics/classification.py:1143: UndefinedMetricWarning: F-score is ill-defined and being set to 0.0 in labels with no predicted samples.\n",
      "  'precision', 'predicted', average, warn_for)\n",
      "/anaconda3/lib/python3.7/site-packages/sklearn/metrics/classification.py:1143: UndefinedMetricWarning: F-score is ill-defined and being set to 0.0 in labels with no predicted samples.\n",
      "  'precision', 'predicted', average, warn_for)\n",
      "/anaconda3/lib/python3.7/site-packages/sklearn/metrics/classification.py:1143: UndefinedMetricWarning: F-score is ill-defined and being set to 0.0 in labels with no predicted samples.\n",
      "  'precision', 'predicted', average, warn_for)\n",
      "/anaconda3/lib/python3.7/site-packages/sklearn/metrics/classification.py:1143: UndefinedMetricWarning: F-score is ill-defined and being set to 0.0 in labels with no predicted samples.\n",
      "  'precision', 'predicted', average, warn_for)\n"
     ]
    },
    {
     "name": "stdout",
     "output_type": "stream",
     "text": [
      "[CV]  criterion=gini, max_depth=3, min_samples_leaf=3, min_samples_split=5, score=0.2761127934157218, total=   0.1s\n",
      "[CV] criterion=gini, max_depth=3, min_samples_leaf=3, min_samples_split=5 \n",
      "[CV]  criterion=gini, max_depth=3, min_samples_leaf=3, min_samples_split=5, score=0.29078931106895783, total=   0.2s\n",
      "[CV] criterion=gini, max_depth=3, min_samples_leaf=3, min_samples_split=10 \n"
     ]
    },
    {
     "name": "stderr",
     "output_type": "stream",
     "text": [
      "/anaconda3/lib/python3.7/site-packages/sklearn/metrics/classification.py:1143: UndefinedMetricWarning: F-score is ill-defined and being set to 0.0 in labels with no predicted samples.\n",
      "  'precision', 'predicted', average, warn_for)\n",
      "/anaconda3/lib/python3.7/site-packages/sklearn/metrics/classification.py:1143: UndefinedMetricWarning: F-score is ill-defined and being set to 0.0 in labels with no predicted samples.\n",
      "  'precision', 'predicted', average, warn_for)\n",
      "/anaconda3/lib/python3.7/site-packages/sklearn/metrics/classification.py:1143: UndefinedMetricWarning: F-score is ill-defined and being set to 0.0 in labels with no predicted samples.\n",
      "  'precision', 'predicted', average, warn_for)\n",
      "/anaconda3/lib/python3.7/site-packages/sklearn/metrics/classification.py:1143: UndefinedMetricWarning: F-score is ill-defined and being set to 0.0 in labels with no predicted samples.\n",
      "  'precision', 'predicted', average, warn_for)\n"
     ]
    },
    {
     "name": "stdout",
     "output_type": "stream",
     "text": [
      "[CV]  criterion=gini, max_depth=3, min_samples_leaf=3, min_samples_split=10, score=0.3226102528740004, total=   0.2s\n",
      "[CV] criterion=gini, max_depth=3, min_samples_leaf=3, min_samples_split=10 \n",
      "[CV]  criterion=gini, max_depth=3, min_samples_leaf=3, min_samples_split=10, score=0.2761127934157218, total=   0.2s\n",
      "[CV] criterion=gini, max_depth=3, min_samples_leaf=3, min_samples_split=10 \n"
     ]
    },
    {
     "name": "stderr",
     "output_type": "stream",
     "text": [
      "/anaconda3/lib/python3.7/site-packages/sklearn/metrics/classification.py:1143: UndefinedMetricWarning: F-score is ill-defined and being set to 0.0 in labels with no predicted samples.\n",
      "  'precision', 'predicted', average, warn_for)\n",
      "/anaconda3/lib/python3.7/site-packages/sklearn/metrics/classification.py:1143: UndefinedMetricWarning: F-score is ill-defined and being set to 0.0 in labels with no predicted samples.\n",
      "  'precision', 'predicted', average, warn_for)\n",
      "/anaconda3/lib/python3.7/site-packages/sklearn/metrics/classification.py:1143: UndefinedMetricWarning: F-score is ill-defined and being set to 0.0 in labels with no predicted samples.\n",
      "  'precision', 'predicted', average, warn_for)\n",
      "/anaconda3/lib/python3.7/site-packages/sklearn/metrics/classification.py:1143: UndefinedMetricWarning: F-score is ill-defined and being set to 0.0 in labels with no predicted samples.\n",
      "  'precision', 'predicted', average, warn_for)\n"
     ]
    },
    {
     "name": "stdout",
     "output_type": "stream",
     "text": [
      "[CV]  criterion=gini, max_depth=3, min_samples_leaf=3, min_samples_split=10, score=0.29078931106895783, total=   0.2s\n",
      "[CV] criterion=gini, max_depth=3, min_samples_leaf=4, min_samples_split=2 \n",
      "[CV]  criterion=gini, max_depth=3, min_samples_leaf=4, min_samples_split=2, score=0.3226102528740004, total=   0.2s\n",
      "[CV] criterion=gini, max_depth=3, min_samples_leaf=4, min_samples_split=2 \n"
     ]
    },
    {
     "name": "stderr",
     "output_type": "stream",
     "text": [
      "/anaconda3/lib/python3.7/site-packages/sklearn/metrics/classification.py:1143: UndefinedMetricWarning: F-score is ill-defined and being set to 0.0 in labels with no predicted samples.\n",
      "  'precision', 'predicted', average, warn_for)\n",
      "/anaconda3/lib/python3.7/site-packages/sklearn/metrics/classification.py:1143: UndefinedMetricWarning: F-score is ill-defined and being set to 0.0 in labels with no predicted samples.\n",
      "  'precision', 'predicted', average, warn_for)\n",
      "/anaconda3/lib/python3.7/site-packages/sklearn/metrics/classification.py:1143: UndefinedMetricWarning: F-score is ill-defined and being set to 0.0 in labels with no predicted samples.\n",
      "  'precision', 'predicted', average, warn_for)\n",
      "/anaconda3/lib/python3.7/site-packages/sklearn/metrics/classification.py:1143: UndefinedMetricWarning: F-score is ill-defined and being set to 0.0 in labels with no predicted samples.\n",
      "  'precision', 'predicted', average, warn_for)\n"
     ]
    },
    {
     "name": "stdout",
     "output_type": "stream",
     "text": [
      "[CV]  criterion=gini, max_depth=3, min_samples_leaf=4, min_samples_split=2, score=0.2761127934157218, total=   0.1s\n",
      "[CV] criterion=gini, max_depth=3, min_samples_leaf=4, min_samples_split=2 \n",
      "[CV]  criterion=gini, max_depth=3, min_samples_leaf=4, min_samples_split=2, score=0.29078931106895783, total=   0.1s\n",
      "[CV] criterion=gini, max_depth=3, min_samples_leaf=4, min_samples_split=5 \n"
     ]
    },
    {
     "name": "stderr",
     "output_type": "stream",
     "text": [
      "/anaconda3/lib/python3.7/site-packages/sklearn/metrics/classification.py:1143: UndefinedMetricWarning: F-score is ill-defined and being set to 0.0 in labels with no predicted samples.\n",
      "  'precision', 'predicted', average, warn_for)\n",
      "/anaconda3/lib/python3.7/site-packages/sklearn/metrics/classification.py:1143: UndefinedMetricWarning: F-score is ill-defined and being set to 0.0 in labels with no predicted samples.\n",
      "  'precision', 'predicted', average, warn_for)\n",
      "/anaconda3/lib/python3.7/site-packages/sklearn/metrics/classification.py:1143: UndefinedMetricWarning: F-score is ill-defined and being set to 0.0 in labels with no predicted samples.\n",
      "  'precision', 'predicted', average, warn_for)\n",
      "/anaconda3/lib/python3.7/site-packages/sklearn/metrics/classification.py:1143: UndefinedMetricWarning: F-score is ill-defined and being set to 0.0 in labels with no predicted samples.\n",
      "  'precision', 'predicted', average, warn_for)\n"
     ]
    },
    {
     "name": "stdout",
     "output_type": "stream",
     "text": [
      "[CV]  criterion=gini, max_depth=3, min_samples_leaf=4, min_samples_split=5, score=0.3226102528740004, total=   0.2s\n",
      "[CV] criterion=gini, max_depth=3, min_samples_leaf=4, min_samples_split=5 \n",
      "[CV]  criterion=gini, max_depth=3, min_samples_leaf=4, min_samples_split=5, score=0.2761127934157218, total=   0.1s\n",
      "[CV] criterion=gini, max_depth=3, min_samples_leaf=4, min_samples_split=5 \n"
     ]
    },
    {
     "name": "stderr",
     "output_type": "stream",
     "text": [
      "/anaconda3/lib/python3.7/site-packages/sklearn/metrics/classification.py:1143: UndefinedMetricWarning: F-score is ill-defined and being set to 0.0 in labels with no predicted samples.\n",
      "  'precision', 'predicted', average, warn_for)\n",
      "/anaconda3/lib/python3.7/site-packages/sklearn/metrics/classification.py:1143: UndefinedMetricWarning: F-score is ill-defined and being set to 0.0 in labels with no predicted samples.\n",
      "  'precision', 'predicted', average, warn_for)\n",
      "/anaconda3/lib/python3.7/site-packages/sklearn/metrics/classification.py:1143: UndefinedMetricWarning: F-score is ill-defined and being set to 0.0 in labels with no predicted samples.\n",
      "  'precision', 'predicted', average, warn_for)\n",
      "/anaconda3/lib/python3.7/site-packages/sklearn/metrics/classification.py:1143: UndefinedMetricWarning: F-score is ill-defined and being set to 0.0 in labels with no predicted samples.\n",
      "  'precision', 'predicted', average, warn_for)\n"
     ]
    },
    {
     "name": "stdout",
     "output_type": "stream",
     "text": [
      "[CV]  criterion=gini, max_depth=3, min_samples_leaf=4, min_samples_split=5, score=0.29078931106895783, total=   0.1s\n",
      "[CV] criterion=gini, max_depth=3, min_samples_leaf=4, min_samples_split=10 \n",
      "[CV]  criterion=gini, max_depth=3, min_samples_leaf=4, min_samples_split=10, score=0.3226102528740004, total=   0.1s\n",
      "[CV] criterion=gini, max_depth=3, min_samples_leaf=4, min_samples_split=10 \n"
     ]
    },
    {
     "name": "stderr",
     "output_type": "stream",
     "text": [
      "/anaconda3/lib/python3.7/site-packages/sklearn/metrics/classification.py:1143: UndefinedMetricWarning: F-score is ill-defined and being set to 0.0 in labels with no predicted samples.\n",
      "  'precision', 'predicted', average, warn_for)\n",
      "/anaconda3/lib/python3.7/site-packages/sklearn/metrics/classification.py:1143: UndefinedMetricWarning: F-score is ill-defined and being set to 0.0 in labels with no predicted samples.\n",
      "  'precision', 'predicted', average, warn_for)\n",
      "/anaconda3/lib/python3.7/site-packages/sklearn/metrics/classification.py:1143: UndefinedMetricWarning: F-score is ill-defined and being set to 0.0 in labels with no predicted samples.\n",
      "  'precision', 'predicted', average, warn_for)\n",
      "/anaconda3/lib/python3.7/site-packages/sklearn/metrics/classification.py:1143: UndefinedMetricWarning: F-score is ill-defined and being set to 0.0 in labels with no predicted samples.\n",
      "  'precision', 'predicted', average, warn_for)\n"
     ]
    },
    {
     "name": "stdout",
     "output_type": "stream",
     "text": [
      "[CV]  criterion=gini, max_depth=3, min_samples_leaf=4, min_samples_split=10, score=0.2761127934157218, total=   0.1s\n",
      "[CV] criterion=gini, max_depth=3, min_samples_leaf=4, min_samples_split=10 \n",
      "[CV]  criterion=gini, max_depth=3, min_samples_leaf=4, min_samples_split=10, score=0.29078931106895783, total=   0.2s\n",
      "[CV] criterion=gini, max_depth=3, min_samples_leaf=5, min_samples_split=2 \n"
     ]
    },
    {
     "name": "stderr",
     "output_type": "stream",
     "text": [
      "/anaconda3/lib/python3.7/site-packages/sklearn/metrics/classification.py:1143: UndefinedMetricWarning: F-score is ill-defined and being set to 0.0 in labels with no predicted samples.\n",
      "  'precision', 'predicted', average, warn_for)\n",
      "/anaconda3/lib/python3.7/site-packages/sklearn/metrics/classification.py:1143: UndefinedMetricWarning: F-score is ill-defined and being set to 0.0 in labels with no predicted samples.\n",
      "  'precision', 'predicted', average, warn_for)\n",
      "/anaconda3/lib/python3.7/site-packages/sklearn/metrics/classification.py:1143: UndefinedMetricWarning: F-score is ill-defined and being set to 0.0 in labels with no predicted samples.\n",
      "  'precision', 'predicted', average, warn_for)\n",
      "/anaconda3/lib/python3.7/site-packages/sklearn/metrics/classification.py:1143: UndefinedMetricWarning: F-score is ill-defined and being set to 0.0 in labels with no predicted samples.\n",
      "  'precision', 'predicted', average, warn_for)\n"
     ]
    },
    {
     "name": "stdout",
     "output_type": "stream",
     "text": [
      "[CV]  criterion=gini, max_depth=3, min_samples_leaf=5, min_samples_split=2, score=0.3226102528740004, total=   0.1s\n",
      "[CV] criterion=gini, max_depth=3, min_samples_leaf=5, min_samples_split=2 \n",
      "[CV]  criterion=gini, max_depth=3, min_samples_leaf=5, min_samples_split=2, score=0.2761127934157218, total=   0.2s\n",
      "[CV] criterion=gini, max_depth=3, min_samples_leaf=5, min_samples_split=2 \n"
     ]
    },
    {
     "name": "stderr",
     "output_type": "stream",
     "text": [
      "/anaconda3/lib/python3.7/site-packages/sklearn/metrics/classification.py:1143: UndefinedMetricWarning: F-score is ill-defined and being set to 0.0 in labels with no predicted samples.\n",
      "  'precision', 'predicted', average, warn_for)\n",
      "/anaconda3/lib/python3.7/site-packages/sklearn/metrics/classification.py:1143: UndefinedMetricWarning: F-score is ill-defined and being set to 0.0 in labels with no predicted samples.\n",
      "  'precision', 'predicted', average, warn_for)\n",
      "/anaconda3/lib/python3.7/site-packages/sklearn/metrics/classification.py:1143: UndefinedMetricWarning: F-score is ill-defined and being set to 0.0 in labels with no predicted samples.\n",
      "  'precision', 'predicted', average, warn_for)\n",
      "/anaconda3/lib/python3.7/site-packages/sklearn/metrics/classification.py:1143: UndefinedMetricWarning: F-score is ill-defined and being set to 0.0 in labels with no predicted samples.\n",
      "  'precision', 'predicted', average, warn_for)\n"
     ]
    },
    {
     "name": "stdout",
     "output_type": "stream",
     "text": [
      "[CV]  criterion=gini, max_depth=3, min_samples_leaf=5, min_samples_split=2, score=0.29078931106895783, total=   0.2s\n",
      "[CV] criterion=gini, max_depth=3, min_samples_leaf=5, min_samples_split=5 \n",
      "[CV]  criterion=gini, max_depth=3, min_samples_leaf=5, min_samples_split=5, score=0.3226102528740004, total=   0.2s\n",
      "[CV] criterion=gini, max_depth=3, min_samples_leaf=5, min_samples_split=5 \n"
     ]
    },
    {
     "name": "stderr",
     "output_type": "stream",
     "text": [
      "/anaconda3/lib/python3.7/site-packages/sklearn/metrics/classification.py:1143: UndefinedMetricWarning: F-score is ill-defined and being set to 0.0 in labels with no predicted samples.\n",
      "  'precision', 'predicted', average, warn_for)\n",
      "/anaconda3/lib/python3.7/site-packages/sklearn/metrics/classification.py:1143: UndefinedMetricWarning: F-score is ill-defined and being set to 0.0 in labels with no predicted samples.\n",
      "  'precision', 'predicted', average, warn_for)\n",
      "/anaconda3/lib/python3.7/site-packages/sklearn/metrics/classification.py:1143: UndefinedMetricWarning: F-score is ill-defined and being set to 0.0 in labels with no predicted samples.\n",
      "  'precision', 'predicted', average, warn_for)\n",
      "/anaconda3/lib/python3.7/site-packages/sklearn/metrics/classification.py:1143: UndefinedMetricWarning: F-score is ill-defined and being set to 0.0 in labels with no predicted samples.\n",
      "  'precision', 'predicted', average, warn_for)\n"
     ]
    },
    {
     "name": "stdout",
     "output_type": "stream",
     "text": [
      "[CV]  criterion=gini, max_depth=3, min_samples_leaf=5, min_samples_split=5, score=0.2761127934157218, total=   0.1s\n",
      "[CV] criterion=gini, max_depth=3, min_samples_leaf=5, min_samples_split=5 \n",
      "[CV]  criterion=gini, max_depth=3, min_samples_leaf=5, min_samples_split=5, score=0.29078931106895783, total=   0.1s\n",
      "[CV] criterion=gini, max_depth=3, min_samples_leaf=5, min_samples_split=10 \n"
     ]
    },
    {
     "name": "stderr",
     "output_type": "stream",
     "text": [
      "/anaconda3/lib/python3.7/site-packages/sklearn/metrics/classification.py:1143: UndefinedMetricWarning: F-score is ill-defined and being set to 0.0 in labels with no predicted samples.\n",
      "  'precision', 'predicted', average, warn_for)\n",
      "/anaconda3/lib/python3.7/site-packages/sklearn/metrics/classification.py:1143: UndefinedMetricWarning: F-score is ill-defined and being set to 0.0 in labels with no predicted samples.\n",
      "  'precision', 'predicted', average, warn_for)\n",
      "/anaconda3/lib/python3.7/site-packages/sklearn/metrics/classification.py:1143: UndefinedMetricWarning: F-score is ill-defined and being set to 0.0 in labels with no predicted samples.\n",
      "  'precision', 'predicted', average, warn_for)\n",
      "/anaconda3/lib/python3.7/site-packages/sklearn/metrics/classification.py:1143: UndefinedMetricWarning: F-score is ill-defined and being set to 0.0 in labels with no predicted samples.\n",
      "  'precision', 'predicted', average, warn_for)\n"
     ]
    },
    {
     "name": "stdout",
     "output_type": "stream",
     "text": [
      "[CV]  criterion=gini, max_depth=3, min_samples_leaf=5, min_samples_split=10, score=0.3226102528740004, total=   0.2s\n",
      "[CV] criterion=gini, max_depth=3, min_samples_leaf=5, min_samples_split=10 \n",
      "[CV]  criterion=gini, max_depth=3, min_samples_leaf=5, min_samples_split=10, score=0.2761127934157218, total=   0.2s\n",
      "[CV] criterion=gini, max_depth=3, min_samples_leaf=5, min_samples_split=10 \n"
     ]
    },
    {
     "name": "stderr",
     "output_type": "stream",
     "text": [
      "/anaconda3/lib/python3.7/site-packages/sklearn/metrics/classification.py:1143: UndefinedMetricWarning: F-score is ill-defined and being set to 0.0 in labels with no predicted samples.\n",
      "  'precision', 'predicted', average, warn_for)\n",
      "/anaconda3/lib/python3.7/site-packages/sklearn/metrics/classification.py:1143: UndefinedMetricWarning: F-score is ill-defined and being set to 0.0 in labels with no predicted samples.\n",
      "  'precision', 'predicted', average, warn_for)\n",
      "/anaconda3/lib/python3.7/site-packages/sklearn/metrics/classification.py:1143: UndefinedMetricWarning: F-score is ill-defined and being set to 0.0 in labels with no predicted samples.\n",
      "  'precision', 'predicted', average, warn_for)\n",
      "/anaconda3/lib/python3.7/site-packages/sklearn/metrics/classification.py:1143: UndefinedMetricWarning: F-score is ill-defined and being set to 0.0 in labels with no predicted samples.\n",
      "  'precision', 'predicted', average, warn_for)\n"
     ]
    },
    {
     "name": "stdout",
     "output_type": "stream",
     "text": [
      "[CV]  criterion=gini, max_depth=3, min_samples_leaf=5, min_samples_split=10, score=0.29078931106895783, total=   0.1s\n",
      "[CV] criterion=gini, max_depth=3, min_samples_leaf=6, min_samples_split=2 \n",
      "[CV]  criterion=gini, max_depth=3, min_samples_leaf=6, min_samples_split=2, score=0.3226102528740004, total=   0.2s\n",
      "[CV] criterion=gini, max_depth=3, min_samples_leaf=6, min_samples_split=2 \n"
     ]
    },
    {
     "name": "stderr",
     "output_type": "stream",
     "text": [
      "/anaconda3/lib/python3.7/site-packages/sklearn/metrics/classification.py:1143: UndefinedMetricWarning: F-score is ill-defined and being set to 0.0 in labels with no predicted samples.\n",
      "  'precision', 'predicted', average, warn_for)\n",
      "/anaconda3/lib/python3.7/site-packages/sklearn/metrics/classification.py:1143: UndefinedMetricWarning: F-score is ill-defined and being set to 0.0 in labels with no predicted samples.\n",
      "  'precision', 'predicted', average, warn_for)\n",
      "/anaconda3/lib/python3.7/site-packages/sklearn/metrics/classification.py:1143: UndefinedMetricWarning: F-score is ill-defined and being set to 0.0 in labels with no predicted samples.\n",
      "  'precision', 'predicted', average, warn_for)\n",
      "/anaconda3/lib/python3.7/site-packages/sklearn/metrics/classification.py:1143: UndefinedMetricWarning: F-score is ill-defined and being set to 0.0 in labels with no predicted samples.\n",
      "  'precision', 'predicted', average, warn_for)\n"
     ]
    },
    {
     "name": "stdout",
     "output_type": "stream",
     "text": [
      "[CV]  criterion=gini, max_depth=3, min_samples_leaf=6, min_samples_split=2, score=0.2761127934157218, total=   0.1s\n",
      "[CV] criterion=gini, max_depth=3, min_samples_leaf=6, min_samples_split=2 \n",
      "[CV]  criterion=gini, max_depth=3, min_samples_leaf=6, min_samples_split=2, score=0.29078931106895783, total=   0.1s\n",
      "[CV] criterion=gini, max_depth=3, min_samples_leaf=6, min_samples_split=5 \n"
     ]
    },
    {
     "name": "stderr",
     "output_type": "stream",
     "text": [
      "/anaconda3/lib/python3.7/site-packages/sklearn/metrics/classification.py:1143: UndefinedMetricWarning: F-score is ill-defined and being set to 0.0 in labels with no predicted samples.\n",
      "  'precision', 'predicted', average, warn_for)\n",
      "/anaconda3/lib/python3.7/site-packages/sklearn/metrics/classification.py:1143: UndefinedMetricWarning: F-score is ill-defined and being set to 0.0 in labels with no predicted samples.\n",
      "  'precision', 'predicted', average, warn_for)\n",
      "/anaconda3/lib/python3.7/site-packages/sklearn/metrics/classification.py:1143: UndefinedMetricWarning: F-score is ill-defined and being set to 0.0 in labels with no predicted samples.\n",
      "  'precision', 'predicted', average, warn_for)\n",
      "/anaconda3/lib/python3.7/site-packages/sklearn/metrics/classification.py:1143: UndefinedMetricWarning: F-score is ill-defined and being set to 0.0 in labels with no predicted samples.\n",
      "  'precision', 'predicted', average, warn_for)\n"
     ]
    },
    {
     "name": "stdout",
     "output_type": "stream",
     "text": [
      "[CV]  criterion=gini, max_depth=3, min_samples_leaf=6, min_samples_split=5, score=0.3226102528740004, total=   0.2s\n",
      "[CV] criterion=gini, max_depth=3, min_samples_leaf=6, min_samples_split=5 \n",
      "[CV]  criterion=gini, max_depth=3, min_samples_leaf=6, min_samples_split=5, score=0.2761127934157218, total=   0.2s\n",
      "[CV] criterion=gini, max_depth=3, min_samples_leaf=6, min_samples_split=5 \n"
     ]
    },
    {
     "name": "stderr",
     "output_type": "stream",
     "text": [
      "/anaconda3/lib/python3.7/site-packages/sklearn/metrics/classification.py:1143: UndefinedMetricWarning: F-score is ill-defined and being set to 0.0 in labels with no predicted samples.\n",
      "  'precision', 'predicted', average, warn_for)\n",
      "/anaconda3/lib/python3.7/site-packages/sklearn/metrics/classification.py:1143: UndefinedMetricWarning: F-score is ill-defined and being set to 0.0 in labels with no predicted samples.\n",
      "  'precision', 'predicted', average, warn_for)\n",
      "/anaconda3/lib/python3.7/site-packages/sklearn/metrics/classification.py:1143: UndefinedMetricWarning: F-score is ill-defined and being set to 0.0 in labels with no predicted samples.\n",
      "  'precision', 'predicted', average, warn_for)\n",
      "/anaconda3/lib/python3.7/site-packages/sklearn/metrics/classification.py:1143: UndefinedMetricWarning: F-score is ill-defined and being set to 0.0 in labels with no predicted samples.\n",
      "  'precision', 'predicted', average, warn_for)\n",
      "/anaconda3/lib/python3.7/site-packages/sklearn/metrics/classification.py:1143: UndefinedMetricWarning: F-score is ill-defined and being set to 0.0 in labels with no predicted samples.\n",
      "  'precision', 'predicted', average, warn_for)\n",
      "/anaconda3/lib/python3.7/site-packages/sklearn/metrics/classification.py:1143: UndefinedMetricWarning: F-score is ill-defined and being set to 0.0 in labels with no predicted samples.\n",
      "  'precision', 'predicted', average, warn_for)\n"
     ]
    },
    {
     "name": "stdout",
     "output_type": "stream",
     "text": [
      "[CV]  criterion=gini, max_depth=3, min_samples_leaf=6, min_samples_split=5, score=0.29078931106895783, total=   0.2s\n",
      "[CV] criterion=gini, max_depth=3, min_samples_leaf=6, min_samples_split=10 \n",
      "[CV]  criterion=gini, max_depth=3, min_samples_leaf=6, min_samples_split=10, score=0.3226102528740004, total=   0.1s\n",
      "[CV] criterion=gini, max_depth=3, min_samples_leaf=6, min_samples_split=10 \n"
     ]
    },
    {
     "name": "stderr",
     "output_type": "stream",
     "text": [
      "/anaconda3/lib/python3.7/site-packages/sklearn/metrics/classification.py:1143: UndefinedMetricWarning: F-score is ill-defined and being set to 0.0 in labels with no predicted samples.\n",
      "  'precision', 'predicted', average, warn_for)\n",
      "/anaconda3/lib/python3.7/site-packages/sklearn/metrics/classification.py:1143: UndefinedMetricWarning: F-score is ill-defined and being set to 0.0 in labels with no predicted samples.\n",
      "  'precision', 'predicted', average, warn_for)\n"
     ]
    },
    {
     "name": "stdout",
     "output_type": "stream",
     "text": [
      "[CV]  criterion=gini, max_depth=3, min_samples_leaf=6, min_samples_split=10, score=0.2761127934157218, total=   0.1s\n",
      "[CV] criterion=gini, max_depth=3, min_samples_leaf=6, min_samples_split=10 \n"
     ]
    },
    {
     "name": "stderr",
     "output_type": "stream",
     "text": [
      "/anaconda3/lib/python3.7/site-packages/sklearn/metrics/classification.py:1143: UndefinedMetricWarning: F-score is ill-defined and being set to 0.0 in labels with no predicted samples.\n",
      "  'precision', 'predicted', average, warn_for)\n",
      "/anaconda3/lib/python3.7/site-packages/sklearn/metrics/classification.py:1143: UndefinedMetricWarning: F-score is ill-defined and being set to 0.0 in labels with no predicted samples.\n",
      "  'precision', 'predicted', average, warn_for)\n"
     ]
    },
    {
     "name": "stdout",
     "output_type": "stream",
     "text": [
      "[CV]  criterion=gini, max_depth=3, min_samples_leaf=6, min_samples_split=10, score=0.29078931106895783, total=   0.2s\n",
      "[CV] criterion=gini, max_depth=4, min_samples_leaf=1, min_samples_split=2 \n"
     ]
    },
    {
     "name": "stderr",
     "output_type": "stream",
     "text": [
      "/anaconda3/lib/python3.7/site-packages/sklearn/metrics/classification.py:1143: UndefinedMetricWarning: F-score is ill-defined and being set to 0.0 in labels with no predicted samples.\n",
      "  'precision', 'predicted', average, warn_for)\n",
      "/anaconda3/lib/python3.7/site-packages/sklearn/metrics/classification.py:1143: UndefinedMetricWarning: F-score is ill-defined and being set to 0.0 in labels with no predicted samples.\n",
      "  'precision', 'predicted', average, warn_for)\n"
     ]
    },
    {
     "name": "stdout",
     "output_type": "stream",
     "text": [
      "[CV]  criterion=gini, max_depth=4, min_samples_leaf=1, min_samples_split=2, score=0.32542982867642434, total=   0.3s\n",
      "[CV] criterion=gini, max_depth=4, min_samples_leaf=1, min_samples_split=2 \n",
      "[CV]  criterion=gini, max_depth=4, min_samples_leaf=1, min_samples_split=2, score=0.33661251790600594, total=   0.2s\n",
      "[CV] criterion=gini, max_depth=4, min_samples_leaf=1, min_samples_split=2 \n",
      "[CV]  criterion=gini, max_depth=4, min_samples_leaf=1, min_samples_split=2, score=0.32585728596130564, total=   0.2s\n",
      "[CV] criterion=gini, max_depth=4, min_samples_leaf=1, min_samples_split=5 \n"
     ]
    },
    {
     "name": "stderr",
     "output_type": "stream",
     "text": [
      "/anaconda3/lib/python3.7/site-packages/sklearn/metrics/classification.py:1143: UndefinedMetricWarning: F-score is ill-defined and being set to 0.0 in labels with no predicted samples.\n",
      "  'precision', 'predicted', average, warn_for)\n",
      "/anaconda3/lib/python3.7/site-packages/sklearn/metrics/classification.py:1143: UndefinedMetricWarning: F-score is ill-defined and being set to 0.0 in labels with no predicted samples.\n",
      "  'precision', 'predicted', average, warn_for)\n"
     ]
    },
    {
     "name": "stdout",
     "output_type": "stream",
     "text": [
      "[CV]  criterion=gini, max_depth=4, min_samples_leaf=1, min_samples_split=5, score=0.32542982867642434, total=   0.2s\n",
      "[CV] criterion=gini, max_depth=4, min_samples_leaf=1, min_samples_split=5 \n",
      "[CV]  criterion=gini, max_depth=4, min_samples_leaf=1, min_samples_split=5, score=0.33661251790600594, total=   0.3s\n",
      "[CV] criterion=gini, max_depth=4, min_samples_leaf=1, min_samples_split=5 \n",
      "[CV]  criterion=gini, max_depth=4, min_samples_leaf=1, min_samples_split=5, score=0.32585728596130564, total=   0.3s\n",
      "[CV] criterion=gini, max_depth=4, min_samples_leaf=1, min_samples_split=10 \n"
     ]
    },
    {
     "name": "stderr",
     "output_type": "stream",
     "text": [
      "/anaconda3/lib/python3.7/site-packages/sklearn/metrics/classification.py:1143: UndefinedMetricWarning: F-score is ill-defined and being set to 0.0 in labels with no predicted samples.\n",
      "  'precision', 'predicted', average, warn_for)\n",
      "/anaconda3/lib/python3.7/site-packages/sklearn/metrics/classification.py:1143: UndefinedMetricWarning: F-score is ill-defined and being set to 0.0 in labels with no predicted samples.\n",
      "  'precision', 'predicted', average, warn_for)\n"
     ]
    },
    {
     "name": "stdout",
     "output_type": "stream",
     "text": [
      "[CV]  criterion=gini, max_depth=4, min_samples_leaf=1, min_samples_split=10, score=0.32542982867642434, total=   0.3s\n",
      "[CV] criterion=gini, max_depth=4, min_samples_leaf=1, min_samples_split=10 \n",
      "[CV]  criterion=gini, max_depth=4, min_samples_leaf=1, min_samples_split=10, score=0.33661251790600594, total=   0.2s\n",
      "[CV] criterion=gini, max_depth=4, min_samples_leaf=1, min_samples_split=10 \n",
      "[CV]  criterion=gini, max_depth=4, min_samples_leaf=1, min_samples_split=10, score=0.32585728596130564, total=   0.3s\n",
      "[CV] criterion=gini, max_depth=4, min_samples_leaf=2, min_samples_split=2 \n"
     ]
    },
    {
     "name": "stderr",
     "output_type": "stream",
     "text": [
      "/anaconda3/lib/python3.7/site-packages/sklearn/metrics/classification.py:1143: UndefinedMetricWarning: F-score is ill-defined and being set to 0.0 in labels with no predicted samples.\n",
      "  'precision', 'predicted', average, warn_for)\n",
      "/anaconda3/lib/python3.7/site-packages/sklearn/metrics/classification.py:1143: UndefinedMetricWarning: F-score is ill-defined and being set to 0.0 in labels with no predicted samples.\n",
      "  'precision', 'predicted', average, warn_for)\n"
     ]
    },
    {
     "name": "stdout",
     "output_type": "stream",
     "text": [
      "[CV]  criterion=gini, max_depth=4, min_samples_leaf=2, min_samples_split=2, score=0.32542982867642434, total=   0.3s\n",
      "[CV] criterion=gini, max_depth=4, min_samples_leaf=2, min_samples_split=2 \n",
      "[CV]  criterion=gini, max_depth=4, min_samples_leaf=2, min_samples_split=2, score=0.33661251790600594, total=   0.2s\n",
      "[CV] criterion=gini, max_depth=4, min_samples_leaf=2, min_samples_split=2 \n",
      "[CV]  criterion=gini, max_depth=4, min_samples_leaf=2, min_samples_split=2, score=0.32585728596130564, total=   0.3s\n",
      "[CV] criterion=gini, max_depth=4, min_samples_leaf=2, min_samples_split=5 \n"
     ]
    },
    {
     "name": "stderr",
     "output_type": "stream",
     "text": [
      "/anaconda3/lib/python3.7/site-packages/sklearn/metrics/classification.py:1143: UndefinedMetricWarning: F-score is ill-defined and being set to 0.0 in labels with no predicted samples.\n",
      "  'precision', 'predicted', average, warn_for)\n",
      "/anaconda3/lib/python3.7/site-packages/sklearn/metrics/classification.py:1143: UndefinedMetricWarning: F-score is ill-defined and being set to 0.0 in labels with no predicted samples.\n",
      "  'precision', 'predicted', average, warn_for)\n"
     ]
    },
    {
     "name": "stdout",
     "output_type": "stream",
     "text": [
      "[CV]  criterion=gini, max_depth=4, min_samples_leaf=2, min_samples_split=5, score=0.32542982867642434, total=   0.2s\n",
      "[CV] criterion=gini, max_depth=4, min_samples_leaf=2, min_samples_split=5 \n",
      "[CV]  criterion=gini, max_depth=4, min_samples_leaf=2, min_samples_split=5, score=0.33661251790600594, total=   0.2s\n",
      "[CV] criterion=gini, max_depth=4, min_samples_leaf=2, min_samples_split=5 \n",
      "[CV]  criterion=gini, max_depth=4, min_samples_leaf=2, min_samples_split=5, score=0.32585728596130564, total=   0.2s\n",
      "[CV] criterion=gini, max_depth=4, min_samples_leaf=2, min_samples_split=10 \n"
     ]
    },
    {
     "name": "stderr",
     "output_type": "stream",
     "text": [
      "/anaconda3/lib/python3.7/site-packages/sklearn/metrics/classification.py:1143: UndefinedMetricWarning: F-score is ill-defined and being set to 0.0 in labels with no predicted samples.\n",
      "  'precision', 'predicted', average, warn_for)\n",
      "/anaconda3/lib/python3.7/site-packages/sklearn/metrics/classification.py:1143: UndefinedMetricWarning: F-score is ill-defined and being set to 0.0 in labels with no predicted samples.\n",
      "  'precision', 'predicted', average, warn_for)\n"
     ]
    },
    {
     "name": "stdout",
     "output_type": "stream",
     "text": [
      "[CV]  criterion=gini, max_depth=4, min_samples_leaf=2, min_samples_split=10, score=0.32542982867642434, total=   0.3s\n",
      "[CV] criterion=gini, max_depth=4, min_samples_leaf=2, min_samples_split=10 \n",
      "[CV]  criterion=gini, max_depth=4, min_samples_leaf=2, min_samples_split=10, score=0.33661251790600594, total=   0.2s\n",
      "[CV] criterion=gini, max_depth=4, min_samples_leaf=2, min_samples_split=10 \n",
      "[CV]  criterion=gini, max_depth=4, min_samples_leaf=2, min_samples_split=10, score=0.32585728596130564, total=   0.2s\n",
      "[CV] criterion=gini, max_depth=4, min_samples_leaf=3, min_samples_split=2 \n"
     ]
    },
    {
     "name": "stderr",
     "output_type": "stream",
     "text": [
      "/anaconda3/lib/python3.7/site-packages/sklearn/metrics/classification.py:1143: UndefinedMetricWarning: F-score is ill-defined and being set to 0.0 in labels with no predicted samples.\n",
      "  'precision', 'predicted', average, warn_for)\n",
      "/anaconda3/lib/python3.7/site-packages/sklearn/metrics/classification.py:1143: UndefinedMetricWarning: F-score is ill-defined and being set to 0.0 in labels with no predicted samples.\n",
      "  'precision', 'predicted', average, warn_for)\n"
     ]
    },
    {
     "name": "stdout",
     "output_type": "stream",
     "text": [
      "[CV]  criterion=gini, max_depth=4, min_samples_leaf=3, min_samples_split=2, score=0.32542982867642434, total=   0.2s\n",
      "[CV] criterion=gini, max_depth=4, min_samples_leaf=3, min_samples_split=2 \n",
      "[CV]  criterion=gini, max_depth=4, min_samples_leaf=3, min_samples_split=2, score=0.33661251790600594, total=   0.2s\n",
      "[CV] criterion=gini, max_depth=4, min_samples_leaf=3, min_samples_split=2 \n",
      "[CV]  criterion=gini, max_depth=4, min_samples_leaf=3, min_samples_split=2, score=0.32585728596130564, total=   0.2s\n",
      "[CV] criterion=gini, max_depth=4, min_samples_leaf=3, min_samples_split=5 \n"
     ]
    },
    {
     "name": "stderr",
     "output_type": "stream",
     "text": [
      "/anaconda3/lib/python3.7/site-packages/sklearn/metrics/classification.py:1143: UndefinedMetricWarning: F-score is ill-defined and being set to 0.0 in labels with no predicted samples.\n",
      "  'precision', 'predicted', average, warn_for)\n",
      "/anaconda3/lib/python3.7/site-packages/sklearn/metrics/classification.py:1143: UndefinedMetricWarning: F-score is ill-defined and being set to 0.0 in labels with no predicted samples.\n",
      "  'precision', 'predicted', average, warn_for)\n"
     ]
    },
    {
     "name": "stdout",
     "output_type": "stream",
     "text": [
      "[CV]  criterion=gini, max_depth=4, min_samples_leaf=3, min_samples_split=5, score=0.32542982867642434, total=   0.2s\n",
      "[CV] criterion=gini, max_depth=4, min_samples_leaf=3, min_samples_split=5 \n",
      "[CV]  criterion=gini, max_depth=4, min_samples_leaf=3, min_samples_split=5, score=0.33661251790600594, total=   0.2s\n",
      "[CV] criterion=gini, max_depth=4, min_samples_leaf=3, min_samples_split=5 \n",
      "[CV]  criterion=gini, max_depth=4, min_samples_leaf=3, min_samples_split=5, score=0.32585728596130564, total=   0.2s\n",
      "[CV] criterion=gini, max_depth=4, min_samples_leaf=3, min_samples_split=10 \n"
     ]
    },
    {
     "name": "stderr",
     "output_type": "stream",
     "text": [
      "/anaconda3/lib/python3.7/site-packages/sklearn/metrics/classification.py:1143: UndefinedMetricWarning: F-score is ill-defined and being set to 0.0 in labels with no predicted samples.\n",
      "  'precision', 'predicted', average, warn_for)\n",
      "/anaconda3/lib/python3.7/site-packages/sklearn/metrics/classification.py:1143: UndefinedMetricWarning: F-score is ill-defined and being set to 0.0 in labels with no predicted samples.\n",
      "  'precision', 'predicted', average, warn_for)\n"
     ]
    },
    {
     "name": "stdout",
     "output_type": "stream",
     "text": [
      "[CV]  criterion=gini, max_depth=4, min_samples_leaf=3, min_samples_split=10, score=0.32542982867642434, total=   0.2s\n",
      "[CV] criterion=gini, max_depth=4, min_samples_leaf=3, min_samples_split=10 \n",
      "[CV]  criterion=gini, max_depth=4, min_samples_leaf=3, min_samples_split=10, score=0.33661251790600594, total=   0.3s\n",
      "[CV] criterion=gini, max_depth=4, min_samples_leaf=3, min_samples_split=10 \n",
      "[CV]  criterion=gini, max_depth=4, min_samples_leaf=3, min_samples_split=10, score=0.32585728596130564, total=   0.2s\n",
      "[CV] criterion=gini, max_depth=4, min_samples_leaf=4, min_samples_split=2 \n"
     ]
    },
    {
     "name": "stderr",
     "output_type": "stream",
     "text": [
      "/anaconda3/lib/python3.7/site-packages/sklearn/metrics/classification.py:1143: UndefinedMetricWarning: F-score is ill-defined and being set to 0.0 in labels with no predicted samples.\n",
      "  'precision', 'predicted', average, warn_for)\n",
      "/anaconda3/lib/python3.7/site-packages/sklearn/metrics/classification.py:1143: UndefinedMetricWarning: F-score is ill-defined and being set to 0.0 in labels with no predicted samples.\n",
      "  'precision', 'predicted', average, warn_for)\n"
     ]
    },
    {
     "name": "stdout",
     "output_type": "stream",
     "text": [
      "[CV]  criterion=gini, max_depth=4, min_samples_leaf=4, min_samples_split=2, score=0.32542982867642434, total=   0.2s\n",
      "[CV] criterion=gini, max_depth=4, min_samples_leaf=4, min_samples_split=2 \n",
      "[CV]  criterion=gini, max_depth=4, min_samples_leaf=4, min_samples_split=2, score=0.33661251790600594, total=   0.2s\n",
      "[CV] criterion=gini, max_depth=4, min_samples_leaf=4, min_samples_split=2 \n",
      "[CV]  criterion=gini, max_depth=4, min_samples_leaf=4, min_samples_split=2, score=0.32585728596130564, total=   0.2s\n",
      "[CV] criterion=gini, max_depth=4, min_samples_leaf=4, min_samples_split=5 \n"
     ]
    },
    {
     "name": "stderr",
     "output_type": "stream",
     "text": [
      "/anaconda3/lib/python3.7/site-packages/sklearn/metrics/classification.py:1143: UndefinedMetricWarning: F-score is ill-defined and being set to 0.0 in labels with no predicted samples.\n",
      "  'precision', 'predicted', average, warn_for)\n",
      "/anaconda3/lib/python3.7/site-packages/sklearn/metrics/classification.py:1143: UndefinedMetricWarning: F-score is ill-defined and being set to 0.0 in labels with no predicted samples.\n",
      "  'precision', 'predicted', average, warn_for)\n"
     ]
    },
    {
     "name": "stdout",
     "output_type": "stream",
     "text": [
      "[CV]  criterion=gini, max_depth=4, min_samples_leaf=4, min_samples_split=5, score=0.32542982867642434, total=   0.3s\n",
      "[CV] criterion=gini, max_depth=4, min_samples_leaf=4, min_samples_split=5 \n",
      "[CV]  criterion=gini, max_depth=4, min_samples_leaf=4, min_samples_split=5, score=0.33661251790600594, total=   0.2s\n",
      "[CV] criterion=gini, max_depth=4, min_samples_leaf=4, min_samples_split=5 \n",
      "[CV]  criterion=gini, max_depth=4, min_samples_leaf=4, min_samples_split=5, score=0.32585728596130564, total=   0.2s\n",
      "[CV] criterion=gini, max_depth=4, min_samples_leaf=4, min_samples_split=10 \n"
     ]
    },
    {
     "name": "stderr",
     "output_type": "stream",
     "text": [
      "/anaconda3/lib/python3.7/site-packages/sklearn/metrics/classification.py:1143: UndefinedMetricWarning: F-score is ill-defined and being set to 0.0 in labels with no predicted samples.\n",
      "  'precision', 'predicted', average, warn_for)\n",
      "/anaconda3/lib/python3.7/site-packages/sklearn/metrics/classification.py:1143: UndefinedMetricWarning: F-score is ill-defined and being set to 0.0 in labels with no predicted samples.\n",
      "  'precision', 'predicted', average, warn_for)\n"
     ]
    },
    {
     "name": "stdout",
     "output_type": "stream",
     "text": [
      "[CV]  criterion=gini, max_depth=4, min_samples_leaf=4, min_samples_split=10, score=0.32542982867642434, total=   0.2s\n",
      "[CV] criterion=gini, max_depth=4, min_samples_leaf=4, min_samples_split=10 \n",
      "[CV]  criterion=gini, max_depth=4, min_samples_leaf=4, min_samples_split=10, score=0.33661251790600594, total=   0.2s\n",
      "[CV] criterion=gini, max_depth=4, min_samples_leaf=4, min_samples_split=10 \n",
      "[CV]  criterion=gini, max_depth=4, min_samples_leaf=4, min_samples_split=10, score=0.32585728596130564, total=   0.3s\n",
      "[CV] criterion=gini, max_depth=4, min_samples_leaf=5, min_samples_split=2 \n"
     ]
    },
    {
     "name": "stderr",
     "output_type": "stream",
     "text": [
      "/anaconda3/lib/python3.7/site-packages/sklearn/metrics/classification.py:1143: UndefinedMetricWarning: F-score is ill-defined and being set to 0.0 in labels with no predicted samples.\n",
      "  'precision', 'predicted', average, warn_for)\n",
      "/anaconda3/lib/python3.7/site-packages/sklearn/metrics/classification.py:1143: UndefinedMetricWarning: F-score is ill-defined and being set to 0.0 in labels with no predicted samples.\n",
      "  'precision', 'predicted', average, warn_for)\n"
     ]
    },
    {
     "name": "stdout",
     "output_type": "stream",
     "text": [
      "[CV]  criterion=gini, max_depth=4, min_samples_leaf=5, min_samples_split=2, score=0.32542982867642434, total=   0.3s\n",
      "[CV] criterion=gini, max_depth=4, min_samples_leaf=5, min_samples_split=2 \n",
      "[CV]  criterion=gini, max_depth=4, min_samples_leaf=5, min_samples_split=2, score=0.33661251790600594, total=   0.3s\n",
      "[CV] criterion=gini, max_depth=4, min_samples_leaf=5, min_samples_split=2 \n",
      "[CV]  criterion=gini, max_depth=4, min_samples_leaf=5, min_samples_split=2, score=0.32585728596130564, total=   0.3s\n",
      "[CV] criterion=gini, max_depth=4, min_samples_leaf=5, min_samples_split=5 \n"
     ]
    },
    {
     "name": "stderr",
     "output_type": "stream",
     "text": [
      "/anaconda3/lib/python3.7/site-packages/sklearn/metrics/classification.py:1143: UndefinedMetricWarning: F-score is ill-defined and being set to 0.0 in labels with no predicted samples.\n",
      "  'precision', 'predicted', average, warn_for)\n",
      "/anaconda3/lib/python3.7/site-packages/sklearn/metrics/classification.py:1143: UndefinedMetricWarning: F-score is ill-defined and being set to 0.0 in labels with no predicted samples.\n",
      "  'precision', 'predicted', average, warn_for)\n"
     ]
    },
    {
     "name": "stdout",
     "output_type": "stream",
     "text": [
      "[CV]  criterion=gini, max_depth=4, min_samples_leaf=5, min_samples_split=5, score=0.32542982867642434, total=   0.3s\n",
      "[CV] criterion=gini, max_depth=4, min_samples_leaf=5, min_samples_split=5 \n",
      "[CV]  criterion=gini, max_depth=4, min_samples_leaf=5, min_samples_split=5, score=0.33661251790600594, total=   0.2s\n",
      "[CV] criterion=gini, max_depth=4, min_samples_leaf=5, min_samples_split=5 \n",
      "[CV]  criterion=gini, max_depth=4, min_samples_leaf=5, min_samples_split=5, score=0.32585728596130564, total=   0.3s\n",
      "[CV] criterion=gini, max_depth=4, min_samples_leaf=5, min_samples_split=10 \n"
     ]
    },
    {
     "name": "stderr",
     "output_type": "stream",
     "text": [
      "/anaconda3/lib/python3.7/site-packages/sklearn/metrics/classification.py:1143: UndefinedMetricWarning: F-score is ill-defined and being set to 0.0 in labels with no predicted samples.\n",
      "  'precision', 'predicted', average, warn_for)\n",
      "/anaconda3/lib/python3.7/site-packages/sklearn/metrics/classification.py:1143: UndefinedMetricWarning: F-score is ill-defined and being set to 0.0 in labels with no predicted samples.\n",
      "  'precision', 'predicted', average, warn_for)\n"
     ]
    },
    {
     "name": "stdout",
     "output_type": "stream",
     "text": [
      "[CV]  criterion=gini, max_depth=4, min_samples_leaf=5, min_samples_split=10, score=0.32542982867642434, total=   0.2s\n",
      "[CV] criterion=gini, max_depth=4, min_samples_leaf=5, min_samples_split=10 \n",
      "[CV]  criterion=gini, max_depth=4, min_samples_leaf=5, min_samples_split=10, score=0.33661251790600594, total=   0.2s\n",
      "[CV] criterion=gini, max_depth=4, min_samples_leaf=5, min_samples_split=10 \n",
      "[CV]  criterion=gini, max_depth=4, min_samples_leaf=5, min_samples_split=10, score=0.32585728596130564, total=   0.2s\n",
      "[CV] criterion=gini, max_depth=4, min_samples_leaf=6, min_samples_split=2 \n"
     ]
    },
    {
     "name": "stderr",
     "output_type": "stream",
     "text": [
      "/anaconda3/lib/python3.7/site-packages/sklearn/metrics/classification.py:1143: UndefinedMetricWarning: F-score is ill-defined and being set to 0.0 in labels with no predicted samples.\n",
      "  'precision', 'predicted', average, warn_for)\n",
      "/anaconda3/lib/python3.7/site-packages/sklearn/metrics/classification.py:1143: UndefinedMetricWarning: F-score is ill-defined and being set to 0.0 in labels with no predicted samples.\n",
      "  'precision', 'predicted', average, warn_for)\n"
     ]
    },
    {
     "name": "stdout",
     "output_type": "stream",
     "text": [
      "[CV]  criterion=gini, max_depth=4, min_samples_leaf=6, min_samples_split=2, score=0.32542982867642434, total=   0.3s\n",
      "[CV] criterion=gini, max_depth=4, min_samples_leaf=6, min_samples_split=2 \n",
      "[CV]  criterion=gini, max_depth=4, min_samples_leaf=6, min_samples_split=2, score=0.33661251790600594, total=   0.3s\n",
      "[CV] criterion=gini, max_depth=4, min_samples_leaf=6, min_samples_split=2 \n",
      "[CV]  criterion=gini, max_depth=4, min_samples_leaf=6, min_samples_split=2, score=0.32585728596130564, total=   0.2s\n",
      "[CV] criterion=gini, max_depth=4, min_samples_leaf=6, min_samples_split=5 \n"
     ]
    },
    {
     "name": "stderr",
     "output_type": "stream",
     "text": [
      "/anaconda3/lib/python3.7/site-packages/sklearn/metrics/classification.py:1143: UndefinedMetricWarning: F-score is ill-defined and being set to 0.0 in labels with no predicted samples.\n",
      "  'precision', 'predicted', average, warn_for)\n",
      "/anaconda3/lib/python3.7/site-packages/sklearn/metrics/classification.py:1143: UndefinedMetricWarning: F-score is ill-defined and being set to 0.0 in labels with no predicted samples.\n",
      "  'precision', 'predicted', average, warn_for)\n"
     ]
    },
    {
     "name": "stdout",
     "output_type": "stream",
     "text": [
      "[CV]  criterion=gini, max_depth=4, min_samples_leaf=6, min_samples_split=5, score=0.32542982867642434, total=   0.3s\n",
      "[CV] criterion=gini, max_depth=4, min_samples_leaf=6, min_samples_split=5 \n",
      "[CV]  criterion=gini, max_depth=4, min_samples_leaf=6, min_samples_split=5, score=0.33661251790600594, total=   0.2s\n",
      "[CV] criterion=gini, max_depth=4, min_samples_leaf=6, min_samples_split=5 \n",
      "[CV]  criterion=gini, max_depth=4, min_samples_leaf=6, min_samples_split=5, score=0.32585728596130564, total=   0.2s\n",
      "[CV] criterion=gini, max_depth=4, min_samples_leaf=6, min_samples_split=10 \n"
     ]
    },
    {
     "name": "stderr",
     "output_type": "stream",
     "text": [
      "/anaconda3/lib/python3.7/site-packages/sklearn/metrics/classification.py:1143: UndefinedMetricWarning: F-score is ill-defined and being set to 0.0 in labels with no predicted samples.\n",
      "  'precision', 'predicted', average, warn_for)\n",
      "/anaconda3/lib/python3.7/site-packages/sklearn/metrics/classification.py:1143: UndefinedMetricWarning: F-score is ill-defined and being set to 0.0 in labels with no predicted samples.\n",
      "  'precision', 'predicted', average, warn_for)\n"
     ]
    },
    {
     "name": "stdout",
     "output_type": "stream",
     "text": [
      "[CV]  criterion=gini, max_depth=4, min_samples_leaf=6, min_samples_split=10, score=0.32542982867642434, total=   0.3s\n",
      "[CV] criterion=gini, max_depth=4, min_samples_leaf=6, min_samples_split=10 \n",
      "[CV]  criterion=gini, max_depth=4, min_samples_leaf=6, min_samples_split=10, score=0.33661251790600594, total=   0.3s\n",
      "[CV] criterion=gini, max_depth=4, min_samples_leaf=6, min_samples_split=10 \n",
      "[CV]  criterion=gini, max_depth=4, min_samples_leaf=6, min_samples_split=10, score=0.32585728596130564, total=   0.3s\n",
      "[CV] criterion=gini, max_depth=5, min_samples_leaf=1, min_samples_split=2 \n",
      "[CV]  criterion=gini, max_depth=5, min_samples_leaf=1, min_samples_split=2, score=0.32753774859038015, total=   0.3s\n",
      "[CV] criterion=gini, max_depth=5, min_samples_leaf=1, min_samples_split=2 \n",
      "[CV]  criterion=gini, max_depth=5, min_samples_leaf=1, min_samples_split=2, score=0.3387858302640175, total=   0.4s\n",
      "[CV] criterion=gini, max_depth=5, min_samples_leaf=1, min_samples_split=2 \n",
      "[CV]  criterion=gini, max_depth=5, min_samples_leaf=1, min_samples_split=2, score=0.32138258025715016, total=   0.4s\n",
      "[CV] criterion=gini, max_depth=5, min_samples_leaf=1, min_samples_split=5 \n",
      "[CV]  criterion=gini, max_depth=5, min_samples_leaf=1, min_samples_split=5, score=0.32753774859038015, total=   0.4s\n",
      "[CV] criterion=gini, max_depth=5, min_samples_leaf=1, min_samples_split=5 \n",
      "[CV]  criterion=gini, max_depth=5, min_samples_leaf=1, min_samples_split=5, score=0.3387858302640175, total=   0.3s\n",
      "[CV] criterion=gini, max_depth=5, min_samples_leaf=1, min_samples_split=5 \n",
      "[CV]  criterion=gini, max_depth=5, min_samples_leaf=1, min_samples_split=5, score=0.32138258025715016, total=   0.4s\n",
      "[CV] criterion=gini, max_depth=5, min_samples_leaf=1, min_samples_split=10 \n",
      "[CV]  criterion=gini, max_depth=5, min_samples_leaf=1, min_samples_split=10, score=0.32753774859038015, total=   0.3s\n",
      "[CV] criterion=gini, max_depth=5, min_samples_leaf=1, min_samples_split=10 \n",
      "[CV]  criterion=gini, max_depth=5, min_samples_leaf=1, min_samples_split=10, score=0.3387858302640175, total=   0.3s\n",
      "[CV] criterion=gini, max_depth=5, min_samples_leaf=1, min_samples_split=10 \n",
      "[CV]  criterion=gini, max_depth=5, min_samples_leaf=1, min_samples_split=10, score=0.32138258025715016, total=   0.3s\n",
      "[CV] criterion=gini, max_depth=5, min_samples_leaf=2, min_samples_split=2 \n",
      "[CV]  criterion=gini, max_depth=5, min_samples_leaf=2, min_samples_split=2, score=0.3275295707932469, total=   0.3s\n",
      "[CV] criterion=gini, max_depth=5, min_samples_leaf=2, min_samples_split=2 \n",
      "[CV]  criterion=gini, max_depth=5, min_samples_leaf=2, min_samples_split=2, score=0.3387858302640175, total=   0.3s\n",
      "[CV] criterion=gini, max_depth=5, min_samples_leaf=2, min_samples_split=2 \n",
      "[CV]  criterion=gini, max_depth=5, min_samples_leaf=2, min_samples_split=2, score=0.32138258025715016, total=   0.3s\n",
      "[CV] criterion=gini, max_depth=5, min_samples_leaf=2, min_samples_split=5 \n",
      "[CV]  criterion=gini, max_depth=5, min_samples_leaf=2, min_samples_split=5, score=0.3275295707932469, total=   0.3s\n",
      "[CV] criterion=gini, max_depth=5, min_samples_leaf=2, min_samples_split=5 \n",
      "[CV]  criterion=gini, max_depth=5, min_samples_leaf=2, min_samples_split=5, score=0.3387858302640175, total=   0.3s\n",
      "[CV] criterion=gini, max_depth=5, min_samples_leaf=2, min_samples_split=5 \n",
      "[CV]  criterion=gini, max_depth=5, min_samples_leaf=2, min_samples_split=5, score=0.32138258025715016, total=   0.3s\n",
      "[CV] criterion=gini, max_depth=5, min_samples_leaf=2, min_samples_split=10 \n",
      "[CV]  criterion=gini, max_depth=5, min_samples_leaf=2, min_samples_split=10, score=0.32753774859038015, total=   0.3s\n",
      "[CV] criterion=gini, max_depth=5, min_samples_leaf=2, min_samples_split=10 \n",
      "[CV]  criterion=gini, max_depth=5, min_samples_leaf=2, min_samples_split=10, score=0.3387858302640175, total=   0.3s\n",
      "[CV] criterion=gini, max_depth=5, min_samples_leaf=2, min_samples_split=10 \n",
      "[CV]  criterion=gini, max_depth=5, min_samples_leaf=2, min_samples_split=10, score=0.32138258025715016, total=   0.4s\n",
      "[CV] criterion=gini, max_depth=5, min_samples_leaf=3, min_samples_split=2 \n",
      "[CV]  criterion=gini, max_depth=5, min_samples_leaf=3, min_samples_split=2, score=0.32753774859038015, total=   0.4s\n",
      "[CV] criterion=gini, max_depth=5, min_samples_leaf=3, min_samples_split=2 \n",
      "[CV]  criterion=gini, max_depth=5, min_samples_leaf=3, min_samples_split=2, score=0.3387858302640175, total=   0.3s\n",
      "[CV] criterion=gini, max_depth=5, min_samples_leaf=3, min_samples_split=2 \n",
      "[CV]  criterion=gini, max_depth=5, min_samples_leaf=3, min_samples_split=2, score=0.32138258025715016, total=   0.3s\n",
      "[CV] criterion=gini, max_depth=5, min_samples_leaf=3, min_samples_split=5 \n",
      "[CV]  criterion=gini, max_depth=5, min_samples_leaf=3, min_samples_split=5, score=0.32753774859038015, total=   0.3s\n",
      "[CV] criterion=gini, max_depth=5, min_samples_leaf=3, min_samples_split=5 \n",
      "[CV]  criterion=gini, max_depth=5, min_samples_leaf=3, min_samples_split=5, score=0.3387858302640175, total=   0.3s\n",
      "[CV] criterion=gini, max_depth=5, min_samples_leaf=3, min_samples_split=5 \n",
      "[CV]  criterion=gini, max_depth=5, min_samples_leaf=3, min_samples_split=5, score=0.32138258025715016, total=   0.3s\n",
      "[CV] criterion=gini, max_depth=5, min_samples_leaf=3, min_samples_split=10 \n",
      "[CV]  criterion=gini, max_depth=5, min_samples_leaf=3, min_samples_split=10, score=0.3275295707932469, total=   0.3s\n",
      "[CV] criterion=gini, max_depth=5, min_samples_leaf=3, min_samples_split=10 \n",
      "[CV]  criterion=gini, max_depth=5, min_samples_leaf=3, min_samples_split=10, score=0.3387858302640175, total=   0.3s\n",
      "[CV] criterion=gini, max_depth=5, min_samples_leaf=3, min_samples_split=10 \n",
      "[CV]  criterion=gini, max_depth=5, min_samples_leaf=3, min_samples_split=10, score=0.32138258025715016, total=   0.3s\n",
      "[CV] criterion=gini, max_depth=5, min_samples_leaf=4, min_samples_split=2 \n",
      "[CV]  criterion=gini, max_depth=5, min_samples_leaf=4, min_samples_split=2, score=0.3275295707932469, total=   0.3s\n",
      "[CV] criterion=gini, max_depth=5, min_samples_leaf=4, min_samples_split=2 \n",
      "[CV]  criterion=gini, max_depth=5, min_samples_leaf=4, min_samples_split=2, score=0.3387858302640175, total=   0.3s\n",
      "[CV] criterion=gini, max_depth=5, min_samples_leaf=4, min_samples_split=2 \n",
      "[CV]  criterion=gini, max_depth=5, min_samples_leaf=4, min_samples_split=2, score=0.32138258025715016, total=   0.3s\n",
      "[CV] criterion=gini, max_depth=5, min_samples_leaf=4, min_samples_split=5 \n",
      "[CV]  criterion=gini, max_depth=5, min_samples_leaf=4, min_samples_split=5, score=0.3275295707932469, total=   0.3s\n",
      "[CV] criterion=gini, max_depth=5, min_samples_leaf=4, min_samples_split=5 \n",
      "[CV]  criterion=gini, max_depth=5, min_samples_leaf=4, min_samples_split=5, score=0.3387858302640175, total=   0.4s\n",
      "[CV] criterion=gini, max_depth=5, min_samples_leaf=4, min_samples_split=5 \n",
      "[CV]  criterion=gini, max_depth=5, min_samples_leaf=4, min_samples_split=5, score=0.32138258025715016, total=   0.3s\n",
      "[CV] criterion=gini, max_depth=5, min_samples_leaf=4, min_samples_split=10 \n",
      "[CV]  criterion=gini, max_depth=5, min_samples_leaf=4, min_samples_split=10, score=0.3275295707932469, total=   0.3s\n",
      "[CV] criterion=gini, max_depth=5, min_samples_leaf=4, min_samples_split=10 \n",
      "[CV]  criterion=gini, max_depth=5, min_samples_leaf=4, min_samples_split=10, score=0.3387858302640175, total=   0.6s\n",
      "[CV] criterion=gini, max_depth=5, min_samples_leaf=4, min_samples_split=10 \n",
      "[CV]  criterion=gini, max_depth=5, min_samples_leaf=4, min_samples_split=10, score=0.32138258025715016, total=   0.4s\n",
      "[CV] criterion=gini, max_depth=5, min_samples_leaf=5, min_samples_split=2 \n",
      "[CV]  criterion=gini, max_depth=5, min_samples_leaf=5, min_samples_split=2, score=0.3275083073844684, total=   0.4s\n",
      "[CV] criterion=gini, max_depth=5, min_samples_leaf=5, min_samples_split=2 \n",
      "[CV]  criterion=gini, max_depth=5, min_samples_leaf=5, min_samples_split=2, score=0.3387858302640175, total=   0.4s\n",
      "[CV] criterion=gini, max_depth=5, min_samples_leaf=5, min_samples_split=2 \n",
      "[CV]  criterion=gini, max_depth=5, min_samples_leaf=5, min_samples_split=2, score=0.32138258025715016, total=   0.5s\n",
      "[CV] criterion=gini, max_depth=5, min_samples_leaf=5, min_samples_split=5 \n",
      "[CV]  criterion=gini, max_depth=5, min_samples_leaf=5, min_samples_split=5, score=0.3275083073844684, total=   0.4s\n",
      "[CV] criterion=gini, max_depth=5, min_samples_leaf=5, min_samples_split=5 \n"
     ]
    },
    {
     "name": "stdout",
     "output_type": "stream",
     "text": [
      "[CV]  criterion=gini, max_depth=5, min_samples_leaf=5, min_samples_split=5, score=0.3387858302640175, total=   0.4s\n",
      "[CV] criterion=gini, max_depth=5, min_samples_leaf=5, min_samples_split=5 \n",
      "[CV]  criterion=gini, max_depth=5, min_samples_leaf=5, min_samples_split=5, score=0.32138258025715016, total=   0.6s\n",
      "[CV] criterion=gini, max_depth=5, min_samples_leaf=5, min_samples_split=10 \n",
      "[CV]  criterion=gini, max_depth=5, min_samples_leaf=5, min_samples_split=10, score=0.3275083073844684, total=   0.5s\n",
      "[CV] criterion=gini, max_depth=5, min_samples_leaf=5, min_samples_split=10 \n",
      "[CV]  criterion=gini, max_depth=5, min_samples_leaf=5, min_samples_split=10, score=0.3387858302640175, total=   0.4s\n",
      "[CV] criterion=gini, max_depth=5, min_samples_leaf=5, min_samples_split=10 \n",
      "[CV]  criterion=gini, max_depth=5, min_samples_leaf=5, min_samples_split=10, score=0.32138258025715016, total=   0.3s\n",
      "[CV] criterion=gini, max_depth=5, min_samples_leaf=6, min_samples_split=2 \n",
      "[CV]  criterion=gini, max_depth=5, min_samples_leaf=6, min_samples_split=2, score=0.3275083073844684, total=   0.3s\n",
      "[CV] criterion=gini, max_depth=5, min_samples_leaf=6, min_samples_split=2 \n",
      "[CV]  criterion=gini, max_depth=5, min_samples_leaf=6, min_samples_split=2, score=0.3387858302640175, total=   0.3s\n",
      "[CV] criterion=gini, max_depth=5, min_samples_leaf=6, min_samples_split=2 \n",
      "[CV]  criterion=gini, max_depth=5, min_samples_leaf=6, min_samples_split=2, score=0.32138258025715016, total=   0.3s\n",
      "[CV] criterion=gini, max_depth=5, min_samples_leaf=6, min_samples_split=5 \n",
      "[CV]  criterion=gini, max_depth=5, min_samples_leaf=6, min_samples_split=5, score=0.3275083073844684, total=   0.3s\n",
      "[CV] criterion=gini, max_depth=5, min_samples_leaf=6, min_samples_split=5 \n",
      "[CV]  criterion=gini, max_depth=5, min_samples_leaf=6, min_samples_split=5, score=0.3387858302640175, total=   0.3s\n",
      "[CV] criterion=gini, max_depth=5, min_samples_leaf=6, min_samples_split=5 \n",
      "[CV]  criterion=gini, max_depth=5, min_samples_leaf=6, min_samples_split=5, score=0.32138258025715016, total=   0.4s\n",
      "[CV] criterion=gini, max_depth=5, min_samples_leaf=6, min_samples_split=10 \n",
      "[CV]  criterion=gini, max_depth=5, min_samples_leaf=6, min_samples_split=10, score=0.3275083073844684, total=   0.4s\n",
      "[CV] criterion=gini, max_depth=5, min_samples_leaf=6, min_samples_split=10 \n",
      "[CV]  criterion=gini, max_depth=5, min_samples_leaf=6, min_samples_split=10, score=0.3387858302640175, total=   0.3s\n",
      "[CV] criterion=gini, max_depth=5, min_samples_leaf=6, min_samples_split=10 \n",
      "[CV]  criterion=gini, max_depth=5, min_samples_leaf=6, min_samples_split=10, score=0.32138258025715016, total=   0.3s\n",
      "[CV] criterion=gini, max_depth=6, min_samples_leaf=1, min_samples_split=2 \n",
      "[CV]  criterion=gini, max_depth=6, min_samples_leaf=1, min_samples_split=2, score=0.3243221157798902, total=   0.4s\n",
      "[CV] criterion=gini, max_depth=6, min_samples_leaf=1, min_samples_split=2 \n",
      "[CV]  criterion=gini, max_depth=6, min_samples_leaf=1, min_samples_split=2, score=0.3400931358051292, total=   0.4s\n",
      "[CV] criterion=gini, max_depth=6, min_samples_leaf=1, min_samples_split=2 \n",
      "[CV]  criterion=gini, max_depth=6, min_samples_leaf=1, min_samples_split=2, score=0.35721859484783663, total=   0.3s\n",
      "[CV] criterion=gini, max_depth=6, min_samples_leaf=1, min_samples_split=5 \n",
      "[CV]  criterion=gini, max_depth=6, min_samples_leaf=1, min_samples_split=5, score=0.32433016090252714, total=   0.4s\n",
      "[CV] criterion=gini, max_depth=6, min_samples_leaf=1, min_samples_split=5 \n",
      "[CV]  criterion=gini, max_depth=6, min_samples_leaf=1, min_samples_split=5, score=0.3400931358051292, total=   0.3s\n",
      "[CV] criterion=gini, max_depth=6, min_samples_leaf=1, min_samples_split=5 \n",
      "[CV]  criterion=gini, max_depth=6, min_samples_leaf=1, min_samples_split=5, score=0.35721859484783663, total=   0.3s\n",
      "[CV] criterion=gini, max_depth=6, min_samples_leaf=1, min_samples_split=10 \n",
      "[CV]  criterion=gini, max_depth=6, min_samples_leaf=1, min_samples_split=10, score=0.32433016090252714, total=   0.3s\n",
      "[CV] criterion=gini, max_depth=6, min_samples_leaf=1, min_samples_split=10 \n",
      "[CV]  criterion=gini, max_depth=6, min_samples_leaf=1, min_samples_split=10, score=0.3400931358051292, total=   0.4s\n",
      "[CV] criterion=gini, max_depth=6, min_samples_leaf=1, min_samples_split=10 \n",
      "[CV]  criterion=gini, max_depth=6, min_samples_leaf=1, min_samples_split=10, score=0.35733602858272473, total=   0.5s\n",
      "[CV] criterion=gini, max_depth=6, min_samples_leaf=2, min_samples_split=2 \n",
      "[CV]  criterion=gini, max_depth=6, min_samples_leaf=2, min_samples_split=2, score=0.32433016090252714, total=   0.4s\n",
      "[CV] criterion=gini, max_depth=6, min_samples_leaf=2, min_samples_split=2 \n",
      "[CV]  criterion=gini, max_depth=6, min_samples_leaf=2, min_samples_split=2, score=0.3400931358051292, total=   0.4s\n",
      "[CV] criterion=gini, max_depth=6, min_samples_leaf=2, min_samples_split=2 \n",
      "[CV]  criterion=gini, max_depth=6, min_samples_leaf=2, min_samples_split=2, score=0.35721952730031975, total=   0.3s\n",
      "[CV] criterion=gini, max_depth=6, min_samples_leaf=2, min_samples_split=5 \n",
      "[CV]  criterion=gini, max_depth=6, min_samples_leaf=2, min_samples_split=5, score=0.32433016090252714, total=   0.3s\n",
      "[CV] criterion=gini, max_depth=6, min_samples_leaf=2, min_samples_split=5 \n",
      "[CV]  criterion=gini, max_depth=6, min_samples_leaf=2, min_samples_split=5, score=0.3400931358051292, total=   0.3s\n",
      "[CV] criterion=gini, max_depth=6, min_samples_leaf=2, min_samples_split=5 \n",
      "[CV]  criterion=gini, max_depth=6, min_samples_leaf=2, min_samples_split=5, score=0.35721952730031975, total=   0.3s\n",
      "[CV] criterion=gini, max_depth=6, min_samples_leaf=2, min_samples_split=10 \n",
      "[CV]  criterion=gini, max_depth=6, min_samples_leaf=2, min_samples_split=10, score=0.32433016090252714, total=   0.4s\n",
      "[CV] criterion=gini, max_depth=6, min_samples_leaf=2, min_samples_split=10 \n",
      "[CV]  criterion=gini, max_depth=6, min_samples_leaf=2, min_samples_split=10, score=0.3400931358051292, total=   0.3s\n",
      "[CV] criterion=gini, max_depth=6, min_samples_leaf=2, min_samples_split=10 \n",
      "[CV]  criterion=gini, max_depth=6, min_samples_leaf=2, min_samples_split=10, score=0.35721952730031975, total=   0.3s\n",
      "[CV] criterion=gini, max_depth=6, min_samples_leaf=3, min_samples_split=2 \n",
      "[CV]  criterion=gini, max_depth=6, min_samples_leaf=3, min_samples_split=2, score=0.3243221157798902, total=   0.4s\n",
      "[CV] criterion=gini, max_depth=6, min_samples_leaf=3, min_samples_split=2 \n",
      "[CV]  criterion=gini, max_depth=6, min_samples_leaf=3, min_samples_split=2, score=0.3400931358051292, total=   0.3s\n",
      "[CV] criterion=gini, max_depth=6, min_samples_leaf=3, min_samples_split=2 \n",
      "[CV]  criterion=gini, max_depth=6, min_samples_leaf=3, min_samples_split=2, score=0.35721952730031975, total=   0.3s\n",
      "[CV] criterion=gini, max_depth=6, min_samples_leaf=3, min_samples_split=5 \n",
      "[CV]  criterion=gini, max_depth=6, min_samples_leaf=3, min_samples_split=5, score=0.3243221157798902, total=   0.3s\n",
      "[CV] criterion=gini, max_depth=6, min_samples_leaf=3, min_samples_split=5 \n",
      "[CV]  criterion=gini, max_depth=6, min_samples_leaf=3, min_samples_split=5, score=0.3400931358051292, total=   0.3s\n",
      "[CV] criterion=gini, max_depth=6, min_samples_leaf=3, min_samples_split=5 \n",
      "[CV]  criterion=gini, max_depth=6, min_samples_leaf=3, min_samples_split=5, score=0.35721952730031975, total=   0.3s\n",
      "[CV] criterion=gini, max_depth=6, min_samples_leaf=3, min_samples_split=10 \n",
      "[CV]  criterion=gini, max_depth=6, min_samples_leaf=3, min_samples_split=10, score=0.3243221157798902, total=   0.3s\n",
      "[CV] criterion=gini, max_depth=6, min_samples_leaf=3, min_samples_split=10 \n",
      "[CV]  criterion=gini, max_depth=6, min_samples_leaf=3, min_samples_split=10, score=0.3400931358051292, total=   0.3s\n",
      "[CV] criterion=gini, max_depth=6, min_samples_leaf=3, min_samples_split=10 \n",
      "[CV]  criterion=gini, max_depth=6, min_samples_leaf=3, min_samples_split=10, score=0.35721952730031975, total=   0.3s\n",
      "[CV] criterion=gini, max_depth=6, min_samples_leaf=4, min_samples_split=2 \n",
      "[CV]  criterion=gini, max_depth=6, min_samples_leaf=4, min_samples_split=2, score=0.3243221157798902, total=   0.3s\n",
      "[CV] criterion=gini, max_depth=6, min_samples_leaf=4, min_samples_split=2 \n",
      "[CV]  criterion=gini, max_depth=6, min_samples_leaf=4, min_samples_split=2, score=0.3400931358051292, total=   0.3s\n",
      "[CV] criterion=gini, max_depth=6, min_samples_leaf=4, min_samples_split=2 \n"
     ]
    },
    {
     "name": "stdout",
     "output_type": "stream",
     "text": [
      "[CV]  criterion=gini, max_depth=6, min_samples_leaf=4, min_samples_split=2, score=0.35721952730031975, total=   0.3s\n",
      "[CV] criterion=gini, max_depth=6, min_samples_leaf=4, min_samples_split=5 \n",
      "[CV]  criterion=gini, max_depth=6, min_samples_leaf=4, min_samples_split=5, score=0.3243140714642196, total=   0.3s\n",
      "[CV] criterion=gini, max_depth=6, min_samples_leaf=4, min_samples_split=5 \n",
      "[CV]  criterion=gini, max_depth=6, min_samples_leaf=4, min_samples_split=5, score=0.3400931358051292, total=   0.3s\n",
      "[CV] criterion=gini, max_depth=6, min_samples_leaf=4, min_samples_split=5 \n",
      "[CV]  criterion=gini, max_depth=6, min_samples_leaf=4, min_samples_split=5, score=0.35721952730031975, total=   0.4s\n",
      "[CV] criterion=gini, max_depth=6, min_samples_leaf=4, min_samples_split=10 \n",
      "[CV]  criterion=gini, max_depth=6, min_samples_leaf=4, min_samples_split=10, score=0.3243140714642196, total=   0.3s\n",
      "[CV] criterion=gini, max_depth=6, min_samples_leaf=4, min_samples_split=10 \n",
      "[CV]  criterion=gini, max_depth=6, min_samples_leaf=4, min_samples_split=10, score=0.3400931358051292, total=   0.3s\n",
      "[CV] criterion=gini, max_depth=6, min_samples_leaf=4, min_samples_split=10 \n",
      "[CV]  criterion=gini, max_depth=6, min_samples_leaf=4, min_samples_split=10, score=0.35721952730031975, total=   0.3s\n",
      "[CV] criterion=gini, max_depth=6, min_samples_leaf=5, min_samples_split=2 \n",
      "[CV]  criterion=gini, max_depth=6, min_samples_leaf=5, min_samples_split=2, score=0.3242311882936482, total=   0.3s\n",
      "[CV] criterion=gini, max_depth=6, min_samples_leaf=5, min_samples_split=2 \n",
      "[CV]  criterion=gini, max_depth=6, min_samples_leaf=5, min_samples_split=2, score=0.3400931358051292, total=   0.3s\n",
      "[CV] criterion=gini, max_depth=6, min_samples_leaf=5, min_samples_split=2 \n",
      "[CV]  criterion=gini, max_depth=6, min_samples_leaf=5, min_samples_split=2, score=0.35721859484783663, total=   0.3s\n",
      "[CV] criterion=gini, max_depth=6, min_samples_leaf=5, min_samples_split=5 \n",
      "[CV]  criterion=gini, max_depth=6, min_samples_leaf=5, min_samples_split=5, score=0.3242311882936482, total=   0.4s\n",
      "[CV] criterion=gini, max_depth=6, min_samples_leaf=5, min_samples_split=5 \n",
      "[CV]  criterion=gini, max_depth=6, min_samples_leaf=5, min_samples_split=5, score=0.3400931358051292, total=   0.4s\n",
      "[CV] criterion=gini, max_depth=6, min_samples_leaf=5, min_samples_split=5 \n",
      "[CV]  criterion=gini, max_depth=6, min_samples_leaf=5, min_samples_split=5, score=0.35721859484783663, total=   0.4s\n",
      "[CV] criterion=gini, max_depth=6, min_samples_leaf=5, min_samples_split=10 \n",
      "[CV]  criterion=gini, max_depth=6, min_samples_leaf=5, min_samples_split=10, score=0.3242311882936482, total=   0.4s\n",
      "[CV] criterion=gini, max_depth=6, min_samples_leaf=5, min_samples_split=10 \n",
      "[CV]  criterion=gini, max_depth=6, min_samples_leaf=5, min_samples_split=10, score=0.3400931358051292, total=   0.4s\n",
      "[CV] criterion=gini, max_depth=6, min_samples_leaf=5, min_samples_split=10 \n",
      "[CV]  criterion=gini, max_depth=6, min_samples_leaf=5, min_samples_split=10, score=0.35721859484783663, total=   0.3s\n",
      "[CV] criterion=gini, max_depth=6, min_samples_leaf=6, min_samples_split=2 \n",
      "[CV]  criterion=gini, max_depth=6, min_samples_leaf=6, min_samples_split=2, score=0.3241908870744294, total=   0.3s\n",
      "[CV] criterion=gini, max_depth=6, min_samples_leaf=6, min_samples_split=2 \n",
      "[CV]  criterion=gini, max_depth=6, min_samples_leaf=6, min_samples_split=2, score=0.3400931358051292, total=   0.4s\n",
      "[CV] criterion=gini, max_depth=6, min_samples_leaf=6, min_samples_split=2 \n",
      "[CV]  criterion=gini, max_depth=6, min_samples_leaf=6, min_samples_split=2, score=0.35727689406423147, total=   0.3s\n",
      "[CV] criterion=gini, max_depth=6, min_samples_leaf=6, min_samples_split=5 \n",
      "[CV]  criterion=gini, max_depth=6, min_samples_leaf=6, min_samples_split=5, score=0.3241908870744294, total=   0.4s\n",
      "[CV] criterion=gini, max_depth=6, min_samples_leaf=6, min_samples_split=5 \n",
      "[CV]  criterion=gini, max_depth=6, min_samples_leaf=6, min_samples_split=5, score=0.3400931358051292, total=   0.3s\n",
      "[CV] criterion=gini, max_depth=6, min_samples_leaf=6, min_samples_split=5 \n",
      "[CV]  criterion=gini, max_depth=6, min_samples_leaf=6, min_samples_split=5, score=0.35727689406423147, total=   0.4s\n",
      "[CV] criterion=gini, max_depth=6, min_samples_leaf=6, min_samples_split=10 \n",
      "[CV]  criterion=gini, max_depth=6, min_samples_leaf=6, min_samples_split=10, score=0.3241908870744294, total=   0.4s\n",
      "[CV] criterion=gini, max_depth=6, min_samples_leaf=6, min_samples_split=10 \n",
      "[CV]  criterion=gini, max_depth=6, min_samples_leaf=6, min_samples_split=10, score=0.3400931358051292, total=   0.4s\n",
      "[CV] criterion=gini, max_depth=6, min_samples_leaf=6, min_samples_split=10 \n",
      "[CV]  criterion=gini, max_depth=6, min_samples_leaf=6, min_samples_split=10, score=0.35727689406423147, total=   0.3s\n",
      "[CV] criterion=entropy, max_depth=None, min_samples_leaf=1, min_samples_split=2 \n",
      "[CV]  criterion=entropy, max_depth=None, min_samples_leaf=1, min_samples_split=2, score=0.3510717330930027, total=   1.7s\n",
      "[CV] criterion=entropy, max_depth=None, min_samples_leaf=1, min_samples_split=2 \n",
      "[CV]  criterion=entropy, max_depth=None, min_samples_leaf=1, min_samples_split=2, score=0.3490049498425896, total=   2.0s\n",
      "[CV] criterion=entropy, max_depth=None, min_samples_leaf=1, min_samples_split=2 \n",
      "[CV]  criterion=entropy, max_depth=None, min_samples_leaf=1, min_samples_split=2, score=0.34759612957471114, total=   1.5s\n",
      "[CV] criterion=entropy, max_depth=None, min_samples_leaf=1, min_samples_split=5 \n",
      "[CV]  criterion=entropy, max_depth=None, min_samples_leaf=1, min_samples_split=5, score=0.34558191720839243, total=   1.7s\n",
      "[CV] criterion=entropy, max_depth=None, min_samples_leaf=1, min_samples_split=5 \n",
      "[CV]  criterion=entropy, max_depth=None, min_samples_leaf=1, min_samples_split=5, score=0.3485600360304268, total=   1.6s\n",
      "[CV] criterion=entropy, max_depth=None, min_samples_leaf=1, min_samples_split=5 \n",
      "[CV]  criterion=entropy, max_depth=None, min_samples_leaf=1, min_samples_split=5, score=0.3474044115237462, total=   1.5s\n",
      "[CV] criterion=entropy, max_depth=None, min_samples_leaf=1, min_samples_split=10 \n",
      "[CV]  criterion=entropy, max_depth=None, min_samples_leaf=1, min_samples_split=10, score=0.3520172662318623, total=   1.6s\n",
      "[CV] criterion=entropy, max_depth=None, min_samples_leaf=1, min_samples_split=10 \n",
      "[CV]  criterion=entropy, max_depth=None, min_samples_leaf=1, min_samples_split=10, score=0.3512385046128468, total=   1.5s\n",
      "[CV] criterion=entropy, max_depth=None, min_samples_leaf=1, min_samples_split=10 \n",
      "[CV]  criterion=entropy, max_depth=None, min_samples_leaf=1, min_samples_split=10, score=0.350314945384637, total=   1.4s\n",
      "[CV] criterion=entropy, max_depth=None, min_samples_leaf=2, min_samples_split=2 \n",
      "[CV]  criterion=entropy, max_depth=None, min_samples_leaf=2, min_samples_split=2, score=0.3516651312831877, total=   1.6s\n",
      "[CV] criterion=entropy, max_depth=None, min_samples_leaf=2, min_samples_split=2 \n",
      "[CV]  criterion=entropy, max_depth=None, min_samples_leaf=2, min_samples_split=2, score=0.3483054310013183, total=   1.5s\n",
      "[CV] criterion=entropy, max_depth=None, min_samples_leaf=2, min_samples_split=2 \n",
      "[CV]  criterion=entropy, max_depth=None, min_samples_leaf=2, min_samples_split=2, score=0.3502578504456235, total=   1.4s\n",
      "[CV] criterion=entropy, max_depth=None, min_samples_leaf=2, min_samples_split=5 \n",
      "[CV]  criterion=entropy, max_depth=None, min_samples_leaf=2, min_samples_split=5, score=0.3492076756533147, total=   2.0s\n",
      "[CV] criterion=entropy, max_depth=None, min_samples_leaf=2, min_samples_split=5 \n",
      "[CV]  criterion=entropy, max_depth=None, min_samples_leaf=2, min_samples_split=5, score=0.3514103170102553, total=   1.6s\n",
      "[CV] criterion=entropy, max_depth=None, min_samples_leaf=2, min_samples_split=5 \n",
      "[CV]  criterion=entropy, max_depth=None, min_samples_leaf=2, min_samples_split=5, score=0.3469022489686551, total=   1.4s\n",
      "[CV] criterion=entropy, max_depth=None, min_samples_leaf=2, min_samples_split=10 \n",
      "[CV]  criterion=entropy, max_depth=None, min_samples_leaf=2, min_samples_split=10, score=0.3553535698254618, total=   1.5s\n",
      "[CV] criterion=entropy, max_depth=None, min_samples_leaf=2, min_samples_split=10 \n",
      "[CV]  criterion=entropy, max_depth=None, min_samples_leaf=2, min_samples_split=10, score=0.349885715832517, total=   1.6s\n",
      "[CV] criterion=entropy, max_depth=None, min_samples_leaf=2, min_samples_split=10 \n"
     ]
    },
    {
     "name": "stdout",
     "output_type": "stream",
     "text": [
      "[CV]  criterion=entropy, max_depth=None, min_samples_leaf=2, min_samples_split=10, score=0.350341610703018, total=   1.5s\n",
      "[CV] criterion=entropy, max_depth=None, min_samples_leaf=3, min_samples_split=2 \n",
      "[CV]  criterion=entropy, max_depth=None, min_samples_leaf=3, min_samples_split=2, score=0.34825950101290554, total=   1.5s\n",
      "[CV] criterion=entropy, max_depth=None, min_samples_leaf=3, min_samples_split=2 \n",
      "[CV]  criterion=entropy, max_depth=None, min_samples_leaf=3, min_samples_split=2, score=0.35073114688094265, total=   1.5s\n",
      "[CV] criterion=entropy, max_depth=None, min_samples_leaf=3, min_samples_split=2 \n",
      "[CV]  criterion=entropy, max_depth=None, min_samples_leaf=3, min_samples_split=2, score=0.3512865351114718, total=   1.4s\n",
      "[CV] criterion=entropy, max_depth=None, min_samples_leaf=3, min_samples_split=5 \n",
      "[CV]  criterion=entropy, max_depth=None, min_samples_leaf=3, min_samples_split=5, score=0.34915066312158816, total=   1.5s\n",
      "[CV] criterion=entropy, max_depth=None, min_samples_leaf=3, min_samples_split=5 \n",
      "[CV]  criterion=entropy, max_depth=None, min_samples_leaf=3, min_samples_split=5, score=0.35001598314844246, total=   1.5s\n",
      "[CV] criterion=entropy, max_depth=None, min_samples_leaf=3, min_samples_split=5 \n",
      "[CV]  criterion=entropy, max_depth=None, min_samples_leaf=3, min_samples_split=5, score=0.3501234950509485, total=   1.4s\n",
      "[CV] criterion=entropy, max_depth=None, min_samples_leaf=3, min_samples_split=10 \n",
      "[CV]  criterion=entropy, max_depth=None, min_samples_leaf=3, min_samples_split=10, score=0.35401011814310834, total=   1.6s\n",
      "[CV] criterion=entropy, max_depth=None, min_samples_leaf=3, min_samples_split=10 \n",
      "[CV]  criterion=entropy, max_depth=None, min_samples_leaf=3, min_samples_split=10, score=0.3510323746721223, total=   1.5s\n",
      "[CV] criterion=entropy, max_depth=None, min_samples_leaf=3, min_samples_split=10 \n",
      "[CV]  criterion=entropy, max_depth=None, min_samples_leaf=3, min_samples_split=10, score=0.35225695599304757, total=   1.4s\n",
      "[CV] criterion=entropy, max_depth=None, min_samples_leaf=4, min_samples_split=2 \n",
      "[CV]  criterion=entropy, max_depth=None, min_samples_leaf=4, min_samples_split=2, score=0.35149985388980026, total=   1.5s\n",
      "[CV] criterion=entropy, max_depth=None, min_samples_leaf=4, min_samples_split=2 \n",
      "[CV]  criterion=entropy, max_depth=None, min_samples_leaf=4, min_samples_split=2, score=0.35261830535237615, total=   1.4s\n",
      "[CV] criterion=entropy, max_depth=None, min_samples_leaf=4, min_samples_split=2 \n",
      "[CV]  criterion=entropy, max_depth=None, min_samples_leaf=4, min_samples_split=2, score=0.35070287290386926, total=   1.4s\n",
      "[CV] criterion=entropy, max_depth=None, min_samples_leaf=4, min_samples_split=5 \n",
      "[CV]  criterion=entropy, max_depth=None, min_samples_leaf=4, min_samples_split=5, score=0.35229790199002614, total=   1.6s\n",
      "[CV] criterion=entropy, max_depth=None, min_samples_leaf=4, min_samples_split=5 \n",
      "[CV]  criterion=entropy, max_depth=None, min_samples_leaf=4, min_samples_split=5, score=0.3538046630767517, total=   1.5s\n",
      "[CV] criterion=entropy, max_depth=None, min_samples_leaf=4, min_samples_split=5 \n",
      "[CV]  criterion=entropy, max_depth=None, min_samples_leaf=4, min_samples_split=5, score=0.35114124150454046, total=   1.4s\n",
      "[CV] criterion=entropy, max_depth=None, min_samples_leaf=4, min_samples_split=10 \n",
      "[CV]  criterion=entropy, max_depth=None, min_samples_leaf=4, min_samples_split=10, score=0.3554852911205697, total=   1.5s\n",
      "[CV] criterion=entropy, max_depth=None, min_samples_leaf=4, min_samples_split=10 \n",
      "[CV]  criterion=entropy, max_depth=None, min_samples_leaf=4, min_samples_split=10, score=0.3522010038718761, total=   1.4s\n",
      "[CV] criterion=entropy, max_depth=None, min_samples_leaf=4, min_samples_split=10 \n",
      "[CV]  criterion=entropy, max_depth=None, min_samples_leaf=4, min_samples_split=10, score=0.35215087634474496, total=   1.4s\n",
      "[CV] criterion=entropy, max_depth=None, min_samples_leaf=5, min_samples_split=2 \n",
      "[CV]  criterion=entropy, max_depth=None, min_samples_leaf=5, min_samples_split=2, score=0.36007972427674434, total=   1.5s\n",
      "[CV] criterion=entropy, max_depth=None, min_samples_leaf=5, min_samples_split=2 \n",
      "[CV]  criterion=entropy, max_depth=None, min_samples_leaf=5, min_samples_split=2, score=0.3593768868808445, total=   1.3s\n",
      "[CV] criterion=entropy, max_depth=None, min_samples_leaf=5, min_samples_split=2 \n",
      "[CV]  criterion=entropy, max_depth=None, min_samples_leaf=5, min_samples_split=2, score=0.3570160280324006, total=   1.3s\n",
      "[CV] criterion=entropy, max_depth=None, min_samples_leaf=5, min_samples_split=5 \n",
      "[CV]  criterion=entropy, max_depth=None, min_samples_leaf=5, min_samples_split=5, score=0.3605425562423809, total=   1.5s\n",
      "[CV] criterion=entropy, max_depth=None, min_samples_leaf=5, min_samples_split=5 \n",
      "[CV]  criterion=entropy, max_depth=None, min_samples_leaf=5, min_samples_split=5, score=0.358595028454944, total=   1.4s\n",
      "[CV] criterion=entropy, max_depth=None, min_samples_leaf=5, min_samples_split=5 \n",
      "[CV]  criterion=entropy, max_depth=None, min_samples_leaf=5, min_samples_split=5, score=0.35284968910633613, total=   1.3s\n",
      "[CV] criterion=entropy, max_depth=None, min_samples_leaf=5, min_samples_split=10 \n",
      "[CV]  criterion=entropy, max_depth=None, min_samples_leaf=5, min_samples_split=10, score=0.3582904551203396, total=   1.4s\n",
      "[CV] criterion=entropy, max_depth=None, min_samples_leaf=5, min_samples_split=10 \n",
      "[CV]  criterion=entropy, max_depth=None, min_samples_leaf=5, min_samples_split=10, score=0.3564835874976225, total=   1.4s\n",
      "[CV] criterion=entropy, max_depth=None, min_samples_leaf=5, min_samples_split=10 \n",
      "[CV]  criterion=entropy, max_depth=None, min_samples_leaf=5, min_samples_split=10, score=0.355620746335294, total=   1.4s\n",
      "[CV] criterion=entropy, max_depth=None, min_samples_leaf=6, min_samples_split=2 \n",
      "[CV]  criterion=entropy, max_depth=None, min_samples_leaf=6, min_samples_split=2, score=0.3583242702474752, total=   1.4s\n",
      "[CV] criterion=entropy, max_depth=None, min_samples_leaf=6, min_samples_split=2 \n",
      "[CV]  criterion=entropy, max_depth=None, min_samples_leaf=6, min_samples_split=2, score=0.36015110533940303, total=   1.5s\n",
      "[CV] criterion=entropy, max_depth=None, min_samples_leaf=6, min_samples_split=2 \n",
      "[CV]  criterion=entropy, max_depth=None, min_samples_leaf=6, min_samples_split=2, score=0.3558272593178767, total=   1.3s\n",
      "[CV] criterion=entropy, max_depth=None, min_samples_leaf=6, min_samples_split=5 \n",
      "[CV]  criterion=entropy, max_depth=None, min_samples_leaf=6, min_samples_split=5, score=0.3589566226940227, total=   1.4s\n",
      "[CV] criterion=entropy, max_depth=None, min_samples_leaf=6, min_samples_split=5 \n",
      "[CV]  criterion=entropy, max_depth=None, min_samples_leaf=6, min_samples_split=5, score=0.3604964410030032, total=   1.3s\n",
      "[CV] criterion=entropy, max_depth=None, min_samples_leaf=6, min_samples_split=5 \n",
      "[CV]  criterion=entropy, max_depth=None, min_samples_leaf=6, min_samples_split=5, score=0.35625310689377737, total=   1.3s\n",
      "[CV] criterion=entropy, max_depth=None, min_samples_leaf=6, min_samples_split=10 \n",
      "[CV]  criterion=entropy, max_depth=None, min_samples_leaf=6, min_samples_split=10, score=0.3597781722910356, total=   1.4s\n",
      "[CV] criterion=entropy, max_depth=None, min_samples_leaf=6, min_samples_split=10 \n",
      "[CV]  criterion=entropy, max_depth=None, min_samples_leaf=6, min_samples_split=10, score=0.3614050498536647, total=   1.3s\n",
      "[CV] criterion=entropy, max_depth=None, min_samples_leaf=6, min_samples_split=10 \n",
      "[CV]  criterion=entropy, max_depth=None, min_samples_leaf=6, min_samples_split=10, score=0.35456932773199346, total=   1.3s\n",
      "[CV] criterion=entropy, max_depth=2, min_samples_leaf=1, min_samples_split=2 \n",
      "[CV]  criterion=entropy, max_depth=2, min_samples_leaf=1, min_samples_split=2, score=0.3112590113023945, total=   0.2s\n",
      "[CV] criterion=entropy, max_depth=2, min_samples_leaf=1, min_samples_split=2 \n"
     ]
    },
    {
     "name": "stderr",
     "output_type": "stream",
     "text": [
      "/anaconda3/lib/python3.7/site-packages/sklearn/metrics/classification.py:1143: UndefinedMetricWarning: F-score is ill-defined and being set to 0.0 in labels with no predicted samples.\n",
      "  'precision', 'predicted', average, warn_for)\n",
      "/anaconda3/lib/python3.7/site-packages/sklearn/metrics/classification.py:1143: UndefinedMetricWarning: F-score is ill-defined and being set to 0.0 in labels with no predicted samples.\n",
      "  'precision', 'predicted', average, warn_for)\n",
      "/anaconda3/lib/python3.7/site-packages/sklearn/metrics/classification.py:1143: UndefinedMetricWarning: F-score is ill-defined and being set to 0.0 in labels with no predicted samples.\n",
      "  'precision', 'predicted', average, warn_for)\n",
      "/anaconda3/lib/python3.7/site-packages/sklearn/metrics/classification.py:1143: UndefinedMetricWarning: F-score is ill-defined and being set to 0.0 in labels with no predicted samples.\n",
      "  'precision', 'predicted', average, warn_for)\n",
      "/anaconda3/lib/python3.7/site-packages/sklearn/metrics/classification.py:1143: UndefinedMetricWarning: F-score is ill-defined and being set to 0.0 in labels with no predicted samples.\n",
      "  'precision', 'predicted', average, warn_for)\n",
      "/anaconda3/lib/python3.7/site-packages/sklearn/metrics/classification.py:1143: UndefinedMetricWarning: F-score is ill-defined and being set to 0.0 in labels with no predicted samples.\n",
      "  'precision', 'predicted', average, warn_for)\n"
     ]
    },
    {
     "name": "stdout",
     "output_type": "stream",
     "text": [
      "[CV]  criterion=entropy, max_depth=2, min_samples_leaf=1, min_samples_split=2, score=0.3207236109344786, total=   0.2s\n",
      "[CV] criterion=entropy, max_depth=2, min_samples_leaf=1, min_samples_split=2 \n",
      "[CV]  criterion=entropy, max_depth=2, min_samples_leaf=1, min_samples_split=2, score=0.30934550234235053, total=   0.2s\n",
      "[CV] criterion=entropy, max_depth=2, min_samples_leaf=1, min_samples_split=5 \n",
      "[CV]  criterion=entropy, max_depth=2, min_samples_leaf=1, min_samples_split=5, score=0.3112590113023945, total=   0.2s\n",
      "[CV] criterion=entropy, max_depth=2, min_samples_leaf=1, min_samples_split=5 "
     ]
    },
    {
     "name": "stderr",
     "output_type": "stream",
     "text": [
      "/anaconda3/lib/python3.7/site-packages/sklearn/metrics/classification.py:1143: UndefinedMetricWarning: F-score is ill-defined and being set to 0.0 in labels with no predicted samples.\n",
      "  'precision', 'predicted', average, warn_for)\n",
      "/anaconda3/lib/python3.7/site-packages/sklearn/metrics/classification.py:1143: UndefinedMetricWarning: F-score is ill-defined and being set to 0.0 in labels with no predicted samples.\n",
      "  'precision', 'predicted', average, warn_for)\n",
      "/anaconda3/lib/python3.7/site-packages/sklearn/metrics/classification.py:1143: UndefinedMetricWarning: F-score is ill-defined and being set to 0.0 in labels with no predicted samples.\n",
      "  'precision', 'predicted', average, warn_for)\n"
     ]
    },
    {
     "name": "stdout",
     "output_type": "stream",
     "text": [
      "\n",
      "[CV]  criterion=entropy, max_depth=2, min_samples_leaf=1, min_samples_split=5, score=0.3207236109344786, total=   0.2s\n",
      "[CV] criterion=entropy, max_depth=2, min_samples_leaf=1, min_samples_split=5 \n"
     ]
    },
    {
     "name": "stderr",
     "output_type": "stream",
     "text": [
      "/anaconda3/lib/python3.7/site-packages/sklearn/metrics/classification.py:1143: UndefinedMetricWarning: F-score is ill-defined and being set to 0.0 in labels with no predicted samples.\n",
      "  'precision', 'predicted', average, warn_for)\n",
      "/anaconda3/lib/python3.7/site-packages/sklearn/metrics/classification.py:1143: UndefinedMetricWarning: F-score is ill-defined and being set to 0.0 in labels with no predicted samples.\n",
      "  'precision', 'predicted', average, warn_for)\n",
      "/anaconda3/lib/python3.7/site-packages/sklearn/metrics/classification.py:1143: UndefinedMetricWarning: F-score is ill-defined and being set to 0.0 in labels with no predicted samples.\n",
      "  'precision', 'predicted', average, warn_for)\n",
      "/anaconda3/lib/python3.7/site-packages/sklearn/metrics/classification.py:1143: UndefinedMetricWarning: F-score is ill-defined and being set to 0.0 in labels with no predicted samples.\n",
      "  'precision', 'predicted', average, warn_for)\n",
      "/anaconda3/lib/python3.7/site-packages/sklearn/metrics/classification.py:1143: UndefinedMetricWarning: F-score is ill-defined and being set to 0.0 in labels with no predicted samples.\n",
      "  'precision', 'predicted', average, warn_for)\n"
     ]
    },
    {
     "name": "stdout",
     "output_type": "stream",
     "text": [
      "[CV]  criterion=entropy, max_depth=2, min_samples_leaf=1, min_samples_split=5, score=0.30934550234235053, total=   0.2s\n",
      "[CV] criterion=entropy, max_depth=2, min_samples_leaf=1, min_samples_split=10 \n",
      "[CV]  criterion=entropy, max_depth=2, min_samples_leaf=1, min_samples_split=10, score=0.3112590113023945, total=   0.2s\n",
      "[CV] criterion=entropy, max_depth=2, min_samples_leaf=1, min_samples_split=10 \n"
     ]
    },
    {
     "name": "stderr",
     "output_type": "stream",
     "text": [
      "/anaconda3/lib/python3.7/site-packages/sklearn/metrics/classification.py:1143: UndefinedMetricWarning: F-score is ill-defined and being set to 0.0 in labels with no predicted samples.\n",
      "  'precision', 'predicted', average, warn_for)\n",
      "/anaconda3/lib/python3.7/site-packages/sklearn/metrics/classification.py:1143: UndefinedMetricWarning: F-score is ill-defined and being set to 0.0 in labels with no predicted samples.\n",
      "  'precision', 'predicted', average, warn_for)\n"
     ]
    },
    {
     "name": "stdout",
     "output_type": "stream",
     "text": [
      "[CV]  criterion=entropy, max_depth=2, min_samples_leaf=1, min_samples_split=10, score=0.3207236109344786, total=   0.2s\n",
      "[CV] criterion=entropy, max_depth=2, min_samples_leaf=1, min_samples_split=10 \n"
     ]
    },
    {
     "name": "stderr",
     "output_type": "stream",
     "text": [
      "/anaconda3/lib/python3.7/site-packages/sklearn/metrics/classification.py:1143: UndefinedMetricWarning: F-score is ill-defined and being set to 0.0 in labels with no predicted samples.\n",
      "  'precision', 'predicted', average, warn_for)\n",
      "/anaconda3/lib/python3.7/site-packages/sklearn/metrics/classification.py:1143: UndefinedMetricWarning: F-score is ill-defined and being set to 0.0 in labels with no predicted samples.\n",
      "  'precision', 'predicted', average, warn_for)\n"
     ]
    },
    {
     "name": "stdout",
     "output_type": "stream",
     "text": [
      "[CV]  criterion=entropy, max_depth=2, min_samples_leaf=1, min_samples_split=10, score=0.30934550234235053, total=   0.2s\n",
      "[CV] criterion=entropy, max_depth=2, min_samples_leaf=2, min_samples_split=2 \n"
     ]
    },
    {
     "name": "stderr",
     "output_type": "stream",
     "text": [
      "/anaconda3/lib/python3.7/site-packages/sklearn/metrics/classification.py:1143: UndefinedMetricWarning: F-score is ill-defined and being set to 0.0 in labels with no predicted samples.\n",
      "  'precision', 'predicted', average, warn_for)\n",
      "/anaconda3/lib/python3.7/site-packages/sklearn/metrics/classification.py:1143: UndefinedMetricWarning: F-score is ill-defined and being set to 0.0 in labels with no predicted samples.\n",
      "  'precision', 'predicted', average, warn_for)\n"
     ]
    },
    {
     "name": "stdout",
     "output_type": "stream",
     "text": [
      "[CV]  criterion=entropy, max_depth=2, min_samples_leaf=2, min_samples_split=2, score=0.3112590113023945, total=   0.2s\n",
      "[CV] criterion=entropy, max_depth=2, min_samples_leaf=2, min_samples_split=2 \n"
     ]
    },
    {
     "name": "stderr",
     "output_type": "stream",
     "text": [
      "/anaconda3/lib/python3.7/site-packages/sklearn/metrics/classification.py:1143: UndefinedMetricWarning: F-score is ill-defined and being set to 0.0 in labels with no predicted samples.\n",
      "  'precision', 'predicted', average, warn_for)\n",
      "/anaconda3/lib/python3.7/site-packages/sklearn/metrics/classification.py:1143: UndefinedMetricWarning: F-score is ill-defined and being set to 0.0 in labels with no predicted samples.\n",
      "  'precision', 'predicted', average, warn_for)\n"
     ]
    },
    {
     "name": "stdout",
     "output_type": "stream",
     "text": [
      "[CV]  criterion=entropy, max_depth=2, min_samples_leaf=2, min_samples_split=2, score=0.3207236109344786, total=   0.2s\n",
      "[CV] criterion=entropy, max_depth=2, min_samples_leaf=2, min_samples_split=2 \n"
     ]
    },
    {
     "name": "stderr",
     "output_type": "stream",
     "text": [
      "/anaconda3/lib/python3.7/site-packages/sklearn/metrics/classification.py:1143: UndefinedMetricWarning: F-score is ill-defined and being set to 0.0 in labels with no predicted samples.\n",
      "  'precision', 'predicted', average, warn_for)\n",
      "/anaconda3/lib/python3.7/site-packages/sklearn/metrics/classification.py:1143: UndefinedMetricWarning: F-score is ill-defined and being set to 0.0 in labels with no predicted samples.\n",
      "  'precision', 'predicted', average, warn_for)\n"
     ]
    },
    {
     "name": "stdout",
     "output_type": "stream",
     "text": [
      "[CV]  criterion=entropy, max_depth=2, min_samples_leaf=2, min_samples_split=2, score=0.30934550234235053, total=   0.2s\n",
      "[CV] criterion=entropy, max_depth=2, min_samples_leaf=2, min_samples_split=5 \n"
     ]
    },
    {
     "name": "stderr",
     "output_type": "stream",
     "text": [
      "/anaconda3/lib/python3.7/site-packages/sklearn/metrics/classification.py:1143: UndefinedMetricWarning: F-score is ill-defined and being set to 0.0 in labels with no predicted samples.\n",
      "  'precision', 'predicted', average, warn_for)\n",
      "/anaconda3/lib/python3.7/site-packages/sklearn/metrics/classification.py:1143: UndefinedMetricWarning: F-score is ill-defined and being set to 0.0 in labels with no predicted samples.\n",
      "  'precision', 'predicted', average, warn_for)\n"
     ]
    },
    {
     "name": "stdout",
     "output_type": "stream",
     "text": [
      "[CV]  criterion=entropy, max_depth=2, min_samples_leaf=2, min_samples_split=5, score=0.3112590113023945, total=   0.2s\n",
      "[CV] criterion=entropy, max_depth=2, min_samples_leaf=2, min_samples_split=5 \n"
     ]
    },
    {
     "name": "stderr",
     "output_type": "stream",
     "text": [
      "/anaconda3/lib/python3.7/site-packages/sklearn/metrics/classification.py:1143: UndefinedMetricWarning: F-score is ill-defined and being set to 0.0 in labels with no predicted samples.\n",
      "  'precision', 'predicted', average, warn_for)\n",
      "/anaconda3/lib/python3.7/site-packages/sklearn/metrics/classification.py:1143: UndefinedMetricWarning: F-score is ill-defined and being set to 0.0 in labels with no predicted samples.\n",
      "  'precision', 'predicted', average, warn_for)\n"
     ]
    },
    {
     "name": "stdout",
     "output_type": "stream",
     "text": [
      "[CV]  criterion=entropy, max_depth=2, min_samples_leaf=2, min_samples_split=5, score=0.3207236109344786, total=   0.2s\n",
      "[CV] criterion=entropy, max_depth=2, min_samples_leaf=2, min_samples_split=5 \n"
     ]
    },
    {
     "name": "stderr",
     "output_type": "stream",
     "text": [
      "/anaconda3/lib/python3.7/site-packages/sklearn/metrics/classification.py:1143: UndefinedMetricWarning: F-score is ill-defined and being set to 0.0 in labels with no predicted samples.\n",
      "  'precision', 'predicted', average, warn_for)\n",
      "/anaconda3/lib/python3.7/site-packages/sklearn/metrics/classification.py:1143: UndefinedMetricWarning: F-score is ill-defined and being set to 0.0 in labels with no predicted samples.\n",
      "  'precision', 'predicted', average, warn_for)\n"
     ]
    },
    {
     "name": "stdout",
     "output_type": "stream",
     "text": [
      "[CV]  criterion=entropy, max_depth=2, min_samples_leaf=2, min_samples_split=5, score=0.30934550234235053, total=   0.2s\n",
      "[CV] criterion=entropy, max_depth=2, min_samples_leaf=2, min_samples_split=10 \n"
     ]
    },
    {
     "name": "stderr",
     "output_type": "stream",
     "text": [
      "/anaconda3/lib/python3.7/site-packages/sklearn/metrics/classification.py:1143: UndefinedMetricWarning: F-score is ill-defined and being set to 0.0 in labels with no predicted samples.\n",
      "  'precision', 'predicted', average, warn_for)\n",
      "/anaconda3/lib/python3.7/site-packages/sklearn/metrics/classification.py:1143: UndefinedMetricWarning: F-score is ill-defined and being set to 0.0 in labels with no predicted samples.\n",
      "  'precision', 'predicted', average, warn_for)\n"
     ]
    },
    {
     "name": "stdout",
     "output_type": "stream",
     "text": [
      "[CV]  criterion=entropy, max_depth=2, min_samples_leaf=2, min_samples_split=10, score=0.3112590113023945, total=   0.2s\n",
      "[CV] criterion=entropy, max_depth=2, min_samples_leaf=2, min_samples_split=10 \n"
     ]
    },
    {
     "name": "stderr",
     "output_type": "stream",
     "text": [
      "/anaconda3/lib/python3.7/site-packages/sklearn/metrics/classification.py:1143: UndefinedMetricWarning: F-score is ill-defined and being set to 0.0 in labels with no predicted samples.\n",
      "  'precision', 'predicted', average, warn_for)\n",
      "/anaconda3/lib/python3.7/site-packages/sklearn/metrics/classification.py:1143: UndefinedMetricWarning: F-score is ill-defined and being set to 0.0 in labels with no predicted samples.\n",
      "  'precision', 'predicted', average, warn_for)\n"
     ]
    },
    {
     "name": "stdout",
     "output_type": "stream",
     "text": [
      "[CV]  criterion=entropy, max_depth=2, min_samples_leaf=2, min_samples_split=10, score=0.3207236109344786, total=   0.2s\n",
      "[CV] criterion=entropy, max_depth=2, min_samples_leaf=2, min_samples_split=10 \n"
     ]
    },
    {
     "name": "stderr",
     "output_type": "stream",
     "text": [
      "/anaconda3/lib/python3.7/site-packages/sklearn/metrics/classification.py:1143: UndefinedMetricWarning: F-score is ill-defined and being set to 0.0 in labels with no predicted samples.\n",
      "  'precision', 'predicted', average, warn_for)\n",
      "/anaconda3/lib/python3.7/site-packages/sklearn/metrics/classification.py:1143: UndefinedMetricWarning: F-score is ill-defined and being set to 0.0 in labels with no predicted samples.\n",
      "  'precision', 'predicted', average, warn_for)\n"
     ]
    },
    {
     "name": "stdout",
     "output_type": "stream",
     "text": [
      "[CV]  criterion=entropy, max_depth=2, min_samples_leaf=2, min_samples_split=10, score=0.30934550234235053, total=   0.2s\n",
      "[CV] criterion=entropy, max_depth=2, min_samples_leaf=3, min_samples_split=2 \n"
     ]
    },
    {
     "name": "stderr",
     "output_type": "stream",
     "text": [
      "/anaconda3/lib/python3.7/site-packages/sklearn/metrics/classification.py:1143: UndefinedMetricWarning: F-score is ill-defined and being set to 0.0 in labels with no predicted samples.\n",
      "  'precision', 'predicted', average, warn_for)\n",
      "/anaconda3/lib/python3.7/site-packages/sklearn/metrics/classification.py:1143: UndefinedMetricWarning: F-score is ill-defined and being set to 0.0 in labels with no predicted samples.\n",
      "  'precision', 'predicted', average, warn_for)\n"
     ]
    },
    {
     "name": "stdout",
     "output_type": "stream",
     "text": [
      "[CV]  criterion=entropy, max_depth=2, min_samples_leaf=3, min_samples_split=2, score=0.3112590113023945, total=   0.2s\n",
      "[CV] criterion=entropy, max_depth=2, min_samples_leaf=3, min_samples_split=2 \n"
     ]
    },
    {
     "name": "stderr",
     "output_type": "stream",
     "text": [
      "/anaconda3/lib/python3.7/site-packages/sklearn/metrics/classification.py:1143: UndefinedMetricWarning: F-score is ill-defined and being set to 0.0 in labels with no predicted samples.\n",
      "  'precision', 'predicted', average, warn_for)\n",
      "/anaconda3/lib/python3.7/site-packages/sklearn/metrics/classification.py:1143: UndefinedMetricWarning: F-score is ill-defined and being set to 0.0 in labels with no predicted samples.\n",
      "  'precision', 'predicted', average, warn_for)\n"
     ]
    },
    {
     "name": "stdout",
     "output_type": "stream",
     "text": [
      "[CV]  criterion=entropy, max_depth=2, min_samples_leaf=3, min_samples_split=2, score=0.3207236109344786, total=   0.2s\n",
      "[CV] criterion=entropy, max_depth=2, min_samples_leaf=3, min_samples_split=2 \n"
     ]
    },
    {
     "name": "stderr",
     "output_type": "stream",
     "text": [
      "/anaconda3/lib/python3.7/site-packages/sklearn/metrics/classification.py:1143: UndefinedMetricWarning: F-score is ill-defined and being set to 0.0 in labels with no predicted samples.\n",
      "  'precision', 'predicted', average, warn_for)\n",
      "/anaconda3/lib/python3.7/site-packages/sklearn/metrics/classification.py:1143: UndefinedMetricWarning: F-score is ill-defined and being set to 0.0 in labels with no predicted samples.\n",
      "  'precision', 'predicted', average, warn_for)\n",
      "/anaconda3/lib/python3.7/site-packages/sklearn/metrics/classification.py:1143: UndefinedMetricWarning: F-score is ill-defined and being set to 0.0 in labels with no predicted samples.\n",
      "  'precision', 'predicted', average, warn_for)\n"
     ]
    },
    {
     "name": "stdout",
     "output_type": "stream",
     "text": [
      "[CV]  criterion=entropy, max_depth=2, min_samples_leaf=3, min_samples_split=2, score=0.30934550234235053, total=   0.2s\n",
      "[CV] criterion=entropy, max_depth=2, min_samples_leaf=3, min_samples_split=5 \n",
      "[CV]  criterion=entropy, max_depth=2, min_samples_leaf=3, min_samples_split=5, score=0.3112590113023945, total=   0.2s\n",
      "[CV] criterion=entropy, max_depth=2, min_samples_leaf=3, min_samples_split=5 "
     ]
    },
    {
     "name": "stderr",
     "output_type": "stream",
     "text": [
      "/anaconda3/lib/python3.7/site-packages/sklearn/metrics/classification.py:1143: UndefinedMetricWarning: F-score is ill-defined and being set to 0.0 in labels with no predicted samples.\n",
      "  'precision', 'predicted', average, warn_for)\n",
      "/anaconda3/lib/python3.7/site-packages/sklearn/metrics/classification.py:1143: UndefinedMetricWarning: F-score is ill-defined and being set to 0.0 in labels with no predicted samples.\n",
      "  'precision', 'predicted', average, warn_for)\n"
     ]
    },
    {
     "name": "stdout",
     "output_type": "stream",
     "text": [
      "\n"
     ]
    },
    {
     "name": "stderr",
     "output_type": "stream",
     "text": [
      "/anaconda3/lib/python3.7/site-packages/sklearn/metrics/classification.py:1143: UndefinedMetricWarning: F-score is ill-defined and being set to 0.0 in labels with no predicted samples.\n",
      "  'precision', 'predicted', average, warn_for)\n",
      "/anaconda3/lib/python3.7/site-packages/sklearn/metrics/classification.py:1143: UndefinedMetricWarning: F-score is ill-defined and being set to 0.0 in labels with no predicted samples.\n",
      "  'precision', 'predicted', average, warn_for)\n"
     ]
    },
    {
     "name": "stdout",
     "output_type": "stream",
     "text": [
      "[CV]  criterion=entropy, max_depth=2, min_samples_leaf=3, min_samples_split=5, score=0.3207236109344786, total=   0.2s\n",
      "[CV] criterion=entropy, max_depth=2, min_samples_leaf=3, min_samples_split=5 \n"
     ]
    },
    {
     "name": "stderr",
     "output_type": "stream",
     "text": [
      "/anaconda3/lib/python3.7/site-packages/sklearn/metrics/classification.py:1143: UndefinedMetricWarning: F-score is ill-defined and being set to 0.0 in labels with no predicted samples.\n",
      "  'precision', 'predicted', average, warn_for)\n",
      "/anaconda3/lib/python3.7/site-packages/sklearn/metrics/classification.py:1143: UndefinedMetricWarning: F-score is ill-defined and being set to 0.0 in labels with no predicted samples.\n",
      "  'precision', 'predicted', average, warn_for)\n"
     ]
    },
    {
     "name": "stdout",
     "output_type": "stream",
     "text": [
      "[CV]  criterion=entropy, max_depth=2, min_samples_leaf=3, min_samples_split=5, score=0.30934550234235053, total=   0.2s\n",
      "[CV] criterion=entropy, max_depth=2, min_samples_leaf=3, min_samples_split=10 \n"
     ]
    },
    {
     "name": "stderr",
     "output_type": "stream",
     "text": [
      "/anaconda3/lib/python3.7/site-packages/sklearn/metrics/classification.py:1143: UndefinedMetricWarning: F-score is ill-defined and being set to 0.0 in labels with no predicted samples.\n",
      "  'precision', 'predicted', average, warn_for)\n",
      "/anaconda3/lib/python3.7/site-packages/sklearn/metrics/classification.py:1143: UndefinedMetricWarning: F-score is ill-defined and being set to 0.0 in labels with no predicted samples.\n",
      "  'precision', 'predicted', average, warn_for)\n",
      "/anaconda3/lib/python3.7/site-packages/sklearn/metrics/classification.py:1143: UndefinedMetricWarning: F-score is ill-defined and being set to 0.0 in labels with no predicted samples.\n",
      "  'precision', 'predicted', average, warn_for)\n"
     ]
    },
    {
     "name": "stdout",
     "output_type": "stream",
     "text": [
      "[CV]  criterion=entropy, max_depth=2, min_samples_leaf=3, min_samples_split=10, score=0.3112590113023945, total=   0.2s\n",
      "[CV] criterion=entropy, max_depth=2, min_samples_leaf=3, min_samples_split=10 \n"
     ]
    },
    {
     "name": "stderr",
     "output_type": "stream",
     "text": [
      "/anaconda3/lib/python3.7/site-packages/sklearn/metrics/classification.py:1143: UndefinedMetricWarning: F-score is ill-defined and being set to 0.0 in labels with no predicted samples.\n",
      "  'precision', 'predicted', average, warn_for)\n"
     ]
    },
    {
     "name": "stdout",
     "output_type": "stream",
     "text": [
      "[CV]  criterion=entropy, max_depth=2, min_samples_leaf=3, min_samples_split=10, score=0.3207236109344786, total=   0.2s\n",
      "[CV] criterion=entropy, max_depth=2, min_samples_leaf=3, min_samples_split=10 \n"
     ]
    },
    {
     "name": "stderr",
     "output_type": "stream",
     "text": [
      "/anaconda3/lib/python3.7/site-packages/sklearn/metrics/classification.py:1143: UndefinedMetricWarning: F-score is ill-defined and being set to 0.0 in labels with no predicted samples.\n",
      "  'precision', 'predicted', average, warn_for)\n",
      "/anaconda3/lib/python3.7/site-packages/sklearn/metrics/classification.py:1143: UndefinedMetricWarning: F-score is ill-defined and being set to 0.0 in labels with no predicted samples.\n",
      "  'precision', 'predicted', average, warn_for)\n"
     ]
    },
    {
     "name": "stdout",
     "output_type": "stream",
     "text": [
      "[CV]  criterion=entropy, max_depth=2, min_samples_leaf=3, min_samples_split=10, score=0.30934550234235053, total=   0.2s\n",
      "[CV] criterion=entropy, max_depth=2, min_samples_leaf=4, min_samples_split=2 \n"
     ]
    },
    {
     "name": "stderr",
     "output_type": "stream",
     "text": [
      "/anaconda3/lib/python3.7/site-packages/sklearn/metrics/classification.py:1143: UndefinedMetricWarning: F-score is ill-defined and being set to 0.0 in labels with no predicted samples.\n",
      "  'precision', 'predicted', average, warn_for)\n",
      "/anaconda3/lib/python3.7/site-packages/sklearn/metrics/classification.py:1143: UndefinedMetricWarning: F-score is ill-defined and being set to 0.0 in labels with no predicted samples.\n",
      "  'precision', 'predicted', average, warn_for)\n"
     ]
    },
    {
     "name": "stdout",
     "output_type": "stream",
     "text": [
      "[CV]  criterion=entropy, max_depth=2, min_samples_leaf=4, min_samples_split=2, score=0.3112590113023945, total=   0.2s\n",
      "[CV] criterion=entropy, max_depth=2, min_samples_leaf=4, min_samples_split=2 \n"
     ]
    },
    {
     "name": "stderr",
     "output_type": "stream",
     "text": [
      "/anaconda3/lib/python3.7/site-packages/sklearn/metrics/classification.py:1143: UndefinedMetricWarning: F-score is ill-defined and being set to 0.0 in labels with no predicted samples.\n",
      "  'precision', 'predicted', average, warn_for)\n",
      "/anaconda3/lib/python3.7/site-packages/sklearn/metrics/classification.py:1143: UndefinedMetricWarning: F-score is ill-defined and being set to 0.0 in labels with no predicted samples.\n",
      "  'precision', 'predicted', average, warn_for)\n",
      "/anaconda3/lib/python3.7/site-packages/sklearn/metrics/classification.py:1143: UndefinedMetricWarning: F-score is ill-defined and being set to 0.0 in labels with no predicted samples.\n",
      "  'precision', 'predicted', average, warn_for)\n"
     ]
    },
    {
     "name": "stdout",
     "output_type": "stream",
     "text": [
      "[CV]  criterion=entropy, max_depth=2, min_samples_leaf=4, min_samples_split=2, score=0.3207236109344786, total=   0.2s\n",
      "[CV] criterion=entropy, max_depth=2, min_samples_leaf=4, min_samples_split=2 \n",
      "[CV]  criterion=entropy, max_depth=2, min_samples_leaf=4, min_samples_split=2, score=0.30934550234235053, total=   0.2s\n",
      "[CV] criterion=entropy, max_depth=2, min_samples_leaf=4, min_samples_split=5 \n"
     ]
    },
    {
     "name": "stderr",
     "output_type": "stream",
     "text": [
      "/anaconda3/lib/python3.7/site-packages/sklearn/metrics/classification.py:1143: UndefinedMetricWarning: F-score is ill-defined and being set to 0.0 in labels with no predicted samples.\n",
      "  'precision', 'predicted', average, warn_for)\n",
      "/anaconda3/lib/python3.7/site-packages/sklearn/metrics/classification.py:1143: UndefinedMetricWarning: F-score is ill-defined and being set to 0.0 in labels with no predicted samples.\n",
      "  'precision', 'predicted', average, warn_for)\n",
      "/anaconda3/lib/python3.7/site-packages/sklearn/metrics/classification.py:1143: UndefinedMetricWarning: F-score is ill-defined and being set to 0.0 in labels with no predicted samples.\n",
      "  'precision', 'predicted', average, warn_for)\n"
     ]
    },
    {
     "name": "stdout",
     "output_type": "stream",
     "text": [
      "[CV]  criterion=entropy, max_depth=2, min_samples_leaf=4, min_samples_split=5, score=0.3112590113023945, total=   0.2s\n",
      "[CV] criterion=entropy, max_depth=2, min_samples_leaf=4, min_samples_split=5 \n",
      "[CV]  criterion=entropy, max_depth=2, min_samples_leaf=4, min_samples_split=5, score=0.3207236109344786, total=   0.2s\n",
      "[CV] criterion=entropy, max_depth=2, min_samples_leaf=4, min_samples_split=5 \n"
     ]
    },
    {
     "name": "stderr",
     "output_type": "stream",
     "text": [
      "/anaconda3/lib/python3.7/site-packages/sklearn/metrics/classification.py:1143: UndefinedMetricWarning: F-score is ill-defined and being set to 0.0 in labels with no predicted samples.\n",
      "  'precision', 'predicted', average, warn_for)\n",
      "/anaconda3/lib/python3.7/site-packages/sklearn/metrics/classification.py:1143: UndefinedMetricWarning: F-score is ill-defined and being set to 0.0 in labels with no predicted samples.\n",
      "  'precision', 'predicted', average, warn_for)\n",
      "/anaconda3/lib/python3.7/site-packages/sklearn/metrics/classification.py:1143: UndefinedMetricWarning: F-score is ill-defined and being set to 0.0 in labels with no predicted samples.\n",
      "  'precision', 'predicted', average, warn_for)\n"
     ]
    },
    {
     "name": "stdout",
     "output_type": "stream",
     "text": [
      "[CV]  criterion=entropy, max_depth=2, min_samples_leaf=4, min_samples_split=5, score=0.30934550234235053, total=   0.2s\n",
      "[CV] criterion=entropy, max_depth=2, min_samples_leaf=4, min_samples_split=10 \n"
     ]
    },
    {
     "name": "stderr",
     "output_type": "stream",
     "text": [
      "/anaconda3/lib/python3.7/site-packages/sklearn/metrics/classification.py:1143: UndefinedMetricWarning: F-score is ill-defined and being set to 0.0 in labels with no predicted samples.\n",
      "  'precision', 'predicted', average, warn_for)\n",
      "/anaconda3/lib/python3.7/site-packages/sklearn/metrics/classification.py:1143: UndefinedMetricWarning: F-score is ill-defined and being set to 0.0 in labels with no predicted samples.\n",
      "  'precision', 'predicted', average, warn_for)\n",
      "/anaconda3/lib/python3.7/site-packages/sklearn/metrics/classification.py:1143: UndefinedMetricWarning: F-score is ill-defined and being set to 0.0 in labels with no predicted samples.\n",
      "  'precision', 'predicted', average, warn_for)\n"
     ]
    },
    {
     "name": "stdout",
     "output_type": "stream",
     "text": [
      "[CV]  criterion=entropy, max_depth=2, min_samples_leaf=4, min_samples_split=10, score=0.3112590113023945, total=   0.2s\n",
      "[CV] criterion=entropy, max_depth=2, min_samples_leaf=4, min_samples_split=10 \n",
      "[CV]  criterion=entropy, max_depth=2, min_samples_leaf=4, min_samples_split=10, score=0.3207236109344786, total=   0.2s\n",
      "[CV] criterion=entropy, max_depth=2, min_samples_leaf=4, min_samples_split=10 "
     ]
    },
    {
     "name": "stderr",
     "output_type": "stream",
     "text": [
      "/anaconda3/lib/python3.7/site-packages/sklearn/metrics/classification.py:1143: UndefinedMetricWarning: F-score is ill-defined and being set to 0.0 in labels with no predicted samples.\n",
      "  'precision', 'predicted', average, warn_for)\n",
      "/anaconda3/lib/python3.7/site-packages/sklearn/metrics/classification.py:1143: UndefinedMetricWarning: F-score is ill-defined and being set to 0.0 in labels with no predicted samples.\n",
      "  'precision', 'predicted', average, warn_for)\n",
      "/anaconda3/lib/python3.7/site-packages/sklearn/metrics/classification.py:1143: UndefinedMetricWarning: F-score is ill-defined and being set to 0.0 in labels with no predicted samples.\n",
      "  'precision', 'predicted', average, warn_for)\n"
     ]
    },
    {
     "name": "stdout",
     "output_type": "stream",
     "text": [
      "\n",
      "[CV]  criterion=entropy, max_depth=2, min_samples_leaf=4, min_samples_split=10, score=0.30934550234235053, total=   0.2s\n",
      "[CV] criterion=entropy, max_depth=2, min_samples_leaf=5, min_samples_split=2 \n"
     ]
    },
    {
     "name": "stderr",
     "output_type": "stream",
     "text": [
      "/anaconda3/lib/python3.7/site-packages/sklearn/metrics/classification.py:1143: UndefinedMetricWarning: F-score is ill-defined and being set to 0.0 in labels with no predicted samples.\n",
      "  'precision', 'predicted', average, warn_for)\n",
      "/anaconda3/lib/python3.7/site-packages/sklearn/metrics/classification.py:1143: UndefinedMetricWarning: F-score is ill-defined and being set to 0.0 in labels with no predicted samples.\n",
      "  'precision', 'predicted', average, warn_for)\n"
     ]
    },
    {
     "name": "stdout",
     "output_type": "stream",
     "text": [
      "[CV]  criterion=entropy, max_depth=2, min_samples_leaf=5, min_samples_split=2, score=0.3112590113023945, total=   0.2s\n",
      "[CV] criterion=entropy, max_depth=2, min_samples_leaf=5, min_samples_split=2 \n"
     ]
    },
    {
     "name": "stderr",
     "output_type": "stream",
     "text": [
      "/anaconda3/lib/python3.7/site-packages/sklearn/metrics/classification.py:1143: UndefinedMetricWarning: F-score is ill-defined and being set to 0.0 in labels with no predicted samples.\n",
      "  'precision', 'predicted', average, warn_for)\n",
      "/anaconda3/lib/python3.7/site-packages/sklearn/metrics/classification.py:1143: UndefinedMetricWarning: F-score is ill-defined and being set to 0.0 in labels with no predicted samples.\n",
      "  'precision', 'predicted', average, warn_for)\n"
     ]
    },
    {
     "name": "stdout",
     "output_type": "stream",
     "text": [
      "[CV]  criterion=entropy, max_depth=2, min_samples_leaf=5, min_samples_split=2, score=0.3207236109344786, total=   0.2s\n",
      "[CV] criterion=entropy, max_depth=2, min_samples_leaf=5, min_samples_split=2 \n"
     ]
    },
    {
     "name": "stderr",
     "output_type": "stream",
     "text": [
      "/anaconda3/lib/python3.7/site-packages/sklearn/metrics/classification.py:1143: UndefinedMetricWarning: F-score is ill-defined and being set to 0.0 in labels with no predicted samples.\n",
      "  'precision', 'predicted', average, warn_for)\n",
      "/anaconda3/lib/python3.7/site-packages/sklearn/metrics/classification.py:1143: UndefinedMetricWarning: F-score is ill-defined and being set to 0.0 in labels with no predicted samples.\n",
      "  'precision', 'predicted', average, warn_for)\n",
      "/anaconda3/lib/python3.7/site-packages/sklearn/metrics/classification.py:1143: UndefinedMetricWarning: F-score is ill-defined and being set to 0.0 in labels with no predicted samples.\n",
      "  'precision', 'predicted', average, warn_for)\n"
     ]
    },
    {
     "name": "stdout",
     "output_type": "stream",
     "text": [
      "[CV]  criterion=entropy, max_depth=2, min_samples_leaf=5, min_samples_split=2, score=0.30934550234235053, total=   0.2s\n",
      "[CV] criterion=entropy, max_depth=2, min_samples_leaf=5, min_samples_split=5 \n",
      "[CV]  criterion=entropy, max_depth=2, min_samples_leaf=5, min_samples_split=5, score=0.3112590113023945, total=   0.2s\n",
      "[CV] criterion=entropy, max_depth=2, min_samples_leaf=5, min_samples_split=5 \n"
     ]
    },
    {
     "name": "stderr",
     "output_type": "stream",
     "text": [
      "/anaconda3/lib/python3.7/site-packages/sklearn/metrics/classification.py:1143: UndefinedMetricWarning: F-score is ill-defined and being set to 0.0 in labels with no predicted samples.\n",
      "  'precision', 'predicted', average, warn_for)\n",
      "/anaconda3/lib/python3.7/site-packages/sklearn/metrics/classification.py:1143: UndefinedMetricWarning: F-score is ill-defined and being set to 0.0 in labels with no predicted samples.\n",
      "  'precision', 'predicted', average, warn_for)\n",
      "/anaconda3/lib/python3.7/site-packages/sklearn/metrics/classification.py:1143: UndefinedMetricWarning: F-score is ill-defined and being set to 0.0 in labels with no predicted samples.\n",
      "  'precision', 'predicted', average, warn_for)\n"
     ]
    },
    {
     "name": "stdout",
     "output_type": "stream",
     "text": [
      "[CV]  criterion=entropy, max_depth=2, min_samples_leaf=5, min_samples_split=5, score=0.3207236109344786, total=   0.2s\n",
      "[CV] criterion=entropy, max_depth=2, min_samples_leaf=5, min_samples_split=5 \n"
     ]
    },
    {
     "name": "stderr",
     "output_type": "stream",
     "text": [
      "/anaconda3/lib/python3.7/site-packages/sklearn/metrics/classification.py:1143: UndefinedMetricWarning: F-score is ill-defined and being set to 0.0 in labels with no predicted samples.\n",
      "  'precision', 'predicted', average, warn_for)\n",
      "/anaconda3/lib/python3.7/site-packages/sklearn/metrics/classification.py:1143: UndefinedMetricWarning: F-score is ill-defined and being set to 0.0 in labels with no predicted samples.\n",
      "  'precision', 'predicted', average, warn_for)\n",
      "/anaconda3/lib/python3.7/site-packages/sklearn/metrics/classification.py:1143: UndefinedMetricWarning: F-score is ill-defined and being set to 0.0 in labels with no predicted samples.\n",
      "  'precision', 'predicted', average, warn_for)\n"
     ]
    },
    {
     "name": "stdout",
     "output_type": "stream",
     "text": [
      "[CV]  criterion=entropy, max_depth=2, min_samples_leaf=5, min_samples_split=5, score=0.30934550234235053, total=   0.2s\n",
      "[CV] criterion=entropy, max_depth=2, min_samples_leaf=5, min_samples_split=10 \n",
      "[CV]  criterion=entropy, max_depth=2, min_samples_leaf=5, min_samples_split=10, score=0.3112590113023945, total=   0.2s\n",
      "[CV] criterion=entropy, max_depth=2, min_samples_leaf=5, min_samples_split=10 \n"
     ]
    },
    {
     "name": "stderr",
     "output_type": "stream",
     "text": [
      "/anaconda3/lib/python3.7/site-packages/sklearn/metrics/classification.py:1143: UndefinedMetricWarning: F-score is ill-defined and being set to 0.0 in labels with no predicted samples.\n",
      "  'precision', 'predicted', average, warn_for)\n",
      "/anaconda3/lib/python3.7/site-packages/sklearn/metrics/classification.py:1143: UndefinedMetricWarning: F-score is ill-defined and being set to 0.0 in labels with no predicted samples.\n",
      "  'precision', 'predicted', average, warn_for)\n",
      "/anaconda3/lib/python3.7/site-packages/sklearn/metrics/classification.py:1143: UndefinedMetricWarning: F-score is ill-defined and being set to 0.0 in labels with no predicted samples.\n",
      "  'precision', 'predicted', average, warn_for)\n"
     ]
    },
    {
     "name": "stdout",
     "output_type": "stream",
     "text": [
      "[CV]  criterion=entropy, max_depth=2, min_samples_leaf=5, min_samples_split=10, score=0.3207236109344786, total=   0.2s\n",
      "[CV] criterion=entropy, max_depth=2, min_samples_leaf=5, min_samples_split=10 \n",
      "[CV]  criterion=entropy, max_depth=2, min_samples_leaf=5, min_samples_split=10, score=0.30934550234235053, total=   0.2s\n",
      "[CV] criterion=entropy, max_depth=2, min_samples_leaf=6, min_samples_split=2 \n"
     ]
    },
    {
     "name": "stderr",
     "output_type": "stream",
     "text": [
      "/anaconda3/lib/python3.7/site-packages/sklearn/metrics/classification.py:1143: UndefinedMetricWarning: F-score is ill-defined and being set to 0.0 in labels with no predicted samples.\n",
      "  'precision', 'predicted', average, warn_for)\n",
      "/anaconda3/lib/python3.7/site-packages/sklearn/metrics/classification.py:1143: UndefinedMetricWarning: F-score is ill-defined and being set to 0.0 in labels with no predicted samples.\n",
      "  'precision', 'predicted', average, warn_for)\n",
      "/anaconda3/lib/python3.7/site-packages/sklearn/metrics/classification.py:1143: UndefinedMetricWarning: F-score is ill-defined and being set to 0.0 in labels with no predicted samples.\n",
      "  'precision', 'predicted', average, warn_for)\n",
      "/anaconda3/lib/python3.7/site-packages/sklearn/metrics/classification.py:1143: UndefinedMetricWarning: F-score is ill-defined and being set to 0.0 in labels with no predicted samples.\n",
      "  'precision', 'predicted', average, warn_for)\n",
      "/anaconda3/lib/python3.7/site-packages/sklearn/metrics/classification.py:1143: UndefinedMetricWarning: F-score is ill-defined and being set to 0.0 in labels with no predicted samples.\n",
      "  'precision', 'predicted', average, warn_for)\n",
      "/anaconda3/lib/python3.7/site-packages/sklearn/metrics/classification.py:1143: UndefinedMetricWarning: F-score is ill-defined and being set to 0.0 in labels with no predicted samples.\n",
      "  'precision', 'predicted', average, warn_for)\n"
     ]
    },
    {
     "name": "stdout",
     "output_type": "stream",
     "text": [
      "[CV]  criterion=entropy, max_depth=2, min_samples_leaf=6, min_samples_split=2, score=0.3112590113023945, total=   0.2s\n",
      "[CV] criterion=entropy, max_depth=2, min_samples_leaf=6, min_samples_split=2 \n",
      "[CV]  criterion=entropy, max_depth=2, min_samples_leaf=6, min_samples_split=2, score=0.3207236109344786, total=   0.2s\n",
      "[CV] criterion=entropy, max_depth=2, min_samples_leaf=6, min_samples_split=2 \n"
     ]
    },
    {
     "name": "stderr",
     "output_type": "stream",
     "text": [
      "/anaconda3/lib/python3.7/site-packages/sklearn/metrics/classification.py:1143: UndefinedMetricWarning: F-score is ill-defined and being set to 0.0 in labels with no predicted samples.\n",
      "  'precision', 'predicted', average, warn_for)\n",
      "/anaconda3/lib/python3.7/site-packages/sklearn/metrics/classification.py:1143: UndefinedMetricWarning: F-score is ill-defined and being set to 0.0 in labels with no predicted samples.\n",
      "  'precision', 'predicted', average, warn_for)\n",
      "/anaconda3/lib/python3.7/site-packages/sklearn/metrics/classification.py:1143: UndefinedMetricWarning: F-score is ill-defined and being set to 0.0 in labels with no predicted samples.\n",
      "  'precision', 'predicted', average, warn_for)\n"
     ]
    },
    {
     "name": "stdout",
     "output_type": "stream",
     "text": [
      "[CV]  criterion=entropy, max_depth=2, min_samples_leaf=6, min_samples_split=2, score=0.30934550234235053, total=   0.2s\n",
      "[CV] criterion=entropy, max_depth=2, min_samples_leaf=6, min_samples_split=5 \n",
      "[CV]  criterion=entropy, max_depth=2, min_samples_leaf=6, min_samples_split=5, score=0.3112590113023945, total=   0.2s\n",
      "[CV] criterion=entropy, max_depth=2, min_samples_leaf=6, min_samples_split=5 \n"
     ]
    },
    {
     "name": "stderr",
     "output_type": "stream",
     "text": [
      "/anaconda3/lib/python3.7/site-packages/sklearn/metrics/classification.py:1143: UndefinedMetricWarning: F-score is ill-defined and being set to 0.0 in labels with no predicted samples.\n",
      "  'precision', 'predicted', average, warn_for)\n",
      "/anaconda3/lib/python3.7/site-packages/sklearn/metrics/classification.py:1143: UndefinedMetricWarning: F-score is ill-defined and being set to 0.0 in labels with no predicted samples.\n",
      "  'precision', 'predicted', average, warn_for)\n",
      "/anaconda3/lib/python3.7/site-packages/sklearn/metrics/classification.py:1143: UndefinedMetricWarning: F-score is ill-defined and being set to 0.0 in labels with no predicted samples.\n",
      "  'precision', 'predicted', average, warn_for)\n",
      "/anaconda3/lib/python3.7/site-packages/sklearn/metrics/classification.py:1143: UndefinedMetricWarning: F-score is ill-defined and being set to 0.0 in labels with no predicted samples.\n",
      "  'precision', 'predicted', average, warn_for)\n",
      "/anaconda3/lib/python3.7/site-packages/sklearn/metrics/classification.py:1143: UndefinedMetricWarning: F-score is ill-defined and being set to 0.0 in labels with no predicted samples.\n",
      "  'precision', 'predicted', average, warn_for)\n"
     ]
    },
    {
     "name": "stdout",
     "output_type": "stream",
     "text": [
      "[CV]  criterion=entropy, max_depth=2, min_samples_leaf=6, min_samples_split=5, score=0.3207236109344786, total=   0.2s\n",
      "[CV] criterion=entropy, max_depth=2, min_samples_leaf=6, min_samples_split=5 \n",
      "[CV]  criterion=entropy, max_depth=2, min_samples_leaf=6, min_samples_split=5, score=0.30934550234235053, total=   0.2s\n",
      "[CV] criterion=entropy, max_depth=2, min_samples_leaf=6, min_samples_split=10 \n"
     ]
    },
    {
     "name": "stderr",
     "output_type": "stream",
     "text": [
      "/anaconda3/lib/python3.7/site-packages/sklearn/metrics/classification.py:1143: UndefinedMetricWarning: F-score is ill-defined and being set to 0.0 in labels with no predicted samples.\n",
      "  'precision', 'predicted', average, warn_for)\n",
      "/anaconda3/lib/python3.7/site-packages/sklearn/metrics/classification.py:1143: UndefinedMetricWarning: F-score is ill-defined and being set to 0.0 in labels with no predicted samples.\n",
      "  'precision', 'predicted', average, warn_for)\n",
      "/anaconda3/lib/python3.7/site-packages/sklearn/metrics/classification.py:1143: UndefinedMetricWarning: F-score is ill-defined and being set to 0.0 in labels with no predicted samples.\n",
      "  'precision', 'predicted', average, warn_for)\n"
     ]
    },
    {
     "name": "stdout",
     "output_type": "stream",
     "text": [
      "[CV]  criterion=entropy, max_depth=2, min_samples_leaf=6, min_samples_split=10, score=0.3112590113023945, total=   0.2s\n",
      "[CV] criterion=entropy, max_depth=2, min_samples_leaf=6, min_samples_split=10 \n",
      "[CV]  criterion=entropy, max_depth=2, min_samples_leaf=6, min_samples_split=10, score=0.3207236109344786, total=   0.2s\n",
      "[CV] criterion=entropy, max_depth=2, min_samples_leaf=6, min_samples_split=10 \n"
     ]
    },
    {
     "name": "stderr",
     "output_type": "stream",
     "text": [
      "/anaconda3/lib/python3.7/site-packages/sklearn/metrics/classification.py:1143: UndefinedMetricWarning: F-score is ill-defined and being set to 0.0 in labels with no predicted samples.\n",
      "  'precision', 'predicted', average, warn_for)\n",
      "/anaconda3/lib/python3.7/site-packages/sklearn/metrics/classification.py:1143: UndefinedMetricWarning: F-score is ill-defined and being set to 0.0 in labels with no predicted samples.\n",
      "  'precision', 'predicted', average, warn_for)\n",
      "/anaconda3/lib/python3.7/site-packages/sklearn/metrics/classification.py:1143: UndefinedMetricWarning: F-score is ill-defined and being set to 0.0 in labels with no predicted samples.\n",
      "  'precision', 'predicted', average, warn_for)\n"
     ]
    },
    {
     "name": "stdout",
     "output_type": "stream",
     "text": [
      "[CV]  criterion=entropy, max_depth=2, min_samples_leaf=6, min_samples_split=10, score=0.30934550234235053, total=   0.2s\n",
      "[CV] criterion=entropy, max_depth=3, min_samples_leaf=1, min_samples_split=2 \n"
     ]
    },
    {
     "name": "stderr",
     "output_type": "stream",
     "text": [
      "/anaconda3/lib/python3.7/site-packages/sklearn/metrics/classification.py:1143: UndefinedMetricWarning: F-score is ill-defined and being set to 0.0 in labels with no predicted samples.\n",
      "  'precision', 'predicted', average, warn_for)\n",
      "/anaconda3/lib/python3.7/site-packages/sklearn/metrics/classification.py:1143: UndefinedMetricWarning: F-score is ill-defined and being set to 0.0 in labels with no predicted samples.\n",
      "  'precision', 'predicted', average, warn_for)\n"
     ]
    },
    {
     "name": "stdout",
     "output_type": "stream",
     "text": [
      "[CV]  criterion=entropy, max_depth=3, min_samples_leaf=1, min_samples_split=2, score=0.2913489920794306, total=   0.3s\n",
      "[CV] criterion=entropy, max_depth=3, min_samples_leaf=1, min_samples_split=2 \n"
     ]
    },
    {
     "name": "stderr",
     "output_type": "stream",
     "text": [
      "/anaconda3/lib/python3.7/site-packages/sklearn/metrics/classification.py:1143: UndefinedMetricWarning: F-score is ill-defined and being set to 0.0 in labels with no predicted samples.\n",
      "  'precision', 'predicted', average, warn_for)\n",
      "/anaconda3/lib/python3.7/site-packages/sklearn/metrics/classification.py:1143: UndefinedMetricWarning: F-score is ill-defined and being set to 0.0 in labels with no predicted samples.\n",
      "  'precision', 'predicted', average, warn_for)\n"
     ]
    },
    {
     "name": "stdout",
     "output_type": "stream",
     "text": [
      "[CV]  criterion=entropy, max_depth=3, min_samples_leaf=1, min_samples_split=2, score=0.2761127934157218, total=   0.3s\n",
      "[CV] criterion=entropy, max_depth=3, min_samples_leaf=1, min_samples_split=2 \n"
     ]
    },
    {
     "name": "stderr",
     "output_type": "stream",
     "text": [
      "/anaconda3/lib/python3.7/site-packages/sklearn/metrics/classification.py:1143: UndefinedMetricWarning: F-score is ill-defined and being set to 0.0 in labels with no predicted samples.\n",
      "  'precision', 'predicted', average, warn_for)\n",
      "/anaconda3/lib/python3.7/site-packages/sklearn/metrics/classification.py:1143: UndefinedMetricWarning: F-score is ill-defined and being set to 0.0 in labels with no predicted samples.\n",
      "  'precision', 'predicted', average, warn_for)\n"
     ]
    },
    {
     "name": "stdout",
     "output_type": "stream",
     "text": [
      "[CV]  criterion=entropy, max_depth=3, min_samples_leaf=1, min_samples_split=2, score=0.29078931106895783, total=   0.3s\n",
      "[CV] criterion=entropy, max_depth=3, min_samples_leaf=1, min_samples_split=5 \n"
     ]
    },
    {
     "name": "stderr",
     "output_type": "stream",
     "text": [
      "/anaconda3/lib/python3.7/site-packages/sklearn/metrics/classification.py:1143: UndefinedMetricWarning: F-score is ill-defined and being set to 0.0 in labels with no predicted samples.\n",
      "  'precision', 'predicted', average, warn_for)\n",
      "/anaconda3/lib/python3.7/site-packages/sklearn/metrics/classification.py:1143: UndefinedMetricWarning: F-score is ill-defined and being set to 0.0 in labels with no predicted samples.\n",
      "  'precision', 'predicted', average, warn_for)\n"
     ]
    },
    {
     "name": "stdout",
     "output_type": "stream",
     "text": [
      "[CV]  criterion=entropy, max_depth=3, min_samples_leaf=1, min_samples_split=5, score=0.2913489920794306, total=   0.2s\n",
      "[CV] criterion=entropy, max_depth=3, min_samples_leaf=1, min_samples_split=5 \n"
     ]
    },
    {
     "name": "stderr",
     "output_type": "stream",
     "text": [
      "/anaconda3/lib/python3.7/site-packages/sklearn/metrics/classification.py:1143: UndefinedMetricWarning: F-score is ill-defined and being set to 0.0 in labels with no predicted samples.\n",
      "  'precision', 'predicted', average, warn_for)\n",
      "/anaconda3/lib/python3.7/site-packages/sklearn/metrics/classification.py:1143: UndefinedMetricWarning: F-score is ill-defined and being set to 0.0 in labels with no predicted samples.\n",
      "  'precision', 'predicted', average, warn_for)\n"
     ]
    },
    {
     "name": "stdout",
     "output_type": "stream",
     "text": [
      "[CV]  criterion=entropy, max_depth=3, min_samples_leaf=1, min_samples_split=5, score=0.2761127934157218, total=   0.2s\n",
      "[CV] criterion=entropy, max_depth=3, min_samples_leaf=1, min_samples_split=5 \n"
     ]
    },
    {
     "name": "stderr",
     "output_type": "stream",
     "text": [
      "/anaconda3/lib/python3.7/site-packages/sklearn/metrics/classification.py:1143: UndefinedMetricWarning: F-score is ill-defined and being set to 0.0 in labels with no predicted samples.\n",
      "  'precision', 'predicted', average, warn_for)\n",
      "/anaconda3/lib/python3.7/site-packages/sklearn/metrics/classification.py:1143: UndefinedMetricWarning: F-score is ill-defined and being set to 0.0 in labels with no predicted samples.\n",
      "  'precision', 'predicted', average, warn_for)\n"
     ]
    },
    {
     "name": "stdout",
     "output_type": "stream",
     "text": [
      "[CV]  criterion=entropy, max_depth=3, min_samples_leaf=1, min_samples_split=5, score=0.29078931106895783, total=   0.3s\n",
      "[CV] criterion=entropy, max_depth=3, min_samples_leaf=1, min_samples_split=10 \n"
     ]
    },
    {
     "name": "stderr",
     "output_type": "stream",
     "text": [
      "/anaconda3/lib/python3.7/site-packages/sklearn/metrics/classification.py:1143: UndefinedMetricWarning: F-score is ill-defined and being set to 0.0 in labels with no predicted samples.\n",
      "  'precision', 'predicted', average, warn_for)\n",
      "/anaconda3/lib/python3.7/site-packages/sklearn/metrics/classification.py:1143: UndefinedMetricWarning: F-score is ill-defined and being set to 0.0 in labels with no predicted samples.\n",
      "  'precision', 'predicted', average, warn_for)\n"
     ]
    },
    {
     "name": "stdout",
     "output_type": "stream",
     "text": [
      "[CV]  criterion=entropy, max_depth=3, min_samples_leaf=1, min_samples_split=10, score=0.2913489920794306, total=   0.3s\n",
      "[CV] criterion=entropy, max_depth=3, min_samples_leaf=1, min_samples_split=10 \n"
     ]
    },
    {
     "name": "stderr",
     "output_type": "stream",
     "text": [
      "/anaconda3/lib/python3.7/site-packages/sklearn/metrics/classification.py:1143: UndefinedMetricWarning: F-score is ill-defined and being set to 0.0 in labels with no predicted samples.\n",
      "  'precision', 'predicted', average, warn_for)\n",
      "/anaconda3/lib/python3.7/site-packages/sklearn/metrics/classification.py:1143: UndefinedMetricWarning: F-score is ill-defined and being set to 0.0 in labels with no predicted samples.\n",
      "  'precision', 'predicted', average, warn_for)\n"
     ]
    },
    {
     "name": "stdout",
     "output_type": "stream",
     "text": [
      "[CV]  criterion=entropy, max_depth=3, min_samples_leaf=1, min_samples_split=10, score=0.2761127934157218, total=   0.3s\n",
      "[CV] criterion=entropy, max_depth=3, min_samples_leaf=1, min_samples_split=10 \n"
     ]
    },
    {
     "name": "stderr",
     "output_type": "stream",
     "text": [
      "/anaconda3/lib/python3.7/site-packages/sklearn/metrics/classification.py:1143: UndefinedMetricWarning: F-score is ill-defined and being set to 0.0 in labels with no predicted samples.\n",
      "  'precision', 'predicted', average, warn_for)\n",
      "/anaconda3/lib/python3.7/site-packages/sklearn/metrics/classification.py:1143: UndefinedMetricWarning: F-score is ill-defined and being set to 0.0 in labels with no predicted samples.\n",
      "  'precision', 'predicted', average, warn_for)\n"
     ]
    },
    {
     "name": "stdout",
     "output_type": "stream",
     "text": [
      "[CV]  criterion=entropy, max_depth=3, min_samples_leaf=1, min_samples_split=10, score=0.29078931106895783, total=   0.3s\n",
      "[CV] criterion=entropy, max_depth=3, min_samples_leaf=2, min_samples_split=2 \n"
     ]
    },
    {
     "name": "stderr",
     "output_type": "stream",
     "text": [
      "/anaconda3/lib/python3.7/site-packages/sklearn/metrics/classification.py:1143: UndefinedMetricWarning: F-score is ill-defined and being set to 0.0 in labels with no predicted samples.\n",
      "  'precision', 'predicted', average, warn_for)\n",
      "/anaconda3/lib/python3.7/site-packages/sklearn/metrics/classification.py:1143: UndefinedMetricWarning: F-score is ill-defined and being set to 0.0 in labels with no predicted samples.\n",
      "  'precision', 'predicted', average, warn_for)\n"
     ]
    },
    {
     "name": "stdout",
     "output_type": "stream",
     "text": [
      "[CV]  criterion=entropy, max_depth=3, min_samples_leaf=2, min_samples_split=2, score=0.2913489920794306, total=   0.3s\n",
      "[CV] criterion=entropy, max_depth=3, min_samples_leaf=2, min_samples_split=2 \n"
     ]
    },
    {
     "name": "stderr",
     "output_type": "stream",
     "text": [
      "/anaconda3/lib/python3.7/site-packages/sklearn/metrics/classification.py:1143: UndefinedMetricWarning: F-score is ill-defined and being set to 0.0 in labels with no predicted samples.\n",
      "  'precision', 'predicted', average, warn_for)\n",
      "/anaconda3/lib/python3.7/site-packages/sklearn/metrics/classification.py:1143: UndefinedMetricWarning: F-score is ill-defined and being set to 0.0 in labels with no predicted samples.\n",
      "  'precision', 'predicted', average, warn_for)\n"
     ]
    },
    {
     "name": "stdout",
     "output_type": "stream",
     "text": [
      "[CV]  criterion=entropy, max_depth=3, min_samples_leaf=2, min_samples_split=2, score=0.2761127934157218, total=   0.3s\n",
      "[CV] criterion=entropy, max_depth=3, min_samples_leaf=2, min_samples_split=2 \n"
     ]
    },
    {
     "name": "stderr",
     "output_type": "stream",
     "text": [
      "/anaconda3/lib/python3.7/site-packages/sklearn/metrics/classification.py:1143: UndefinedMetricWarning: F-score is ill-defined and being set to 0.0 in labels with no predicted samples.\n",
      "  'precision', 'predicted', average, warn_for)\n",
      "/anaconda3/lib/python3.7/site-packages/sklearn/metrics/classification.py:1143: UndefinedMetricWarning: F-score is ill-defined and being set to 0.0 in labels with no predicted samples.\n",
      "  'precision', 'predicted', average, warn_for)\n"
     ]
    },
    {
     "name": "stdout",
     "output_type": "stream",
     "text": [
      "[CV]  criterion=entropy, max_depth=3, min_samples_leaf=2, min_samples_split=2, score=0.29078931106895783, total=   0.2s\n",
      "[CV] criterion=entropy, max_depth=3, min_samples_leaf=2, min_samples_split=5 \n"
     ]
    },
    {
     "name": "stderr",
     "output_type": "stream",
     "text": [
      "/anaconda3/lib/python3.7/site-packages/sklearn/metrics/classification.py:1143: UndefinedMetricWarning: F-score is ill-defined and being set to 0.0 in labels with no predicted samples.\n",
      "  'precision', 'predicted', average, warn_for)\n",
      "/anaconda3/lib/python3.7/site-packages/sklearn/metrics/classification.py:1143: UndefinedMetricWarning: F-score is ill-defined and being set to 0.0 in labels with no predicted samples.\n",
      "  'precision', 'predicted', average, warn_for)\n"
     ]
    },
    {
     "name": "stdout",
     "output_type": "stream",
     "text": [
      "[CV]  criterion=entropy, max_depth=3, min_samples_leaf=2, min_samples_split=5, score=0.2913489920794306, total=   0.3s\n",
      "[CV] criterion=entropy, max_depth=3, min_samples_leaf=2, min_samples_split=5 \n"
     ]
    },
    {
     "name": "stderr",
     "output_type": "stream",
     "text": [
      "/anaconda3/lib/python3.7/site-packages/sklearn/metrics/classification.py:1143: UndefinedMetricWarning: F-score is ill-defined and being set to 0.0 in labels with no predicted samples.\n",
      "  'precision', 'predicted', average, warn_for)\n",
      "/anaconda3/lib/python3.7/site-packages/sklearn/metrics/classification.py:1143: UndefinedMetricWarning: F-score is ill-defined and being set to 0.0 in labels with no predicted samples.\n",
      "  'precision', 'predicted', average, warn_for)\n"
     ]
    },
    {
     "name": "stdout",
     "output_type": "stream",
     "text": [
      "[CV]  criterion=entropy, max_depth=3, min_samples_leaf=2, min_samples_split=5, score=0.2761127934157218, total=   0.3s\n",
      "[CV] criterion=entropy, max_depth=3, min_samples_leaf=2, min_samples_split=5 \n"
     ]
    },
    {
     "name": "stderr",
     "output_type": "stream",
     "text": [
      "/anaconda3/lib/python3.7/site-packages/sklearn/metrics/classification.py:1143: UndefinedMetricWarning: F-score is ill-defined and being set to 0.0 in labels with no predicted samples.\n",
      "  'precision', 'predicted', average, warn_for)\n",
      "/anaconda3/lib/python3.7/site-packages/sklearn/metrics/classification.py:1143: UndefinedMetricWarning: F-score is ill-defined and being set to 0.0 in labels with no predicted samples.\n",
      "  'precision', 'predicted', average, warn_for)\n"
     ]
    },
    {
     "name": "stdout",
     "output_type": "stream",
     "text": [
      "[CV]  criterion=entropy, max_depth=3, min_samples_leaf=2, min_samples_split=5, score=0.29078931106895783, total=   0.3s\n",
      "[CV] criterion=entropy, max_depth=3, min_samples_leaf=2, min_samples_split=10 \n"
     ]
    },
    {
     "name": "stderr",
     "output_type": "stream",
     "text": [
      "/anaconda3/lib/python3.7/site-packages/sklearn/metrics/classification.py:1143: UndefinedMetricWarning: F-score is ill-defined and being set to 0.0 in labels with no predicted samples.\n",
      "  'precision', 'predicted', average, warn_for)\n",
      "/anaconda3/lib/python3.7/site-packages/sklearn/metrics/classification.py:1143: UndefinedMetricWarning: F-score is ill-defined and being set to 0.0 in labels with no predicted samples.\n",
      "  'precision', 'predicted', average, warn_for)\n"
     ]
    },
    {
     "name": "stdout",
     "output_type": "stream",
     "text": [
      "[CV]  criterion=entropy, max_depth=3, min_samples_leaf=2, min_samples_split=10, score=0.2913489920794306, total=   0.3s\n",
      "[CV] criterion=entropy, max_depth=3, min_samples_leaf=2, min_samples_split=10 \n"
     ]
    },
    {
     "name": "stderr",
     "output_type": "stream",
     "text": [
      "/anaconda3/lib/python3.7/site-packages/sklearn/metrics/classification.py:1143: UndefinedMetricWarning: F-score is ill-defined and being set to 0.0 in labels with no predicted samples.\n",
      "  'precision', 'predicted', average, warn_for)\n",
      "/anaconda3/lib/python3.7/site-packages/sklearn/metrics/classification.py:1143: UndefinedMetricWarning: F-score is ill-defined and being set to 0.0 in labels with no predicted samples.\n",
      "  'precision', 'predicted', average, warn_for)\n"
     ]
    },
    {
     "name": "stdout",
     "output_type": "stream",
     "text": [
      "[CV]  criterion=entropy, max_depth=3, min_samples_leaf=2, min_samples_split=10, score=0.2761127934157218, total=   0.3s\n",
      "[CV] criterion=entropy, max_depth=3, min_samples_leaf=2, min_samples_split=10 \n"
     ]
    },
    {
     "name": "stderr",
     "output_type": "stream",
     "text": [
      "/anaconda3/lib/python3.7/site-packages/sklearn/metrics/classification.py:1143: UndefinedMetricWarning: F-score is ill-defined and being set to 0.0 in labels with no predicted samples.\n",
      "  'precision', 'predicted', average, warn_for)\n",
      "/anaconda3/lib/python3.7/site-packages/sklearn/metrics/classification.py:1143: UndefinedMetricWarning: F-score is ill-defined and being set to 0.0 in labels with no predicted samples.\n",
      "  'precision', 'predicted', average, warn_for)\n"
     ]
    },
    {
     "name": "stdout",
     "output_type": "stream",
     "text": [
      "[CV]  criterion=entropy, max_depth=3, min_samples_leaf=2, min_samples_split=10, score=0.29078931106895783, total=   0.2s\n",
      "[CV] criterion=entropy, max_depth=3, min_samples_leaf=3, min_samples_split=2 \n"
     ]
    },
    {
     "name": "stderr",
     "output_type": "stream",
     "text": [
      "/anaconda3/lib/python3.7/site-packages/sklearn/metrics/classification.py:1143: UndefinedMetricWarning: F-score is ill-defined and being set to 0.0 in labels with no predicted samples.\n",
      "  'precision', 'predicted', average, warn_for)\n",
      "/anaconda3/lib/python3.7/site-packages/sklearn/metrics/classification.py:1143: UndefinedMetricWarning: F-score is ill-defined and being set to 0.0 in labels with no predicted samples.\n",
      "  'precision', 'predicted', average, warn_for)\n"
     ]
    },
    {
     "name": "stdout",
     "output_type": "stream",
     "text": [
      "[CV]  criterion=entropy, max_depth=3, min_samples_leaf=3, min_samples_split=2, score=0.2913489920794306, total=   0.2s\n",
      "[CV] criterion=entropy, max_depth=3, min_samples_leaf=3, min_samples_split=2 \n"
     ]
    },
    {
     "name": "stderr",
     "output_type": "stream",
     "text": [
      "/anaconda3/lib/python3.7/site-packages/sklearn/metrics/classification.py:1143: UndefinedMetricWarning: F-score is ill-defined and being set to 0.0 in labels with no predicted samples.\n",
      "  'precision', 'predicted', average, warn_for)\n",
      "/anaconda3/lib/python3.7/site-packages/sklearn/metrics/classification.py:1143: UndefinedMetricWarning: F-score is ill-defined and being set to 0.0 in labels with no predicted samples.\n",
      "  'precision', 'predicted', average, warn_for)\n"
     ]
    },
    {
     "name": "stdout",
     "output_type": "stream",
     "text": [
      "[CV]  criterion=entropy, max_depth=3, min_samples_leaf=3, min_samples_split=2, score=0.2761127934157218, total=   0.3s\n",
      "[CV] criterion=entropy, max_depth=3, min_samples_leaf=3, min_samples_split=2 \n"
     ]
    },
    {
     "name": "stderr",
     "output_type": "stream",
     "text": [
      "/anaconda3/lib/python3.7/site-packages/sklearn/metrics/classification.py:1143: UndefinedMetricWarning: F-score is ill-defined and being set to 0.0 in labels with no predicted samples.\n",
      "  'precision', 'predicted', average, warn_for)\n",
      "/anaconda3/lib/python3.7/site-packages/sklearn/metrics/classification.py:1143: UndefinedMetricWarning: F-score is ill-defined and being set to 0.0 in labels with no predicted samples.\n",
      "  'precision', 'predicted', average, warn_for)\n"
     ]
    },
    {
     "name": "stdout",
     "output_type": "stream",
     "text": [
      "[CV]  criterion=entropy, max_depth=3, min_samples_leaf=3, min_samples_split=2, score=0.29078931106895783, total=   0.3s\n",
      "[CV] criterion=entropy, max_depth=3, min_samples_leaf=3, min_samples_split=5 \n"
     ]
    },
    {
     "name": "stderr",
     "output_type": "stream",
     "text": [
      "/anaconda3/lib/python3.7/site-packages/sklearn/metrics/classification.py:1143: UndefinedMetricWarning: F-score is ill-defined and being set to 0.0 in labels with no predicted samples.\n",
      "  'precision', 'predicted', average, warn_for)\n",
      "/anaconda3/lib/python3.7/site-packages/sklearn/metrics/classification.py:1143: UndefinedMetricWarning: F-score is ill-defined and being set to 0.0 in labels with no predicted samples.\n",
      "  'precision', 'predicted', average, warn_for)\n"
     ]
    },
    {
     "name": "stdout",
     "output_type": "stream",
     "text": [
      "[CV]  criterion=entropy, max_depth=3, min_samples_leaf=3, min_samples_split=5, score=0.2913489920794306, total=   0.3s\n",
      "[CV] criterion=entropy, max_depth=3, min_samples_leaf=3, min_samples_split=5 \n"
     ]
    },
    {
     "name": "stderr",
     "output_type": "stream",
     "text": [
      "/anaconda3/lib/python3.7/site-packages/sklearn/metrics/classification.py:1143: UndefinedMetricWarning: F-score is ill-defined and being set to 0.0 in labels with no predicted samples.\n",
      "  'precision', 'predicted', average, warn_for)\n",
      "/anaconda3/lib/python3.7/site-packages/sklearn/metrics/classification.py:1143: UndefinedMetricWarning: F-score is ill-defined and being set to 0.0 in labels with no predicted samples.\n",
      "  'precision', 'predicted', average, warn_for)\n"
     ]
    },
    {
     "name": "stdout",
     "output_type": "stream",
     "text": [
      "[CV]  criterion=entropy, max_depth=3, min_samples_leaf=3, min_samples_split=5, score=0.2761127934157218, total=   0.2s\n",
      "[CV] criterion=entropy, max_depth=3, min_samples_leaf=3, min_samples_split=5 \n"
     ]
    },
    {
     "name": "stderr",
     "output_type": "stream",
     "text": [
      "/anaconda3/lib/python3.7/site-packages/sklearn/metrics/classification.py:1143: UndefinedMetricWarning: F-score is ill-defined and being set to 0.0 in labels with no predicted samples.\n",
      "  'precision', 'predicted', average, warn_for)\n",
      "/anaconda3/lib/python3.7/site-packages/sklearn/metrics/classification.py:1143: UndefinedMetricWarning: F-score is ill-defined and being set to 0.0 in labels with no predicted samples.\n",
      "  'precision', 'predicted', average, warn_for)\n"
     ]
    },
    {
     "name": "stdout",
     "output_type": "stream",
     "text": [
      "[CV]  criterion=entropy, max_depth=3, min_samples_leaf=3, min_samples_split=5, score=0.29078931106895783, total=   0.3s\n",
      "[CV] criterion=entropy, max_depth=3, min_samples_leaf=3, min_samples_split=10 \n"
     ]
    },
    {
     "name": "stderr",
     "output_type": "stream",
     "text": [
      "/anaconda3/lib/python3.7/site-packages/sklearn/metrics/classification.py:1143: UndefinedMetricWarning: F-score is ill-defined and being set to 0.0 in labels with no predicted samples.\n",
      "  'precision', 'predicted', average, warn_for)\n",
      "/anaconda3/lib/python3.7/site-packages/sklearn/metrics/classification.py:1143: UndefinedMetricWarning: F-score is ill-defined and being set to 0.0 in labels with no predicted samples.\n",
      "  'precision', 'predicted', average, warn_for)\n"
     ]
    },
    {
     "name": "stdout",
     "output_type": "stream",
     "text": [
      "[CV]  criterion=entropy, max_depth=3, min_samples_leaf=3, min_samples_split=10, score=0.2913489920794306, total=   0.3s\n",
      "[CV] criterion=entropy, max_depth=3, min_samples_leaf=3, min_samples_split=10 \n"
     ]
    },
    {
     "name": "stderr",
     "output_type": "stream",
     "text": [
      "/anaconda3/lib/python3.7/site-packages/sklearn/metrics/classification.py:1143: UndefinedMetricWarning: F-score is ill-defined and being set to 0.0 in labels with no predicted samples.\n",
      "  'precision', 'predicted', average, warn_for)\n",
      "/anaconda3/lib/python3.7/site-packages/sklearn/metrics/classification.py:1143: UndefinedMetricWarning: F-score is ill-defined and being set to 0.0 in labels with no predicted samples.\n",
      "  'precision', 'predicted', average, warn_for)\n"
     ]
    },
    {
     "name": "stdout",
     "output_type": "stream",
     "text": [
      "[CV]  criterion=entropy, max_depth=3, min_samples_leaf=3, min_samples_split=10, score=0.2761127934157218, total=   0.3s\n",
      "[CV] criterion=entropy, max_depth=3, min_samples_leaf=3, min_samples_split=10 \n"
     ]
    },
    {
     "name": "stderr",
     "output_type": "stream",
     "text": [
      "/anaconda3/lib/python3.7/site-packages/sklearn/metrics/classification.py:1143: UndefinedMetricWarning: F-score is ill-defined and being set to 0.0 in labels with no predicted samples.\n",
      "  'precision', 'predicted', average, warn_for)\n",
      "/anaconda3/lib/python3.7/site-packages/sklearn/metrics/classification.py:1143: UndefinedMetricWarning: F-score is ill-defined and being set to 0.0 in labels with no predicted samples.\n",
      "  'precision', 'predicted', average, warn_for)\n"
     ]
    },
    {
     "name": "stdout",
     "output_type": "stream",
     "text": [
      "[CV]  criterion=entropy, max_depth=3, min_samples_leaf=3, min_samples_split=10, score=0.29078931106895783, total=   0.3s\n",
      "[CV] criterion=entropy, max_depth=3, min_samples_leaf=4, min_samples_split=2 \n"
     ]
    },
    {
     "name": "stderr",
     "output_type": "stream",
     "text": [
      "/anaconda3/lib/python3.7/site-packages/sklearn/metrics/classification.py:1143: UndefinedMetricWarning: F-score is ill-defined and being set to 0.0 in labels with no predicted samples.\n",
      "  'precision', 'predicted', average, warn_for)\n",
      "/anaconda3/lib/python3.7/site-packages/sklearn/metrics/classification.py:1143: UndefinedMetricWarning: F-score is ill-defined and being set to 0.0 in labels with no predicted samples.\n",
      "  'precision', 'predicted', average, warn_for)\n"
     ]
    },
    {
     "name": "stdout",
     "output_type": "stream",
     "text": [
      "[CV]  criterion=entropy, max_depth=3, min_samples_leaf=4, min_samples_split=2, score=0.2913489920794306, total=   0.2s\n",
      "[CV] criterion=entropy, max_depth=3, min_samples_leaf=4, min_samples_split=2 \n"
     ]
    },
    {
     "name": "stderr",
     "output_type": "stream",
     "text": [
      "/anaconda3/lib/python3.7/site-packages/sklearn/metrics/classification.py:1143: UndefinedMetricWarning: F-score is ill-defined and being set to 0.0 in labels with no predicted samples.\n",
      "  'precision', 'predicted', average, warn_for)\n",
      "/anaconda3/lib/python3.7/site-packages/sklearn/metrics/classification.py:1143: UndefinedMetricWarning: F-score is ill-defined and being set to 0.0 in labels with no predicted samples.\n",
      "  'precision', 'predicted', average, warn_for)\n"
     ]
    },
    {
     "name": "stdout",
     "output_type": "stream",
     "text": [
      "[CV]  criterion=entropy, max_depth=3, min_samples_leaf=4, min_samples_split=2, score=0.2761127934157218, total=   0.3s\n",
      "[CV] criterion=entropy, max_depth=3, min_samples_leaf=4, min_samples_split=2 \n"
     ]
    },
    {
     "name": "stderr",
     "output_type": "stream",
     "text": [
      "/anaconda3/lib/python3.7/site-packages/sklearn/metrics/classification.py:1143: UndefinedMetricWarning: F-score is ill-defined and being set to 0.0 in labels with no predicted samples.\n",
      "  'precision', 'predicted', average, warn_for)\n",
      "/anaconda3/lib/python3.7/site-packages/sklearn/metrics/classification.py:1143: UndefinedMetricWarning: F-score is ill-defined and being set to 0.0 in labels with no predicted samples.\n",
      "  'precision', 'predicted', average, warn_for)\n"
     ]
    },
    {
     "name": "stdout",
     "output_type": "stream",
     "text": [
      "[CV]  criterion=entropy, max_depth=3, min_samples_leaf=4, min_samples_split=2, score=0.29078931106895783, total=   0.3s\n",
      "[CV] criterion=entropy, max_depth=3, min_samples_leaf=4, min_samples_split=5 \n"
     ]
    },
    {
     "name": "stderr",
     "output_type": "stream",
     "text": [
      "/anaconda3/lib/python3.7/site-packages/sklearn/metrics/classification.py:1143: UndefinedMetricWarning: F-score is ill-defined and being set to 0.0 in labels with no predicted samples.\n",
      "  'precision', 'predicted', average, warn_for)\n",
      "/anaconda3/lib/python3.7/site-packages/sklearn/metrics/classification.py:1143: UndefinedMetricWarning: F-score is ill-defined and being set to 0.0 in labels with no predicted samples.\n",
      "  'precision', 'predicted', average, warn_for)\n"
     ]
    },
    {
     "name": "stdout",
     "output_type": "stream",
     "text": [
      "[CV]  criterion=entropy, max_depth=3, min_samples_leaf=4, min_samples_split=5, score=0.2913489920794306, total=   0.3s\n",
      "[CV] criterion=entropy, max_depth=3, min_samples_leaf=4, min_samples_split=5 \n"
     ]
    },
    {
     "name": "stderr",
     "output_type": "stream",
     "text": [
      "/anaconda3/lib/python3.7/site-packages/sklearn/metrics/classification.py:1143: UndefinedMetricWarning: F-score is ill-defined and being set to 0.0 in labels with no predicted samples.\n",
      "  'precision', 'predicted', average, warn_for)\n",
      "/anaconda3/lib/python3.7/site-packages/sklearn/metrics/classification.py:1143: UndefinedMetricWarning: F-score is ill-defined and being set to 0.0 in labels with no predicted samples.\n",
      "  'precision', 'predicted', average, warn_for)\n"
     ]
    },
    {
     "name": "stdout",
     "output_type": "stream",
     "text": [
      "[CV]  criterion=entropy, max_depth=3, min_samples_leaf=4, min_samples_split=5, score=0.2761127934157218, total=   0.2s\n",
      "[CV] criterion=entropy, max_depth=3, min_samples_leaf=4, min_samples_split=5 \n"
     ]
    },
    {
     "name": "stderr",
     "output_type": "stream",
     "text": [
      "/anaconda3/lib/python3.7/site-packages/sklearn/metrics/classification.py:1143: UndefinedMetricWarning: F-score is ill-defined and being set to 0.0 in labels with no predicted samples.\n",
      "  'precision', 'predicted', average, warn_for)\n",
      "/anaconda3/lib/python3.7/site-packages/sklearn/metrics/classification.py:1143: UndefinedMetricWarning: F-score is ill-defined and being set to 0.0 in labels with no predicted samples.\n",
      "  'precision', 'predicted', average, warn_for)\n"
     ]
    },
    {
     "name": "stdout",
     "output_type": "stream",
     "text": [
      "[CV]  criterion=entropy, max_depth=3, min_samples_leaf=4, min_samples_split=5, score=0.29078931106895783, total=   0.2s\n",
      "[CV] criterion=entropy, max_depth=3, min_samples_leaf=4, min_samples_split=10 \n"
     ]
    },
    {
     "name": "stderr",
     "output_type": "stream",
     "text": [
      "/anaconda3/lib/python3.7/site-packages/sklearn/metrics/classification.py:1143: UndefinedMetricWarning: F-score is ill-defined and being set to 0.0 in labels with no predicted samples.\n",
      "  'precision', 'predicted', average, warn_for)\n",
      "/anaconda3/lib/python3.7/site-packages/sklearn/metrics/classification.py:1143: UndefinedMetricWarning: F-score is ill-defined and being set to 0.0 in labels with no predicted samples.\n",
      "  'precision', 'predicted', average, warn_for)\n"
     ]
    },
    {
     "name": "stdout",
     "output_type": "stream",
     "text": [
      "[CV]  criterion=entropy, max_depth=3, min_samples_leaf=4, min_samples_split=10, score=0.2913489920794306, total=   0.3s\n",
      "[CV] criterion=entropy, max_depth=3, min_samples_leaf=4, min_samples_split=10 \n"
     ]
    },
    {
     "name": "stderr",
     "output_type": "stream",
     "text": [
      "/anaconda3/lib/python3.7/site-packages/sklearn/metrics/classification.py:1143: UndefinedMetricWarning: F-score is ill-defined and being set to 0.0 in labels with no predicted samples.\n",
      "  'precision', 'predicted', average, warn_for)\n",
      "/anaconda3/lib/python3.7/site-packages/sklearn/metrics/classification.py:1143: UndefinedMetricWarning: F-score is ill-defined and being set to 0.0 in labels with no predicted samples.\n",
      "  'precision', 'predicted', average, warn_for)\n"
     ]
    },
    {
     "name": "stdout",
     "output_type": "stream",
     "text": [
      "[CV]  criterion=entropy, max_depth=3, min_samples_leaf=4, min_samples_split=10, score=0.2761127934157218, total=   0.2s\n",
      "[CV] criterion=entropy, max_depth=3, min_samples_leaf=4, min_samples_split=10 \n"
     ]
    },
    {
     "name": "stderr",
     "output_type": "stream",
     "text": [
      "/anaconda3/lib/python3.7/site-packages/sklearn/metrics/classification.py:1143: UndefinedMetricWarning: F-score is ill-defined and being set to 0.0 in labels with no predicted samples.\n",
      "  'precision', 'predicted', average, warn_for)\n",
      "/anaconda3/lib/python3.7/site-packages/sklearn/metrics/classification.py:1143: UndefinedMetricWarning: F-score is ill-defined and being set to 0.0 in labels with no predicted samples.\n",
      "  'precision', 'predicted', average, warn_for)\n"
     ]
    },
    {
     "name": "stdout",
     "output_type": "stream",
     "text": [
      "[CV]  criterion=entropy, max_depth=3, min_samples_leaf=4, min_samples_split=10, score=0.29078931106895783, total=   0.3s\n",
      "[CV] criterion=entropy, max_depth=3, min_samples_leaf=5, min_samples_split=2 \n"
     ]
    },
    {
     "name": "stderr",
     "output_type": "stream",
     "text": [
      "/anaconda3/lib/python3.7/site-packages/sklearn/metrics/classification.py:1143: UndefinedMetricWarning: F-score is ill-defined and being set to 0.0 in labels with no predicted samples.\n",
      "  'precision', 'predicted', average, warn_for)\n",
      "/anaconda3/lib/python3.7/site-packages/sklearn/metrics/classification.py:1143: UndefinedMetricWarning: F-score is ill-defined and being set to 0.0 in labels with no predicted samples.\n",
      "  'precision', 'predicted', average, warn_for)\n"
     ]
    },
    {
     "name": "stdout",
     "output_type": "stream",
     "text": [
      "[CV]  criterion=entropy, max_depth=3, min_samples_leaf=5, min_samples_split=2, score=0.2913489920794306, total=   0.3s\n",
      "[CV] criterion=entropy, max_depth=3, min_samples_leaf=5, min_samples_split=2 \n"
     ]
    },
    {
     "name": "stderr",
     "output_type": "stream",
     "text": [
      "/anaconda3/lib/python3.7/site-packages/sklearn/metrics/classification.py:1143: UndefinedMetricWarning: F-score is ill-defined and being set to 0.0 in labels with no predicted samples.\n",
      "  'precision', 'predicted', average, warn_for)\n",
      "/anaconda3/lib/python3.7/site-packages/sklearn/metrics/classification.py:1143: UndefinedMetricWarning: F-score is ill-defined and being set to 0.0 in labels with no predicted samples.\n",
      "  'precision', 'predicted', average, warn_for)\n"
     ]
    },
    {
     "name": "stdout",
     "output_type": "stream",
     "text": [
      "[CV]  criterion=entropy, max_depth=3, min_samples_leaf=5, min_samples_split=2, score=0.2761127934157218, total=   0.2s\n",
      "[CV] criterion=entropy, max_depth=3, min_samples_leaf=5, min_samples_split=2 \n"
     ]
    },
    {
     "name": "stderr",
     "output_type": "stream",
     "text": [
      "/anaconda3/lib/python3.7/site-packages/sklearn/metrics/classification.py:1143: UndefinedMetricWarning: F-score is ill-defined and being set to 0.0 in labels with no predicted samples.\n",
      "  'precision', 'predicted', average, warn_for)\n",
      "/anaconda3/lib/python3.7/site-packages/sklearn/metrics/classification.py:1143: UndefinedMetricWarning: F-score is ill-defined and being set to 0.0 in labels with no predicted samples.\n",
      "  'precision', 'predicted', average, warn_for)\n"
     ]
    },
    {
     "name": "stdout",
     "output_type": "stream",
     "text": [
      "[CV]  criterion=entropy, max_depth=3, min_samples_leaf=5, min_samples_split=2, score=0.29078931106895783, total=   0.3s\n",
      "[CV] criterion=entropy, max_depth=3, min_samples_leaf=5, min_samples_split=5 \n"
     ]
    },
    {
     "name": "stderr",
     "output_type": "stream",
     "text": [
      "/anaconda3/lib/python3.7/site-packages/sklearn/metrics/classification.py:1143: UndefinedMetricWarning: F-score is ill-defined and being set to 0.0 in labels with no predicted samples.\n",
      "  'precision', 'predicted', average, warn_for)\n",
      "/anaconda3/lib/python3.7/site-packages/sklearn/metrics/classification.py:1143: UndefinedMetricWarning: F-score is ill-defined and being set to 0.0 in labels with no predicted samples.\n",
      "  'precision', 'predicted', average, warn_for)\n"
     ]
    },
    {
     "name": "stdout",
     "output_type": "stream",
     "text": [
      "[CV]  criterion=entropy, max_depth=3, min_samples_leaf=5, min_samples_split=5, score=0.2913489920794306, total=   0.2s\n",
      "[CV] criterion=entropy, max_depth=3, min_samples_leaf=5, min_samples_split=5 \n"
     ]
    },
    {
     "name": "stderr",
     "output_type": "stream",
     "text": [
      "/anaconda3/lib/python3.7/site-packages/sklearn/metrics/classification.py:1143: UndefinedMetricWarning: F-score is ill-defined and being set to 0.0 in labels with no predicted samples.\n",
      "  'precision', 'predicted', average, warn_for)\n",
      "/anaconda3/lib/python3.7/site-packages/sklearn/metrics/classification.py:1143: UndefinedMetricWarning: F-score is ill-defined and being set to 0.0 in labels with no predicted samples.\n",
      "  'precision', 'predicted', average, warn_for)\n"
     ]
    },
    {
     "name": "stdout",
     "output_type": "stream",
     "text": [
      "[CV]  criterion=entropy, max_depth=3, min_samples_leaf=5, min_samples_split=5, score=0.2761127934157218, total=   0.3s\n",
      "[CV] criterion=entropy, max_depth=3, min_samples_leaf=5, min_samples_split=5 \n"
     ]
    },
    {
     "name": "stderr",
     "output_type": "stream",
     "text": [
      "/anaconda3/lib/python3.7/site-packages/sklearn/metrics/classification.py:1143: UndefinedMetricWarning: F-score is ill-defined and being set to 0.0 in labels with no predicted samples.\n",
      "  'precision', 'predicted', average, warn_for)\n",
      "/anaconda3/lib/python3.7/site-packages/sklearn/metrics/classification.py:1143: UndefinedMetricWarning: F-score is ill-defined and being set to 0.0 in labels with no predicted samples.\n",
      "  'precision', 'predicted', average, warn_for)\n"
     ]
    },
    {
     "name": "stdout",
     "output_type": "stream",
     "text": [
      "[CV]  criterion=entropy, max_depth=3, min_samples_leaf=5, min_samples_split=5, score=0.29078931106895783, total=   0.2s\n",
      "[CV] criterion=entropy, max_depth=3, min_samples_leaf=5, min_samples_split=10 \n"
     ]
    },
    {
     "name": "stderr",
     "output_type": "stream",
     "text": [
      "/anaconda3/lib/python3.7/site-packages/sklearn/metrics/classification.py:1143: UndefinedMetricWarning: F-score is ill-defined and being set to 0.0 in labels with no predicted samples.\n",
      "  'precision', 'predicted', average, warn_for)\n",
      "/anaconda3/lib/python3.7/site-packages/sklearn/metrics/classification.py:1143: UndefinedMetricWarning: F-score is ill-defined and being set to 0.0 in labels with no predicted samples.\n",
      "  'precision', 'predicted', average, warn_for)\n"
     ]
    },
    {
     "name": "stdout",
     "output_type": "stream",
     "text": [
      "[CV]  criterion=entropy, max_depth=3, min_samples_leaf=5, min_samples_split=10, score=0.2913489920794306, total=   0.2s\n",
      "[CV] criterion=entropy, max_depth=3, min_samples_leaf=5, min_samples_split=10 \n"
     ]
    },
    {
     "name": "stderr",
     "output_type": "stream",
     "text": [
      "/anaconda3/lib/python3.7/site-packages/sklearn/metrics/classification.py:1143: UndefinedMetricWarning: F-score is ill-defined and being set to 0.0 in labels with no predicted samples.\n",
      "  'precision', 'predicted', average, warn_for)\n",
      "/anaconda3/lib/python3.7/site-packages/sklearn/metrics/classification.py:1143: UndefinedMetricWarning: F-score is ill-defined and being set to 0.0 in labels with no predicted samples.\n",
      "  'precision', 'predicted', average, warn_for)\n"
     ]
    },
    {
     "name": "stdout",
     "output_type": "stream",
     "text": [
      "[CV]  criterion=entropy, max_depth=3, min_samples_leaf=5, min_samples_split=10, score=0.2761127934157218, total=   0.3s\n",
      "[CV] criterion=entropy, max_depth=3, min_samples_leaf=5, min_samples_split=10 \n"
     ]
    },
    {
     "name": "stderr",
     "output_type": "stream",
     "text": [
      "/anaconda3/lib/python3.7/site-packages/sklearn/metrics/classification.py:1143: UndefinedMetricWarning: F-score is ill-defined and being set to 0.0 in labels with no predicted samples.\n",
      "  'precision', 'predicted', average, warn_for)\n",
      "/anaconda3/lib/python3.7/site-packages/sklearn/metrics/classification.py:1143: UndefinedMetricWarning: F-score is ill-defined and being set to 0.0 in labels with no predicted samples.\n",
      "  'precision', 'predicted', average, warn_for)\n"
     ]
    },
    {
     "name": "stdout",
     "output_type": "stream",
     "text": [
      "[CV]  criterion=entropy, max_depth=3, min_samples_leaf=5, min_samples_split=10, score=0.29078931106895783, total=   0.3s\n",
      "[CV] criterion=entropy, max_depth=3, min_samples_leaf=6, min_samples_split=2 \n"
     ]
    },
    {
     "name": "stderr",
     "output_type": "stream",
     "text": [
      "/anaconda3/lib/python3.7/site-packages/sklearn/metrics/classification.py:1143: UndefinedMetricWarning: F-score is ill-defined and being set to 0.0 in labels with no predicted samples.\n",
      "  'precision', 'predicted', average, warn_for)\n",
      "/anaconda3/lib/python3.7/site-packages/sklearn/metrics/classification.py:1143: UndefinedMetricWarning: F-score is ill-defined and being set to 0.0 in labels with no predicted samples.\n",
      "  'precision', 'predicted', average, warn_for)\n"
     ]
    },
    {
     "name": "stdout",
     "output_type": "stream",
     "text": [
      "[CV]  criterion=entropy, max_depth=3, min_samples_leaf=6, min_samples_split=2, score=0.2913489920794306, total=   0.3s\n",
      "[CV] criterion=entropy, max_depth=3, min_samples_leaf=6, min_samples_split=2 \n"
     ]
    },
    {
     "name": "stderr",
     "output_type": "stream",
     "text": [
      "/anaconda3/lib/python3.7/site-packages/sklearn/metrics/classification.py:1143: UndefinedMetricWarning: F-score is ill-defined and being set to 0.0 in labels with no predicted samples.\n",
      "  'precision', 'predicted', average, warn_for)\n",
      "/anaconda3/lib/python3.7/site-packages/sklearn/metrics/classification.py:1143: UndefinedMetricWarning: F-score is ill-defined and being set to 0.0 in labels with no predicted samples.\n",
      "  'precision', 'predicted', average, warn_for)\n"
     ]
    },
    {
     "name": "stdout",
     "output_type": "stream",
     "text": [
      "[CV]  criterion=entropy, max_depth=3, min_samples_leaf=6, min_samples_split=2, score=0.2761127934157218, total=   0.3s\n",
      "[CV] criterion=entropy, max_depth=3, min_samples_leaf=6, min_samples_split=2 \n"
     ]
    },
    {
     "name": "stderr",
     "output_type": "stream",
     "text": [
      "/anaconda3/lib/python3.7/site-packages/sklearn/metrics/classification.py:1143: UndefinedMetricWarning: F-score is ill-defined and being set to 0.0 in labels with no predicted samples.\n",
      "  'precision', 'predicted', average, warn_for)\n",
      "/anaconda3/lib/python3.7/site-packages/sklearn/metrics/classification.py:1143: UndefinedMetricWarning: F-score is ill-defined and being set to 0.0 in labels with no predicted samples.\n",
      "  'precision', 'predicted', average, warn_for)\n"
     ]
    },
    {
     "name": "stdout",
     "output_type": "stream",
     "text": [
      "[CV]  criterion=entropy, max_depth=3, min_samples_leaf=6, min_samples_split=2, score=0.29078931106895783, total=   0.2s\n",
      "[CV] criterion=entropy, max_depth=3, min_samples_leaf=6, min_samples_split=5 \n"
     ]
    },
    {
     "name": "stderr",
     "output_type": "stream",
     "text": [
      "/anaconda3/lib/python3.7/site-packages/sklearn/metrics/classification.py:1143: UndefinedMetricWarning: F-score is ill-defined and being set to 0.0 in labels with no predicted samples.\n",
      "  'precision', 'predicted', average, warn_for)\n",
      "/anaconda3/lib/python3.7/site-packages/sklearn/metrics/classification.py:1143: UndefinedMetricWarning: F-score is ill-defined and being set to 0.0 in labels with no predicted samples.\n",
      "  'precision', 'predicted', average, warn_for)\n"
     ]
    },
    {
     "name": "stdout",
     "output_type": "stream",
     "text": [
      "[CV]  criterion=entropy, max_depth=3, min_samples_leaf=6, min_samples_split=5, score=0.2913489920794306, total=   0.2s\n",
      "[CV] criterion=entropy, max_depth=3, min_samples_leaf=6, min_samples_split=5 \n"
     ]
    },
    {
     "name": "stderr",
     "output_type": "stream",
     "text": [
      "/anaconda3/lib/python3.7/site-packages/sklearn/metrics/classification.py:1143: UndefinedMetricWarning: F-score is ill-defined and being set to 0.0 in labels with no predicted samples.\n",
      "  'precision', 'predicted', average, warn_for)\n",
      "/anaconda3/lib/python3.7/site-packages/sklearn/metrics/classification.py:1143: UndefinedMetricWarning: F-score is ill-defined and being set to 0.0 in labels with no predicted samples.\n",
      "  'precision', 'predicted', average, warn_for)\n"
     ]
    },
    {
     "name": "stdout",
     "output_type": "stream",
     "text": [
      "[CV]  criterion=entropy, max_depth=3, min_samples_leaf=6, min_samples_split=5, score=0.2761127934157218, total=   0.2s\n",
      "[CV] criterion=entropy, max_depth=3, min_samples_leaf=6, min_samples_split=5 \n"
     ]
    },
    {
     "name": "stderr",
     "output_type": "stream",
     "text": [
      "/anaconda3/lib/python3.7/site-packages/sklearn/metrics/classification.py:1143: UndefinedMetricWarning: F-score is ill-defined and being set to 0.0 in labels with no predicted samples.\n",
      "  'precision', 'predicted', average, warn_for)\n",
      "/anaconda3/lib/python3.7/site-packages/sklearn/metrics/classification.py:1143: UndefinedMetricWarning: F-score is ill-defined and being set to 0.0 in labels with no predicted samples.\n",
      "  'precision', 'predicted', average, warn_for)\n"
     ]
    },
    {
     "name": "stdout",
     "output_type": "stream",
     "text": [
      "[CV]  criterion=entropy, max_depth=3, min_samples_leaf=6, min_samples_split=5, score=0.29078931106895783, total=   0.2s\n",
      "[CV] criterion=entropy, max_depth=3, min_samples_leaf=6, min_samples_split=10 \n"
     ]
    },
    {
     "name": "stderr",
     "output_type": "stream",
     "text": [
      "/anaconda3/lib/python3.7/site-packages/sklearn/metrics/classification.py:1143: UndefinedMetricWarning: F-score is ill-defined and being set to 0.0 in labels with no predicted samples.\n",
      "  'precision', 'predicted', average, warn_for)\n",
      "/anaconda3/lib/python3.7/site-packages/sklearn/metrics/classification.py:1143: UndefinedMetricWarning: F-score is ill-defined and being set to 0.0 in labels with no predicted samples.\n",
      "  'precision', 'predicted', average, warn_for)\n"
     ]
    },
    {
     "name": "stdout",
     "output_type": "stream",
     "text": [
      "[CV]  criterion=entropy, max_depth=3, min_samples_leaf=6, min_samples_split=10, score=0.2913489920794306, total=   0.2s\n",
      "[CV] criterion=entropy, max_depth=3, min_samples_leaf=6, min_samples_split=10 \n"
     ]
    },
    {
     "name": "stderr",
     "output_type": "stream",
     "text": [
      "/anaconda3/lib/python3.7/site-packages/sklearn/metrics/classification.py:1143: UndefinedMetricWarning: F-score is ill-defined and being set to 0.0 in labels with no predicted samples.\n",
      "  'precision', 'predicted', average, warn_for)\n",
      "/anaconda3/lib/python3.7/site-packages/sklearn/metrics/classification.py:1143: UndefinedMetricWarning: F-score is ill-defined and being set to 0.0 in labels with no predicted samples.\n",
      "  'precision', 'predicted', average, warn_for)\n"
     ]
    },
    {
     "name": "stdout",
     "output_type": "stream",
     "text": [
      "[CV]  criterion=entropy, max_depth=3, min_samples_leaf=6, min_samples_split=10, score=0.2761127934157218, total=   0.3s\n",
      "[CV] criterion=entropy, max_depth=3, min_samples_leaf=6, min_samples_split=10 \n"
     ]
    },
    {
     "name": "stderr",
     "output_type": "stream",
     "text": [
      "/anaconda3/lib/python3.7/site-packages/sklearn/metrics/classification.py:1143: UndefinedMetricWarning: F-score is ill-defined and being set to 0.0 in labels with no predicted samples.\n",
      "  'precision', 'predicted', average, warn_for)\n",
      "/anaconda3/lib/python3.7/site-packages/sklearn/metrics/classification.py:1143: UndefinedMetricWarning: F-score is ill-defined and being set to 0.0 in labels with no predicted samples.\n",
      "  'precision', 'predicted', average, warn_for)\n"
     ]
    },
    {
     "name": "stdout",
     "output_type": "stream",
     "text": [
      "[CV]  criterion=entropy, max_depth=3, min_samples_leaf=6, min_samples_split=10, score=0.29078931106895783, total=   0.2s\n",
      "[CV] criterion=entropy, max_depth=4, min_samples_leaf=1, min_samples_split=2 \n"
     ]
    },
    {
     "name": "stderr",
     "output_type": "stream",
     "text": [
      "/anaconda3/lib/python3.7/site-packages/sklearn/metrics/classification.py:1143: UndefinedMetricWarning: F-score is ill-defined and being set to 0.0 in labels with no predicted samples.\n",
      "  'precision', 'predicted', average, warn_for)\n",
      "/anaconda3/lib/python3.7/site-packages/sklearn/metrics/classification.py:1143: UndefinedMetricWarning: F-score is ill-defined and being set to 0.0 in labels with no predicted samples.\n",
      "  'precision', 'predicted', average, warn_for)\n"
     ]
    },
    {
     "name": "stdout",
     "output_type": "stream",
     "text": [
      "[CV]  criterion=entropy, max_depth=4, min_samples_leaf=1, min_samples_split=2, score=0.3230277479297636, total=   0.3s\n",
      "[CV] criterion=entropy, max_depth=4, min_samples_leaf=1, min_samples_split=2 \n",
      "[CV]  criterion=entropy, max_depth=4, min_samples_leaf=1, min_samples_split=2, score=0.3184137062295325, total=   0.3s\n",
      "[CV] criterion=entropy, max_depth=4, min_samples_leaf=1, min_samples_split=2 \n",
      "[CV]  criterion=entropy, max_depth=4, min_samples_leaf=1, min_samples_split=2, score=0.31839454334918854, total=   0.3s\n",
      "[CV] criterion=entropy, max_depth=4, min_samples_leaf=1, min_samples_split=5 \n"
     ]
    },
    {
     "name": "stderr",
     "output_type": "stream",
     "text": [
      "/anaconda3/lib/python3.7/site-packages/sklearn/metrics/classification.py:1143: UndefinedMetricWarning: F-score is ill-defined and being set to 0.0 in labels with no predicted samples.\n",
      "  'precision', 'predicted', average, warn_for)\n",
      "/anaconda3/lib/python3.7/site-packages/sklearn/metrics/classification.py:1143: UndefinedMetricWarning: F-score is ill-defined and being set to 0.0 in labels with no predicted samples.\n",
      "  'precision', 'predicted', average, warn_for)\n"
     ]
    },
    {
     "name": "stdout",
     "output_type": "stream",
     "text": [
      "[CV]  criterion=entropy, max_depth=4, min_samples_leaf=1, min_samples_split=5, score=0.3230277479297636, total=   0.3s\n",
      "[CV] criterion=entropy, max_depth=4, min_samples_leaf=1, min_samples_split=5 \n",
      "[CV]  criterion=entropy, max_depth=4, min_samples_leaf=1, min_samples_split=5, score=0.3184137062295325, total=   0.3s\n",
      "[CV] criterion=entropy, max_depth=4, min_samples_leaf=1, min_samples_split=5 \n",
      "[CV]  criterion=entropy, max_depth=4, min_samples_leaf=1, min_samples_split=5, score=0.31839454334918854, total=   0.3s\n",
      "[CV] criterion=entropy, max_depth=4, min_samples_leaf=1, min_samples_split=10 \n"
     ]
    },
    {
     "name": "stderr",
     "output_type": "stream",
     "text": [
      "/anaconda3/lib/python3.7/site-packages/sklearn/metrics/classification.py:1143: UndefinedMetricWarning: F-score is ill-defined and being set to 0.0 in labels with no predicted samples.\n",
      "  'precision', 'predicted', average, warn_for)\n",
      "/anaconda3/lib/python3.7/site-packages/sklearn/metrics/classification.py:1143: UndefinedMetricWarning: F-score is ill-defined and being set to 0.0 in labels with no predicted samples.\n",
      "  'precision', 'predicted', average, warn_for)\n"
     ]
    },
    {
     "name": "stdout",
     "output_type": "stream",
     "text": [
      "[CV]  criterion=entropy, max_depth=4, min_samples_leaf=1, min_samples_split=10, score=0.3230277479297636, total=   0.3s\n",
      "[CV] criterion=entropy, max_depth=4, min_samples_leaf=1, min_samples_split=10 \n",
      "[CV]  criterion=entropy, max_depth=4, min_samples_leaf=1, min_samples_split=10, score=0.3184137062295325, total=   0.3s\n",
      "[CV] criterion=entropy, max_depth=4, min_samples_leaf=1, min_samples_split=10 \n",
      "[CV]  criterion=entropy, max_depth=4, min_samples_leaf=1, min_samples_split=10, score=0.31839454334918854, total=   0.3s\n",
      "[CV] criterion=entropy, max_depth=4, min_samples_leaf=2, min_samples_split=2 \n"
     ]
    },
    {
     "name": "stderr",
     "output_type": "stream",
     "text": [
      "/anaconda3/lib/python3.7/site-packages/sklearn/metrics/classification.py:1143: UndefinedMetricWarning: F-score is ill-defined and being set to 0.0 in labels with no predicted samples.\n",
      "  'precision', 'predicted', average, warn_for)\n",
      "/anaconda3/lib/python3.7/site-packages/sklearn/metrics/classification.py:1143: UndefinedMetricWarning: F-score is ill-defined and being set to 0.0 in labels with no predicted samples.\n",
      "  'precision', 'predicted', average, warn_for)\n"
     ]
    },
    {
     "name": "stdout",
     "output_type": "stream",
     "text": [
      "[CV]  criterion=entropy, max_depth=4, min_samples_leaf=2, min_samples_split=2, score=0.3230277479297636, total=   0.3s\n",
      "[CV] criterion=entropy, max_depth=4, min_samples_leaf=2, min_samples_split=2 \n",
      "[CV]  criterion=entropy, max_depth=4, min_samples_leaf=2, min_samples_split=2, score=0.3184137062295325, total=   0.3s\n",
      "[CV] criterion=entropy, max_depth=4, min_samples_leaf=2, min_samples_split=2 \n",
      "[CV]  criterion=entropy, max_depth=4, min_samples_leaf=2, min_samples_split=2, score=0.31839454334918854, total=   0.3s\n",
      "[CV] criterion=entropy, max_depth=4, min_samples_leaf=2, min_samples_split=5 \n"
     ]
    },
    {
     "name": "stderr",
     "output_type": "stream",
     "text": [
      "/anaconda3/lib/python3.7/site-packages/sklearn/metrics/classification.py:1143: UndefinedMetricWarning: F-score is ill-defined and being set to 0.0 in labels with no predicted samples.\n",
      "  'precision', 'predicted', average, warn_for)\n",
      "/anaconda3/lib/python3.7/site-packages/sklearn/metrics/classification.py:1143: UndefinedMetricWarning: F-score is ill-defined and being set to 0.0 in labels with no predicted samples.\n",
      "  'precision', 'predicted', average, warn_for)\n"
     ]
    },
    {
     "name": "stdout",
     "output_type": "stream",
     "text": [
      "[CV]  criterion=entropy, max_depth=4, min_samples_leaf=2, min_samples_split=5, score=0.3230277479297636, total=   0.3s\n",
      "[CV] criterion=entropy, max_depth=4, min_samples_leaf=2, min_samples_split=5 \n",
      "[CV]  criterion=entropy, max_depth=4, min_samples_leaf=2, min_samples_split=5, score=0.3184137062295325, total=   0.3s\n",
      "[CV] criterion=entropy, max_depth=4, min_samples_leaf=2, min_samples_split=5 \n",
      "[CV]  criterion=entropy, max_depth=4, min_samples_leaf=2, min_samples_split=5, score=0.31839454334918854, total=   0.3s\n",
      "[CV] criterion=entropy, max_depth=4, min_samples_leaf=2, min_samples_split=10 \n"
     ]
    },
    {
     "name": "stderr",
     "output_type": "stream",
     "text": [
      "/anaconda3/lib/python3.7/site-packages/sklearn/metrics/classification.py:1143: UndefinedMetricWarning: F-score is ill-defined and being set to 0.0 in labels with no predicted samples.\n",
      "  'precision', 'predicted', average, warn_for)\n",
      "/anaconda3/lib/python3.7/site-packages/sklearn/metrics/classification.py:1143: UndefinedMetricWarning: F-score is ill-defined and being set to 0.0 in labels with no predicted samples.\n",
      "  'precision', 'predicted', average, warn_for)\n"
     ]
    },
    {
     "name": "stdout",
     "output_type": "stream",
     "text": [
      "[CV]  criterion=entropy, max_depth=4, min_samples_leaf=2, min_samples_split=10, score=0.3230277479297636, total=   0.3s\n",
      "[CV] criterion=entropy, max_depth=4, min_samples_leaf=2, min_samples_split=10 \n",
      "[CV]  criterion=entropy, max_depth=4, min_samples_leaf=2, min_samples_split=10, score=0.3184137062295325, total=   0.4s\n",
      "[CV] criterion=entropy, max_depth=4, min_samples_leaf=2, min_samples_split=10 \n",
      "[CV]  criterion=entropy, max_depth=4, min_samples_leaf=2, min_samples_split=10, score=0.31839454334918854, total=   0.3s\n",
      "[CV] criterion=entropy, max_depth=4, min_samples_leaf=3, min_samples_split=2 \n"
     ]
    },
    {
     "name": "stderr",
     "output_type": "stream",
     "text": [
      "/anaconda3/lib/python3.7/site-packages/sklearn/metrics/classification.py:1143: UndefinedMetricWarning: F-score is ill-defined and being set to 0.0 in labels with no predicted samples.\n",
      "  'precision', 'predicted', average, warn_for)\n",
      "/anaconda3/lib/python3.7/site-packages/sklearn/metrics/classification.py:1143: UndefinedMetricWarning: F-score is ill-defined and being set to 0.0 in labels with no predicted samples.\n",
      "  'precision', 'predicted', average, warn_for)\n"
     ]
    },
    {
     "name": "stdout",
     "output_type": "stream",
     "text": [
      "[CV]  criterion=entropy, max_depth=4, min_samples_leaf=3, min_samples_split=2, score=0.3230277479297636, total=   0.3s\n",
      "[CV] criterion=entropy, max_depth=4, min_samples_leaf=3, min_samples_split=2 \n",
      "[CV]  criterion=entropy, max_depth=4, min_samples_leaf=3, min_samples_split=2, score=0.3184137062295325, total=   0.3s\n",
      "[CV] criterion=entropy, max_depth=4, min_samples_leaf=3, min_samples_split=2 \n",
      "[CV]  criterion=entropy, max_depth=4, min_samples_leaf=3, min_samples_split=2, score=0.31839454334918854, total=   0.3s\n",
      "[CV] criterion=entropy, max_depth=4, min_samples_leaf=3, min_samples_split=5 \n"
     ]
    },
    {
     "name": "stderr",
     "output_type": "stream",
     "text": [
      "/anaconda3/lib/python3.7/site-packages/sklearn/metrics/classification.py:1143: UndefinedMetricWarning: F-score is ill-defined and being set to 0.0 in labels with no predicted samples.\n",
      "  'precision', 'predicted', average, warn_for)\n",
      "/anaconda3/lib/python3.7/site-packages/sklearn/metrics/classification.py:1143: UndefinedMetricWarning: F-score is ill-defined and being set to 0.0 in labels with no predicted samples.\n",
      "  'precision', 'predicted', average, warn_for)\n"
     ]
    },
    {
     "name": "stdout",
     "output_type": "stream",
     "text": [
      "[CV]  criterion=entropy, max_depth=4, min_samples_leaf=3, min_samples_split=5, score=0.3230277479297636, total=   0.3s\n",
      "[CV] criterion=entropy, max_depth=4, min_samples_leaf=3, min_samples_split=5 \n",
      "[CV]  criterion=entropy, max_depth=4, min_samples_leaf=3, min_samples_split=5, score=0.3184137062295325, total=   0.3s\n",
      "[CV] criterion=entropy, max_depth=4, min_samples_leaf=3, min_samples_split=5 \n",
      "[CV]  criterion=entropy, max_depth=4, min_samples_leaf=3, min_samples_split=5, score=0.31839454334918854, total=   0.3s\n",
      "[CV] criterion=entropy, max_depth=4, min_samples_leaf=3, min_samples_split=10 \n"
     ]
    },
    {
     "name": "stderr",
     "output_type": "stream",
     "text": [
      "/anaconda3/lib/python3.7/site-packages/sklearn/metrics/classification.py:1143: UndefinedMetricWarning: F-score is ill-defined and being set to 0.0 in labels with no predicted samples.\n",
      "  'precision', 'predicted', average, warn_for)\n",
      "/anaconda3/lib/python3.7/site-packages/sklearn/metrics/classification.py:1143: UndefinedMetricWarning: F-score is ill-defined and being set to 0.0 in labels with no predicted samples.\n",
      "  'precision', 'predicted', average, warn_for)\n"
     ]
    },
    {
     "name": "stdout",
     "output_type": "stream",
     "text": [
      "[CV]  criterion=entropy, max_depth=4, min_samples_leaf=3, min_samples_split=10, score=0.3230277479297636, total=   0.3s\n",
      "[CV] criterion=entropy, max_depth=4, min_samples_leaf=3, min_samples_split=10 \n",
      "[CV]  criterion=entropy, max_depth=4, min_samples_leaf=3, min_samples_split=10, score=0.3184137062295325, total=   0.3s\n",
      "[CV] criterion=entropy, max_depth=4, min_samples_leaf=3, min_samples_split=10 \n",
      "[CV]  criterion=entropy, max_depth=4, min_samples_leaf=3, min_samples_split=10, score=0.31839454334918854, total=   0.3s\n",
      "[CV] criterion=entropy, max_depth=4, min_samples_leaf=4, min_samples_split=2 \n"
     ]
    },
    {
     "name": "stderr",
     "output_type": "stream",
     "text": [
      "/anaconda3/lib/python3.7/site-packages/sklearn/metrics/classification.py:1143: UndefinedMetricWarning: F-score is ill-defined and being set to 0.0 in labels with no predicted samples.\n",
      "  'precision', 'predicted', average, warn_for)\n",
      "/anaconda3/lib/python3.7/site-packages/sklearn/metrics/classification.py:1143: UndefinedMetricWarning: F-score is ill-defined and being set to 0.0 in labels with no predicted samples.\n",
      "  'precision', 'predicted', average, warn_for)\n"
     ]
    },
    {
     "name": "stdout",
     "output_type": "stream",
     "text": [
      "[CV]  criterion=entropy, max_depth=4, min_samples_leaf=4, min_samples_split=2, score=0.3230277479297636, total=   0.3s\n",
      "[CV] criterion=entropy, max_depth=4, min_samples_leaf=4, min_samples_split=2 \n",
      "[CV]  criterion=entropy, max_depth=4, min_samples_leaf=4, min_samples_split=2, score=0.3184137062295325, total=   0.3s\n",
      "[CV] criterion=entropy, max_depth=4, min_samples_leaf=4, min_samples_split=2 \n",
      "[CV]  criterion=entropy, max_depth=4, min_samples_leaf=4, min_samples_split=2, score=0.31839454334918854, total=   0.3s\n",
      "[CV] criterion=entropy, max_depth=4, min_samples_leaf=4, min_samples_split=5 \n"
     ]
    },
    {
     "name": "stderr",
     "output_type": "stream",
     "text": [
      "/anaconda3/lib/python3.7/site-packages/sklearn/metrics/classification.py:1143: UndefinedMetricWarning: F-score is ill-defined and being set to 0.0 in labels with no predicted samples.\n",
      "  'precision', 'predicted', average, warn_for)\n",
      "/anaconda3/lib/python3.7/site-packages/sklearn/metrics/classification.py:1143: UndefinedMetricWarning: F-score is ill-defined and being set to 0.0 in labels with no predicted samples.\n",
      "  'precision', 'predicted', average, warn_for)\n"
     ]
    },
    {
     "name": "stdout",
     "output_type": "stream",
     "text": [
      "[CV]  criterion=entropy, max_depth=4, min_samples_leaf=4, min_samples_split=5, score=0.3230277479297636, total=   0.3s\n",
      "[CV] criterion=entropy, max_depth=4, min_samples_leaf=4, min_samples_split=5 \n",
      "[CV]  criterion=entropy, max_depth=4, min_samples_leaf=4, min_samples_split=5, score=0.3184137062295325, total=   0.3s\n",
      "[CV] criterion=entropy, max_depth=4, min_samples_leaf=4, min_samples_split=5 \n",
      "[CV]  criterion=entropy, max_depth=4, min_samples_leaf=4, min_samples_split=5, score=0.31839454334918854, total=   0.3s\n",
      "[CV] criterion=entropy, max_depth=4, min_samples_leaf=4, min_samples_split=10 \n"
     ]
    },
    {
     "name": "stderr",
     "output_type": "stream",
     "text": [
      "/anaconda3/lib/python3.7/site-packages/sklearn/metrics/classification.py:1143: UndefinedMetricWarning: F-score is ill-defined and being set to 0.0 in labels with no predicted samples.\n",
      "  'precision', 'predicted', average, warn_for)\n",
      "/anaconda3/lib/python3.7/site-packages/sklearn/metrics/classification.py:1143: UndefinedMetricWarning: F-score is ill-defined and being set to 0.0 in labels with no predicted samples.\n",
      "  'precision', 'predicted', average, warn_for)\n"
     ]
    },
    {
     "name": "stdout",
     "output_type": "stream",
     "text": [
      "[CV]  criterion=entropy, max_depth=4, min_samples_leaf=4, min_samples_split=10, score=0.3230277479297636, total=   0.3s\n",
      "[CV] criterion=entropy, max_depth=4, min_samples_leaf=4, min_samples_split=10 \n",
      "[CV]  criterion=entropy, max_depth=4, min_samples_leaf=4, min_samples_split=10, score=0.3184137062295325, total=   0.3s\n",
      "[CV] criterion=entropy, max_depth=4, min_samples_leaf=4, min_samples_split=10 \n",
      "[CV]  criterion=entropy, max_depth=4, min_samples_leaf=4, min_samples_split=10, score=0.31839454334918854, total=   0.3s\n",
      "[CV] criterion=entropy, max_depth=4, min_samples_leaf=5, min_samples_split=2 \n"
     ]
    },
    {
     "name": "stderr",
     "output_type": "stream",
     "text": [
      "/anaconda3/lib/python3.7/site-packages/sklearn/metrics/classification.py:1143: UndefinedMetricWarning: F-score is ill-defined and being set to 0.0 in labels with no predicted samples.\n",
      "  'precision', 'predicted', average, warn_for)\n",
      "/anaconda3/lib/python3.7/site-packages/sklearn/metrics/classification.py:1143: UndefinedMetricWarning: F-score is ill-defined and being set to 0.0 in labels with no predicted samples.\n",
      "  'precision', 'predicted', average, warn_for)\n"
     ]
    },
    {
     "name": "stdout",
     "output_type": "stream",
     "text": [
      "[CV]  criterion=entropy, max_depth=4, min_samples_leaf=5, min_samples_split=2, score=0.3230277479297636, total=   0.3s\n",
      "[CV] criterion=entropy, max_depth=4, min_samples_leaf=5, min_samples_split=2 \n",
      "[CV]  criterion=entropy, max_depth=4, min_samples_leaf=5, min_samples_split=2, score=0.3184137062295325, total=   0.4s\n",
      "[CV] criterion=entropy, max_depth=4, min_samples_leaf=5, min_samples_split=2 \n",
      "[CV]  criterion=entropy, max_depth=4, min_samples_leaf=5, min_samples_split=2, score=0.31839454334918854, total=   0.3s\n",
      "[CV] criterion=entropy, max_depth=4, min_samples_leaf=5, min_samples_split=5 \n"
     ]
    },
    {
     "name": "stderr",
     "output_type": "stream",
     "text": [
      "/anaconda3/lib/python3.7/site-packages/sklearn/metrics/classification.py:1143: UndefinedMetricWarning: F-score is ill-defined and being set to 0.0 in labels with no predicted samples.\n",
      "  'precision', 'predicted', average, warn_for)\n",
      "/anaconda3/lib/python3.7/site-packages/sklearn/metrics/classification.py:1143: UndefinedMetricWarning: F-score is ill-defined and being set to 0.0 in labels with no predicted samples.\n",
      "  'precision', 'predicted', average, warn_for)\n"
     ]
    },
    {
     "name": "stdout",
     "output_type": "stream",
     "text": [
      "[CV]  criterion=entropy, max_depth=4, min_samples_leaf=5, min_samples_split=5, score=0.3230277479297636, total=   0.3s\n",
      "[CV] criterion=entropy, max_depth=4, min_samples_leaf=5, min_samples_split=5 \n",
      "[CV]  criterion=entropy, max_depth=4, min_samples_leaf=5, min_samples_split=5, score=0.3184137062295325, total=   0.3s\n",
      "[CV] criterion=entropy, max_depth=4, min_samples_leaf=5, min_samples_split=5 \n",
      "[CV]  criterion=entropy, max_depth=4, min_samples_leaf=5, min_samples_split=5, score=0.31839454334918854, total=   0.3s\n",
      "[CV] criterion=entropy, max_depth=4, min_samples_leaf=5, min_samples_split=10 \n"
     ]
    },
    {
     "name": "stderr",
     "output_type": "stream",
     "text": [
      "/anaconda3/lib/python3.7/site-packages/sklearn/metrics/classification.py:1143: UndefinedMetricWarning: F-score is ill-defined and being set to 0.0 in labels with no predicted samples.\n",
      "  'precision', 'predicted', average, warn_for)\n",
      "/anaconda3/lib/python3.7/site-packages/sklearn/metrics/classification.py:1143: UndefinedMetricWarning: F-score is ill-defined and being set to 0.0 in labels with no predicted samples.\n",
      "  'precision', 'predicted', average, warn_for)\n"
     ]
    },
    {
     "name": "stdout",
     "output_type": "stream",
     "text": [
      "[CV]  criterion=entropy, max_depth=4, min_samples_leaf=5, min_samples_split=10, score=0.3230277479297636, total=   0.3s\n",
      "[CV] criterion=entropy, max_depth=4, min_samples_leaf=5, min_samples_split=10 \n",
      "[CV]  criterion=entropy, max_depth=4, min_samples_leaf=5, min_samples_split=10, score=0.3184137062295325, total=   0.4s\n",
      "[CV] criterion=entropy, max_depth=4, min_samples_leaf=5, min_samples_split=10 \n",
      "[CV]  criterion=entropy, max_depth=4, min_samples_leaf=5, min_samples_split=10, score=0.31839454334918854, total=   0.3s\n",
      "[CV] criterion=entropy, max_depth=4, min_samples_leaf=6, min_samples_split=2 \n"
     ]
    },
    {
     "name": "stderr",
     "output_type": "stream",
     "text": [
      "/anaconda3/lib/python3.7/site-packages/sklearn/metrics/classification.py:1143: UndefinedMetricWarning: F-score is ill-defined and being set to 0.0 in labels with no predicted samples.\n",
      "  'precision', 'predicted', average, warn_for)\n",
      "/anaconda3/lib/python3.7/site-packages/sklearn/metrics/classification.py:1143: UndefinedMetricWarning: F-score is ill-defined and being set to 0.0 in labels with no predicted samples.\n",
      "  'precision', 'predicted', average, warn_for)\n"
     ]
    },
    {
     "name": "stdout",
     "output_type": "stream",
     "text": [
      "[CV]  criterion=entropy, max_depth=4, min_samples_leaf=6, min_samples_split=2, score=0.3230277479297636, total=   0.3s\n",
      "[CV] criterion=entropy, max_depth=4, min_samples_leaf=6, min_samples_split=2 \n",
      "[CV]  criterion=entropy, max_depth=4, min_samples_leaf=6, min_samples_split=2, score=0.3184137062295325, total=   0.3s\n",
      "[CV] criterion=entropy, max_depth=4, min_samples_leaf=6, min_samples_split=2 \n",
      "[CV]  criterion=entropy, max_depth=4, min_samples_leaf=6, min_samples_split=2, score=0.31839454334918854, total=   0.3s\n",
      "[CV] criterion=entropy, max_depth=4, min_samples_leaf=6, min_samples_split=5 \n"
     ]
    },
    {
     "name": "stderr",
     "output_type": "stream",
     "text": [
      "/anaconda3/lib/python3.7/site-packages/sklearn/metrics/classification.py:1143: UndefinedMetricWarning: F-score is ill-defined and being set to 0.0 in labels with no predicted samples.\n",
      "  'precision', 'predicted', average, warn_for)\n",
      "/anaconda3/lib/python3.7/site-packages/sklearn/metrics/classification.py:1143: UndefinedMetricWarning: F-score is ill-defined and being set to 0.0 in labels with no predicted samples.\n",
      "  'precision', 'predicted', average, warn_for)\n"
     ]
    },
    {
     "name": "stdout",
     "output_type": "stream",
     "text": [
      "[CV]  criterion=entropy, max_depth=4, min_samples_leaf=6, min_samples_split=5, score=0.3230277479297636, total=   0.3s\n",
      "[CV] criterion=entropy, max_depth=4, min_samples_leaf=6, min_samples_split=5 \n",
      "[CV]  criterion=entropy, max_depth=4, min_samples_leaf=6, min_samples_split=5, score=0.3184137062295325, total=   0.3s\n",
      "[CV] criterion=entropy, max_depth=4, min_samples_leaf=6, min_samples_split=5 \n",
      "[CV]  criterion=entropy, max_depth=4, min_samples_leaf=6, min_samples_split=5, score=0.31839454334918854, total=   0.3s\n",
      "[CV] criterion=entropy, max_depth=4, min_samples_leaf=6, min_samples_split=10 \n"
     ]
    },
    {
     "name": "stderr",
     "output_type": "stream",
     "text": [
      "/anaconda3/lib/python3.7/site-packages/sklearn/metrics/classification.py:1143: UndefinedMetricWarning: F-score is ill-defined and being set to 0.0 in labels with no predicted samples.\n",
      "  'precision', 'predicted', average, warn_for)\n",
      "/anaconda3/lib/python3.7/site-packages/sklearn/metrics/classification.py:1143: UndefinedMetricWarning: F-score is ill-defined and being set to 0.0 in labels with no predicted samples.\n",
      "  'precision', 'predicted', average, warn_for)\n"
     ]
    },
    {
     "name": "stdout",
     "output_type": "stream",
     "text": [
      "[CV]  criterion=entropy, max_depth=4, min_samples_leaf=6, min_samples_split=10, score=0.3230277479297636, total=   0.3s\n",
      "[CV] criterion=entropy, max_depth=4, min_samples_leaf=6, min_samples_split=10 \n",
      "[CV]  criterion=entropy, max_depth=4, min_samples_leaf=6, min_samples_split=10, score=0.3184137062295325, total=   0.3s\n",
      "[CV] criterion=entropy, max_depth=4, min_samples_leaf=6, min_samples_split=10 \n",
      "[CV]  criterion=entropy, max_depth=4, min_samples_leaf=6, min_samples_split=10, score=0.31839454334918854, total=   0.3s\n",
      "[CV] criterion=entropy, max_depth=5, min_samples_leaf=1, min_samples_split=2 \n",
      "[CV]  criterion=entropy, max_depth=5, min_samples_leaf=1, min_samples_split=2, score=0.32767338680598873, total=   0.4s\n",
      "[CV] criterion=entropy, max_depth=5, min_samples_leaf=1, min_samples_split=2 \n",
      "[CV]  criterion=entropy, max_depth=5, min_samples_leaf=1, min_samples_split=2, score=0.33307766631174873, total=   0.4s\n",
      "[CV] criterion=entropy, max_depth=5, min_samples_leaf=1, min_samples_split=2 \n",
      "[CV]  criterion=entropy, max_depth=5, min_samples_leaf=1, min_samples_split=2, score=0.3272021453685619, total=   0.4s\n",
      "[CV] criterion=entropy, max_depth=5, min_samples_leaf=1, min_samples_split=5 \n",
      "[CV]  criterion=entropy, max_depth=5, min_samples_leaf=1, min_samples_split=5, score=0.32767338680598873, total=   0.5s\n",
      "[CV] criterion=entropy, max_depth=5, min_samples_leaf=1, min_samples_split=5 \n",
      "[CV]  criterion=entropy, max_depth=5, min_samples_leaf=1, min_samples_split=5, score=0.33307766631174873, total=   0.4s\n",
      "[CV] criterion=entropy, max_depth=5, min_samples_leaf=1, min_samples_split=5 \n",
      "[CV]  criterion=entropy, max_depth=5, min_samples_leaf=1, min_samples_split=5, score=0.3272021453685619, total=   0.4s\n",
      "[CV] criterion=entropy, max_depth=5, min_samples_leaf=1, min_samples_split=10 \n",
      "[CV]  criterion=entropy, max_depth=5, min_samples_leaf=1, min_samples_split=10, score=0.32767338680598873, total=   0.4s\n",
      "[CV] criterion=entropy, max_depth=5, min_samples_leaf=1, min_samples_split=10 \n",
      "[CV]  criterion=entropy, max_depth=5, min_samples_leaf=1, min_samples_split=10, score=0.33307766631174873, total=   0.4s\n",
      "[CV] criterion=entropy, max_depth=5, min_samples_leaf=1, min_samples_split=10 \n",
      "[CV]  criterion=entropy, max_depth=5, min_samples_leaf=1, min_samples_split=10, score=0.3272021453685619, total=   0.4s\n",
      "[CV] criterion=entropy, max_depth=5, min_samples_leaf=2, min_samples_split=2 \n",
      "[CV]  criterion=entropy, max_depth=5, min_samples_leaf=2, min_samples_split=2, score=0.32767338680598873, total=   0.4s\n",
      "[CV] criterion=entropy, max_depth=5, min_samples_leaf=2, min_samples_split=2 \n",
      "[CV]  criterion=entropy, max_depth=5, min_samples_leaf=2, min_samples_split=2, score=0.33307766631174873, total=   0.4s\n",
      "[CV] criterion=entropy, max_depth=5, min_samples_leaf=2, min_samples_split=2 \n",
      "[CV]  criterion=entropy, max_depth=5, min_samples_leaf=2, min_samples_split=2, score=0.3272021453685619, total=   0.4s\n",
      "[CV] criterion=entropy, max_depth=5, min_samples_leaf=2, min_samples_split=5 \n",
      "[CV]  criterion=entropy, max_depth=5, min_samples_leaf=2, min_samples_split=5, score=0.32767338680598873, total=   0.4s\n",
      "[CV] criterion=entropy, max_depth=5, min_samples_leaf=2, min_samples_split=5 \n",
      "[CV]  criterion=entropy, max_depth=5, min_samples_leaf=2, min_samples_split=5, score=0.33307766631174873, total=   0.4s\n",
      "[CV] criterion=entropy, max_depth=5, min_samples_leaf=2, min_samples_split=5 \n",
      "[CV]  criterion=entropy, max_depth=5, min_samples_leaf=2, min_samples_split=5, score=0.3272021453685619, total=   0.4s\n",
      "[CV] criterion=entropy, max_depth=5, min_samples_leaf=2, min_samples_split=10 \n",
      "[CV]  criterion=entropy, max_depth=5, min_samples_leaf=2, min_samples_split=10, score=0.32767338680598873, total=   0.4s\n",
      "[CV] criterion=entropy, max_depth=5, min_samples_leaf=2, min_samples_split=10 \n",
      "[CV]  criterion=entropy, max_depth=5, min_samples_leaf=2, min_samples_split=10, score=0.33307766631174873, total=   0.4s\n",
      "[CV] criterion=entropy, max_depth=5, min_samples_leaf=2, min_samples_split=10 \n",
      "[CV]  criterion=entropy, max_depth=5, min_samples_leaf=2, min_samples_split=10, score=0.3272021453685619, total=   0.4s\n",
      "[CV] criterion=entropy, max_depth=5, min_samples_leaf=3, min_samples_split=2 \n",
      "[CV]  criterion=entropy, max_depth=5, min_samples_leaf=3, min_samples_split=2, score=0.32767338680598873, total=   0.4s\n",
      "[CV] criterion=entropy, max_depth=5, min_samples_leaf=3, min_samples_split=2 \n",
      "[CV]  criterion=entropy, max_depth=5, min_samples_leaf=3, min_samples_split=2, score=0.33307766631174873, total=   0.4s\n",
      "[CV] criterion=entropy, max_depth=5, min_samples_leaf=3, min_samples_split=2 \n",
      "[CV]  criterion=entropy, max_depth=5, min_samples_leaf=3, min_samples_split=2, score=0.3272021453685619, total=   0.4s\n",
      "[CV] criterion=entropy, max_depth=5, min_samples_leaf=3, min_samples_split=5 \n",
      "[CV]  criterion=entropy, max_depth=5, min_samples_leaf=3, min_samples_split=5, score=0.32767338680598873, total=   0.4s\n",
      "[CV] criterion=entropy, max_depth=5, min_samples_leaf=3, min_samples_split=5 \n",
      "[CV]  criterion=entropy, max_depth=5, min_samples_leaf=3, min_samples_split=5, score=0.33307766631174873, total=   0.4s\n",
      "[CV] criterion=entropy, max_depth=5, min_samples_leaf=3, min_samples_split=5 \n",
      "[CV]  criterion=entropy, max_depth=5, min_samples_leaf=3, min_samples_split=5, score=0.3272021453685619, total=   0.4s\n",
      "[CV] criterion=entropy, max_depth=5, min_samples_leaf=3, min_samples_split=10 \n",
      "[CV]  criterion=entropy, max_depth=5, min_samples_leaf=3, min_samples_split=10, score=0.32767338680598873, total=   0.4s\n",
      "[CV] criterion=entropy, max_depth=5, min_samples_leaf=3, min_samples_split=10 \n",
      "[CV]  criterion=entropy, max_depth=5, min_samples_leaf=3, min_samples_split=10, score=0.33307766631174873, total=   0.4s\n",
      "[CV] criterion=entropy, max_depth=5, min_samples_leaf=3, min_samples_split=10 \n",
      "[CV]  criterion=entropy, max_depth=5, min_samples_leaf=3, min_samples_split=10, score=0.3272021453685619, total=   0.4s\n",
      "[CV] criterion=entropy, max_depth=5, min_samples_leaf=4, min_samples_split=2 \n",
      "[CV]  criterion=entropy, max_depth=5, min_samples_leaf=4, min_samples_split=2, score=0.32767338680598873, total=   0.4s\n",
      "[CV] criterion=entropy, max_depth=5, min_samples_leaf=4, min_samples_split=2 \n",
      "[CV]  criterion=entropy, max_depth=5, min_samples_leaf=4, min_samples_split=2, score=0.33307766631174873, total=   0.4s\n",
      "[CV] criterion=entropy, max_depth=5, min_samples_leaf=4, min_samples_split=2 \n",
      "[CV]  criterion=entropy, max_depth=5, min_samples_leaf=4, min_samples_split=2, score=0.32708548100122464, total=   0.4s\n",
      "[CV] criterion=entropy, max_depth=5, min_samples_leaf=4, min_samples_split=5 \n",
      "[CV]  criterion=entropy, max_depth=5, min_samples_leaf=4, min_samples_split=5, score=0.32767338680598873, total=   0.4s\n",
      "[CV] criterion=entropy, max_depth=5, min_samples_leaf=4, min_samples_split=5 \n",
      "[CV]  criterion=entropy, max_depth=5, min_samples_leaf=4, min_samples_split=5, score=0.33307766631174873, total=   0.4s\n",
      "[CV] criterion=entropy, max_depth=5, min_samples_leaf=4, min_samples_split=5 \n",
      "[CV]  criterion=entropy, max_depth=5, min_samples_leaf=4, min_samples_split=5, score=0.32708548100122464, total=   0.4s\n",
      "[CV] criterion=entropy, max_depth=5, min_samples_leaf=4, min_samples_split=10 \n",
      "[CV]  criterion=entropy, max_depth=5, min_samples_leaf=4, min_samples_split=10, score=0.32767338680598873, total=   0.4s\n",
      "[CV] criterion=entropy, max_depth=5, min_samples_leaf=4, min_samples_split=10 \n",
      "[CV]  criterion=entropy, max_depth=5, min_samples_leaf=4, min_samples_split=10, score=0.33307766631174873, total=   0.4s\n",
      "[CV] criterion=entropy, max_depth=5, min_samples_leaf=4, min_samples_split=10 \n",
      "[CV]  criterion=entropy, max_depth=5, min_samples_leaf=4, min_samples_split=10, score=0.32708548100122464, total=   0.4s\n",
      "[CV] criterion=entropy, max_depth=5, min_samples_leaf=5, min_samples_split=2 \n",
      "[CV]  criterion=entropy, max_depth=5, min_samples_leaf=5, min_samples_split=2, score=0.32767338680598873, total=   0.4s\n",
      "[CV] criterion=entropy, max_depth=5, min_samples_leaf=5, min_samples_split=2 \n",
      "[CV]  criterion=entropy, max_depth=5, min_samples_leaf=5, min_samples_split=2, score=0.33307766631174873, total=   0.4s\n",
      "[CV] criterion=entropy, max_depth=5, min_samples_leaf=5, min_samples_split=2 \n",
      "[CV]  criterion=entropy, max_depth=5, min_samples_leaf=5, min_samples_split=2, score=0.32708548100122464, total=   0.4s\n",
      "[CV] criterion=entropy, max_depth=5, min_samples_leaf=5, min_samples_split=5 \n"
     ]
    },
    {
     "name": "stdout",
     "output_type": "stream",
     "text": [
      "[CV]  criterion=entropy, max_depth=5, min_samples_leaf=5, min_samples_split=5, score=0.32767338680598873, total=   0.4s\n",
      "[CV] criterion=entropy, max_depth=5, min_samples_leaf=5, min_samples_split=5 \n",
      "[CV]  criterion=entropy, max_depth=5, min_samples_leaf=5, min_samples_split=5, score=0.33307766631174873, total=   0.4s\n",
      "[CV] criterion=entropy, max_depth=5, min_samples_leaf=5, min_samples_split=5 \n",
      "[CV]  criterion=entropy, max_depth=5, min_samples_leaf=5, min_samples_split=5, score=0.32708548100122464, total=   0.4s\n",
      "[CV] criterion=entropy, max_depth=5, min_samples_leaf=5, min_samples_split=10 \n",
      "[CV]  criterion=entropy, max_depth=5, min_samples_leaf=5, min_samples_split=10, score=0.32767338680598873, total=   0.4s\n",
      "[CV] criterion=entropy, max_depth=5, min_samples_leaf=5, min_samples_split=10 \n",
      "[CV]  criterion=entropy, max_depth=5, min_samples_leaf=5, min_samples_split=10, score=0.33307766631174873, total=   0.4s\n",
      "[CV] criterion=entropy, max_depth=5, min_samples_leaf=5, min_samples_split=10 \n",
      "[CV]  criterion=entropy, max_depth=5, min_samples_leaf=5, min_samples_split=10, score=0.32708548100122464, total=   0.4s\n",
      "[CV] criterion=entropy, max_depth=5, min_samples_leaf=6, min_samples_split=2 \n",
      "[CV]  criterion=entropy, max_depth=5, min_samples_leaf=6, min_samples_split=2, score=0.32767338680598873, total=   0.4s\n",
      "[CV] criterion=entropy, max_depth=5, min_samples_leaf=6, min_samples_split=2 \n",
      "[CV]  criterion=entropy, max_depth=5, min_samples_leaf=6, min_samples_split=2, score=0.33307766631174873, total=   0.4s\n",
      "[CV] criterion=entropy, max_depth=5, min_samples_leaf=6, min_samples_split=2 \n",
      "[CV]  criterion=entropy, max_depth=5, min_samples_leaf=6, min_samples_split=2, score=0.32708548100122464, total=   0.4s\n",
      "[CV] criterion=entropy, max_depth=5, min_samples_leaf=6, min_samples_split=5 \n",
      "[CV]  criterion=entropy, max_depth=5, min_samples_leaf=6, min_samples_split=5, score=0.32767338680598873, total=   0.4s\n",
      "[CV] criterion=entropy, max_depth=5, min_samples_leaf=6, min_samples_split=5 \n",
      "[CV]  criterion=entropy, max_depth=5, min_samples_leaf=6, min_samples_split=5, score=0.33307766631174873, total=   0.4s\n",
      "[CV] criterion=entropy, max_depth=5, min_samples_leaf=6, min_samples_split=5 \n",
      "[CV]  criterion=entropy, max_depth=5, min_samples_leaf=6, min_samples_split=5, score=0.32708548100122464, total=   0.4s\n",
      "[CV] criterion=entropy, max_depth=5, min_samples_leaf=6, min_samples_split=10 \n",
      "[CV]  criterion=entropy, max_depth=5, min_samples_leaf=6, min_samples_split=10, score=0.32767338680598873, total=   0.4s\n",
      "[CV] criterion=entropy, max_depth=5, min_samples_leaf=6, min_samples_split=10 \n",
      "[CV]  criterion=entropy, max_depth=5, min_samples_leaf=6, min_samples_split=10, score=0.33307766631174873, total=   0.4s\n",
      "[CV] criterion=entropy, max_depth=5, min_samples_leaf=6, min_samples_split=10 \n",
      "[CV]  criterion=entropy, max_depth=5, min_samples_leaf=6, min_samples_split=10, score=0.32708548100122464, total=   0.4s\n",
      "[CV] criterion=entropy, max_depth=6, min_samples_leaf=1, min_samples_split=2 \n",
      "[CV]  criterion=entropy, max_depth=6, min_samples_leaf=1, min_samples_split=2, score=0.3258941100029707, total=   0.5s\n",
      "[CV] criterion=entropy, max_depth=6, min_samples_leaf=1, min_samples_split=2 \n",
      "[CV]  criterion=entropy, max_depth=6, min_samples_leaf=1, min_samples_split=2, score=0.34226862100508043, total=   0.5s\n",
      "[CV] criterion=entropy, max_depth=6, min_samples_leaf=1, min_samples_split=2 \n",
      "[CV]  criterion=entropy, max_depth=6, min_samples_leaf=1, min_samples_split=2, score=0.33668432329988923, total=   0.5s\n",
      "[CV] criterion=entropy, max_depth=6, min_samples_leaf=1, min_samples_split=5 \n",
      "[CV]  criterion=entropy, max_depth=6, min_samples_leaf=1, min_samples_split=5, score=0.3258941100029707, total=   0.5s\n",
      "[CV] criterion=entropy, max_depth=6, min_samples_leaf=1, min_samples_split=5 \n",
      "[CV]  criterion=entropy, max_depth=6, min_samples_leaf=1, min_samples_split=5, score=0.34226862100508043, total=   0.5s\n",
      "[CV] criterion=entropy, max_depth=6, min_samples_leaf=1, min_samples_split=5 \n",
      "[CV]  criterion=entropy, max_depth=6, min_samples_leaf=1, min_samples_split=5, score=0.33668432329988923, total=   0.5s\n",
      "[CV] criterion=entropy, max_depth=6, min_samples_leaf=1, min_samples_split=10 \n",
      "[CV]  criterion=entropy, max_depth=6, min_samples_leaf=1, min_samples_split=10, score=0.3258941100029707, total=   0.5s\n",
      "[CV] criterion=entropy, max_depth=6, min_samples_leaf=1, min_samples_split=10 \n",
      "[CV]  criterion=entropy, max_depth=6, min_samples_leaf=1, min_samples_split=10, score=0.34226862100508043, total=   0.5s\n",
      "[CV] criterion=entropy, max_depth=6, min_samples_leaf=1, min_samples_split=10 \n",
      "[CV]  criterion=entropy, max_depth=6, min_samples_leaf=1, min_samples_split=10, score=0.33668432329988923, total=   0.5s\n",
      "[CV] criterion=entropy, max_depth=6, min_samples_leaf=2, min_samples_split=2 \n",
      "[CV]  criterion=entropy, max_depth=6, min_samples_leaf=2, min_samples_split=2, score=0.3258941100029707, total=   0.5s\n",
      "[CV] criterion=entropy, max_depth=6, min_samples_leaf=2, min_samples_split=2 \n",
      "[CV]  criterion=entropy, max_depth=6, min_samples_leaf=2, min_samples_split=2, score=0.34226862100508043, total=   0.5s\n",
      "[CV] criterion=entropy, max_depth=6, min_samples_leaf=2, min_samples_split=2 \n",
      "[CV]  criterion=entropy, max_depth=6, min_samples_leaf=2, min_samples_split=2, score=0.33668432329988923, total=   0.5s\n",
      "[CV] criterion=entropy, max_depth=6, min_samples_leaf=2, min_samples_split=5 \n",
      "[CV]  criterion=entropy, max_depth=6, min_samples_leaf=2, min_samples_split=5, score=0.3258941100029707, total=   0.5s\n",
      "[CV] criterion=entropy, max_depth=6, min_samples_leaf=2, min_samples_split=5 \n",
      "[CV]  criterion=entropy, max_depth=6, min_samples_leaf=2, min_samples_split=5, score=0.34226862100508043, total=   0.5s\n",
      "[CV] criterion=entropy, max_depth=6, min_samples_leaf=2, min_samples_split=5 \n",
      "[CV]  criterion=entropy, max_depth=6, min_samples_leaf=2, min_samples_split=5, score=0.3366899581347173, total=   0.5s\n",
      "[CV] criterion=entropy, max_depth=6, min_samples_leaf=2, min_samples_split=10 \n",
      "[CV]  criterion=entropy, max_depth=6, min_samples_leaf=2, min_samples_split=10, score=0.3258941100029707, total=   0.5s\n",
      "[CV] criterion=entropy, max_depth=6, min_samples_leaf=2, min_samples_split=10 \n",
      "[CV]  criterion=entropy, max_depth=6, min_samples_leaf=2, min_samples_split=10, score=0.34226862100508043, total=   0.5s\n",
      "[CV] criterion=entropy, max_depth=6, min_samples_leaf=2, min_samples_split=10 \n",
      "[CV]  criterion=entropy, max_depth=6, min_samples_leaf=2, min_samples_split=10, score=0.3366899581347173, total=   0.5s\n",
      "[CV] criterion=entropy, max_depth=6, min_samples_leaf=3, min_samples_split=2 \n",
      "[CV]  criterion=entropy, max_depth=6, min_samples_leaf=3, min_samples_split=2, score=0.32590100998802224, total=   0.5s\n",
      "[CV] criterion=entropy, max_depth=6, min_samples_leaf=3, min_samples_split=2 \n",
      "[CV]  criterion=entropy, max_depth=6, min_samples_leaf=3, min_samples_split=2, score=0.34226862100508043, total=   0.5s\n",
      "[CV] criterion=entropy, max_depth=6, min_samples_leaf=3, min_samples_split=2 \n",
      "[CV]  criterion=entropy, max_depth=6, min_samples_leaf=3, min_samples_split=2, score=0.3367840325417369, total=   0.5s\n",
      "[CV] criterion=entropy, max_depth=6, min_samples_leaf=3, min_samples_split=5 \n",
      "[CV]  criterion=entropy, max_depth=6, min_samples_leaf=3, min_samples_split=5, score=0.32590100998802224, total=   0.5s\n",
      "[CV] criterion=entropy, max_depth=6, min_samples_leaf=3, min_samples_split=5 \n",
      "[CV]  criterion=entropy, max_depth=6, min_samples_leaf=3, min_samples_split=5, score=0.34226862100508043, total=   0.5s\n",
      "[CV] criterion=entropy, max_depth=6, min_samples_leaf=3, min_samples_split=5 \n",
      "[CV]  criterion=entropy, max_depth=6, min_samples_leaf=3, min_samples_split=5, score=0.3367840325417369, total=   0.5s\n",
      "[CV] criterion=entropy, max_depth=6, min_samples_leaf=3, min_samples_split=10 \n",
      "[CV]  criterion=entropy, max_depth=6, min_samples_leaf=3, min_samples_split=10, score=0.32590100998802224, total=   0.5s\n",
      "[CV] criterion=entropy, max_depth=6, min_samples_leaf=3, min_samples_split=10 \n",
      "[CV]  criterion=entropy, max_depth=6, min_samples_leaf=3, min_samples_split=10, score=0.34226862100508043, total=   0.5s\n",
      "[CV] criterion=entropy, max_depth=6, min_samples_leaf=3, min_samples_split=10 \n",
      "[CV]  criterion=entropy, max_depth=6, min_samples_leaf=3, min_samples_split=10, score=0.33664415756131216, total=   0.5s\n",
      "[CV] criterion=entropy, max_depth=6, min_samples_leaf=4, min_samples_split=2 \n"
     ]
    },
    {
     "name": "stdout",
     "output_type": "stream",
     "text": [
      "[CV]  criterion=entropy, max_depth=6, min_samples_leaf=4, min_samples_split=2, score=0.32589325993795876, total=   0.4s\n",
      "[CV] criterion=entropy, max_depth=6, min_samples_leaf=4, min_samples_split=2 \n",
      "[CV]  criterion=entropy, max_depth=6, min_samples_leaf=4, min_samples_split=2, score=0.3423130396527084, total=   0.4s\n",
      "[CV] criterion=entropy, max_depth=6, min_samples_leaf=4, min_samples_split=2 \n",
      "[CV]  criterion=entropy, max_depth=6, min_samples_leaf=4, min_samples_split=2, score=0.3366912614177733, total=   0.5s\n",
      "[CV] criterion=entropy, max_depth=6, min_samples_leaf=4, min_samples_split=5 \n",
      "[CV]  criterion=entropy, max_depth=6, min_samples_leaf=4, min_samples_split=5, score=0.32589325993795876, total=   0.5s\n",
      "[CV] criterion=entropy, max_depth=6, min_samples_leaf=4, min_samples_split=5 \n",
      "[CV]  criterion=entropy, max_depth=6, min_samples_leaf=4, min_samples_split=5, score=0.3423130396527084, total=   0.5s\n",
      "[CV] criterion=entropy, max_depth=6, min_samples_leaf=4, min_samples_split=5 \n",
      "[CV]  criterion=entropy, max_depth=6, min_samples_leaf=4, min_samples_split=5, score=0.3366912614177733, total=   0.5s\n",
      "[CV] criterion=entropy, max_depth=6, min_samples_leaf=4, min_samples_split=10 \n",
      "[CV]  criterion=entropy, max_depth=6, min_samples_leaf=4, min_samples_split=10, score=0.32589325993795876, total=   0.5s\n",
      "[CV] criterion=entropy, max_depth=6, min_samples_leaf=4, min_samples_split=10 \n",
      "[CV]  criterion=entropy, max_depth=6, min_samples_leaf=4, min_samples_split=10, score=0.3423130396527084, total=   0.5s\n",
      "[CV] criterion=entropy, max_depth=6, min_samples_leaf=4, min_samples_split=10 \n",
      "[CV]  criterion=entropy, max_depth=6, min_samples_leaf=4, min_samples_split=10, score=0.3365518611763239, total=   0.5s\n",
      "[CV] criterion=entropy, max_depth=6, min_samples_leaf=5, min_samples_split=2 \n",
      "[CV]  criterion=entropy, max_depth=6, min_samples_leaf=5, min_samples_split=2, score=0.32589325993795876, total=   0.5s\n",
      "[CV] criterion=entropy, max_depth=6, min_samples_leaf=5, min_samples_split=2 \n",
      "[CV]  criterion=entropy, max_depth=6, min_samples_leaf=5, min_samples_split=2, score=0.34261165894916906, total=   0.5s\n",
      "[CV] criterion=entropy, max_depth=6, min_samples_leaf=5, min_samples_split=2 \n",
      "[CV]  criterion=entropy, max_depth=6, min_samples_leaf=5, min_samples_split=2, score=0.33668565667641753, total=   0.5s\n",
      "[CV] criterion=entropy, max_depth=6, min_samples_leaf=5, min_samples_split=5 \n",
      "[CV]  criterion=entropy, max_depth=6, min_samples_leaf=5, min_samples_split=5, score=0.32589325993795876, total=   0.5s\n",
      "[CV] criterion=entropy, max_depth=6, min_samples_leaf=5, min_samples_split=5 \n",
      "[CV]  criterion=entropy, max_depth=6, min_samples_leaf=5, min_samples_split=5, score=0.34261165894916906, total=   0.5s\n",
      "[CV] criterion=entropy, max_depth=6, min_samples_leaf=5, min_samples_split=5 \n",
      "[CV]  criterion=entropy, max_depth=6, min_samples_leaf=5, min_samples_split=5, score=0.33668565667641753, total=   0.5s\n",
      "[CV] criterion=entropy, max_depth=6, min_samples_leaf=5, min_samples_split=10 \n",
      "[CV]  criterion=entropy, max_depth=6, min_samples_leaf=5, min_samples_split=10, score=0.32589325993795876, total=   0.5s\n",
      "[CV] criterion=entropy, max_depth=6, min_samples_leaf=5, min_samples_split=10 \n",
      "[CV]  criterion=entropy, max_depth=6, min_samples_leaf=5, min_samples_split=10, score=0.34261165894916906, total=   0.5s\n",
      "[CV] criterion=entropy, max_depth=6, min_samples_leaf=5, min_samples_split=10 \n",
      "[CV]  criterion=entropy, max_depth=6, min_samples_leaf=5, min_samples_split=10, score=0.3365462128192575, total=   0.5s\n",
      "[CV] criterion=entropy, max_depth=6, min_samples_leaf=6, min_samples_split=2 \n",
      "[CV]  criterion=entropy, max_depth=6, min_samples_leaf=6, min_samples_split=2, score=0.3260335026419012, total=   0.5s\n",
      "[CV] criterion=entropy, max_depth=6, min_samples_leaf=6, min_samples_split=2 \n",
      "[CV]  criterion=entropy, max_depth=6, min_samples_leaf=6, min_samples_split=2, score=0.3426561385784059, total=   0.5s\n",
      "[CV] criterion=entropy, max_depth=6, min_samples_leaf=6, min_samples_split=2 \n",
      "[CV]  criterion=entropy, max_depth=6, min_samples_leaf=6, min_samples_split=2, score=0.3365880634161051, total=   0.5s\n",
      "[CV] criterion=entropy, max_depth=6, min_samples_leaf=6, min_samples_split=5 \n",
      "[CV]  criterion=entropy, max_depth=6, min_samples_leaf=6, min_samples_split=5, score=0.3260335026419012, total=   0.5s\n",
      "[CV] criterion=entropy, max_depth=6, min_samples_leaf=6, min_samples_split=5 \n",
      "[CV]  criterion=entropy, max_depth=6, min_samples_leaf=6, min_samples_split=5, score=0.3426561385784059, total=   0.5s\n",
      "[CV] criterion=entropy, max_depth=6, min_samples_leaf=6, min_samples_split=5 \n",
      "[CV]  criterion=entropy, max_depth=6, min_samples_leaf=6, min_samples_split=5, score=0.3365880634161051, total=   0.5s\n",
      "[CV] criterion=entropy, max_depth=6, min_samples_leaf=6, min_samples_split=10 \n",
      "[CV]  criterion=entropy, max_depth=6, min_samples_leaf=6, min_samples_split=10, score=0.3260335026419012, total=   0.5s\n",
      "[CV] criterion=entropy, max_depth=6, min_samples_leaf=6, min_samples_split=10 \n",
      "[CV]  criterion=entropy, max_depth=6, min_samples_leaf=6, min_samples_split=10, score=0.3426561385784059, total=   0.5s\n",
      "[CV] criterion=entropy, max_depth=6, min_samples_leaf=6, min_samples_split=10 \n",
      "[CV]  criterion=entropy, max_depth=6, min_samples_leaf=6, min_samples_split=10, score=0.336538371505948, total=   0.5s\n"
     ]
    },
    {
     "name": "stderr",
     "output_type": "stream",
     "text": [
      "[Parallel(n_jobs=1)]: Done 648 out of 648 | elapsed:  4.9min finished\n"
     ]
    },
    {
     "data": {
      "text/plain": [
       "GridSearchCV(cv=3, error_score='raise-deprecating',\n",
       "       estimator=DecisionTreeClassifier(class_weight=None, criterion='gini', max_depth=None,\n",
       "            max_features=None, max_leaf_nodes=None,\n",
       "            min_impurity_decrease=0.0, min_impurity_split=None,\n",
       "            min_samples_leaf=1, min_samples_split=2,\n",
       "            min_weight_fraction_leaf=0.0, presort=False, random_state=None,\n",
       "            splitter='best'),\n",
       "       fit_params=None, iid='warn', n_jobs=None,\n",
       "       param_grid={'criterion': ['gini', 'entropy'], 'max_depth': [None, 2, 3, 4, 5, 6], 'min_samples_split': [2, 5, 10], 'min_samples_leaf': [1, 2, 3, 4, 5, 6]},\n",
       "       pre_dispatch='2*n_jobs', refit=True, return_train_score=True,\n",
       "       scoring='f1_macro', verbose=5)"
      ]
     },
     "execution_count": 11,
     "metadata": {},
     "output_type": "execute_result"
    }
   ],
   "source": [
    "search = GridSearchCV(clf, params, cv=3, return_train_score=True, verbose=5, scoring='f1_macro')\n",
    "\n",
    "search.fit(X,y)"
   ]
  },
  {
   "cell_type": "markdown",
   "metadata": {},
   "source": [
    "### Tuned Results"
   ]
  },
  {
   "cell_type": "code",
   "execution_count": 12,
   "metadata": {},
   "outputs": [
    {
     "name": "stdout",
     "output_type": "stream",
     "text": [
      "Mean Training Score: 0.4078942371517205\n",
      "Mean Testing Score: 0.7145266622924845\n",
      "\n",
      "Best Parameter Found:\n"
     ]
    },
    {
     "data": {
      "text/plain": [
       "{'criterion': 'gini',\n",
       " 'max_depth': None,\n",
       " 'min_samples_leaf': 6,\n",
       " 'min_samples_split': 2}"
      ]
     },
     "execution_count": 12,
     "metadata": {},
     "output_type": "execute_result"
    }
   ],
   "source": [
    "print(\"Mean Training Score:\", np.mean(search.cv_results_['mean_train_score']))\n",
    "print(\"Mean Testing Score:\", search.score(X, y))\n",
    "print(\"\\nBest Parameter Found:\")\n",
    "search.best_params_"
   ]
  },
  {
   "cell_type": "markdown",
   "metadata": {},
   "source": [
    "### Model with the Best Parameters"
   ]
  },
  {
   "cell_type": "code",
   "execution_count": 13,
   "metadata": {},
   "outputs": [
    {
     "data": {
      "text/plain": [
       "DecisionTreeClassifier(class_weight=None, criterion='gini', max_depth=None,\n",
       "            max_features=None, max_leaf_nodes=None,\n",
       "            min_impurity_decrease=0.0, min_impurity_split=None,\n",
       "            min_samples_leaf=6, min_samples_split=2,\n",
       "            min_weight_fraction_leaf=0.0, presort=False, random_state=None,\n",
       "            splitter='best')"
      ]
     },
     "execution_count": 13,
     "metadata": {},
     "output_type": "execute_result"
    }
   ],
   "source": [
    "search_clf = search.best_estimator_\n",
    "\n",
    "search_clf.fit(X_train, y_train)"
   ]
  },
  {
   "cell_type": "markdown",
   "metadata": {},
   "source": [
    "#### Results from Optimum Parameters"
   ]
  },
  {
   "cell_type": "code",
   "execution_count": 14,
   "metadata": {},
   "outputs": [
    {
     "name": "stdout",
     "output_type": "stream",
     "text": [
      "              precision    recall  f1-score   support\n",
      "\n",
      "        Sell       0.25      0.23      0.24      2978\n",
      "         Buy       0.40      0.41      0.41      5542\n",
      "        Hold       0.45      0.46      0.45      6523\n",
      "\n",
      "   micro avg       0.40      0.40      0.40     15043\n",
      "   macro avg       0.37      0.37      0.37     15043\n",
      "weighted avg       0.39      0.40      0.39     15043\n",
      "\n"
     ]
    }
   ],
   "source": [
    "# Classifier predictions\n",
    "s_pred = search_clf.predict(X_test)\n",
    "\n",
    "#Printing out results\n",
    "report = classification_report(y_test, s_pred, target_names=['Sell', 'Buy', 'Hold'])\n",
    "print(report)"
   ]
  },
  {
   "cell_type": "markdown",
   "metadata": {},
   "source": [
    "### Confusion Matrix for Optimum Parameters"
   ]
  },
  {
   "cell_type": "code",
   "execution_count": 15,
   "metadata": {},
   "outputs": [
    {
     "data": {
      "image/png": "[encoded data removed]",
      "text/plain": [
       "<Figure size 864x432 with 2 Axes>"
      ]
     },
     "metadata": {
      "needs_background": "light"
     },
     "output_type": "display_data"
    }
   ],
   "source": [
    "plot_confusion_matrix(y_test, s_pred, title=\"Confusion Matrix\")\n",
    "np.set_printoptions(precision=1)\n",
    "# Plot non-normalized confusion matrix\n",
    "plt.show()"
   ]
  },
  {
   "cell_type": "code",
   "execution_count": null,
   "metadata": {},
   "outputs": [],
   "source": []
  }
 ],
 "metadata": {
  "kernelspec": {
   "display_name": "Python 3",
   "language": "python",
   "name": "python3"
  },
  "language_info": {
   "codemirror_mode": {
    "name": "ipython",
    "version": 3
   },
   "file_extension": ".py",
   "mimetype": "text/x-python",
   "name": "python",
   "nbconvert_exporter": "python",
   "pygments_lexer": "ipython3",
   "version": "3.7.3"
  }
 },
 "nbformat": 4,
 "nbformat_minor": 2
}
