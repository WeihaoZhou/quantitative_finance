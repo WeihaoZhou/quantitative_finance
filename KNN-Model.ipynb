{
 "cells": [
  {
   "cell_type": "markdown",
   "metadata": {},
   "source": [
    "# Model: K Nearest Neighbors"
   ]
  },
  {
   "cell_type": "markdown",
   "metadata": {},
   "source": [
    "### Importing Libraries"
   ]
  },
  {
   "cell_type": "code",
   "execution_count": 1,
   "metadata": {},
   "outputs": [],
   "source": [
    "import _pickle as pickle\n",
    "import numpy as np\n",
    "import pandas as pd\n",
    "from sklearn.model_selection import train_test_split\n",
    "from sklearn.metrics import precision_score, recall_score, accuracy_score, f1_score, confusion_matrix, classification_report\n",
    "import matplotlib.pyplot as plt"
   ]
  },
  {
   "cell_type": "markdown",
   "metadata": {},
   "source": [
    "### Loading in Data"
   ]
  },
  {
   "cell_type": "code",
   "execution_count": 2,
   "metadata": {},
   "outputs": [],
   "source": [
    "with open(\"top10_df.pkl\",'rb') as fp:\n",
    "    df = pickle.load(fp)"
   ]
  },
  {
   "cell_type": "markdown",
   "metadata": {},
   "source": [
    "### Scaling the Data"
   ]
  },
  {
   "cell_type": "code",
   "execution_count": 3,
   "metadata": {},
   "outputs": [],
   "source": [
    "from sklearn.preprocessing import StandardScaler\n",
    "\n",
    "scaler = StandardScaler()\n",
    "\n",
    "features_df = df.drop([\"Decision\"], 1)\n",
    "\n",
    "scaled_df = pd.DataFrame(scaler.fit_transform(features_df), \n",
    "                               index=features_df.index, \n",
    "                               columns=features_df.columns)\n",
    "\n",
    "df = scaled_df.join(df.Decision)"
   ]
  },
  {
   "cell_type": "markdown",
   "metadata": {},
   "source": [
    "### Splitting the Data"
   ]
  },
  {
   "cell_type": "code",
   "execution_count": 4,
   "metadata": {},
   "outputs": [],
   "source": [
    "X = df.drop([\"Decision\"], 1)\n",
    "y = df.Decision\n",
    "\n",
    "# Train, test, split\n",
    "X_train, X_test, y_train, y_test = train_test_split(X, y)"
   ]
  },
  {
   "cell_type": "markdown",
   "metadata": {},
   "source": [
    "### Helper Functions"
   ]
  },
  {
   "cell_type": "markdown",
   "metadata": {},
   "source": [
    "#### Function for plotting confusion matrix"
   ]
  },
  {
   "cell_type": "code",
   "execution_count": 5,
   "metadata": {},
   "outputs": [],
   "source": [
    "def plot_confusion_matrix(y_true, y_pred, labels=[\"Sell\", \"Buy\", \"Hold\"], \n",
    "                          normalize=False, title=None, cmap=plt.cm.coolwarm):\n",
    "\n",
    "    cm = confusion_matrix(y_true, y_pred)\n",
    "    fig, ax = plt.subplots(figsize=(12,6))\n",
    "    im = ax.imshow(cm, interpolation='nearest', cmap=cmap)\n",
    "    ax.figure.colorbar(im, ax=ax)\n",
    "    # We want to show all ticks...\n",
    "    ax.set(xticks=np.arange(cm.shape[1]),\n",
    "           yticks=np.arange(cm.shape[0]),\n",
    "           # ... and label them with the respective list entries\n",
    "           xticklabels=labels, yticklabels=labels,\n",
    "           title=title,\n",
    "           ylabel='ACTUAL',\n",
    "           xlabel='PREDICTED')\n",
    "    # Rotate the tick labels and set their alignment.\n",
    "    plt.setp(ax.get_xticklabels(), rotation=45, ha=\"right\",\n",
    "             rotation_mode=\"anchor\")\n",
    "    # Loop over data dimensions and create text annotations.\n",
    "    fmt = '.2f' if normalize else 'd'\n",
    "    thresh = cm.max() / 1.5\n",
    "    for i in range(cm.shape[0]):\n",
    "        for j in range(cm.shape[1]):\n",
    "            ax.text(j, i, format(cm[i, j], fmt),\n",
    "                    ha=\"center\", va=\"center\",\n",
    "                    color=\"snow\" if cm[i, j] > thresh else \"orange\",\n",
    "                    size=26)\n",
    "    ax.grid(False)\n",
    "    fig.tight_layout()\n",
    "    return ax"
   ]
  },
  {
   "cell_type": "markdown",
   "metadata": {},
   "source": [
    "## Modeling\n",
    "The preferred evaluation metric used will be __Precision__ for each class.  They will be optimized using the __F1 Score-Macro-Average__ to balance the Precision and Recall.  This is done because we want to not only be correct when predicting but also make a decent amount of predictions for each class.  Classes such as 'Buy' and 'Sell' are more important than 'Hold'."
   ]
  },
  {
   "cell_type": "markdown",
   "metadata": {},
   "source": [
    "### Fitting and Training"
   ]
  },
  {
   "cell_type": "code",
   "execution_count": 6,
   "metadata": {
    "scrolled": false
   },
   "outputs": [
    {
     "data": {
      "text/plain": [
       "KNeighborsClassifier(algorithm='auto', leaf_size=30, metric='minkowski',\n",
       "           metric_params=None, n_jobs=None, n_neighbors=5, p=2,\n",
       "           weights='uniform')"
      ]
     },
     "execution_count": 6,
     "metadata": {},
     "output_type": "execute_result"
    }
   ],
   "source": [
    "# Importing the model\n",
    "from sklearn.neighbors import KNeighborsClassifier\n",
    "\n",
    "# Fitting and training\n",
    "clf = KNeighborsClassifier()\n",
    "clf.fit(X_train, y_train)"
   ]
  },
  {
   "cell_type": "markdown",
   "metadata": {},
   "source": [
    "### Printing out Evaluation Metrics"
   ]
  },
  {
   "cell_type": "code",
   "execution_count": 7,
   "metadata": {},
   "outputs": [
    {
     "name": "stdout",
     "output_type": "stream",
     "text": [
      "              precision    recall  f1-score   support\n",
      "\n",
      "        Sell       0.24      0.24      0.24      2949\n",
      "         Buy       0.41      0.44      0.43      5563\n",
      "        Hold       0.45      0.42      0.44      6531\n",
      "\n",
      "   micro avg       0.39      0.39      0.39     15043\n",
      "   macro avg       0.37      0.37      0.37     15043\n",
      "weighted avg       0.39      0.39      0.39     15043\n",
      "\n"
     ]
    }
   ],
   "source": [
    "# Classifier predictions\n",
    "pred = clf.predict(X_test)\n",
    "\n",
    "#Printing out results\n",
    "report = classification_report(y_test, pred, target_names=['Sell', 'Buy', 'Hold'])\n",
    "print(report)"
   ]
  },
  {
   "cell_type": "markdown",
   "metadata": {},
   "source": [
    "### Confusion Matrix"
   ]
  },
  {
   "cell_type": "code",
   "execution_count": 8,
   "metadata": {},
   "outputs": [
    {
     "data": {
      "image/png": "[encoded data removed]",
      "text/plain": [
       "<Figure size 864x432 with 2 Axes>"
      ]
     },
     "metadata": {
      "needs_background": "light"
     },
     "output_type": "display_data"
    }
   ],
   "source": [
    "plot_confusion_matrix(y_test, pred, title=\"Confusion Matrix\")\n",
    "np.set_printoptions(precision=1)\n",
    "# Plot non-normalized confusion matrix\n",
    "plt.show()"
   ]
  },
  {
   "cell_type": "markdown",
   "metadata": {},
   "source": [
    "## Tuning Model Parameters"
   ]
  },
  {
   "cell_type": "code",
   "execution_count": 9,
   "metadata": {},
   "outputs": [],
   "source": [
    "from sklearn.model_selection import GridSearchCV"
   ]
  },
  {
   "cell_type": "markdown",
   "metadata": {},
   "source": [
    "### Parameters"
   ]
  },
  {
   "cell_type": "code",
   "execution_count": 10,
   "metadata": {},
   "outputs": [],
   "source": [
    "# Parameters to Tune\n",
    "params = {\"n_neighbors\": [50, 200, 400, 600],\n",
    "          \"weights\": ['uniform', 'distance'],\n",
    "          \"p\": [1,2]}"
   ]
  },
  {
   "cell_type": "code",
   "execution_count": 11,
   "metadata": {
    "scrolled": true
   },
   "outputs": [
    {
     "name": "stdout",
     "output_type": "stream",
     "text": [
      "Fitting 3 folds for each of 16 candidates, totalling 48 fits\n",
      "[CV] n_neighbors=50, p=1, weights=uniform ............................\n"
     ]
    },
    {
     "name": "stderr",
     "output_type": "stream",
     "text": [
      "[Parallel(n_jobs=1)]: Using backend SequentialBackend with 1 concurrent workers.\n"
     ]
    },
    {
     "name": "stdout",
     "output_type": "stream",
     "text": [
      "[CV]  n_neighbors=50, p=1, weights=uniform, score=0.34751184215505476, total=  24.8s\n",
      "[CV] n_neighbors=50, p=1, weights=uniform ............................\n"
     ]
    },
    {
     "name": "stderr",
     "output_type": "stream",
     "text": [
      "[Parallel(n_jobs=1)]: Done   1 out of   1 | elapsed:  1.2min remaining:    0.0s\n"
     ]
    },
    {
     "name": "stdout",
     "output_type": "stream",
     "text": [
      "[CV]  n_neighbors=50, p=1, weights=uniform, score=0.3392911059865705, total=  21.6s\n",
      "[CV] n_neighbors=50, p=1, weights=uniform ............................\n"
     ]
    },
    {
     "name": "stderr",
     "output_type": "stream",
     "text": [
      "[Parallel(n_jobs=1)]: Done   2 out of   2 | elapsed:  2.3min remaining:    0.0s\n"
     ]
    },
    {
     "name": "stdout",
     "output_type": "stream",
     "text": [
      "[CV]  n_neighbors=50, p=1, weights=uniform, score=0.3533158045301071, total=  29.0s\n",
      "[CV] n_neighbors=50, p=1, weights=distance ...........................\n"
     ]
    },
    {
     "name": "stderr",
     "output_type": "stream",
     "text": [
      "[Parallel(n_jobs=1)]: Done   3 out of   3 | elapsed:  3.7min remaining:    0.0s\n"
     ]
    },
    {
     "name": "stdout",
     "output_type": "stream",
     "text": [
      "[CV]  n_neighbors=50, p=1, weights=distance, score=0.3443290198784716, total=  21.2s\n",
      "[CV] n_neighbors=50, p=1, weights=distance ...........................\n"
     ]
    },
    {
     "name": "stderr",
     "output_type": "stream",
     "text": [
      "[Parallel(n_jobs=1)]: Done   4 out of   4 | elapsed:  4.7min remaining:    0.0s\n"
     ]
    },
    {
     "name": "stdout",
     "output_type": "stream",
     "text": [
      "[CV]  n_neighbors=50, p=1, weights=distance, score=0.33849546516299284, total=  24.6s\n",
      "[CV] n_neighbors=50, p=1, weights=distance ...........................\n",
      "[CV]  n_neighbors=50, p=1, weights=distance, score=0.34844044578217104, total=  22.9s\n",
      "[CV] n_neighbors=50, p=2, weights=uniform ............................\n",
      "[CV]  n_neighbors=50, p=2, weights=uniform, score=0.3518846116757614, total=  13.6s\n",
      "[CV] n_neighbors=50, p=2, weights=uniform ............................\n",
      "[CV]  n_neighbors=50, p=2, weights=uniform, score=0.3415007236138101, total=   8.6s\n",
      "[CV] n_neighbors=50, p=2, weights=uniform ............................\n",
      "[CV]  n_neighbors=50, p=2, weights=uniform, score=0.35286571024942104, total=  10.0s\n",
      "[CV] n_neighbors=50, p=2, weights=distance ...........................\n",
      "[CV]  n_neighbors=50, p=2, weights=distance, score=0.3493531615767704, total=   8.7s\n",
      "[CV] n_neighbors=50, p=2, weights=distance ...........................\n",
      "[CV]  n_neighbors=50, p=2, weights=distance, score=0.3403478666161515, total=   7.3s\n",
      "[CV] n_neighbors=50, p=2, weights=distance ...........................\n",
      "[CV]  n_neighbors=50, p=2, weights=distance, score=0.35077788382125036, total=   9.4s\n",
      "[CV] n_neighbors=200, p=1, weights=uniform ...........................\n",
      "[CV]  n_neighbors=200, p=1, weights=uniform, score=0.3301276207452632, total=  15.6s\n",
      "[CV] n_neighbors=200, p=1, weights=uniform ...........................\n",
      "[CV]  n_neighbors=200, p=1, weights=uniform, score=0.32189276551982016, total=  15.5s\n",
      "[CV] n_neighbors=200, p=1, weights=uniform ...........................\n",
      "[CV]  n_neighbors=200, p=1, weights=uniform, score=0.3274638277592014, total=  18.8s\n",
      "[CV] n_neighbors=200, p=1, weights=distance ..........................\n",
      "[CV]  n_neighbors=200, p=1, weights=distance, score=0.3307120358439404, total=  25.1s\n",
      "[CV] n_neighbors=200, p=1, weights=distance ..........................\n",
      "[CV]  n_neighbors=200, p=1, weights=distance, score=0.32149472238264293, total=  24.4s\n",
      "[CV] n_neighbors=200, p=1, weights=distance ..........................\n",
      "[CV]  n_neighbors=200, p=1, weights=distance, score=0.3268240292688193, total=  27.8s\n",
      "[CV] n_neighbors=200, p=2, weights=uniform ...........................\n",
      "[CV]  n_neighbors=200, p=2, weights=uniform, score=0.33254755797328667, total=  12.0s\n",
      "[CV] n_neighbors=200, p=2, weights=uniform ...........................\n",
      "[CV]  n_neighbors=200, p=2, weights=uniform, score=0.3215308357480211, total=  18.2s\n",
      "[CV] n_neighbors=200, p=2, weights=uniform ...........................\n",
      "[CV]  n_neighbors=200, p=2, weights=uniform, score=0.3288339952284616, total=  22.4s\n",
      "[CV] n_neighbors=200, p=2, weights=distance ..........................\n",
      "[CV]  n_neighbors=200, p=2, weights=distance, score=0.3325684200311854, total=  18.4s\n",
      "[CV] n_neighbors=200, p=2, weights=distance ..........................\n",
      "[CV]  n_neighbors=200, p=2, weights=distance, score=0.3224405828202897, total=  18.4s\n",
      "[CV] n_neighbors=200, p=2, weights=distance ..........................\n",
      "[CV]  n_neighbors=200, p=2, weights=distance, score=0.32985727393238523, total=  17.3s\n",
      "[CV] n_neighbors=400, p=1, weights=uniform ...........................\n",
      "[CV]  n_neighbors=400, p=1, weights=uniform, score=0.3195915333450058, total=  32.3s\n",
      "[CV] n_neighbors=400, p=1, weights=uniform ...........................\n",
      "[CV]  n_neighbors=400, p=1, weights=uniform, score=0.31057168040514743, total=  34.7s\n",
      "[CV] n_neighbors=400, p=1, weights=uniform ...........................\n",
      "[CV]  n_neighbors=400, p=1, weights=uniform, score=0.31835044358948256, total=  34.5s\n",
      "[CV] n_neighbors=400, p=1, weights=distance ..........................\n",
      "[CV]  n_neighbors=400, p=1, weights=distance, score=0.31989007272318765, total=  34.8s\n",
      "[CV] n_neighbors=400, p=1, weights=distance ..........................\n",
      "[CV]  n_neighbors=400, p=1, weights=distance, score=0.3118831722752906, total=  34.5s\n",
      "[CV] n_neighbors=400, p=1, weights=distance ..........................\n",
      "[CV]  n_neighbors=400, p=1, weights=distance, score=0.319675306273986, total=  45.6s\n",
      "[CV] n_neighbors=400, p=2, weights=uniform ...........................\n",
      "[CV]  n_neighbors=400, p=2, weights=uniform, score=0.32000462350137043, total=  24.8s\n",
      "[CV] n_neighbors=400, p=2, weights=uniform ...........................\n",
      "[CV]  n_neighbors=400, p=2, weights=uniform, score=0.3118224744271257, total=  28.5s\n",
      "[CV] n_neighbors=400, p=2, weights=uniform ...........................\n",
      "[CV]  n_neighbors=400, p=2, weights=uniform, score=0.31854489122651514, total=  31.3s\n",
      "[CV] n_neighbors=400, p=2, weights=distance ..........................\n",
      "[CV]  n_neighbors=400, p=2, weights=distance, score=0.32162519622209595, total=  33.2s\n",
      "[CV] n_neighbors=400, p=2, weights=distance ..........................\n",
      "[CV]  n_neighbors=400, p=2, weights=distance, score=0.31302512961225126, total=  32.4s\n",
      "[CV] n_neighbors=400, p=2, weights=distance ..........................\n",
      "[CV]  n_neighbors=400, p=2, weights=distance, score=0.31778921421933076, total=  28.7s\n",
      "[CV] n_neighbors=600, p=1, weights=uniform ...........................\n",
      "[CV]  n_neighbors=600, p=1, weights=uniform, score=0.31474227122709836, total=  54.7s\n",
      "[CV] n_neighbors=600, p=1, weights=uniform ...........................\n",
      "[CV]  n_neighbors=600, p=1, weights=uniform, score=0.3066042348520011, total=  48.5s\n",
      "[CV] n_neighbors=600, p=1, weights=uniform ...........................\n",
      "[CV]  n_neighbors=600, p=1, weights=uniform, score=0.3145672826878834, total=  48.2s\n",
      "[CV] n_neighbors=600, p=1, weights=distance ..........................\n",
      "[CV]  n_neighbors=600, p=1, weights=distance, score=0.31512783128599076, total=  55.1s\n",
      "[CV] n_neighbors=600, p=1, weights=distance ..........................\n",
      "[CV]  n_neighbors=600, p=1, weights=distance, score=0.3062557882664545, total=  42.6s\n",
      "[CV] n_neighbors=600, p=1, weights=distance ..........................\n",
      "[CV]  n_neighbors=600, p=1, weights=distance, score=0.31437400676198407, total=  56.5s\n",
      "[CV] n_neighbors=600, p=2, weights=uniform ...........................\n",
      "[CV]  n_neighbors=600, p=2, weights=uniform, score=0.31660612116886666, total=  39.2s\n",
      "[CV] n_neighbors=600, p=2, weights=uniform ...........................\n",
      "[CV]  n_neighbors=600, p=2, weights=uniform, score=0.3078847133137765, total=  28.7s\n",
      "[CV] n_neighbors=600, p=2, weights=uniform ...........................\n",
      "[CV]  n_neighbors=600, p=2, weights=uniform, score=0.3165801907927324, total=  34.1s\n",
      "[CV] n_neighbors=600, p=2, weights=distance ..........................\n",
      "[CV]  n_neighbors=600, p=2, weights=distance, score=0.3173451689333522, total=  30.6s\n",
      "[CV] n_neighbors=600, p=2, weights=distance ..........................\n",
      "[CV]  n_neighbors=600, p=2, weights=distance, score=0.30942955029522023, total=  38.4s\n",
      "[CV] n_neighbors=600, p=2, weights=distance ..........................\n",
      "[CV]  n_neighbors=600, p=2, weights=distance, score=0.31490649315961233, total=  42.1s\n"
     ]
    },
    {
     "name": "stderr",
     "output_type": "stream",
     "text": [
      "[Parallel(n_jobs=1)]: Done  48 out of  48 | elapsed: 68.6min finished\n"
     ]
    },
    {
     "data": {
      "text/plain": [
       "GridSearchCV(cv=3, error_score='raise-deprecating',\n",
       "       estimator=KNeighborsClassifier(algorithm='auto', leaf_size=30, metric='minkowski',\n",
       "           metric_params=None, n_jobs=None, n_neighbors=5, p=2,\n",
       "           weights='uniform'),\n",
       "       fit_params=None, iid='warn', n_jobs=None,\n",
       "       param_grid={'n_neighbors': [50, 200, 400, 600], 'weights': ['uniform', 'distance'], 'p': [1, 2]},\n",
       "       pre_dispatch='2*n_jobs', refit=True, return_train_score=True,\n",
       "       scoring='f1_macro', verbose=5)"
      ]
     },
     "execution_count": 11,
     "metadata": {},
     "output_type": "execute_result"
    }
   ],
   "source": [
    "search = GridSearchCV(clf, params, cv=3, return_train_score=True, verbose=5, scoring='f1_macro')\n",
    "\n",
    "search.fit(X,y)"
   ]
  },
  {
   "cell_type": "markdown",
   "metadata": {},
   "source": [
    "### Tuned Results"
   ]
  },
  {
   "cell_type": "code",
   "execution_count": 12,
   "metadata": {},
   "outputs": [
    {
     "name": "stdout",
     "output_type": "stream",
     "text": [
      "Mean Training Score: 0.6694909749870963\n",
      "Mean Testing Score: 0.3847301501314104\n",
      "\n",
      "Best Parameter Found:\n"
     ]
    },
    {
     "data": {
      "text/plain": [
       "{'n_neighbors': 50, 'p': 2, 'weights': 'uniform'}"
      ]
     },
     "execution_count": 12,
     "metadata": {},
     "output_type": "execute_result"
    }
   ],
   "source": [
    "print(\"Mean Training Score:\", np.mean(search.cv_results_['mean_train_score']))\n",
    "print(\"Mean Testing Score:\", search.score(X, y))\n",
    "print(\"\\nBest Parameter Found:\")\n",
    "search.best_params_"
   ]
  },
  {
   "cell_type": "markdown",
   "metadata": {},
   "source": [
    "### Model with the Best Parameters"
   ]
  },
  {
   "cell_type": "code",
   "execution_count": 13,
   "metadata": {},
   "outputs": [
    {
     "data": {
      "text/plain": [
       "KNeighborsClassifier(algorithm='auto', leaf_size=30, metric='minkowski',\n",
       "           metric_params=None, n_jobs=None, n_neighbors=50, p=2,\n",
       "           weights='uniform')"
      ]
     },
     "execution_count": 13,
     "metadata": {},
     "output_type": "execute_result"
    }
   ],
   "source": [
    "search_clf = search.best_estimator_\n",
    "\n",
    "search_clf.fit(X_train, y_train)"
   ]
  },
  {
   "cell_type": "markdown",
   "metadata": {},
   "source": [
    "#### Results from Optimum Parameters"
   ]
  },
  {
   "cell_type": "code",
   "execution_count": 14,
   "metadata": {},
   "outputs": [
    {
     "name": "stdout",
     "output_type": "stream",
     "text": [
      "              precision    recall  f1-score   support\n",
      "\n",
      "        Sell       0.36      0.05      0.08      2949\n",
      "         Buy       0.44      0.38      0.41      5563\n",
      "        Hold       0.45      0.69      0.55      6531\n",
      "\n",
      "   micro avg       0.45      0.45      0.45     15043\n",
      "   macro avg       0.42      0.37      0.35     15043\n",
      "weighted avg       0.43      0.45      0.40     15043\n",
      "\n"
     ]
    }
   ],
   "source": [
    "# Classifier predictions\n",
    "s_pred = search_clf.predict(X_test)\n",
    "\n",
    "#Printing out results\n",
    "report = classification_report(y_test, s_pred, target_names=['Sell', 'Buy', 'Hold'])\n",
    "print(report)"
   ]
  },
  {
   "cell_type": "markdown",
   "metadata": {},
   "source": [
    "### Confusion Matrix for Optimum Parameters"
   ]
  },
  {
   "cell_type": "code",
   "execution_count": 15,
   "metadata": {},
   "outputs": [
    {
     "data": {
      "image/png": "[encoded data removed]",
      "text/plain": [
       "<Figure size 864x432 with 2 Axes>"
      ]
     },
     "metadata": {
      "needs_background": "light"
     },
     "output_type": "display_data"
    }
   ],
   "source": [
    "plot_confusion_matrix(y_test, s_pred, title=\"Confusion Matrix\")\n",
    "np.set_printoptions(precision=1)\n",
    "# Plot non-normalized confusion matrix\n",
    "plt.show()"
   ]
  },
  {
   "cell_type": "code",
   "execution_count": null,
   "metadata": {},
   "outputs": [],
   "source": []
  }
 ],
 "metadata": {
  "kernelspec": {
   "display_name": "Python 3",
   "language": "python",
   "name": "python3"
  },
  "language_info": {
   "codemirror_mode": {
    "name": "ipython",
    "version": 3
   },
   "file_extension": ".py",
   "mimetype": "text/x-python",
   "name": "python",
   "nbconvert_exporter": "python",
   "pygments_lexer": "ipython3",
   "version": "3.7.3"
  }
 },
 "nbformat": 4,
 "nbformat_minor": 2
}
