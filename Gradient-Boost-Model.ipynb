{
 "cells": [
  {
   "cell_type": "markdown",
   "metadata": {},
   "source": [
    "# Model: Gradient Boost"
   ]
  },
  {
   "cell_type": "markdown",
   "metadata": {},
   "source": [
    "### Importing Libraries"
   ]
  },
  {
   "cell_type": "code",
   "execution_count": 7,
   "metadata": {},
   "outputs": [],
   "source": [
    "import _pickle as pickle\n",
    "import numpy as np\n",
    "import pandas as pd\n",
    "from sklearn.model_selection import train_test_split\n",
    "from sklearn.metrics import precision_score, recall_score, accuracy_score, f1_score, confusion_matrix, classification_report\n",
    "import matplotlib.pyplot as plt"
   ]
  },
  {
   "cell_type": "markdown",
   "metadata": {},
   "source": [
    "### Loading in Data"
   ]
  },
  {
   "cell_type": "code",
   "execution_count": 8,
   "metadata": {},
   "outputs": [],
   "source": [
    "with open(\"top10_df.pkl\",'rb') as fp:\n",
    "    df = pickle.load(fp)"
   ]
  },
  {
   "cell_type": "markdown",
   "metadata": {},
   "source": [
    "### Scaling the Data"
   ]
  },
  {
   "cell_type": "code",
   "execution_count": 9,
   "metadata": {},
   "outputs": [],
   "source": [
    "from sklearn.preprocessing import StandardScaler\n",
    "\n",
    "scaler = StandardScaler()\n",
    "\n",
    "features_df = df.drop([\"Decision\"], 1)\n",
    "\n",
    "scaled_df = pd.DataFrame(scaler.fit_transform(features_df), \n",
    "                               index=features_df.index, \n",
    "                               columns=features_df.columns)\n",
    "\n",
    "df = scaled_df.join(df.Decision)"
   ]
  },
  {
   "cell_type": "markdown",
   "metadata": {},
   "source": [
    "### Splitting the Data"
   ]
  },
  {
   "cell_type": "code",
   "execution_count": 10,
   "metadata": {},
   "outputs": [],
   "source": [
    "X = df.drop([\"Decision\"], 1)\n",
    "y = df.Decision\n",
    "\n",
    "# Train, test, split\n",
    "X_train, X_test, y_train, y_test = train_test_split(X, y)"
   ]
  },
  {
   "cell_type": "markdown",
   "metadata": {},
   "source": [
    "### Helper Functions"
   ]
  },
  {
   "cell_type": "markdown",
   "metadata": {},
   "source": [
    "#### Function for plotting confusion matrix"
   ]
  },
  {
   "cell_type": "code",
   "execution_count": 11,
   "metadata": {},
   "outputs": [],
   "source": [
    "def plot_confusion_matrix(y_true, y_pred, labels=[\"Sell\", \"Buy\", \"Hold\"], \n",
    "                          normalize=False, title=None, cmap=plt.cm.coolwarm):\n",
    "\n",
    "    cm = confusion_matrix(y_true, y_pred)\n",
    "    fig, ax = plt.subplots(figsize=(12,6))\n",
    "    im = ax.imshow(cm, interpolation='nearest', cmap=cmap)\n",
    "    ax.figure.colorbar(im, ax=ax)\n",
    "    # We want to show all ticks...\n",
    "    ax.set(xticks=np.arange(cm.shape[1]),\n",
    "           yticks=np.arange(cm.shape[0]),\n",
    "           # ... and label them with the respective list entries\n",
    "           xticklabels=labels, yticklabels=labels,\n",
    "           title=title,\n",
    "           ylabel='ACTUAL',\n",
    "           xlabel='PREDICTED')\n",
    "    # Rotate the tick labels and set their alignment.\n",
    "    plt.setp(ax.get_xticklabels(), rotation=45, ha=\"right\",\n",
    "             rotation_mode=\"anchor\")\n",
    "    # Loop over data dimensions and create text annotations.\n",
    "    fmt = '.2f' if normalize else 'd'\n",
    "    thresh = cm.max() / 1.5\n",
    "    for i in range(cm.shape[0]):\n",
    "        for j in range(cm.shape[1]):\n",
    "            ax.text(j, i, format(cm[i, j], fmt),\n",
    "                    ha=\"center\", va=\"center\",\n",
    "                    color=\"snow\" if cm[i, j] > thresh else \"orange\",\n",
    "                    size=26)\n",
    "    ax.grid(False)\n",
    "    fig.tight_layout()\n",
    "    return ax"
   ]
  },
  {
   "cell_type": "markdown",
   "metadata": {},
   "source": [
    "## Modeling\n",
    "The preferred evaluation metric used will be __Precision__ for each class.  They will be optimized using the __F1 Score-Macro-Average__ to balance the Precision and Recall.  This is done because we want to not only be correct when predicting but also make a decent amount of predictions for each class.  Classes such as 'Buy' and 'Sell' are more important than 'Hold'."
   ]
  },
  {
   "cell_type": "markdown",
   "metadata": {},
   "source": [
    "### Fitting and Training"
   ]
  },
  {
   "cell_type": "code",
   "execution_count": 12,
   "metadata": {
    "scrolled": false
   },
   "outputs": [
    {
     "data": {
      "text/plain": [
       "GradientBoostingClassifier(criterion='friedman_mse', init=None,\n",
       "              learning_rate=0.1, loss='deviance', max_depth=3,\n",
       "              max_features=None, max_leaf_nodes=None,\n",
       "              min_impurity_decrease=0.0, min_impurity_split=None,\n",
       "              min_samples_leaf=1, min_samples_split=2,\n",
       "              min_weight_fraction_leaf=0.0, n_estimators=100,\n",
       "              n_iter_no_change=None, presort='auto', random_state=None,\n",
       "              subsample=1.0, tol=0.0001, validation_fraction=0.1,\n",
       "              verbose=0, warm_start=False)"
      ]
     },
     "execution_count": 12,
     "metadata": {},
     "output_type": "execute_result"
    }
   ],
   "source": [
    "# Importing the model\n",
    "from sklearn.ensemble import GradientBoostingClassifier\n",
    "\n",
    "# Fitting and training\n",
    "clf = GradientBoostingClassifier()\n",
    "clf.fit(X_train, y_train)"
   ]
  },
  {
   "cell_type": "markdown",
   "metadata": {},
   "source": [
    "### Printing out Evaluation Metrics"
   ]
  },
  {
   "cell_type": "code",
   "execution_count": 13,
   "metadata": {},
   "outputs": [
    {
     "name": "stdout",
     "output_type": "stream",
     "text": [
      "              precision    recall  f1-score   support\n",
      "\n",
      "        Sell       0.39      0.03      0.06      2884\n",
      "         Buy       0.48      0.32      0.38      5565\n",
      "        Hold       0.46      0.78      0.58      6594\n",
      "\n",
      "   micro avg       0.47      0.47      0.47     15043\n",
      "   macro avg       0.45      0.38      0.34     15043\n",
      "weighted avg       0.46      0.47      0.41     15043\n",
      "\n"
     ]
    }
   ],
   "source": [
    "# Classifier predictions\n",
    "pred = clf.predict(X_test)\n",
    "\n",
    "#Printing out results\n",
    "report = classification_report(y_test, pred, target_names=['Sell', 'Buy', 'Hold'])\n",
    "print(report)"
   ]
  },
  {
   "cell_type": "markdown",
   "metadata": {},
   "source": [
    "### Confusion Matrix"
   ]
  },
  {
   "cell_type": "code",
   "execution_count": 14,
   "metadata": {},
   "outputs": [
    {
     "data": {
      "image/png": "[encoded data removed]",
      "text/plain": [
       "<Figure size 864x432 with 2 Axes>"
      ]
     },
     "metadata": {
      "needs_background": "light"
     },
     "output_type": "display_data"
    }
   ],
   "source": [
    "plot_confusion_matrix(y_test, pred, title=\"Confusion Matrix\")\n",
    "np.set_printoptions(precision=1)\n",
    "# Plot non-normalized confusion matrix\n",
    "plt.show()"
   ]
  },
  {
   "cell_type": "markdown",
   "metadata": {},
   "source": [
    "## Tuning Model Parameters"
   ]
  },
  {
   "cell_type": "code",
   "execution_count": 15,
   "metadata": {},
   "outputs": [],
   "source": [
    "from sklearn.model_selection import GridSearchCV"
   ]
  },
  {
   "cell_type": "markdown",
   "metadata": {},
   "source": [
    "### Parameters"
   ]
  },
  {
   "cell_type": "code",
   "execution_count": 16,
   "metadata": {},
   "outputs": [],
   "source": [
    "# Parameters to Tune\n",
    "params = {'n_estimators': [50,100, 200],\n",
    "          'learning_rate': [1,0.1,.01],\n",
    "          'max_depth': [1, 3, 6],\n",
    "          'min_samples_split': [2, 5],\n",
    "          'min_samples_leaf': [1, 3, 5]}"
   ]
  },
  {
   "cell_type": "code",
   "execution_count": 17,
   "metadata": {
    "scrolled": true
   },
   "outputs": [
    {
     "name": "stdout",
     "output_type": "stream",
     "text": [
      "Fitting 3 folds for each of 162 candidates, totalling 486 fits\n",
      "[CV] learning_rate=1, max_depth=1, min_samples_leaf=1, min_samples_split=2, n_estimators=50 \n"
     ]
    },
    {
     "name": "stderr",
     "output_type": "stream",
     "text": [
      "[Parallel(n_jobs=1)]: Using backend SequentialBackend with 1 concurrent workers.\n"
     ]
    },
    {
     "name": "stdout",
     "output_type": "stream",
     "text": [
      "[CV]  learning_rate=1, max_depth=1, min_samples_leaf=1, min_samples_split=2, n_estimators=50, score=0.3481273468701316, total=   3.7s\n",
      "[CV] learning_rate=1, max_depth=1, min_samples_leaf=1, min_samples_split=2, n_estimators=50 \n"
     ]
    },
    {
     "name": "stderr",
     "output_type": "stream",
     "text": [
      "[Parallel(n_jobs=1)]: Done   1 out of   1 | elapsed:    3.7s remaining:    0.0s\n"
     ]
    },
    {
     "name": "stdout",
     "output_type": "stream",
     "text": [
      "[CV]  learning_rate=1, max_depth=1, min_samples_leaf=1, min_samples_split=2, n_estimators=50, score=0.3419696526943517, total=   3.5s\n",
      "[CV] learning_rate=1, max_depth=1, min_samples_leaf=1, min_samples_split=2, n_estimators=50 \n"
     ]
    },
    {
     "name": "stderr",
     "output_type": "stream",
     "text": [
      "[Parallel(n_jobs=1)]: Done   2 out of   2 | elapsed:    7.4s remaining:    0.0s\n"
     ]
    },
    {
     "name": "stdout",
     "output_type": "stream",
     "text": [
      "[CV]  learning_rate=1, max_depth=1, min_samples_leaf=1, min_samples_split=2, n_estimators=50, score=0.3441798272899623, total=   3.2s\n",
      "[CV] learning_rate=1, max_depth=1, min_samples_leaf=1, min_samples_split=2, n_estimators=100 \n"
     ]
    },
    {
     "name": "stderr",
     "output_type": "stream",
     "text": [
      "[Parallel(n_jobs=1)]: Done   3 out of   3 | elapsed:   10.7s remaining:    0.0s\n"
     ]
    },
    {
     "name": "stdout",
     "output_type": "stream",
     "text": [
      "[CV]  learning_rate=1, max_depth=1, min_samples_leaf=1, min_samples_split=2, n_estimators=100, score=0.34824476694733936, total=   6.7s\n",
      "[CV] learning_rate=1, max_depth=1, min_samples_leaf=1, min_samples_split=2, n_estimators=100 \n"
     ]
    },
    {
     "name": "stderr",
     "output_type": "stream",
     "text": [
      "[Parallel(n_jobs=1)]: Done   4 out of   4 | elapsed:   17.5s remaining:    0.0s\n"
     ]
    },
    {
     "name": "stdout",
     "output_type": "stream",
     "text": [
      "[CV]  learning_rate=1, max_depth=1, min_samples_leaf=1, min_samples_split=2, n_estimators=100, score=0.34552486620542755, total=  10.6s\n",
      "[CV] learning_rate=1, max_depth=1, min_samples_leaf=1, min_samples_split=2, n_estimators=100 \n",
      "[CV]  learning_rate=1, max_depth=1, min_samples_leaf=1, min_samples_split=2, n_estimators=100, score=0.3455553729160359, total=   7.6s\n",
      "[CV] learning_rate=1, max_depth=1, min_samples_leaf=1, min_samples_split=2, n_estimators=200 \n",
      "[CV]  learning_rate=1, max_depth=1, min_samples_leaf=1, min_samples_split=2, n_estimators=200, score=0.35162171365100897, total=  13.6s\n",
      "[CV] learning_rate=1, max_depth=1, min_samples_leaf=1, min_samples_split=2, n_estimators=200 \n",
      "[CV]  learning_rate=1, max_depth=1, min_samples_leaf=1, min_samples_split=2, n_estimators=200, score=0.3455971679669219, total=  14.5s\n",
      "[CV] learning_rate=1, max_depth=1, min_samples_leaf=1, min_samples_split=2, n_estimators=200 \n",
      "[CV]  learning_rate=1, max_depth=1, min_samples_leaf=1, min_samples_split=2, n_estimators=200, score=0.34855913395456883, total=  12.4s\n",
      "[CV] learning_rate=1, max_depth=1, min_samples_leaf=1, min_samples_split=5, n_estimators=50 \n",
      "[CV]  learning_rate=1, max_depth=1, min_samples_leaf=1, min_samples_split=5, n_estimators=50, score=0.3481273468701316, total=   3.6s\n",
      "[CV] learning_rate=1, max_depth=1, min_samples_leaf=1, min_samples_split=5, n_estimators=50 \n",
      "[CV]  learning_rate=1, max_depth=1, min_samples_leaf=1, min_samples_split=5, n_estimators=50, score=0.3419696526943517, total=   3.8s\n",
      "[CV] learning_rate=1, max_depth=1, min_samples_leaf=1, min_samples_split=5, n_estimators=50 \n",
      "[CV]  learning_rate=1, max_depth=1, min_samples_leaf=1, min_samples_split=5, n_estimators=50, score=0.3441798272899623, total=   3.7s\n",
      "[CV] learning_rate=1, max_depth=1, min_samples_leaf=1, min_samples_split=5, n_estimators=100 \n",
      "[CV]  learning_rate=1, max_depth=1, min_samples_leaf=1, min_samples_split=5, n_estimators=100, score=0.34824476694733936, total=  12.2s\n",
      "[CV] learning_rate=1, max_depth=1, min_samples_leaf=1, min_samples_split=5, n_estimators=100 \n",
      "[CV]  learning_rate=1, max_depth=1, min_samples_leaf=1, min_samples_split=5, n_estimators=100, score=0.34552486620542755, total=   8.2s\n",
      "[CV] learning_rate=1, max_depth=1, min_samples_leaf=1, min_samples_split=5, n_estimators=100 \n",
      "[CV]  learning_rate=1, max_depth=1, min_samples_leaf=1, min_samples_split=5, n_estimators=100, score=0.3455553729160359, total=   6.9s\n",
      "[CV] learning_rate=1, max_depth=1, min_samples_leaf=1, min_samples_split=5, n_estimators=200 \n",
      "[CV]  learning_rate=1, max_depth=1, min_samples_leaf=1, min_samples_split=5, n_estimators=200, score=0.35162171365100897, total=  15.0s\n",
      "[CV] learning_rate=1, max_depth=1, min_samples_leaf=1, min_samples_split=5, n_estimators=200 \n",
      "[CV]  learning_rate=1, max_depth=1, min_samples_leaf=1, min_samples_split=5, n_estimators=200, score=0.3455971679669219, total=  15.5s\n",
      "[CV] learning_rate=1, max_depth=1, min_samples_leaf=1, min_samples_split=5, n_estimators=200 \n",
      "[CV]  learning_rate=1, max_depth=1, min_samples_leaf=1, min_samples_split=5, n_estimators=200, score=0.34855913395456883, total=  13.5s\n",
      "[CV] learning_rate=1, max_depth=1, min_samples_leaf=3, min_samples_split=2, n_estimators=50 \n",
      "[CV]  learning_rate=1, max_depth=1, min_samples_leaf=3, min_samples_split=2, n_estimators=50, score=0.34648199576295413, total=   3.4s\n",
      "[CV] learning_rate=1, max_depth=1, min_samples_leaf=3, min_samples_split=2, n_estimators=50 \n",
      "[CV]  learning_rate=1, max_depth=1, min_samples_leaf=3, min_samples_split=2, n_estimators=50, score=0.3418576423024738, total=   3.7s\n",
      "[CV] learning_rate=1, max_depth=1, min_samples_leaf=3, min_samples_split=2, n_estimators=50 \n",
      "[CV]  learning_rate=1, max_depth=1, min_samples_leaf=3, min_samples_split=2, n_estimators=50, score=0.3449147717889729, total=   3.7s\n",
      "[CV] learning_rate=1, max_depth=1, min_samples_leaf=3, min_samples_split=2, n_estimators=100 \n",
      "[CV]  learning_rate=1, max_depth=1, min_samples_leaf=3, min_samples_split=2, n_estimators=100, score=0.3486782067751772, total=   6.4s\n",
      "[CV] learning_rate=1, max_depth=1, min_samples_leaf=3, min_samples_split=2, n_estimators=100 \n",
      "[CV]  learning_rate=1, max_depth=1, min_samples_leaf=3, min_samples_split=2, n_estimators=100, score=0.3452041056218844, total=   7.9s\n",
      "[CV] learning_rate=1, max_depth=1, min_samples_leaf=3, min_samples_split=2, n_estimators=100 \n",
      "[CV]  learning_rate=1, max_depth=1, min_samples_leaf=3, min_samples_split=2, n_estimators=100, score=0.34851811934946575, total=  12.7s\n",
      "[CV] learning_rate=1, max_depth=1, min_samples_leaf=3, min_samples_split=2, n_estimators=200 \n",
      "[CV]  learning_rate=1, max_depth=1, min_samples_leaf=3, min_samples_split=2, n_estimators=200, score=0.3522732632292205, total=  20.1s\n",
      "[CV] learning_rate=1, max_depth=1, min_samples_leaf=3, min_samples_split=2, n_estimators=200 \n",
      "[CV]  learning_rate=1, max_depth=1, min_samples_leaf=3, min_samples_split=2, n_estimators=200, score=0.34706081918305154, total=  14.2s\n",
      "[CV] learning_rate=1, max_depth=1, min_samples_leaf=3, min_samples_split=2, n_estimators=200 \n",
      "[CV]  learning_rate=1, max_depth=1, min_samples_leaf=3, min_samples_split=2, n_estimators=200, score=0.347937559322854, total=  13.5s\n",
      "[CV] learning_rate=1, max_depth=1, min_samples_leaf=3, min_samples_split=5, n_estimators=50 \n",
      "[CV]  learning_rate=1, max_depth=1, min_samples_leaf=3, min_samples_split=5, n_estimators=50, score=0.34648199576295413, total=   3.5s\n",
      "[CV] learning_rate=1, max_depth=1, min_samples_leaf=3, min_samples_split=5, n_estimators=50 \n",
      "[CV]  learning_rate=1, max_depth=1, min_samples_leaf=3, min_samples_split=5, n_estimators=50, score=0.3418576423024738, total=   3.7s\n",
      "[CV] learning_rate=1, max_depth=1, min_samples_leaf=3, min_samples_split=5, n_estimators=50 \n",
      "[CV]  learning_rate=1, max_depth=1, min_samples_leaf=3, min_samples_split=5, n_estimators=50, score=0.3449147717889729, total=   5.9s\n",
      "[CV] learning_rate=1, max_depth=1, min_samples_leaf=3, min_samples_split=5, n_estimators=100 \n",
      "[CV]  learning_rate=1, max_depth=1, min_samples_leaf=3, min_samples_split=5, n_estimators=100, score=0.3486782067751772, total=   6.9s\n",
      "[CV] learning_rate=1, max_depth=1, min_samples_leaf=3, min_samples_split=5, n_estimators=100 \n",
      "[CV]  learning_rate=1, max_depth=1, min_samples_leaf=3, min_samples_split=5, n_estimators=100, score=0.3452041056218844, total=   6.8s\n",
      "[CV] learning_rate=1, max_depth=1, min_samples_leaf=3, min_samples_split=5, n_estimators=100 \n",
      "[CV]  learning_rate=1, max_depth=1, min_samples_leaf=3, min_samples_split=5, n_estimators=100, score=0.34851811934946575, total=   6.6s\n",
      "[CV] learning_rate=1, max_depth=1, min_samples_leaf=3, min_samples_split=5, n_estimators=200 \n",
      "[CV]  learning_rate=1, max_depth=1, min_samples_leaf=3, min_samples_split=5, n_estimators=200, score=0.3522732632292205, total=  14.8s\n",
      "[CV] learning_rate=1, max_depth=1, min_samples_leaf=3, min_samples_split=5, n_estimators=200 \n",
      "[CV]  learning_rate=1, max_depth=1, min_samples_leaf=3, min_samples_split=5, n_estimators=200, score=0.34706081918305154, total=  13.1s\n",
      "[CV] learning_rate=1, max_depth=1, min_samples_leaf=3, min_samples_split=5, n_estimators=200 \n",
      "[CV]  learning_rate=1, max_depth=1, min_samples_leaf=3, min_samples_split=5, n_estimators=200, score=0.347937559322854, total=  13.7s\n",
      "[CV] learning_rate=1, max_depth=1, min_samples_leaf=5, min_samples_split=2, n_estimators=50 \n",
      "[CV]  learning_rate=1, max_depth=1, min_samples_leaf=5, min_samples_split=2, n_estimators=50, score=0.3476490161873315, total=   3.4s\n",
      "[CV] learning_rate=1, max_depth=1, min_samples_leaf=5, min_samples_split=2, n_estimators=50 \n",
      "[CV]  learning_rate=1, max_depth=1, min_samples_leaf=5, min_samples_split=2, n_estimators=50, score=0.342512649512728, total=   3.5s\n",
      "[CV] learning_rate=1, max_depth=1, min_samples_leaf=5, min_samples_split=2, n_estimators=50 \n",
      "[CV]  learning_rate=1, max_depth=1, min_samples_leaf=5, min_samples_split=2, n_estimators=50, score=0.3453467658679452, total=   3.1s\n",
      "[CV] learning_rate=1, max_depth=1, min_samples_leaf=5, min_samples_split=2, n_estimators=100 \n",
      "[CV]  learning_rate=1, max_depth=1, min_samples_leaf=5, min_samples_split=2, n_estimators=100, score=0.35055878724471495, total=   6.2s\n",
      "[CV] learning_rate=1, max_depth=1, min_samples_leaf=5, min_samples_split=2, n_estimators=100 \n"
     ]
    },
    {
     "name": "stdout",
     "output_type": "stream",
     "text": [
      "[CV]  learning_rate=1, max_depth=1, min_samples_leaf=5, min_samples_split=2, n_estimators=100, score=0.34464976934876185, total=   6.1s\n",
      "[CV] learning_rate=1, max_depth=1, min_samples_leaf=5, min_samples_split=2, n_estimators=100 \n",
      "[CV]  learning_rate=1, max_depth=1, min_samples_leaf=5, min_samples_split=2, n_estimators=100, score=0.34648905909964284, total=   6.1s\n",
      "[CV] learning_rate=1, max_depth=1, min_samples_leaf=5, min_samples_split=2, n_estimators=200 \n",
      "[CV]  learning_rate=1, max_depth=1, min_samples_leaf=5, min_samples_split=2, n_estimators=200, score=0.3519311730988046, total=  12.4s\n",
      "[CV] learning_rate=1, max_depth=1, min_samples_leaf=5, min_samples_split=2, n_estimators=200 \n",
      "[CV]  learning_rate=1, max_depth=1, min_samples_leaf=5, min_samples_split=2, n_estimators=200, score=0.347973556292436, total=  14.3s\n",
      "[CV] learning_rate=1, max_depth=1, min_samples_leaf=5, min_samples_split=2, n_estimators=200 \n",
      "[CV]  learning_rate=1, max_depth=1, min_samples_leaf=5, min_samples_split=2, n_estimators=200, score=0.34770565159687256, total=  13.7s\n",
      "[CV] learning_rate=1, max_depth=1, min_samples_leaf=5, min_samples_split=5, n_estimators=50 \n",
      "[CV]  learning_rate=1, max_depth=1, min_samples_leaf=5, min_samples_split=5, n_estimators=50, score=0.3476490161873315, total=   3.9s\n",
      "[CV] learning_rate=1, max_depth=1, min_samples_leaf=5, min_samples_split=5, n_estimators=50 \n",
      "[CV]  learning_rate=1, max_depth=1, min_samples_leaf=5, min_samples_split=5, n_estimators=50, score=0.342512649512728, total=   3.5s\n",
      "[CV] learning_rate=1, max_depth=1, min_samples_leaf=5, min_samples_split=5, n_estimators=50 \n",
      "[CV]  learning_rate=1, max_depth=1, min_samples_leaf=5, min_samples_split=5, n_estimators=50, score=0.3453467658679452, total=   3.5s\n",
      "[CV] learning_rate=1, max_depth=1, min_samples_leaf=5, min_samples_split=5, n_estimators=100 \n",
      "[CV]  learning_rate=1, max_depth=1, min_samples_leaf=5, min_samples_split=5, n_estimators=100, score=0.35055878724471495, total=   6.6s\n",
      "[CV] learning_rate=1, max_depth=1, min_samples_leaf=5, min_samples_split=5, n_estimators=100 \n",
      "[CV]  learning_rate=1, max_depth=1, min_samples_leaf=5, min_samples_split=5, n_estimators=100, score=0.34464976934876185, total=   6.5s\n",
      "[CV] learning_rate=1, max_depth=1, min_samples_leaf=5, min_samples_split=5, n_estimators=100 \n",
      "[CV]  learning_rate=1, max_depth=1, min_samples_leaf=5, min_samples_split=5, n_estimators=100, score=0.34648905909964284, total=   6.6s\n",
      "[CV] learning_rate=1, max_depth=1, min_samples_leaf=5, min_samples_split=5, n_estimators=200 \n",
      "[CV]  learning_rate=1, max_depth=1, min_samples_leaf=5, min_samples_split=5, n_estimators=200, score=0.3519311730988046, total=  12.9s\n",
      "[CV] learning_rate=1, max_depth=1, min_samples_leaf=5, min_samples_split=5, n_estimators=200 \n",
      "[CV]  learning_rate=1, max_depth=1, min_samples_leaf=5, min_samples_split=5, n_estimators=200, score=0.347973556292436, total=  13.7s\n",
      "[CV] learning_rate=1, max_depth=1, min_samples_leaf=5, min_samples_split=5, n_estimators=200 \n",
      "[CV]  learning_rate=1, max_depth=1, min_samples_leaf=5, min_samples_split=5, n_estimators=200, score=0.34770565159687256, total=  13.3s\n",
      "[CV] learning_rate=1, max_depth=3, min_samples_leaf=1, min_samples_split=2, n_estimators=50 \n",
      "[CV]  learning_rate=1, max_depth=3, min_samples_leaf=1, min_samples_split=2, n_estimators=50, score=0.36113490896590433, total=   7.0s\n",
      "[CV] learning_rate=1, max_depth=3, min_samples_leaf=1, min_samples_split=2, n_estimators=50 \n",
      "[CV]  learning_rate=1, max_depth=3, min_samples_leaf=1, min_samples_split=2, n_estimators=50, score=0.3566477698492127, total=   7.0s\n",
      "[CV] learning_rate=1, max_depth=3, min_samples_leaf=1, min_samples_split=2, n_estimators=50 \n",
      "[CV]  learning_rate=1, max_depth=3, min_samples_leaf=1, min_samples_split=2, n_estimators=50, score=0.3585297438297996, total=   7.4s\n",
      "[CV] learning_rate=1, max_depth=3, min_samples_leaf=1, min_samples_split=2, n_estimators=100 \n",
      "[CV]  learning_rate=1, max_depth=3, min_samples_leaf=1, min_samples_split=2, n_estimators=100, score=0.361878849508903, total=  15.3s\n",
      "[CV] learning_rate=1, max_depth=3, min_samples_leaf=1, min_samples_split=2, n_estimators=100 \n",
      "[CV]  learning_rate=1, max_depth=3, min_samples_leaf=1, min_samples_split=2, n_estimators=100, score=0.36597467792475397, total=  15.6s\n",
      "[CV] learning_rate=1, max_depth=3, min_samples_leaf=1, min_samples_split=2, n_estimators=100 \n",
      "[CV]  learning_rate=1, max_depth=3, min_samples_leaf=1, min_samples_split=2, n_estimators=100, score=0.36537953750482144, total=  15.5s\n",
      "[CV] learning_rate=1, max_depth=3, min_samples_leaf=1, min_samples_split=2, n_estimators=200 \n",
      "[CV]  learning_rate=1, max_depth=3, min_samples_leaf=1, min_samples_split=2, n_estimators=200, score=0.36544114305214204, total=  32.5s\n",
      "[CV] learning_rate=1, max_depth=3, min_samples_leaf=1, min_samples_split=2, n_estimators=200 \n",
      "[CV]  learning_rate=1, max_depth=3, min_samples_leaf=1, min_samples_split=2, n_estimators=200, score=0.3680480502838576, total=  36.3s\n",
      "[CV] learning_rate=1, max_depth=3, min_samples_leaf=1, min_samples_split=2, n_estimators=200 \n",
      "[CV]  learning_rate=1, max_depth=3, min_samples_leaf=1, min_samples_split=2, n_estimators=200, score=0.36292146929672037, total=  33.3s\n",
      "[CV] learning_rate=1, max_depth=3, min_samples_leaf=1, min_samples_split=5, n_estimators=50 \n",
      "[CV]  learning_rate=1, max_depth=3, min_samples_leaf=1, min_samples_split=5, n_estimators=50, score=0.3560699066812199, total=   7.7s\n",
      "[CV] learning_rate=1, max_depth=3, min_samples_leaf=1, min_samples_split=5, n_estimators=50 \n",
      "[CV]  learning_rate=1, max_depth=3, min_samples_leaf=1, min_samples_split=5, n_estimators=50, score=0.36048195027018254, total=   7.6s\n",
      "[CV] learning_rate=1, max_depth=3, min_samples_leaf=1, min_samples_split=5, n_estimators=50 \n",
      "[CV]  learning_rate=1, max_depth=3, min_samples_leaf=1, min_samples_split=5, n_estimators=50, score=0.3533393661068094, total=   7.6s\n",
      "[CV] learning_rate=1, max_depth=3, min_samples_leaf=1, min_samples_split=5, n_estimators=100 \n",
      "[CV]  learning_rate=1, max_depth=3, min_samples_leaf=1, min_samples_split=5, n_estimators=100, score=0.36133736115718734, total=  14.4s\n",
      "[CV] learning_rate=1, max_depth=3, min_samples_leaf=1, min_samples_split=5, n_estimators=100 \n",
      "[CV]  learning_rate=1, max_depth=3, min_samples_leaf=1, min_samples_split=5, n_estimators=100, score=0.3639223322368113, total=  13.9s\n",
      "[CV] learning_rate=1, max_depth=3, min_samples_leaf=1, min_samples_split=5, n_estimators=100 \n",
      "[CV]  learning_rate=1, max_depth=3, min_samples_leaf=1, min_samples_split=5, n_estimators=100, score=0.3595982191825689, total=  14.8s\n",
      "[CV] learning_rate=1, max_depth=3, min_samples_leaf=1, min_samples_split=5, n_estimators=200 \n",
      "[CV]  learning_rate=1, max_depth=3, min_samples_leaf=1, min_samples_split=5, n_estimators=200, score=0.36847279330674937, total=  30.0s\n",
      "[CV] learning_rate=1, max_depth=3, min_samples_leaf=1, min_samples_split=5, n_estimators=200 \n",
      "[CV]  learning_rate=1, max_depth=3, min_samples_leaf=1, min_samples_split=5, n_estimators=200, score=0.3663989952730013, total=  31.5s\n",
      "[CV] learning_rate=1, max_depth=3, min_samples_leaf=1, min_samples_split=5, n_estimators=200 \n",
      "[CV]  learning_rate=1, max_depth=3, min_samples_leaf=1, min_samples_split=5, n_estimators=200, score=0.36160813975784417, total=  31.1s\n",
      "[CV] learning_rate=1, max_depth=3, min_samples_leaf=3, min_samples_split=2, n_estimators=50 \n",
      "[CV]  learning_rate=1, max_depth=3, min_samples_leaf=3, min_samples_split=2, n_estimators=50, score=0.36066263664765014, total=   7.3s\n",
      "[CV] learning_rate=1, max_depth=3, min_samples_leaf=3, min_samples_split=2, n_estimators=50 \n",
      "[CV]  learning_rate=1, max_depth=3, min_samples_leaf=3, min_samples_split=2, n_estimators=50, score=0.3606995997003306, total=   7.4s\n",
      "[CV] learning_rate=1, max_depth=3, min_samples_leaf=3, min_samples_split=2, n_estimators=50 \n",
      "[CV]  learning_rate=1, max_depth=3, min_samples_leaf=3, min_samples_split=2, n_estimators=50, score=0.35607362631189315, total=   7.2s\n",
      "[CV] learning_rate=1, max_depth=3, min_samples_leaf=3, min_samples_split=2, n_estimators=100 \n",
      "[CV]  learning_rate=1, max_depth=3, min_samples_leaf=3, min_samples_split=2, n_estimators=100, score=0.3624467330953176, total=  14.0s\n",
      "[CV] learning_rate=1, max_depth=3, min_samples_leaf=3, min_samples_split=2, n_estimators=100 \n"
     ]
    },
    {
     "name": "stdout",
     "output_type": "stream",
     "text": [
      "[CV]  learning_rate=1, max_depth=3, min_samples_leaf=3, min_samples_split=2, n_estimators=100, score=0.36740210091384173, total=  15.1s\n",
      "[CV] learning_rate=1, max_depth=3, min_samples_leaf=3, min_samples_split=2, n_estimators=100 \n",
      "[CV]  learning_rate=1, max_depth=3, min_samples_leaf=3, min_samples_split=2, n_estimators=100, score=0.3621081162664624, total=  16.4s\n",
      "[CV] learning_rate=1, max_depth=3, min_samples_leaf=3, min_samples_split=2, n_estimators=200 \n",
      "[CV]  learning_rate=1, max_depth=3, min_samples_leaf=3, min_samples_split=2, n_estimators=200, score=0.36451942791085706, total=  33.3s\n",
      "[CV] learning_rate=1, max_depth=3, min_samples_leaf=3, min_samples_split=2, n_estimators=200 \n",
      "[CV]  learning_rate=1, max_depth=3, min_samples_leaf=3, min_samples_split=2, n_estimators=200, score=0.36822999853752775, total=  31.8s\n",
      "[CV] learning_rate=1, max_depth=3, min_samples_leaf=3, min_samples_split=2, n_estimators=200 \n",
      "[CV]  learning_rate=1, max_depth=3, min_samples_leaf=3, min_samples_split=2, n_estimators=200, score=0.3592392884121302, total=  30.4s\n",
      "[CV] learning_rate=1, max_depth=3, min_samples_leaf=3, min_samples_split=5, n_estimators=50 \n",
      "[CV]  learning_rate=1, max_depth=3, min_samples_leaf=3, min_samples_split=5, n_estimators=50, score=0.3606309163195632, total=   8.8s\n",
      "[CV] learning_rate=1, max_depth=3, min_samples_leaf=3, min_samples_split=5, n_estimators=50 \n",
      "[CV]  learning_rate=1, max_depth=3, min_samples_leaf=3, min_samples_split=5, n_estimators=50, score=0.3606995997003306, total=   7.6s\n",
      "[CV] learning_rate=1, max_depth=3, min_samples_leaf=3, min_samples_split=5, n_estimators=50 \n",
      "[CV]  learning_rate=1, max_depth=3, min_samples_leaf=3, min_samples_split=5, n_estimators=50, score=0.3561524065845482, total=   7.8s\n",
      "[CV] learning_rate=1, max_depth=3, min_samples_leaf=3, min_samples_split=5, n_estimators=100 \n",
      "[CV]  learning_rate=1, max_depth=3, min_samples_leaf=3, min_samples_split=5, n_estimators=100, score=0.36262301864024443, total=  14.3s\n",
      "[CV] learning_rate=1, max_depth=3, min_samples_leaf=3, min_samples_split=5, n_estimators=100 \n",
      "[CV]  learning_rate=1, max_depth=3, min_samples_leaf=3, min_samples_split=5, n_estimators=100, score=0.3674497619924348, total=  14.4s\n",
      "[CV] learning_rate=1, max_depth=3, min_samples_leaf=3, min_samples_split=5, n_estimators=100 \n",
      "[CV]  learning_rate=1, max_depth=3, min_samples_leaf=3, min_samples_split=5, n_estimators=100, score=0.3622076078522071, total=  14.1s\n",
      "[CV] learning_rate=1, max_depth=3, min_samples_leaf=3, min_samples_split=5, n_estimators=200 \n",
      "[CV]  learning_rate=1, max_depth=3, min_samples_leaf=3, min_samples_split=5, n_estimators=200, score=0.36459390450339696, total=  27.7s\n",
      "[CV] learning_rate=1, max_depth=3, min_samples_leaf=3, min_samples_split=5, n_estimators=200 \n",
      "[CV]  learning_rate=1, max_depth=3, min_samples_leaf=3, min_samples_split=5, n_estimators=200, score=0.36822999853752775, total=  27.7s\n",
      "[CV] learning_rate=1, max_depth=3, min_samples_leaf=3, min_samples_split=5, n_estimators=200 \n",
      "[CV]  learning_rate=1, max_depth=3, min_samples_leaf=3, min_samples_split=5, n_estimators=200, score=0.35932590607977377, total=  28.3s\n",
      "[CV] learning_rate=1, max_depth=3, min_samples_leaf=5, min_samples_split=2, n_estimators=50 \n",
      "[CV]  learning_rate=1, max_depth=3, min_samples_leaf=5, min_samples_split=2, n_estimators=50, score=0.365252680686724, total=   7.2s\n",
      "[CV] learning_rate=1, max_depth=3, min_samples_leaf=5, min_samples_split=2, n_estimators=50 \n",
      "[CV]  learning_rate=1, max_depth=3, min_samples_leaf=5, min_samples_split=2, n_estimators=50, score=0.3616576497494446, total=   7.2s\n",
      "[CV] learning_rate=1, max_depth=3, min_samples_leaf=5, min_samples_split=2, n_estimators=50 \n",
      "[CV]  learning_rate=1, max_depth=3, min_samples_leaf=5, min_samples_split=2, n_estimators=50, score=0.3589774146299092, total=   7.7s\n",
      "[CV] learning_rate=1, max_depth=3, min_samples_leaf=5, min_samples_split=2, n_estimators=100 \n",
      "[CV]  learning_rate=1, max_depth=3, min_samples_leaf=5, min_samples_split=2, n_estimators=100, score=0.3656635048230397, total=  15.1s\n",
      "[CV] learning_rate=1, max_depth=3, min_samples_leaf=5, min_samples_split=2, n_estimators=100 \n",
      "[CV]  learning_rate=1, max_depth=3, min_samples_leaf=5, min_samples_split=2, n_estimators=100, score=0.3633905978027718, total=  14.4s\n",
      "[CV] learning_rate=1, max_depth=3, min_samples_leaf=5, min_samples_split=2, n_estimators=100 \n",
      "[CV]  learning_rate=1, max_depth=3, min_samples_leaf=5, min_samples_split=2, n_estimators=100, score=0.3639617893469154, total=  14.5s\n",
      "[CV] learning_rate=1, max_depth=3, min_samples_leaf=5, min_samples_split=2, n_estimators=200 \n",
      "[CV]  learning_rate=1, max_depth=3, min_samples_leaf=5, min_samples_split=2, n_estimators=200, score=0.36564626631100955, total=  31.1s\n",
      "[CV] learning_rate=1, max_depth=3, min_samples_leaf=5, min_samples_split=2, n_estimators=200 \n",
      "[CV]  learning_rate=1, max_depth=3, min_samples_leaf=5, min_samples_split=2, n_estimators=200, score=0.36795965850130413, total=  29.7s\n",
      "[CV] learning_rate=1, max_depth=3, min_samples_leaf=5, min_samples_split=2, n_estimators=200 \n",
      "[CV]  learning_rate=1, max_depth=3, min_samples_leaf=5, min_samples_split=2, n_estimators=200, score=0.36219341745987843, total=  28.2s\n",
      "[CV] learning_rate=1, max_depth=3, min_samples_leaf=5, min_samples_split=5, n_estimators=50 \n",
      "[CV]  learning_rate=1, max_depth=3, min_samples_leaf=5, min_samples_split=5, n_estimators=50, score=0.36525153572010777, total=   7.6s\n",
      "[CV] learning_rate=1, max_depth=3, min_samples_leaf=5, min_samples_split=5, n_estimators=50 \n",
      "[CV]  learning_rate=1, max_depth=3, min_samples_leaf=5, min_samples_split=5, n_estimators=50, score=0.36162751444237956, total=   8.9s\n",
      "[CV] learning_rate=1, max_depth=3, min_samples_leaf=5, min_samples_split=5, n_estimators=50 \n",
      "[CV]  learning_rate=1, max_depth=3, min_samples_leaf=5, min_samples_split=5, n_estimators=50, score=0.3589774146299092, total=   9.7s\n",
      "[CV] learning_rate=1, max_depth=3, min_samples_leaf=5, min_samples_split=5, n_estimators=100 \n",
      "[CV]  learning_rate=1, max_depth=3, min_samples_leaf=5, min_samples_split=5, n_estimators=100, score=0.36553548445018924, total=  18.4s\n",
      "[CV] learning_rate=1, max_depth=3, min_samples_leaf=5, min_samples_split=5, n_estimators=100 \n",
      "[CV]  learning_rate=1, max_depth=3, min_samples_leaf=5, min_samples_split=5, n_estimators=100, score=0.3635837370152246, total=  23.4s\n",
      "[CV] learning_rate=1, max_depth=3, min_samples_leaf=5, min_samples_split=5, n_estimators=100 \n",
      "[CV]  learning_rate=1, max_depth=3, min_samples_leaf=5, min_samples_split=5, n_estimators=100, score=0.3639617893469154, total=  28.2s\n",
      "[CV] learning_rate=1, max_depth=3, min_samples_leaf=5, min_samples_split=5, n_estimators=200 \n",
      "[CV]  learning_rate=1, max_depth=3, min_samples_leaf=5, min_samples_split=5, n_estimators=200, score=0.3656780785910943, total=  54.7s\n",
      "[CV] learning_rate=1, max_depth=3, min_samples_leaf=5, min_samples_split=5, n_estimators=200 \n",
      "[CV]  learning_rate=1, max_depth=3, min_samples_leaf=5, min_samples_split=5, n_estimators=200, score=0.36789183321497826, total=  43.5s\n",
      "[CV] learning_rate=1, max_depth=3, min_samples_leaf=5, min_samples_split=5, n_estimators=200 \n",
      "[CV]  learning_rate=1, max_depth=3, min_samples_leaf=5, min_samples_split=5, n_estimators=200, score=0.3622265044311563, total=  36.3s\n",
      "[CV] learning_rate=1, max_depth=6, min_samples_leaf=1, min_samples_split=2, n_estimators=50 \n",
      "[CV]  learning_rate=1, max_depth=6, min_samples_leaf=1, min_samples_split=2, n_estimators=50, score=0.36830985967751434, total=  19.7s\n",
      "[CV] learning_rate=1, max_depth=6, min_samples_leaf=1, min_samples_split=2, n_estimators=50 \n",
      "[CV]  learning_rate=1, max_depth=6, min_samples_leaf=1, min_samples_split=2, n_estimators=50, score=0.36643641709903507, total=  21.0s\n",
      "[CV] learning_rate=1, max_depth=6, min_samples_leaf=1, min_samples_split=2, n_estimators=50 \n",
      "[CV]  learning_rate=1, max_depth=6, min_samples_leaf=1, min_samples_split=2, n_estimators=50, score=0.3587799284858959, total=  23.7s\n",
      "[CV] learning_rate=1, max_depth=6, min_samples_leaf=1, min_samples_split=2, n_estimators=100 \n",
      "[CV]  learning_rate=1, max_depth=6, min_samples_leaf=1, min_samples_split=2, n_estimators=100, score=0.365508709891429, total=  46.5s\n",
      "[CV] learning_rate=1, max_depth=6, min_samples_leaf=1, min_samples_split=2, n_estimators=100 \n"
     ]
    },
    {
     "name": "stdout",
     "output_type": "stream",
     "text": [
      "[CV]  learning_rate=1, max_depth=6, min_samples_leaf=1, min_samples_split=2, n_estimators=100, score=0.3608928412352752, total=  38.8s\n",
      "[CV] learning_rate=1, max_depth=6, min_samples_leaf=1, min_samples_split=2, n_estimators=100 \n",
      "[CV]  learning_rate=1, max_depth=6, min_samples_leaf=1, min_samples_split=2, n_estimators=100, score=0.3592771566037616, total=  36.3s\n",
      "[CV] learning_rate=1, max_depth=6, min_samples_leaf=1, min_samples_split=2, n_estimators=200 \n",
      "[CV]  learning_rate=1, max_depth=6, min_samples_leaf=1, min_samples_split=2, n_estimators=200, score=0.3589804776695063, total= 1.2min\n",
      "[CV] learning_rate=1, max_depth=6, min_samples_leaf=1, min_samples_split=2, n_estimators=200 \n",
      "[CV]  learning_rate=1, max_depth=6, min_samples_leaf=1, min_samples_split=2, n_estimators=200, score=0.36258665023795716, total= 1.1min\n",
      "[CV] learning_rate=1, max_depth=6, min_samples_leaf=1, min_samples_split=2, n_estimators=200 \n",
      "[CV]  learning_rate=1, max_depth=6, min_samples_leaf=1, min_samples_split=2, n_estimators=200, score=0.3564982560272465, total= 1.2min\n",
      "[CV] learning_rate=1, max_depth=6, min_samples_leaf=1, min_samples_split=5, n_estimators=50 \n",
      "[CV]  learning_rate=1, max_depth=6, min_samples_leaf=1, min_samples_split=5, n_estimators=50, score=0.3630153607597156, total=  17.1s\n",
      "[CV] learning_rate=1, max_depth=6, min_samples_leaf=1, min_samples_split=5, n_estimators=50 \n",
      "[CV]  learning_rate=1, max_depth=6, min_samples_leaf=1, min_samples_split=5, n_estimators=50, score=0.3686782388121581, total=  17.2s\n",
      "[CV] learning_rate=1, max_depth=6, min_samples_leaf=1, min_samples_split=5, n_estimators=50 \n",
      "[CV]  learning_rate=1, max_depth=6, min_samples_leaf=1, min_samples_split=5, n_estimators=50, score=0.36218992633529634, total=  16.7s\n",
      "[CV] learning_rate=1, max_depth=6, min_samples_leaf=1, min_samples_split=5, n_estimators=100 \n",
      "[CV]  learning_rate=1, max_depth=6, min_samples_leaf=1, min_samples_split=5, n_estimators=100, score=0.3611484952644961, total=  33.0s\n",
      "[CV] learning_rate=1, max_depth=6, min_samples_leaf=1, min_samples_split=5, n_estimators=100 \n",
      "[CV]  learning_rate=1, max_depth=6, min_samples_leaf=1, min_samples_split=5, n_estimators=100, score=0.366861038992742, total=  32.3s\n",
      "[CV] learning_rate=1, max_depth=6, min_samples_leaf=1, min_samples_split=5, n_estimators=100 \n",
      "[CV]  learning_rate=1, max_depth=6, min_samples_leaf=1, min_samples_split=5, n_estimators=100, score=0.3623680376808589, total=  31.9s\n",
      "[CV] learning_rate=1, max_depth=6, min_samples_leaf=1, min_samples_split=5, n_estimators=200 \n",
      "[CV]  learning_rate=1, max_depth=6, min_samples_leaf=1, min_samples_split=5, n_estimators=200, score=0.3631240047389353, total= 1.1min\n",
      "[CV] learning_rate=1, max_depth=6, min_samples_leaf=1, min_samples_split=5, n_estimators=200 \n",
      "[CV]  learning_rate=1, max_depth=6, min_samples_leaf=1, min_samples_split=5, n_estimators=200, score=0.3646597610797626, total= 1.1min\n",
      "[CV] learning_rate=1, max_depth=6, min_samples_leaf=1, min_samples_split=5, n_estimators=200 \n",
      "[CV]  learning_rate=1, max_depth=6, min_samples_leaf=1, min_samples_split=5, n_estimators=200, score=0.3623311906793785, total= 1.2min\n",
      "[CV] learning_rate=1, max_depth=6, min_samples_leaf=3, min_samples_split=2, n_estimators=50 \n",
      "[CV]  learning_rate=1, max_depth=6, min_samples_leaf=3, min_samples_split=2, n_estimators=50, score=0.36929699472666605, total=  17.3s\n",
      "[CV] learning_rate=1, max_depth=6, min_samples_leaf=3, min_samples_split=2, n_estimators=50 \n",
      "[CV]  learning_rate=1, max_depth=6, min_samples_leaf=3, min_samples_split=2, n_estimators=50, score=0.3624052963725592, total=  16.5s\n",
      "[CV] learning_rate=1, max_depth=6, min_samples_leaf=3, min_samples_split=2, n_estimators=50 \n",
      "[CV]  learning_rate=1, max_depth=6, min_samples_leaf=3, min_samples_split=2, n_estimators=50, score=0.36589301013282566, total=  16.4s\n",
      "[CV] learning_rate=1, max_depth=6, min_samples_leaf=3, min_samples_split=2, n_estimators=100 \n",
      "[CV]  learning_rate=1, max_depth=6, min_samples_leaf=3, min_samples_split=2, n_estimators=100, score=0.3650866391437464, total=  32.0s\n",
      "[CV] learning_rate=1, max_depth=6, min_samples_leaf=3, min_samples_split=2, n_estimators=100 \n",
      "[CV]  learning_rate=1, max_depth=6, min_samples_leaf=3, min_samples_split=2, n_estimators=100, score=0.361577562208401, total=  38.1s\n",
      "[CV] learning_rate=1, max_depth=6, min_samples_leaf=3, min_samples_split=2, n_estimators=100 \n",
      "[CV]  learning_rate=1, max_depth=6, min_samples_leaf=3, min_samples_split=2, n_estimators=100, score=0.36317262031835845, total=  35.5s\n",
      "[CV] learning_rate=1, max_depth=6, min_samples_leaf=3, min_samples_split=2, n_estimators=200 \n",
      "[CV]  learning_rate=1, max_depth=6, min_samples_leaf=3, min_samples_split=2, n_estimators=200, score=0.3615746273210469, total= 1.1min\n",
      "[CV] learning_rate=1, max_depth=6, min_samples_leaf=3, min_samples_split=2, n_estimators=200 \n",
      "[CV]  learning_rate=1, max_depth=6, min_samples_leaf=3, min_samples_split=2, n_estimators=200, score=0.3606043527032818, total= 1.2min\n",
      "[CV] learning_rate=1, max_depth=6, min_samples_leaf=3, min_samples_split=2, n_estimators=200 \n",
      "[CV]  learning_rate=1, max_depth=6, min_samples_leaf=3, min_samples_split=2, n_estimators=200, score=0.3677157297791999, total= 1.1min\n",
      "[CV] learning_rate=1, max_depth=6, min_samples_leaf=3, min_samples_split=5, n_estimators=50 \n",
      "[CV]  learning_rate=1, max_depth=6, min_samples_leaf=3, min_samples_split=5, n_estimators=50, score=0.3667292409461329, total=  16.8s\n",
      "[CV] learning_rate=1, max_depth=6, min_samples_leaf=3, min_samples_split=5, n_estimators=50 \n",
      "[CV]  learning_rate=1, max_depth=6, min_samples_leaf=3, min_samples_split=5, n_estimators=50, score=0.3663837356022504, total=  17.0s\n",
      "[CV] learning_rate=1, max_depth=6, min_samples_leaf=3, min_samples_split=5, n_estimators=50 \n",
      "[CV]  learning_rate=1, max_depth=6, min_samples_leaf=3, min_samples_split=5, n_estimators=50, score=0.3605585669771001, total=  17.4s\n",
      "[CV] learning_rate=1, max_depth=6, min_samples_leaf=3, min_samples_split=5, n_estimators=100 \n",
      "[CV]  learning_rate=1, max_depth=6, min_samples_leaf=3, min_samples_split=5, n_estimators=100, score=0.3683443814104143, total=  33.9s\n",
      "[CV] learning_rate=1, max_depth=6, min_samples_leaf=3, min_samples_split=5, n_estimators=100 \n",
      "[CV]  learning_rate=1, max_depth=6, min_samples_leaf=3, min_samples_split=5, n_estimators=100, score=0.36148983967462006, total=  38.0s\n",
      "[CV] learning_rate=1, max_depth=6, min_samples_leaf=3, min_samples_split=5, n_estimators=100 \n",
      "[CV]  learning_rate=1, max_depth=6, min_samples_leaf=3, min_samples_split=5, n_estimators=100, score=0.3608271755628199, total=  33.9s\n",
      "[CV] learning_rate=1, max_depth=6, min_samples_leaf=3, min_samples_split=5, n_estimators=200 \n",
      "[CV]  learning_rate=1, max_depth=6, min_samples_leaf=3, min_samples_split=5, n_estimators=200, score=0.3590095880758582, total= 1.4min\n",
      "[CV] learning_rate=1, max_depth=6, min_samples_leaf=3, min_samples_split=5, n_estimators=200 \n",
      "[CV]  learning_rate=1, max_depth=6, min_samples_leaf=3, min_samples_split=5, n_estimators=200, score=0.35662776069011765, total= 1.3min\n",
      "[CV] learning_rate=1, max_depth=6, min_samples_leaf=3, min_samples_split=5, n_estimators=200 \n",
      "[CV]  learning_rate=1, max_depth=6, min_samples_leaf=3, min_samples_split=5, n_estimators=200, score=0.35561308682900994, total= 1.2min\n",
      "[CV] learning_rate=1, max_depth=6, min_samples_leaf=5, min_samples_split=2, n_estimators=50 \n",
      "[CV]  learning_rate=1, max_depth=6, min_samples_leaf=5, min_samples_split=2, n_estimators=50, score=0.3581073171728753, total=  17.7s\n",
      "[CV] learning_rate=1, max_depth=6, min_samples_leaf=5, min_samples_split=2, n_estimators=50 \n",
      "[CV]  learning_rate=1, max_depth=6, min_samples_leaf=5, min_samples_split=2, n_estimators=50, score=0.36907498441794767, total=  17.1s\n",
      "[CV] learning_rate=1, max_depth=6, min_samples_leaf=5, min_samples_split=2, n_estimators=50 \n",
      "[CV]  learning_rate=1, max_depth=6, min_samples_leaf=5, min_samples_split=2, n_estimators=50, score=0.3663861287583803, total=  16.3s\n",
      "[CV] learning_rate=1, max_depth=6, min_samples_leaf=5, min_samples_split=2, n_estimators=100 \n",
      "[CV]  learning_rate=1, max_depth=6, min_samples_leaf=5, min_samples_split=2, n_estimators=100, score=0.3621485685313912, total=  34.0s\n",
      "[CV] learning_rate=1, max_depth=6, min_samples_leaf=5, min_samples_split=2, n_estimators=100 \n"
     ]
    },
    {
     "name": "stdout",
     "output_type": "stream",
     "text": [
      "[CV]  learning_rate=1, max_depth=6, min_samples_leaf=5, min_samples_split=2, n_estimators=100, score=0.3665057909727194, total=  35.8s\n",
      "[CV] learning_rate=1, max_depth=6, min_samples_leaf=5, min_samples_split=2, n_estimators=100 \n",
      "[CV]  learning_rate=1, max_depth=6, min_samples_leaf=5, min_samples_split=2, n_estimators=100, score=0.3642830896071661, total=  33.3s\n",
      "[CV] learning_rate=1, max_depth=6, min_samples_leaf=5, min_samples_split=2, n_estimators=200 \n",
      "[CV]  learning_rate=1, max_depth=6, min_samples_leaf=5, min_samples_split=2, n_estimators=200, score=0.36290674140793017, total= 1.1min\n",
      "[CV] learning_rate=1, max_depth=6, min_samples_leaf=5, min_samples_split=2, n_estimators=200 \n",
      "[CV]  learning_rate=1, max_depth=6, min_samples_leaf=5, min_samples_split=2, n_estimators=200, score=0.36120633834428445, total= 1.1min\n",
      "[CV] learning_rate=1, max_depth=6, min_samples_leaf=5, min_samples_split=2, n_estimators=200 \n",
      "[CV]  learning_rate=1, max_depth=6, min_samples_leaf=5, min_samples_split=2, n_estimators=200, score=0.3658301099949895, total= 1.1min\n",
      "[CV] learning_rate=1, max_depth=6, min_samples_leaf=5, min_samples_split=5, n_estimators=50 \n",
      "[CV]  learning_rate=1, max_depth=6, min_samples_leaf=5, min_samples_split=5, n_estimators=50, score=0.3615699767418394, total=  15.7s\n",
      "[CV] learning_rate=1, max_depth=6, min_samples_leaf=5, min_samples_split=5, n_estimators=50 \n",
      "[CV]  learning_rate=1, max_depth=6, min_samples_leaf=5, min_samples_split=5, n_estimators=50, score=0.36902716727071866, total=  16.5s\n",
      "[CV] learning_rate=1, max_depth=6, min_samples_leaf=5, min_samples_split=5, n_estimators=50 \n",
      "[CV]  learning_rate=1, max_depth=6, min_samples_leaf=5, min_samples_split=5, n_estimators=50, score=0.3663255803454388, total=  16.2s\n",
      "[CV] learning_rate=1, max_depth=6, min_samples_leaf=5, min_samples_split=5, n_estimators=100 \n",
      "[CV]  learning_rate=1, max_depth=6, min_samples_leaf=5, min_samples_split=5, n_estimators=100, score=0.3632657976080205, total=  32.3s\n",
      "[CV] learning_rate=1, max_depth=6, min_samples_leaf=5, min_samples_split=5, n_estimators=100 \n",
      "[CV]  learning_rate=1, max_depth=6, min_samples_leaf=5, min_samples_split=5, n_estimators=100, score=0.36649535004404427, total=  40.6s\n",
      "[CV] learning_rate=1, max_depth=6, min_samples_leaf=5, min_samples_split=5, n_estimators=100 \n",
      "[CV]  learning_rate=1, max_depth=6, min_samples_leaf=5, min_samples_split=5, n_estimators=100, score=0.3641090551408102, total=  35.4s\n",
      "[CV] learning_rate=1, max_depth=6, min_samples_leaf=5, min_samples_split=5, n_estimators=200 \n",
      "[CV]  learning_rate=1, max_depth=6, min_samples_leaf=5, min_samples_split=5, n_estimators=200, score=0.36586270887299355, total= 1.1min\n",
      "[CV] learning_rate=1, max_depth=6, min_samples_leaf=5, min_samples_split=5, n_estimators=200 \n",
      "[CV]  learning_rate=1, max_depth=6, min_samples_leaf=5, min_samples_split=5, n_estimators=200, score=0.3610686659374093, total= 1.1min\n",
      "[CV] learning_rate=1, max_depth=6, min_samples_leaf=5, min_samples_split=5, n_estimators=200 \n",
      "[CV]  learning_rate=1, max_depth=6, min_samples_leaf=5, min_samples_split=5, n_estimators=200, score=0.36592500779340864, total= 1.3min\n",
      "[CV] learning_rate=0.1, max_depth=1, min_samples_leaf=1, min_samples_split=2, n_estimators=50 \n",
      "[CV]  learning_rate=0.1, max_depth=1, min_samples_leaf=1, min_samples_split=2, n_estimators=50, score=0.3210549996216229, total=   3.3s\n",
      "[CV] learning_rate=0.1, max_depth=1, min_samples_leaf=1, min_samples_split=2, n_estimators=50 \n",
      "[CV]  learning_rate=0.1, max_depth=1, min_samples_leaf=1, min_samples_split=2, n_estimators=50, score=0.32108890126748335, total=   3.3s\n",
      "[CV] learning_rate=0.1, max_depth=1, min_samples_leaf=1, min_samples_split=2, n_estimators=50 \n"
     ]
    },
    {
     "name": "stderr",
     "output_type": "stream",
     "text": [
      "/anaconda3/lib/python3.7/site-packages/sklearn/metrics/classification.py:1143: UndefinedMetricWarning: F-score is ill-defined and being set to 0.0 in labels with no predicted samples.\n",
      "  'precision', 'predicted', average, warn_for)\n",
      "/anaconda3/lib/python3.7/site-packages/sklearn/metrics/classification.py:1143: UndefinedMetricWarning: F-score is ill-defined and being set to 0.0 in labels with no predicted samples.\n",
      "  'precision', 'predicted', average, warn_for)\n"
     ]
    },
    {
     "name": "stdout",
     "output_type": "stream",
     "text": [
      "[CV]  learning_rate=0.1, max_depth=1, min_samples_leaf=1, min_samples_split=2, n_estimators=50, score=0.31730535237396984, total=   3.3s\n",
      "[CV] learning_rate=0.1, max_depth=1, min_samples_leaf=1, min_samples_split=2, n_estimators=100 \n",
      "[CV]  learning_rate=0.1, max_depth=1, min_samples_leaf=1, min_samples_split=2, n_estimators=100, score=0.3292462685615796, total=   6.3s\n",
      "[CV] learning_rate=0.1, max_depth=1, min_samples_leaf=1, min_samples_split=2, n_estimators=100 \n",
      "[CV]  learning_rate=0.1, max_depth=1, min_samples_leaf=1, min_samples_split=2, n_estimators=100, score=0.32848538813476136, total=   6.3s\n",
      "[CV] learning_rate=0.1, max_depth=1, min_samples_leaf=1, min_samples_split=2, n_estimators=100 \n",
      "[CV]  learning_rate=0.1, max_depth=1, min_samples_leaf=1, min_samples_split=2, n_estimators=100, score=0.32466050646892536, total=   6.4s\n",
      "[CV] learning_rate=0.1, max_depth=1, min_samples_leaf=1, min_samples_split=2, n_estimators=200 \n",
      "[CV]  learning_rate=0.1, max_depth=1, min_samples_leaf=1, min_samples_split=2, n_estimators=200, score=0.3339240580551836, total=  13.0s\n",
      "[CV] learning_rate=0.1, max_depth=1, min_samples_leaf=1, min_samples_split=2, n_estimators=200 \n",
      "[CV]  learning_rate=0.1, max_depth=1, min_samples_leaf=1, min_samples_split=2, n_estimators=200, score=0.33258213414615617, total=  12.6s\n",
      "[CV] learning_rate=0.1, max_depth=1, min_samples_leaf=1, min_samples_split=2, n_estimators=200 \n",
      "[CV]  learning_rate=0.1, max_depth=1, min_samples_leaf=1, min_samples_split=2, n_estimators=200, score=0.33343160782689746, total=  14.4s\n",
      "[CV] learning_rate=0.1, max_depth=1, min_samples_leaf=1, min_samples_split=5, n_estimators=50 \n",
      "[CV]  learning_rate=0.1, max_depth=1, min_samples_leaf=1, min_samples_split=5, n_estimators=50, score=0.3210549996216229, total=   3.4s\n",
      "[CV] learning_rate=0.1, max_depth=1, min_samples_leaf=1, min_samples_split=5, n_estimators=50 \n",
      "[CV]  learning_rate=0.1, max_depth=1, min_samples_leaf=1, min_samples_split=5, n_estimators=50, score=0.32108890126748335, total=   3.4s\n",
      "[CV] learning_rate=0.1, max_depth=1, min_samples_leaf=1, min_samples_split=5, n_estimators=50 \n"
     ]
    },
    {
     "name": "stderr",
     "output_type": "stream",
     "text": [
      "/anaconda3/lib/python3.7/site-packages/sklearn/metrics/classification.py:1143: UndefinedMetricWarning: F-score is ill-defined and being set to 0.0 in labels with no predicted samples.\n",
      "  'precision', 'predicted', average, warn_for)\n",
      "/anaconda3/lib/python3.7/site-packages/sklearn/metrics/classification.py:1143: UndefinedMetricWarning: F-score is ill-defined and being set to 0.0 in labels with no predicted samples.\n",
      "  'precision', 'predicted', average, warn_for)\n"
     ]
    },
    {
     "name": "stdout",
     "output_type": "stream",
     "text": [
      "[CV]  learning_rate=0.1, max_depth=1, min_samples_leaf=1, min_samples_split=5, n_estimators=50, score=0.31730535237396984, total=   3.3s\n",
      "[CV] learning_rate=0.1, max_depth=1, min_samples_leaf=1, min_samples_split=5, n_estimators=100 \n",
      "[CV]  learning_rate=0.1, max_depth=1, min_samples_leaf=1, min_samples_split=5, n_estimators=100, score=0.3292462685615796, total=   7.1s\n",
      "[CV] learning_rate=0.1, max_depth=1, min_samples_leaf=1, min_samples_split=5, n_estimators=100 \n",
      "[CV]  learning_rate=0.1, max_depth=1, min_samples_leaf=1, min_samples_split=5, n_estimators=100, score=0.32848538813476136, total=   7.1s\n",
      "[CV] learning_rate=0.1, max_depth=1, min_samples_leaf=1, min_samples_split=5, n_estimators=100 \n",
      "[CV]  learning_rate=0.1, max_depth=1, min_samples_leaf=1, min_samples_split=5, n_estimators=100, score=0.32466050646892536, total=   6.9s\n",
      "[CV] learning_rate=0.1, max_depth=1, min_samples_leaf=1, min_samples_split=5, n_estimators=200 \n",
      "[CV]  learning_rate=0.1, max_depth=1, min_samples_leaf=1, min_samples_split=5, n_estimators=200, score=0.3339240580551836, total=  15.8s\n",
      "[CV] learning_rate=0.1, max_depth=1, min_samples_leaf=1, min_samples_split=5, n_estimators=200 \n",
      "[CV]  learning_rate=0.1, max_depth=1, min_samples_leaf=1, min_samples_split=5, n_estimators=200, score=0.33258213414615617, total=  13.5s\n",
      "[CV] learning_rate=0.1, max_depth=1, min_samples_leaf=1, min_samples_split=5, n_estimators=200 \n",
      "[CV]  learning_rate=0.1, max_depth=1, min_samples_leaf=1, min_samples_split=5, n_estimators=200, score=0.33343160782689746, total=  12.4s\n",
      "[CV] learning_rate=0.1, max_depth=1, min_samples_leaf=3, min_samples_split=2, n_estimators=50 \n",
      "[CV]  learning_rate=0.1, max_depth=1, min_samples_leaf=3, min_samples_split=2, n_estimators=50, score=0.3210549996216229, total=   4.4s\n",
      "[CV] learning_rate=0.1, max_depth=1, min_samples_leaf=3, min_samples_split=2, n_estimators=50 \n",
      "[CV]  learning_rate=0.1, max_depth=1, min_samples_leaf=3, min_samples_split=2, n_estimators=50, score=0.32108890126748335, total=   3.6s\n",
      "[CV] learning_rate=0.1, max_depth=1, min_samples_leaf=3, min_samples_split=2, n_estimators=50 \n"
     ]
    },
    {
     "name": "stderr",
     "output_type": "stream",
     "text": [
      "/anaconda3/lib/python3.7/site-packages/sklearn/metrics/classification.py:1143: UndefinedMetricWarning: F-score is ill-defined and being set to 0.0 in labels with no predicted samples.\n",
      "  'precision', 'predicted', average, warn_for)\n",
      "/anaconda3/lib/python3.7/site-packages/sklearn/metrics/classification.py:1143: UndefinedMetricWarning: F-score is ill-defined and being set to 0.0 in labels with no predicted samples.\n",
      "  'precision', 'predicted', average, warn_for)\n"
     ]
    },
    {
     "name": "stdout",
     "output_type": "stream",
     "text": [
      "[CV]  learning_rate=0.1, max_depth=1, min_samples_leaf=3, min_samples_split=2, n_estimators=50, score=0.31730535237396984, total=   3.4s\n",
      "[CV] learning_rate=0.1, max_depth=1, min_samples_leaf=3, min_samples_split=2, n_estimators=100 \n",
      "[CV]  learning_rate=0.1, max_depth=1, min_samples_leaf=3, min_samples_split=2, n_estimators=100, score=0.3292462685615796, total=   6.6s\n",
      "[CV] learning_rate=0.1, max_depth=1, min_samples_leaf=3, min_samples_split=2, n_estimators=100 \n",
      "[CV]  learning_rate=0.1, max_depth=1, min_samples_leaf=3, min_samples_split=2, n_estimators=100, score=0.32848538813476136, total=   6.7s\n",
      "[CV] learning_rate=0.1, max_depth=1, min_samples_leaf=3, min_samples_split=2, n_estimators=100 \n",
      "[CV]  learning_rate=0.1, max_depth=1, min_samples_leaf=3, min_samples_split=2, n_estimators=100, score=0.32466050646892536, total=   7.8s\n",
      "[CV] learning_rate=0.1, max_depth=1, min_samples_leaf=3, min_samples_split=2, n_estimators=200 \n",
      "[CV]  learning_rate=0.1, max_depth=1, min_samples_leaf=3, min_samples_split=2, n_estimators=200, score=0.3340682850615479, total=  13.7s\n",
      "[CV] learning_rate=0.1, max_depth=1, min_samples_leaf=3, min_samples_split=2, n_estimators=200 \n",
      "[CV]  learning_rate=0.1, max_depth=1, min_samples_leaf=3, min_samples_split=2, n_estimators=200, score=0.3330258573816073, total=  13.4s\n",
      "[CV] learning_rate=0.1, max_depth=1, min_samples_leaf=3, min_samples_split=2, n_estimators=200 \n",
      "[CV]  learning_rate=0.1, max_depth=1, min_samples_leaf=3, min_samples_split=2, n_estimators=200, score=0.33343160782689746, total=  13.0s\n",
      "[CV] learning_rate=0.1, max_depth=1, min_samples_leaf=3, min_samples_split=5, n_estimators=50 \n",
      "[CV]  learning_rate=0.1, max_depth=1, min_samples_leaf=3, min_samples_split=5, n_estimators=50, score=0.3210549996216229, total=   3.7s\n",
      "[CV] learning_rate=0.1, max_depth=1, min_samples_leaf=3, min_samples_split=5, n_estimators=50 \n",
      "[CV]  learning_rate=0.1, max_depth=1, min_samples_leaf=3, min_samples_split=5, n_estimators=50, score=0.32108890126748335, total=   3.6s\n",
      "[CV] learning_rate=0.1, max_depth=1, min_samples_leaf=3, min_samples_split=5, n_estimators=50 \n"
     ]
    },
    {
     "name": "stderr",
     "output_type": "stream",
     "text": [
      "/anaconda3/lib/python3.7/site-packages/sklearn/metrics/classification.py:1143: UndefinedMetricWarning: F-score is ill-defined and being set to 0.0 in labels with no predicted samples.\n",
      "  'precision', 'predicted', average, warn_for)\n",
      "/anaconda3/lib/python3.7/site-packages/sklearn/metrics/classification.py:1143: UndefinedMetricWarning: F-score is ill-defined and being set to 0.0 in labels with no predicted samples.\n",
      "  'precision', 'predicted', average, warn_for)\n"
     ]
    },
    {
     "name": "stdout",
     "output_type": "stream",
     "text": [
      "[CV]  learning_rate=0.1, max_depth=1, min_samples_leaf=3, min_samples_split=5, n_estimators=50, score=0.31730535237396984, total=   3.7s\n",
      "[CV] learning_rate=0.1, max_depth=1, min_samples_leaf=3, min_samples_split=5, n_estimators=100 \n",
      "[CV]  learning_rate=0.1, max_depth=1, min_samples_leaf=3, min_samples_split=5, n_estimators=100, score=0.3292462685615796, total=   7.0s\n",
      "[CV] learning_rate=0.1, max_depth=1, min_samples_leaf=3, min_samples_split=5, n_estimators=100 \n",
      "[CV]  learning_rate=0.1, max_depth=1, min_samples_leaf=3, min_samples_split=5, n_estimators=100, score=0.32848538813476136, total=   6.5s\n",
      "[CV] learning_rate=0.1, max_depth=1, min_samples_leaf=3, min_samples_split=5, n_estimators=100 \n",
      "[CV]  learning_rate=0.1, max_depth=1, min_samples_leaf=3, min_samples_split=5, n_estimators=100, score=0.32466050646892536, total=   6.4s\n",
      "[CV] learning_rate=0.1, max_depth=1, min_samples_leaf=3, min_samples_split=5, n_estimators=200 \n",
      "[CV]  learning_rate=0.1, max_depth=1, min_samples_leaf=3, min_samples_split=5, n_estimators=200, score=0.3340682850615479, total=  12.8s\n",
      "[CV] learning_rate=0.1, max_depth=1, min_samples_leaf=3, min_samples_split=5, n_estimators=200 \n",
      "[CV]  learning_rate=0.1, max_depth=1, min_samples_leaf=3, min_samples_split=5, n_estimators=200, score=0.3330258573816073, total=  13.0s\n",
      "[CV] learning_rate=0.1, max_depth=1, min_samples_leaf=3, min_samples_split=5, n_estimators=200 \n",
      "[CV]  learning_rate=0.1, max_depth=1, min_samples_leaf=3, min_samples_split=5, n_estimators=200, score=0.33343160782689746, total=  12.7s\n",
      "[CV] learning_rate=0.1, max_depth=1, min_samples_leaf=5, min_samples_split=2, n_estimators=50 \n",
      "[CV]  learning_rate=0.1, max_depth=1, min_samples_leaf=5, min_samples_split=2, n_estimators=50, score=0.3210549996216229, total=   3.4s\n",
      "[CV] learning_rate=0.1, max_depth=1, min_samples_leaf=5, min_samples_split=2, n_estimators=50 \n",
      "[CV]  learning_rate=0.1, max_depth=1, min_samples_leaf=5, min_samples_split=2, n_estimators=50, score=0.32108890126748335, total=   3.8s\n",
      "[CV] learning_rate=0.1, max_depth=1, min_samples_leaf=5, min_samples_split=2, n_estimators=50 \n"
     ]
    },
    {
     "name": "stderr",
     "output_type": "stream",
     "text": [
      "/anaconda3/lib/python3.7/site-packages/sklearn/metrics/classification.py:1143: UndefinedMetricWarning: F-score is ill-defined and being set to 0.0 in labels with no predicted samples.\n",
      "  'precision', 'predicted', average, warn_for)\n",
      "/anaconda3/lib/python3.7/site-packages/sklearn/metrics/classification.py:1143: UndefinedMetricWarning: F-score is ill-defined and being set to 0.0 in labels with no predicted samples.\n",
      "  'precision', 'predicted', average, warn_for)\n"
     ]
    },
    {
     "name": "stdout",
     "output_type": "stream",
     "text": [
      "[CV]  learning_rate=0.1, max_depth=1, min_samples_leaf=5, min_samples_split=2, n_estimators=50, score=0.31730535237396984, total=   3.2s\n",
      "[CV] learning_rate=0.1, max_depth=1, min_samples_leaf=5, min_samples_split=2, n_estimators=100 \n",
      "[CV]  learning_rate=0.1, max_depth=1, min_samples_leaf=5, min_samples_split=2, n_estimators=100, score=0.3292462685615796, total=   6.7s\n",
      "[CV] learning_rate=0.1, max_depth=1, min_samples_leaf=5, min_samples_split=2, n_estimators=100 \n",
      "[CV]  learning_rate=0.1, max_depth=1, min_samples_leaf=5, min_samples_split=2, n_estimators=100, score=0.32848538813476136, total=   7.5s\n",
      "[CV] learning_rate=0.1, max_depth=1, min_samples_leaf=5, min_samples_split=2, n_estimators=100 \n",
      "[CV]  learning_rate=0.1, max_depth=1, min_samples_leaf=5, min_samples_split=2, n_estimators=100, score=0.32466050646892536, total=   7.4s\n",
      "[CV] learning_rate=0.1, max_depth=1, min_samples_leaf=5, min_samples_split=2, n_estimators=200 \n",
      "[CV]  learning_rate=0.1, max_depth=1, min_samples_leaf=5, min_samples_split=2, n_estimators=200, score=0.33361179787510903, total=  14.7s\n",
      "[CV] learning_rate=0.1, max_depth=1, min_samples_leaf=5, min_samples_split=2, n_estimators=200 \n",
      "[CV]  learning_rate=0.1, max_depth=1, min_samples_leaf=5, min_samples_split=2, n_estimators=200, score=0.332996582924201, total=  16.3s\n",
      "[CV] learning_rate=0.1, max_depth=1, min_samples_leaf=5, min_samples_split=2, n_estimators=200 \n",
      "[CV]  learning_rate=0.1, max_depth=1, min_samples_leaf=5, min_samples_split=2, n_estimators=200, score=0.33317029216467947, total=  16.0s\n",
      "[CV] learning_rate=0.1, max_depth=1, min_samples_leaf=5, min_samples_split=5, n_estimators=50 \n",
      "[CV]  learning_rate=0.1, max_depth=1, min_samples_leaf=5, min_samples_split=5, n_estimators=50, score=0.3210549996216229, total=   5.6s\n",
      "[CV] learning_rate=0.1, max_depth=1, min_samples_leaf=5, min_samples_split=5, n_estimators=50 \n",
      "[CV]  learning_rate=0.1, max_depth=1, min_samples_leaf=5, min_samples_split=5, n_estimators=50, score=0.32108890126748335, total=   5.5s\n",
      "[CV] learning_rate=0.1, max_depth=1, min_samples_leaf=5, min_samples_split=5, n_estimators=50 \n"
     ]
    },
    {
     "name": "stderr",
     "output_type": "stream",
     "text": [
      "/anaconda3/lib/python3.7/site-packages/sklearn/metrics/classification.py:1143: UndefinedMetricWarning: F-score is ill-defined and being set to 0.0 in labels with no predicted samples.\n",
      "  'precision', 'predicted', average, warn_for)\n",
      "/anaconda3/lib/python3.7/site-packages/sklearn/metrics/classification.py:1143: UndefinedMetricWarning: F-score is ill-defined and being set to 0.0 in labels with no predicted samples.\n",
      "  'precision', 'predicted', average, warn_for)\n"
     ]
    },
    {
     "name": "stdout",
     "output_type": "stream",
     "text": [
      "[CV]  learning_rate=0.1, max_depth=1, min_samples_leaf=5, min_samples_split=5, n_estimators=50, score=0.31730535237396984, total=   3.6s\n",
      "[CV] learning_rate=0.1, max_depth=1, min_samples_leaf=5, min_samples_split=5, n_estimators=100 \n",
      "[CV]  learning_rate=0.1, max_depth=1, min_samples_leaf=5, min_samples_split=5, n_estimators=100, score=0.3292462685615796, total=   7.2s\n",
      "[CV] learning_rate=0.1, max_depth=1, min_samples_leaf=5, min_samples_split=5, n_estimators=100 \n",
      "[CV]  learning_rate=0.1, max_depth=1, min_samples_leaf=5, min_samples_split=5, n_estimators=100, score=0.32848538813476136, total=   6.7s\n",
      "[CV] learning_rate=0.1, max_depth=1, min_samples_leaf=5, min_samples_split=5, n_estimators=100 \n",
      "[CV]  learning_rate=0.1, max_depth=1, min_samples_leaf=5, min_samples_split=5, n_estimators=100, score=0.32466050646892536, total=   8.5s\n",
      "[CV] learning_rate=0.1, max_depth=1, min_samples_leaf=5, min_samples_split=5, n_estimators=200 \n",
      "[CV]  learning_rate=0.1, max_depth=1, min_samples_leaf=5, min_samples_split=5, n_estimators=200, score=0.33361179787510903, total=  14.2s\n",
      "[CV] learning_rate=0.1, max_depth=1, min_samples_leaf=5, min_samples_split=5, n_estimators=200 \n",
      "[CV]  learning_rate=0.1, max_depth=1, min_samples_leaf=5, min_samples_split=5, n_estimators=200, score=0.332996582924201, total=  20.0s\n",
      "[CV] learning_rate=0.1, max_depth=1, min_samples_leaf=5, min_samples_split=5, n_estimators=200 \n",
      "[CV]  learning_rate=0.1, max_depth=1, min_samples_leaf=5, min_samples_split=5, n_estimators=200, score=0.33317029216467947, total=  18.0s\n",
      "[CV] learning_rate=0.1, max_depth=3, min_samples_leaf=1, min_samples_split=2, n_estimators=50 \n",
      "[CV]  learning_rate=0.1, max_depth=3, min_samples_leaf=1, min_samples_split=2, n_estimators=50, score=0.33538697517539057, total=  10.8s\n",
      "[CV] learning_rate=0.1, max_depth=3, min_samples_leaf=1, min_samples_split=2, n_estimators=50 \n",
      "[CV]  learning_rate=0.1, max_depth=3, min_samples_leaf=1, min_samples_split=2, n_estimators=50, score=0.33276104912326104, total=   9.2s\n",
      "[CV] learning_rate=0.1, max_depth=3, min_samples_leaf=1, min_samples_split=2, n_estimators=50 \n",
      "[CV]  learning_rate=0.1, max_depth=3, min_samples_leaf=1, min_samples_split=2, n_estimators=50, score=0.3352056869403353, total=   8.4s\n",
      "[CV] learning_rate=0.1, max_depth=3, min_samples_leaf=1, min_samples_split=2, n_estimators=100 \n",
      "[CV]  learning_rate=0.1, max_depth=3, min_samples_leaf=1, min_samples_split=2, n_estimators=100, score=0.34614336736078416, total=  19.5s\n",
      "[CV] learning_rate=0.1, max_depth=3, min_samples_leaf=1, min_samples_split=2, n_estimators=100 \n",
      "[CV]  learning_rate=0.1, max_depth=3, min_samples_leaf=1, min_samples_split=2, n_estimators=100, score=0.3405076491409285, total=  17.8s\n",
      "[CV] learning_rate=0.1, max_depth=3, min_samples_leaf=1, min_samples_split=2, n_estimators=100 \n",
      "[CV]  learning_rate=0.1, max_depth=3, min_samples_leaf=1, min_samples_split=2, n_estimators=100, score=0.34158232290897006, total=  23.2s\n",
      "[CV] learning_rate=0.1, max_depth=3, min_samples_leaf=1, min_samples_split=2, n_estimators=200 \n",
      "[CV]  learning_rate=0.1, max_depth=3, min_samples_leaf=1, min_samples_split=2, n_estimators=200, score=0.35125897864863925, total=  30.6s\n",
      "[CV] learning_rate=0.1, max_depth=3, min_samples_leaf=1, min_samples_split=2, n_estimators=200 \n",
      "[CV]  learning_rate=0.1, max_depth=3, min_samples_leaf=1, min_samples_split=2, n_estimators=200, score=0.3448569169230207, total=  33.3s\n",
      "[CV] learning_rate=0.1, max_depth=3, min_samples_leaf=1, min_samples_split=2, n_estimators=200 \n",
      "[CV]  learning_rate=0.1, max_depth=3, min_samples_leaf=1, min_samples_split=2, n_estimators=200, score=0.34841048835758864, total=  31.2s\n",
      "[CV] learning_rate=0.1, max_depth=3, min_samples_leaf=1, min_samples_split=5, n_estimators=50 \n",
      "[CV]  learning_rate=0.1, max_depth=3, min_samples_leaf=1, min_samples_split=5, n_estimators=50, score=0.33538697517539057, total=  12.0s\n",
      "[CV] learning_rate=0.1, max_depth=3, min_samples_leaf=1, min_samples_split=5, n_estimators=50 \n",
      "[CV]  learning_rate=0.1, max_depth=3, min_samples_leaf=1, min_samples_split=5, n_estimators=50, score=0.3336696536172581, total=  10.0s\n",
      "[CV] learning_rate=0.1, max_depth=3, min_samples_leaf=1, min_samples_split=5, n_estimators=50 \n",
      "[CV]  learning_rate=0.1, max_depth=3, min_samples_leaf=1, min_samples_split=5, n_estimators=50, score=0.33524023306464196, total=   8.8s\n",
      "[CV] learning_rate=0.1, max_depth=3, min_samples_leaf=1, min_samples_split=5, n_estimators=100 \n",
      "[CV]  learning_rate=0.1, max_depth=3, min_samples_leaf=1, min_samples_split=5, n_estimators=100, score=0.3459568858246591, total=  16.6s\n",
      "[CV] learning_rate=0.1, max_depth=3, min_samples_leaf=1, min_samples_split=5, n_estimators=100 \n",
      "[CV]  learning_rate=0.1, max_depth=3, min_samples_leaf=1, min_samples_split=5, n_estimators=100, score=0.34023071292978546, total=  26.8s\n",
      "[CV] learning_rate=0.1, max_depth=3, min_samples_leaf=1, min_samples_split=5, n_estimators=100 \n",
      "[CV]  learning_rate=0.1, max_depth=3, min_samples_leaf=1, min_samples_split=5, n_estimators=100, score=0.33995035465419443, total=  15.0s\n",
      "[CV] learning_rate=0.1, max_depth=3, min_samples_leaf=1, min_samples_split=5, n_estimators=200 \n",
      "[CV]  learning_rate=0.1, max_depth=3, min_samples_leaf=1, min_samples_split=5, n_estimators=200, score=0.3519798318721577, total=  41.8s\n",
      "[CV] learning_rate=0.1, max_depth=3, min_samples_leaf=1, min_samples_split=5, n_estimators=200 \n",
      "[CV]  learning_rate=0.1, max_depth=3, min_samples_leaf=1, min_samples_split=5, n_estimators=200, score=0.3442840667936111, total=  37.4s\n",
      "[CV] learning_rate=0.1, max_depth=3, min_samples_leaf=1, min_samples_split=5, n_estimators=200 \n",
      "[CV]  learning_rate=0.1, max_depth=3, min_samples_leaf=1, min_samples_split=5, n_estimators=200, score=0.348235177312709, total=  38.3s\n",
      "[CV] learning_rate=0.1, max_depth=3, min_samples_leaf=3, min_samples_split=2, n_estimators=50 \n",
      "[CV]  learning_rate=0.1, max_depth=3, min_samples_leaf=3, min_samples_split=2, n_estimators=50, score=0.3369625180451916, total=   8.2s\n",
      "[CV] learning_rate=0.1, max_depth=3, min_samples_leaf=3, min_samples_split=2, n_estimators=50 \n",
      "[CV]  learning_rate=0.1, max_depth=3, min_samples_leaf=3, min_samples_split=2, n_estimators=50, score=0.3336964292562911, total=   8.2s\n",
      "[CV] learning_rate=0.1, max_depth=3, min_samples_leaf=3, min_samples_split=2, n_estimators=50 \n",
      "[CV]  learning_rate=0.1, max_depth=3, min_samples_leaf=3, min_samples_split=2, n_estimators=50, score=0.3340350412622277, total=   8.5s\n",
      "[CV] learning_rate=0.1, max_depth=3, min_samples_leaf=3, min_samples_split=2, n_estimators=100 \n",
      "[CV]  learning_rate=0.1, max_depth=3, min_samples_leaf=3, min_samples_split=2, n_estimators=100, score=0.3468594511493186, total=  18.5s\n",
      "[CV] learning_rate=0.1, max_depth=3, min_samples_leaf=3, min_samples_split=2, n_estimators=100 \n",
      "[CV]  learning_rate=0.1, max_depth=3, min_samples_leaf=3, min_samples_split=2, n_estimators=100, score=0.3417101381863692, total=  19.4s\n",
      "[CV] learning_rate=0.1, max_depth=3, min_samples_leaf=3, min_samples_split=2, n_estimators=100 \n",
      "[CV]  learning_rate=0.1, max_depth=3, min_samples_leaf=3, min_samples_split=2, n_estimators=100, score=0.34153710609947274, total=  17.5s\n",
      "[CV] learning_rate=0.1, max_depth=3, min_samples_leaf=3, min_samples_split=2, n_estimators=200 \n",
      "[CV]  learning_rate=0.1, max_depth=3, min_samples_leaf=3, min_samples_split=2, n_estimators=200, score=0.35379107846486696, total=  34.6s\n",
      "[CV] learning_rate=0.1, max_depth=3, min_samples_leaf=3, min_samples_split=2, n_estimators=200 \n",
      "[CV]  learning_rate=0.1, max_depth=3, min_samples_leaf=3, min_samples_split=2, n_estimators=200, score=0.34431336943024277, total=  35.3s\n",
      "[CV] learning_rate=0.1, max_depth=3, min_samples_leaf=3, min_samples_split=2, n_estimators=200 \n",
      "[CV]  learning_rate=0.1, max_depth=3, min_samples_leaf=3, min_samples_split=2, n_estimators=200, score=0.3478306093844545, total=  30.1s\n",
      "[CV] learning_rate=0.1, max_depth=3, min_samples_leaf=3, min_samples_split=5, n_estimators=50 \n",
      "[CV]  learning_rate=0.1, max_depth=3, min_samples_leaf=3, min_samples_split=5, n_estimators=50, score=0.3369625180451916, total=   8.5s\n",
      "[CV] learning_rate=0.1, max_depth=3, min_samples_leaf=3, min_samples_split=5, n_estimators=50 \n",
      "[CV]  learning_rate=0.1, max_depth=3, min_samples_leaf=3, min_samples_split=5, n_estimators=50, score=0.3336964292562911, total=   8.2s\n",
      "[CV] learning_rate=0.1, max_depth=3, min_samples_leaf=3, min_samples_split=5, n_estimators=50 \n"
     ]
    },
    {
     "name": "stdout",
     "output_type": "stream",
     "text": [
      "[CV]  learning_rate=0.1, max_depth=3, min_samples_leaf=3, min_samples_split=5, n_estimators=50, score=0.33405785767321033, total=   8.1s\n",
      "[CV] learning_rate=0.1, max_depth=3, min_samples_leaf=3, min_samples_split=5, n_estimators=100 \n",
      "[CV]  learning_rate=0.1, max_depth=3, min_samples_leaf=3, min_samples_split=5, n_estimators=100, score=0.3467710327156663, total=  15.5s\n",
      "[CV] learning_rate=0.1, max_depth=3, min_samples_leaf=3, min_samples_split=5, n_estimators=100 \n",
      "[CV]  learning_rate=0.1, max_depth=3, min_samples_leaf=3, min_samples_split=5, n_estimators=100, score=0.3417101381863692, total=  15.7s\n",
      "[CV] learning_rate=0.1, max_depth=3, min_samples_leaf=3, min_samples_split=5, n_estimators=100 \n",
      "[CV]  learning_rate=0.1, max_depth=3, min_samples_leaf=3, min_samples_split=5, n_estimators=100, score=0.3415347274182154, total=  15.4s\n",
      "[CV] learning_rate=0.1, max_depth=3, min_samples_leaf=3, min_samples_split=5, n_estimators=200 \n",
      "[CV]  learning_rate=0.1, max_depth=3, min_samples_leaf=3, min_samples_split=5, n_estimators=200, score=0.35388913783240666, total=  30.9s\n",
      "[CV] learning_rate=0.1, max_depth=3, min_samples_leaf=3, min_samples_split=5, n_estimators=200 \n",
      "[CV]  learning_rate=0.1, max_depth=3, min_samples_leaf=3, min_samples_split=5, n_estimators=200, score=0.34431336943024277, total=  29.7s\n",
      "[CV] learning_rate=0.1, max_depth=3, min_samples_leaf=3, min_samples_split=5, n_estimators=200 \n",
      "[CV]  learning_rate=0.1, max_depth=3, min_samples_leaf=3, min_samples_split=5, n_estimators=200, score=0.34782602236947174, total=  29.7s\n",
      "[CV] learning_rate=0.1, max_depth=3, min_samples_leaf=5, min_samples_split=2, n_estimators=50 \n",
      "[CV]  learning_rate=0.1, max_depth=3, min_samples_leaf=5, min_samples_split=2, n_estimators=50, score=0.33683981306005156, total=   8.2s\n",
      "[CV] learning_rate=0.1, max_depth=3, min_samples_leaf=5, min_samples_split=2, n_estimators=50 \n",
      "[CV]  learning_rate=0.1, max_depth=3, min_samples_leaf=5, min_samples_split=2, n_estimators=50, score=0.33345971353435416, total=   8.0s\n",
      "[CV] learning_rate=0.1, max_depth=3, min_samples_leaf=5, min_samples_split=2, n_estimators=50 \n",
      "[CV]  learning_rate=0.1, max_depth=3, min_samples_leaf=5, min_samples_split=2, n_estimators=50, score=0.33429199126769477, total=   8.1s\n",
      "[CV] learning_rate=0.1, max_depth=3, min_samples_leaf=5, min_samples_split=2, n_estimators=100 \n",
      "[CV]  learning_rate=0.1, max_depth=3, min_samples_leaf=5, min_samples_split=2, n_estimators=100, score=0.34653126184299793, total=  15.5s\n",
      "[CV] learning_rate=0.1, max_depth=3, min_samples_leaf=5, min_samples_split=2, n_estimators=100 \n",
      "[CV]  learning_rate=0.1, max_depth=3, min_samples_leaf=5, min_samples_split=2, n_estimators=100, score=0.34003992978340486, total=  15.2s\n",
      "[CV] learning_rate=0.1, max_depth=3, min_samples_leaf=5, min_samples_split=2, n_estimators=100 \n",
      "[CV]  learning_rate=0.1, max_depth=3, min_samples_leaf=5, min_samples_split=2, n_estimators=100, score=0.3415577947929352, total=  15.8s\n",
      "[CV] learning_rate=0.1, max_depth=3, min_samples_leaf=5, min_samples_split=2, n_estimators=200 \n",
      "[CV]  learning_rate=0.1, max_depth=3, min_samples_leaf=5, min_samples_split=2, n_estimators=200, score=0.3520754200032042, total=  30.5s\n",
      "[CV] learning_rate=0.1, max_depth=3, min_samples_leaf=5, min_samples_split=2, n_estimators=200 \n",
      "[CV]  learning_rate=0.1, max_depth=3, min_samples_leaf=5, min_samples_split=2, n_estimators=200, score=0.34537475634811005, total=  35.2s\n",
      "[CV] learning_rate=0.1, max_depth=3, min_samples_leaf=5, min_samples_split=2, n_estimators=200 \n",
      "[CV]  learning_rate=0.1, max_depth=3, min_samples_leaf=5, min_samples_split=2, n_estimators=200, score=0.34978685846551877, total=  42.9s\n",
      "[CV] learning_rate=0.1, max_depth=3, min_samples_leaf=5, min_samples_split=5, n_estimators=50 \n",
      "[CV]  learning_rate=0.1, max_depth=3, min_samples_leaf=5, min_samples_split=5, n_estimators=50, score=0.33683981306005156, total=  11.0s\n",
      "[CV] learning_rate=0.1, max_depth=3, min_samples_leaf=5, min_samples_split=5, n_estimators=50 \n",
      "[CV]  learning_rate=0.1, max_depth=3, min_samples_leaf=5, min_samples_split=5, n_estimators=50, score=0.33345971353435416, total=  10.9s\n",
      "[CV] learning_rate=0.1, max_depth=3, min_samples_leaf=5, min_samples_split=5, n_estimators=50 \n",
      "[CV]  learning_rate=0.1, max_depth=3, min_samples_leaf=5, min_samples_split=5, n_estimators=50, score=0.33431469236369277, total=  10.1s\n",
      "[CV] learning_rate=0.1, max_depth=3, min_samples_leaf=5, min_samples_split=5, n_estimators=100 \n",
      "[CV]  learning_rate=0.1, max_depth=3, min_samples_leaf=5, min_samples_split=5, n_estimators=100, score=0.34656235751269665, total=  22.0s\n",
      "[CV] learning_rate=0.1, max_depth=3, min_samples_leaf=5, min_samples_split=5, n_estimators=100 \n",
      "[CV]  learning_rate=0.1, max_depth=3, min_samples_leaf=5, min_samples_split=5, n_estimators=100, score=0.34003992978340486, total=  16.6s\n",
      "[CV] learning_rate=0.1, max_depth=3, min_samples_leaf=5, min_samples_split=5, n_estimators=100 \n",
      "[CV]  learning_rate=0.1, max_depth=3, min_samples_leaf=5, min_samples_split=5, n_estimators=100, score=0.3415577947929352, total=  18.7s\n",
      "[CV] learning_rate=0.1, max_depth=3, min_samples_leaf=5, min_samples_split=5, n_estimators=200 \n",
      "[CV]  learning_rate=0.1, max_depth=3, min_samples_leaf=5, min_samples_split=5, n_estimators=200, score=0.3520754200032042, total=  34.7s\n",
      "[CV] learning_rate=0.1, max_depth=3, min_samples_leaf=5, min_samples_split=5, n_estimators=200 \n",
      "[CV]  learning_rate=0.1, max_depth=3, min_samples_leaf=5, min_samples_split=5, n_estimators=200, score=0.34537475634811005, total=  37.5s\n",
      "[CV] learning_rate=0.1, max_depth=3, min_samples_leaf=5, min_samples_split=5, n_estimators=200 \n",
      "[CV]  learning_rate=0.1, max_depth=3, min_samples_leaf=5, min_samples_split=5, n_estimators=200, score=0.34978685846551877, total=  39.5s\n",
      "[CV] learning_rate=0.1, max_depth=6, min_samples_leaf=1, min_samples_split=2, n_estimators=50 \n",
      "[CV]  learning_rate=0.1, max_depth=6, min_samples_leaf=1, min_samples_split=2, n_estimators=50, score=0.35090190654591114, total=  23.3s\n",
      "[CV] learning_rate=0.1, max_depth=6, min_samples_leaf=1, min_samples_split=2, n_estimators=50 \n",
      "[CV]  learning_rate=0.1, max_depth=6, min_samples_leaf=1, min_samples_split=2, n_estimators=50, score=0.34431537900783704, total=  25.0s\n",
      "[CV] learning_rate=0.1, max_depth=6, min_samples_leaf=1, min_samples_split=2, n_estimators=50 \n",
      "[CV]  learning_rate=0.1, max_depth=6, min_samples_leaf=1, min_samples_split=2, n_estimators=50, score=0.34601334379857124, total=  26.0s\n",
      "[CV] learning_rate=0.1, max_depth=6, min_samples_leaf=1, min_samples_split=2, n_estimators=100 \n",
      "[CV]  learning_rate=0.1, max_depth=6, min_samples_leaf=1, min_samples_split=2, n_estimators=100, score=0.354265142812438, total=  39.1s\n",
      "[CV] learning_rate=0.1, max_depth=6, min_samples_leaf=1, min_samples_split=2, n_estimators=100 \n",
      "[CV]  learning_rate=0.1, max_depth=6, min_samples_leaf=1, min_samples_split=2, n_estimators=100, score=0.34654466538326245, total=  36.8s\n",
      "[CV] learning_rate=0.1, max_depth=6, min_samples_leaf=1, min_samples_split=2, n_estimators=100 \n",
      "[CV]  learning_rate=0.1, max_depth=6, min_samples_leaf=1, min_samples_split=2, n_estimators=100, score=0.3521810860959689, total=  48.4s\n",
      "[CV] learning_rate=0.1, max_depth=6, min_samples_leaf=1, min_samples_split=2, n_estimators=200 \n",
      "[CV]  learning_rate=0.1, max_depth=6, min_samples_leaf=1, min_samples_split=2, n_estimators=200, score=0.36043684931940206, total= 1.3min\n",
      "[CV] learning_rate=0.1, max_depth=6, min_samples_leaf=1, min_samples_split=2, n_estimators=200 \n",
      "[CV]  learning_rate=0.1, max_depth=6, min_samples_leaf=1, min_samples_split=2, n_estimators=200, score=0.35092569429573683, total= 1.3min\n",
      "[CV] learning_rate=0.1, max_depth=6, min_samples_leaf=1, min_samples_split=2, n_estimators=200 \n",
      "[CV]  learning_rate=0.1, max_depth=6, min_samples_leaf=1, min_samples_split=2, n_estimators=200, score=0.35597015745209487, total= 1.5min\n",
      "[CV] learning_rate=0.1, max_depth=6, min_samples_leaf=1, min_samples_split=5, n_estimators=50 \n",
      "[CV]  learning_rate=0.1, max_depth=6, min_samples_leaf=1, min_samples_split=5, n_estimators=50, score=0.3508282726453153, total=  21.9s\n",
      "[CV] learning_rate=0.1, max_depth=6, min_samples_leaf=1, min_samples_split=5, n_estimators=50 \n",
      "[CV]  learning_rate=0.1, max_depth=6, min_samples_leaf=1, min_samples_split=5, n_estimators=50, score=0.3481091511781476, total=  25.4s\n",
      "[CV] learning_rate=0.1, max_depth=6, min_samples_leaf=1, min_samples_split=5, n_estimators=50 \n"
     ]
    },
    {
     "name": "stdout",
     "output_type": "stream",
     "text": [
      "[CV]  learning_rate=0.1, max_depth=6, min_samples_leaf=1, min_samples_split=5, n_estimators=50, score=0.3462494489605803, total=  22.9s\n",
      "[CV] learning_rate=0.1, max_depth=6, min_samples_leaf=1, min_samples_split=5, n_estimators=100 \n",
      "[CV]  learning_rate=0.1, max_depth=6, min_samples_leaf=1, min_samples_split=5, n_estimators=100, score=0.35545316856504644, total=  45.0s\n",
      "[CV] learning_rate=0.1, max_depth=6, min_samples_leaf=1, min_samples_split=5, n_estimators=100 \n",
      "[CV]  learning_rate=0.1, max_depth=6, min_samples_leaf=1, min_samples_split=5, n_estimators=100, score=0.3503987157383474, total=  39.8s\n",
      "[CV] learning_rate=0.1, max_depth=6, min_samples_leaf=1, min_samples_split=5, n_estimators=100 \n",
      "[CV]  learning_rate=0.1, max_depth=6, min_samples_leaf=1, min_samples_split=5, n_estimators=100, score=0.3531129774681238, total=  37.1s\n",
      "[CV] learning_rate=0.1, max_depth=6, min_samples_leaf=1, min_samples_split=5, n_estimators=200 \n",
      "[CV]  learning_rate=0.1, max_depth=6, min_samples_leaf=1, min_samples_split=5, n_estimators=200, score=0.36282915505128877, total= 1.2min\n",
      "[CV] learning_rate=0.1, max_depth=6, min_samples_leaf=1, min_samples_split=5, n_estimators=200 \n",
      "[CV]  learning_rate=0.1, max_depth=6, min_samples_leaf=1, min_samples_split=5, n_estimators=200, score=0.3553200156076149, total= 1.1min\n",
      "[CV] learning_rate=0.1, max_depth=6, min_samples_leaf=1, min_samples_split=5, n_estimators=200 \n",
      "[CV]  learning_rate=0.1, max_depth=6, min_samples_leaf=1, min_samples_split=5, n_estimators=200, score=0.3541226388970528, total= 1.1min\n",
      "[CV] learning_rate=0.1, max_depth=6, min_samples_leaf=3, min_samples_split=2, n_estimators=50 \n",
      "[CV]  learning_rate=0.1, max_depth=6, min_samples_leaf=3, min_samples_split=2, n_estimators=50, score=0.34843526542073944, total=  19.0s\n",
      "[CV] learning_rate=0.1, max_depth=6, min_samples_leaf=3, min_samples_split=2, n_estimators=50 \n",
      "[CV]  learning_rate=0.1, max_depth=6, min_samples_leaf=3, min_samples_split=2, n_estimators=50, score=0.3463772918289561, total=  20.1s\n",
      "[CV] learning_rate=0.1, max_depth=6, min_samples_leaf=3, min_samples_split=2, n_estimators=50 \n",
      "[CV]  learning_rate=0.1, max_depth=6, min_samples_leaf=3, min_samples_split=2, n_estimators=50, score=0.34837871520221775, total=  18.9s\n",
      "[CV] learning_rate=0.1, max_depth=6, min_samples_leaf=3, min_samples_split=2, n_estimators=100 \n",
      "[CV]  learning_rate=0.1, max_depth=6, min_samples_leaf=3, min_samples_split=2, n_estimators=100, score=0.3536663359535479, total=  35.0s\n",
      "[CV] learning_rate=0.1, max_depth=6, min_samples_leaf=3, min_samples_split=2, n_estimators=100 \n",
      "[CV]  learning_rate=0.1, max_depth=6, min_samples_leaf=3, min_samples_split=2, n_estimators=100, score=0.34908919300971447, total=  35.6s\n",
      "[CV] learning_rate=0.1, max_depth=6, min_samples_leaf=3, min_samples_split=2, n_estimators=100 \n",
      "[CV]  learning_rate=0.1, max_depth=6, min_samples_leaf=3, min_samples_split=2, n_estimators=100, score=0.3511872549826009, total=  35.8s\n",
      "[CV] learning_rate=0.1, max_depth=6, min_samples_leaf=3, min_samples_split=2, n_estimators=200 \n",
      "[CV]  learning_rate=0.1, max_depth=6, min_samples_leaf=3, min_samples_split=2, n_estimators=200, score=0.3583079039290391, total= 1.1min\n",
      "[CV] learning_rate=0.1, max_depth=6, min_samples_leaf=3, min_samples_split=2, n_estimators=200 \n",
      "[CV]  learning_rate=0.1, max_depth=6, min_samples_leaf=3, min_samples_split=2, n_estimators=200, score=0.3543776958259248, total= 1.1min\n",
      "[CV] learning_rate=0.1, max_depth=6, min_samples_leaf=3, min_samples_split=2, n_estimators=200 \n",
      "[CV]  learning_rate=0.1, max_depth=6, min_samples_leaf=3, min_samples_split=2, n_estimators=200, score=0.35593718605754177, total= 1.1min\n",
      "[CV] learning_rate=0.1, max_depth=6, min_samples_leaf=3, min_samples_split=5, n_estimators=50 \n",
      "[CV]  learning_rate=0.1, max_depth=6, min_samples_leaf=3, min_samples_split=5, n_estimators=50, score=0.3524405732226569, total=  19.3s\n",
      "[CV] learning_rate=0.1, max_depth=6, min_samples_leaf=3, min_samples_split=5, n_estimators=50 \n",
      "[CV]  learning_rate=0.1, max_depth=6, min_samples_leaf=3, min_samples_split=5, n_estimators=50, score=0.3449132945339428, total=  19.0s\n",
      "[CV] learning_rate=0.1, max_depth=6, min_samples_leaf=3, min_samples_split=5, n_estimators=50 \n",
      "[CV]  learning_rate=0.1, max_depth=6, min_samples_leaf=3, min_samples_split=5, n_estimators=50, score=0.3475446158136883, total=  19.3s\n",
      "[CV] learning_rate=0.1, max_depth=6, min_samples_leaf=3, min_samples_split=5, n_estimators=100 \n",
      "[CV]  learning_rate=0.1, max_depth=6, min_samples_leaf=3, min_samples_split=5, n_estimators=100, score=0.3575841285160782, total=  35.3s\n",
      "[CV] learning_rate=0.1, max_depth=6, min_samples_leaf=3, min_samples_split=5, n_estimators=100 \n",
      "[CV]  learning_rate=0.1, max_depth=6, min_samples_leaf=3, min_samples_split=5, n_estimators=100, score=0.3509032724919929, total=  35.9s\n",
      "[CV] learning_rate=0.1, max_depth=6, min_samples_leaf=3, min_samples_split=5, n_estimators=100 \n",
      "[CV]  learning_rate=0.1, max_depth=6, min_samples_leaf=3, min_samples_split=5, n_estimators=100, score=0.35179033060025366, total=  37.2s\n",
      "[CV] learning_rate=0.1, max_depth=6, min_samples_leaf=3, min_samples_split=5, n_estimators=200 \n",
      "[CV]  learning_rate=0.1, max_depth=6, min_samples_leaf=3, min_samples_split=5, n_estimators=200, score=0.36198889526329775, total= 1.1min\n",
      "[CV] learning_rate=0.1, max_depth=6, min_samples_leaf=3, min_samples_split=5, n_estimators=200 \n",
      "[CV]  learning_rate=0.1, max_depth=6, min_samples_leaf=3, min_samples_split=5, n_estimators=200, score=0.35458701149141697, total= 1.1min\n",
      "[CV] learning_rate=0.1, max_depth=6, min_samples_leaf=3, min_samples_split=5, n_estimators=200 \n",
      "[CV]  learning_rate=0.1, max_depth=6, min_samples_leaf=3, min_samples_split=5, n_estimators=200, score=0.35513344878430614, total= 1.1min\n",
      "[CV] learning_rate=0.1, max_depth=6, min_samples_leaf=5, min_samples_split=2, n_estimators=50 \n",
      "[CV]  learning_rate=0.1, max_depth=6, min_samples_leaf=5, min_samples_split=2, n_estimators=50, score=0.3509676296778251, total=  18.6s\n",
      "[CV] learning_rate=0.1, max_depth=6, min_samples_leaf=5, min_samples_split=2, n_estimators=50 \n",
      "[CV]  learning_rate=0.1, max_depth=6, min_samples_leaf=5, min_samples_split=2, n_estimators=50, score=0.34338968509636253, total=  18.5s\n",
      "[CV] learning_rate=0.1, max_depth=6, min_samples_leaf=5, min_samples_split=2, n_estimators=50 \n",
      "[CV]  learning_rate=0.1, max_depth=6, min_samples_leaf=5, min_samples_split=2, n_estimators=50, score=0.3450724048163767, total=  21.5s\n",
      "[CV] learning_rate=0.1, max_depth=6, min_samples_leaf=5, min_samples_split=2, n_estimators=100 \n",
      "[CV]  learning_rate=0.1, max_depth=6, min_samples_leaf=5, min_samples_split=2, n_estimators=100, score=0.3576817542776454, total=  37.5s\n",
      "[CV] learning_rate=0.1, max_depth=6, min_samples_leaf=5, min_samples_split=2, n_estimators=100 \n",
      "[CV]  learning_rate=0.1, max_depth=6, min_samples_leaf=5, min_samples_split=2, n_estimators=100, score=0.3497613169542959, total=  32.5s\n",
      "[CV] learning_rate=0.1, max_depth=6, min_samples_leaf=5, min_samples_split=2, n_estimators=100 \n",
      "[CV]  learning_rate=0.1, max_depth=6, min_samples_leaf=5, min_samples_split=2, n_estimators=100, score=0.3517734569699616, total=  32.7s\n",
      "[CV] learning_rate=0.1, max_depth=6, min_samples_leaf=5, min_samples_split=2, n_estimators=200 \n",
      "[CV]  learning_rate=0.1, max_depth=6, min_samples_leaf=5, min_samples_split=2, n_estimators=200, score=0.35754604706170845, total= 1.0min\n",
      "[CV] learning_rate=0.1, max_depth=6, min_samples_leaf=5, min_samples_split=2, n_estimators=200 \n",
      "[CV]  learning_rate=0.1, max_depth=6, min_samples_leaf=5, min_samples_split=2, n_estimators=200, score=0.35563007048512957, total= 1.4min\n",
      "[CV] learning_rate=0.1, max_depth=6, min_samples_leaf=5, min_samples_split=2, n_estimators=200 \n",
      "[CV]  learning_rate=0.1, max_depth=6, min_samples_leaf=5, min_samples_split=2, n_estimators=200, score=0.3554977559894823, total= 1.1min\n",
      "[CV] learning_rate=0.1, max_depth=6, min_samples_leaf=5, min_samples_split=5, n_estimators=50 \n",
      "[CV]  learning_rate=0.1, max_depth=6, min_samples_leaf=5, min_samples_split=5, n_estimators=50, score=0.35185119005312887, total=  19.9s\n",
      "[CV] learning_rate=0.1, max_depth=6, min_samples_leaf=5, min_samples_split=5, n_estimators=50 \n",
      "[CV]  learning_rate=0.1, max_depth=6, min_samples_leaf=5, min_samples_split=5, n_estimators=50, score=0.34399845605925017, total=  19.2s\n",
      "[CV] learning_rate=0.1, max_depth=6, min_samples_leaf=5, min_samples_split=5, n_estimators=50 \n"
     ]
    },
    {
     "name": "stdout",
     "output_type": "stream",
     "text": [
      "[CV]  learning_rate=0.1, max_depth=6, min_samples_leaf=5, min_samples_split=5, n_estimators=50, score=0.3459810567480817, total=  19.7s\n",
      "[CV] learning_rate=0.1, max_depth=6, min_samples_leaf=5, min_samples_split=5, n_estimators=100 \n",
      "[CV]  learning_rate=0.1, max_depth=6, min_samples_leaf=5, min_samples_split=5, n_estimators=100, score=0.3555519379393563, total=  36.1s\n",
      "[CV] learning_rate=0.1, max_depth=6, min_samples_leaf=5, min_samples_split=5, n_estimators=100 \n",
      "[CV]  learning_rate=0.1, max_depth=6, min_samples_leaf=5, min_samples_split=5, n_estimators=100, score=0.34984324639763065, total=  35.2s\n",
      "[CV] learning_rate=0.1, max_depth=6, min_samples_leaf=5, min_samples_split=5, n_estimators=100 \n",
      "[CV]  learning_rate=0.1, max_depth=6, min_samples_leaf=5, min_samples_split=5, n_estimators=100, score=0.3521284830626423, total=  35.6s\n",
      "[CV] learning_rate=0.1, max_depth=6, min_samples_leaf=5, min_samples_split=5, n_estimators=200 \n",
      "[CV]  learning_rate=0.1, max_depth=6, min_samples_leaf=5, min_samples_split=5, n_estimators=200, score=0.3611402009731739, total= 1.3min\n",
      "[CV] learning_rate=0.1, max_depth=6, min_samples_leaf=5, min_samples_split=5, n_estimators=200 \n",
      "[CV]  learning_rate=0.1, max_depth=6, min_samples_leaf=5, min_samples_split=5, n_estimators=200, score=0.3556365041271878, total= 1.2min\n",
      "[CV] learning_rate=0.1, max_depth=6, min_samples_leaf=5, min_samples_split=5, n_estimators=200 \n",
      "[CV]  learning_rate=0.1, max_depth=6, min_samples_leaf=5, min_samples_split=5, n_estimators=200, score=0.3554826523055537, total= 1.2min\n",
      "[CV] learning_rate=0.01, max_depth=1, min_samples_leaf=1, min_samples_split=2, n_estimators=50 \n"
     ]
    },
    {
     "name": "stderr",
     "output_type": "stream",
     "text": [
      "/anaconda3/lib/python3.7/site-packages/sklearn/metrics/classification.py:1143: UndefinedMetricWarning: F-score is ill-defined and being set to 0.0 in labels with no predicted samples.\n",
      "  'precision', 'predicted', average, warn_for)\n",
      "/anaconda3/lib/python3.7/site-packages/sklearn/metrics/classification.py:1143: UndefinedMetricWarning: F-score is ill-defined and being set to 0.0 in labels with no predicted samples.\n",
      "  'precision', 'predicted', average, warn_for)\n"
     ]
    },
    {
     "name": "stdout",
     "output_type": "stream",
     "text": [
      "[CV]  learning_rate=0.01, max_depth=1, min_samples_leaf=1, min_samples_split=2, n_estimators=50, score=0.2869735784482812, total=   3.7s\n",
      "[CV] learning_rate=0.01, max_depth=1, min_samples_leaf=1, min_samples_split=2, n_estimators=50 \n"
     ]
    },
    {
     "name": "stderr",
     "output_type": "stream",
     "text": [
      "/anaconda3/lib/python3.7/site-packages/sklearn/metrics/classification.py:1143: UndefinedMetricWarning: F-score is ill-defined and being set to 0.0 in labels with no predicted samples.\n",
      "  'precision', 'predicted', average, warn_for)\n",
      "/anaconda3/lib/python3.7/site-packages/sklearn/metrics/classification.py:1143: UndefinedMetricWarning: F-score is ill-defined and being set to 0.0 in labels with no predicted samples.\n",
      "  'precision', 'predicted', average, warn_for)\n"
     ]
    },
    {
     "name": "stdout",
     "output_type": "stream",
     "text": [
      "[CV]  learning_rate=0.01, max_depth=1, min_samples_leaf=1, min_samples_split=2, n_estimators=50, score=0.2636777686735714, total=   3.8s\n",
      "[CV] learning_rate=0.01, max_depth=1, min_samples_leaf=1, min_samples_split=2, n_estimators=50 \n"
     ]
    },
    {
     "name": "stderr",
     "output_type": "stream",
     "text": [
      "/anaconda3/lib/python3.7/site-packages/sklearn/metrics/classification.py:1143: UndefinedMetricWarning: F-score is ill-defined and being set to 0.0 in labels with no predicted samples.\n",
      "  'precision', 'predicted', average, warn_for)\n",
      "/anaconda3/lib/python3.7/site-packages/sklearn/metrics/classification.py:1143: UndefinedMetricWarning: F-score is ill-defined and being set to 0.0 in labels with no predicted samples.\n",
      "  'precision', 'predicted', average, warn_for)\n"
     ]
    },
    {
     "name": "stdout",
     "output_type": "stream",
     "text": [
      "[CV]  learning_rate=0.01, max_depth=1, min_samples_leaf=1, min_samples_split=2, n_estimators=50, score=0.26831588865207917, total=   3.9s\n",
      "[CV] learning_rate=0.01, max_depth=1, min_samples_leaf=1, min_samples_split=2, n_estimators=100 \n"
     ]
    },
    {
     "name": "stderr",
     "output_type": "stream",
     "text": [
      "/anaconda3/lib/python3.7/site-packages/sklearn/metrics/classification.py:1143: UndefinedMetricWarning: F-score is ill-defined and being set to 0.0 in labels with no predicted samples.\n",
      "  'precision', 'predicted', average, warn_for)\n",
      "/anaconda3/lib/python3.7/site-packages/sklearn/metrics/classification.py:1143: UndefinedMetricWarning: F-score is ill-defined and being set to 0.0 in labels with no predicted samples.\n",
      "  'precision', 'predicted', average, warn_for)\n"
     ]
    },
    {
     "name": "stdout",
     "output_type": "stream",
     "text": [
      "[CV]  learning_rate=0.01, max_depth=1, min_samples_leaf=1, min_samples_split=2, n_estimators=100, score=0.298840651454471, total=   7.4s\n",
      "[CV] learning_rate=0.01, max_depth=1, min_samples_leaf=1, min_samples_split=2, n_estimators=100 \n"
     ]
    },
    {
     "name": "stderr",
     "output_type": "stream",
     "text": [
      "/anaconda3/lib/python3.7/site-packages/sklearn/metrics/classification.py:1143: UndefinedMetricWarning: F-score is ill-defined and being set to 0.0 in labels with no predicted samples.\n",
      "  'precision', 'predicted', average, warn_for)\n",
      "/anaconda3/lib/python3.7/site-packages/sklearn/metrics/classification.py:1143: UndefinedMetricWarning: F-score is ill-defined and being set to 0.0 in labels with no predicted samples.\n",
      "  'precision', 'predicted', average, warn_for)\n"
     ]
    },
    {
     "name": "stdout",
     "output_type": "stream",
     "text": [
      "[CV]  learning_rate=0.01, max_depth=1, min_samples_leaf=1, min_samples_split=2, n_estimators=100, score=0.2961324973786142, total=   7.5s\n",
      "[CV] learning_rate=0.01, max_depth=1, min_samples_leaf=1, min_samples_split=2, n_estimators=100 \n"
     ]
    },
    {
     "name": "stderr",
     "output_type": "stream",
     "text": [
      "/anaconda3/lib/python3.7/site-packages/sklearn/metrics/classification.py:1143: UndefinedMetricWarning: F-score is ill-defined and being set to 0.0 in labels with no predicted samples.\n",
      "  'precision', 'predicted', average, warn_for)\n",
      "/anaconda3/lib/python3.7/site-packages/sklearn/metrics/classification.py:1143: UndefinedMetricWarning: F-score is ill-defined and being set to 0.0 in labels with no predicted samples.\n",
      "  'precision', 'predicted', average, warn_for)\n"
     ]
    },
    {
     "name": "stdout",
     "output_type": "stream",
     "text": [
      "[CV]  learning_rate=0.01, max_depth=1, min_samples_leaf=1, min_samples_split=2, n_estimators=100, score=0.3028981655893261, total=   8.0s\n",
      "[CV] learning_rate=0.01, max_depth=1, min_samples_leaf=1, min_samples_split=2, n_estimators=200 \n"
     ]
    },
    {
     "name": "stderr",
     "output_type": "stream",
     "text": [
      "/anaconda3/lib/python3.7/site-packages/sklearn/metrics/classification.py:1143: UndefinedMetricWarning: F-score is ill-defined and being set to 0.0 in labels with no predicted samples.\n",
      "  'precision', 'predicted', average, warn_for)\n",
      "/anaconda3/lib/python3.7/site-packages/sklearn/metrics/classification.py:1143: UndefinedMetricWarning: F-score is ill-defined and being set to 0.0 in labels with no predicted samples.\n",
      "  'precision', 'predicted', average, warn_for)\n"
     ]
    },
    {
     "name": "stdout",
     "output_type": "stream",
     "text": [
      "[CV]  learning_rate=0.01, max_depth=1, min_samples_leaf=1, min_samples_split=2, n_estimators=200, score=0.30288334775043463, total=  15.0s\n",
      "[CV] learning_rate=0.01, max_depth=1, min_samples_leaf=1, min_samples_split=2, n_estimators=200 \n"
     ]
    },
    {
     "name": "stderr",
     "output_type": "stream",
     "text": [
      "/anaconda3/lib/python3.7/site-packages/sklearn/metrics/classification.py:1143: UndefinedMetricWarning: F-score is ill-defined and being set to 0.0 in labels with no predicted samples.\n",
      "  'precision', 'predicted', average, warn_for)\n",
      "/anaconda3/lib/python3.7/site-packages/sklearn/metrics/classification.py:1143: UndefinedMetricWarning: F-score is ill-defined and being set to 0.0 in labels with no predicted samples.\n",
      "  'precision', 'predicted', average, warn_for)\n"
     ]
    },
    {
     "name": "stdout",
     "output_type": "stream",
     "text": [
      "[CV]  learning_rate=0.01, max_depth=1, min_samples_leaf=1, min_samples_split=2, n_estimators=200, score=0.3019404966164512, total=  15.6s\n",
      "[CV] learning_rate=0.01, max_depth=1, min_samples_leaf=1, min_samples_split=2, n_estimators=200 \n"
     ]
    },
    {
     "name": "stderr",
     "output_type": "stream",
     "text": [
      "/anaconda3/lib/python3.7/site-packages/sklearn/metrics/classification.py:1143: UndefinedMetricWarning: F-score is ill-defined and being set to 0.0 in labels with no predicted samples.\n",
      "  'precision', 'predicted', average, warn_for)\n",
      "/anaconda3/lib/python3.7/site-packages/sklearn/metrics/classification.py:1143: UndefinedMetricWarning: F-score is ill-defined and being set to 0.0 in labels with no predicted samples.\n",
      "  'precision', 'predicted', average, warn_for)\n"
     ]
    },
    {
     "name": "stdout",
     "output_type": "stream",
     "text": [
      "[CV]  learning_rate=0.01, max_depth=1, min_samples_leaf=1, min_samples_split=2, n_estimators=200, score=0.30761625938824994, total=  15.4s\n",
      "[CV] learning_rate=0.01, max_depth=1, min_samples_leaf=1, min_samples_split=5, n_estimators=50 \n"
     ]
    },
    {
     "name": "stderr",
     "output_type": "stream",
     "text": [
      "/anaconda3/lib/python3.7/site-packages/sklearn/metrics/classification.py:1143: UndefinedMetricWarning: F-score is ill-defined and being set to 0.0 in labels with no predicted samples.\n",
      "  'precision', 'predicted', average, warn_for)\n",
      "/anaconda3/lib/python3.7/site-packages/sklearn/metrics/classification.py:1143: UndefinedMetricWarning: F-score is ill-defined and being set to 0.0 in labels with no predicted samples.\n",
      "  'precision', 'predicted', average, warn_for)\n"
     ]
    },
    {
     "name": "stdout",
     "output_type": "stream",
     "text": [
      "[CV]  learning_rate=0.01, max_depth=1, min_samples_leaf=1, min_samples_split=5, n_estimators=50, score=0.2869735784482812, total=   3.8s\n",
      "[CV] learning_rate=0.01, max_depth=1, min_samples_leaf=1, min_samples_split=5, n_estimators=50 \n"
     ]
    },
    {
     "name": "stderr",
     "output_type": "stream",
     "text": [
      "/anaconda3/lib/python3.7/site-packages/sklearn/metrics/classification.py:1143: UndefinedMetricWarning: F-score is ill-defined and being set to 0.0 in labels with no predicted samples.\n",
      "  'precision', 'predicted', average, warn_for)\n",
      "/anaconda3/lib/python3.7/site-packages/sklearn/metrics/classification.py:1143: UndefinedMetricWarning: F-score is ill-defined and being set to 0.0 in labels with no predicted samples.\n",
      "  'precision', 'predicted', average, warn_for)\n"
     ]
    },
    {
     "name": "stdout",
     "output_type": "stream",
     "text": [
      "[CV]  learning_rate=0.01, max_depth=1, min_samples_leaf=1, min_samples_split=5, n_estimators=50, score=0.2636777686735714, total=   4.3s\n",
      "[CV] learning_rate=0.01, max_depth=1, min_samples_leaf=1, min_samples_split=5, n_estimators=50 \n"
     ]
    },
    {
     "name": "stderr",
     "output_type": "stream",
     "text": [
      "/anaconda3/lib/python3.7/site-packages/sklearn/metrics/classification.py:1143: UndefinedMetricWarning: F-score is ill-defined and being set to 0.0 in labels with no predicted samples.\n",
      "  'precision', 'predicted', average, warn_for)\n",
      "/anaconda3/lib/python3.7/site-packages/sklearn/metrics/classification.py:1143: UndefinedMetricWarning: F-score is ill-defined and being set to 0.0 in labels with no predicted samples.\n",
      "  'precision', 'predicted', average, warn_for)\n"
     ]
    },
    {
     "name": "stdout",
     "output_type": "stream",
     "text": [
      "[CV]  learning_rate=0.01, max_depth=1, min_samples_leaf=1, min_samples_split=5, n_estimators=50, score=0.26831588865207917, total=   4.0s\n",
      "[CV] learning_rate=0.01, max_depth=1, min_samples_leaf=1, min_samples_split=5, n_estimators=100 \n"
     ]
    },
    {
     "name": "stderr",
     "output_type": "stream",
     "text": [
      "/anaconda3/lib/python3.7/site-packages/sklearn/metrics/classification.py:1143: UndefinedMetricWarning: F-score is ill-defined and being set to 0.0 in labels with no predicted samples.\n",
      "  'precision', 'predicted', average, warn_for)\n",
      "/anaconda3/lib/python3.7/site-packages/sklearn/metrics/classification.py:1143: UndefinedMetricWarning: F-score is ill-defined and being set to 0.0 in labels with no predicted samples.\n",
      "  'precision', 'predicted', average, warn_for)\n"
     ]
    },
    {
     "name": "stdout",
     "output_type": "stream",
     "text": [
      "[CV]  learning_rate=0.01, max_depth=1, min_samples_leaf=1, min_samples_split=5, n_estimators=100, score=0.298840651454471, total=   7.7s\n",
      "[CV] learning_rate=0.01, max_depth=1, min_samples_leaf=1, min_samples_split=5, n_estimators=100 \n"
     ]
    },
    {
     "name": "stderr",
     "output_type": "stream",
     "text": [
      "/anaconda3/lib/python3.7/site-packages/sklearn/metrics/classification.py:1143: UndefinedMetricWarning: F-score is ill-defined and being set to 0.0 in labels with no predicted samples.\n",
      "  'precision', 'predicted', average, warn_for)\n",
      "/anaconda3/lib/python3.7/site-packages/sklearn/metrics/classification.py:1143: UndefinedMetricWarning: F-score is ill-defined and being set to 0.0 in labels with no predicted samples.\n",
      "  'precision', 'predicted', average, warn_for)\n"
     ]
    },
    {
     "name": "stdout",
     "output_type": "stream",
     "text": [
      "[CV]  learning_rate=0.01, max_depth=1, min_samples_leaf=1, min_samples_split=5, n_estimators=100, score=0.2961324973786142, total=   7.9s\n",
      "[CV] learning_rate=0.01, max_depth=1, min_samples_leaf=1, min_samples_split=5, n_estimators=100 \n"
     ]
    },
    {
     "name": "stderr",
     "output_type": "stream",
     "text": [
      "/anaconda3/lib/python3.7/site-packages/sklearn/metrics/classification.py:1143: UndefinedMetricWarning: F-score is ill-defined and being set to 0.0 in labels with no predicted samples.\n",
      "  'precision', 'predicted', average, warn_for)\n",
      "/anaconda3/lib/python3.7/site-packages/sklearn/metrics/classification.py:1143: UndefinedMetricWarning: F-score is ill-defined and being set to 0.0 in labels with no predicted samples.\n",
      "  'precision', 'predicted', average, warn_for)\n"
     ]
    },
    {
     "name": "stdout",
     "output_type": "stream",
     "text": [
      "[CV]  learning_rate=0.01, max_depth=1, min_samples_leaf=1, min_samples_split=5, n_estimators=100, score=0.3028981655893261, total=   7.4s\n",
      "[CV] learning_rate=0.01, max_depth=1, min_samples_leaf=1, min_samples_split=5, n_estimators=200 \n"
     ]
    },
    {
     "name": "stderr",
     "output_type": "stream",
     "text": [
      "/anaconda3/lib/python3.7/site-packages/sklearn/metrics/classification.py:1143: UndefinedMetricWarning: F-score is ill-defined and being set to 0.0 in labels with no predicted samples.\n",
      "  'precision', 'predicted', average, warn_for)\n",
      "/anaconda3/lib/python3.7/site-packages/sklearn/metrics/classification.py:1143: UndefinedMetricWarning: F-score is ill-defined and being set to 0.0 in labels with no predicted samples.\n",
      "  'precision', 'predicted', average, warn_for)\n"
     ]
    },
    {
     "name": "stdout",
     "output_type": "stream",
     "text": [
      "[CV]  learning_rate=0.01, max_depth=1, min_samples_leaf=1, min_samples_split=5, n_estimators=200, score=0.30288334775043463, total=  15.6s\n",
      "[CV] learning_rate=0.01, max_depth=1, min_samples_leaf=1, min_samples_split=5, n_estimators=200 \n"
     ]
    },
    {
     "name": "stderr",
     "output_type": "stream",
     "text": [
      "/anaconda3/lib/python3.7/site-packages/sklearn/metrics/classification.py:1143: UndefinedMetricWarning: F-score is ill-defined and being set to 0.0 in labels with no predicted samples.\n",
      "  'precision', 'predicted', average, warn_for)\n",
      "/anaconda3/lib/python3.7/site-packages/sklearn/metrics/classification.py:1143: UndefinedMetricWarning: F-score is ill-defined and being set to 0.0 in labels with no predicted samples.\n",
      "  'precision', 'predicted', average, warn_for)\n"
     ]
    },
    {
     "name": "stdout",
     "output_type": "stream",
     "text": [
      "[CV]  learning_rate=0.01, max_depth=1, min_samples_leaf=1, min_samples_split=5, n_estimators=200, score=0.3019404966164512, total=  15.5s\n",
      "[CV] learning_rate=0.01, max_depth=1, min_samples_leaf=1, min_samples_split=5, n_estimators=200 \n"
     ]
    },
    {
     "name": "stderr",
     "output_type": "stream",
     "text": [
      "/anaconda3/lib/python3.7/site-packages/sklearn/metrics/classification.py:1143: UndefinedMetricWarning: F-score is ill-defined and being set to 0.0 in labels with no predicted samples.\n",
      "  'precision', 'predicted', average, warn_for)\n",
      "/anaconda3/lib/python3.7/site-packages/sklearn/metrics/classification.py:1143: UndefinedMetricWarning: F-score is ill-defined and being set to 0.0 in labels with no predicted samples.\n",
      "  'precision', 'predicted', average, warn_for)\n"
     ]
    },
    {
     "name": "stdout",
     "output_type": "stream",
     "text": [
      "[CV]  learning_rate=0.01, max_depth=1, min_samples_leaf=1, min_samples_split=5, n_estimators=200, score=0.30761625938824994, total=  15.2s\n",
      "[CV] learning_rate=0.01, max_depth=1, min_samples_leaf=3, min_samples_split=2, n_estimators=50 \n"
     ]
    },
    {
     "name": "stderr",
     "output_type": "stream",
     "text": [
      "/anaconda3/lib/python3.7/site-packages/sklearn/metrics/classification.py:1143: UndefinedMetricWarning: F-score is ill-defined and being set to 0.0 in labels with no predicted samples.\n",
      "  'precision', 'predicted', average, warn_for)\n",
      "/anaconda3/lib/python3.7/site-packages/sklearn/metrics/classification.py:1143: UndefinedMetricWarning: F-score is ill-defined and being set to 0.0 in labels with no predicted samples.\n",
      "  'precision', 'predicted', average, warn_for)\n"
     ]
    },
    {
     "name": "stdout",
     "output_type": "stream",
     "text": [
      "[CV]  learning_rate=0.01, max_depth=1, min_samples_leaf=3, min_samples_split=2, n_estimators=50, score=0.2869735784482812, total=   3.7s\n",
      "[CV] learning_rate=0.01, max_depth=1, min_samples_leaf=3, min_samples_split=2, n_estimators=50 \n"
     ]
    },
    {
     "name": "stderr",
     "output_type": "stream",
     "text": [
      "/anaconda3/lib/python3.7/site-packages/sklearn/metrics/classification.py:1143: UndefinedMetricWarning: F-score is ill-defined and being set to 0.0 in labels with no predicted samples.\n",
      "  'precision', 'predicted', average, warn_for)\n",
      "/anaconda3/lib/python3.7/site-packages/sklearn/metrics/classification.py:1143: UndefinedMetricWarning: F-score is ill-defined and being set to 0.0 in labels with no predicted samples.\n",
      "  'precision', 'predicted', average, warn_for)\n"
     ]
    },
    {
     "name": "stdout",
     "output_type": "stream",
     "text": [
      "[CV]  learning_rate=0.01, max_depth=1, min_samples_leaf=3, min_samples_split=2, n_estimators=50, score=0.2636777686735714, total=   4.0s\n",
      "[CV] learning_rate=0.01, max_depth=1, min_samples_leaf=3, min_samples_split=2, n_estimators=50 \n"
     ]
    },
    {
     "name": "stderr",
     "output_type": "stream",
     "text": [
      "/anaconda3/lib/python3.7/site-packages/sklearn/metrics/classification.py:1143: UndefinedMetricWarning: F-score is ill-defined and being set to 0.0 in labels with no predicted samples.\n",
      "  'precision', 'predicted', average, warn_for)\n",
      "/anaconda3/lib/python3.7/site-packages/sklearn/metrics/classification.py:1143: UndefinedMetricWarning: F-score is ill-defined and being set to 0.0 in labels with no predicted samples.\n",
      "  'precision', 'predicted', average, warn_for)\n"
     ]
    },
    {
     "name": "stdout",
     "output_type": "stream",
     "text": [
      "[CV]  learning_rate=0.01, max_depth=1, min_samples_leaf=3, min_samples_split=2, n_estimators=50, score=0.26831588865207917, total=   3.8s\n",
      "[CV] learning_rate=0.01, max_depth=1, min_samples_leaf=3, min_samples_split=2, n_estimators=100 \n"
     ]
    },
    {
     "name": "stderr",
     "output_type": "stream",
     "text": [
      "/anaconda3/lib/python3.7/site-packages/sklearn/metrics/classification.py:1143: UndefinedMetricWarning: F-score is ill-defined and being set to 0.0 in labels with no predicted samples.\n",
      "  'precision', 'predicted', average, warn_for)\n",
      "/anaconda3/lib/python3.7/site-packages/sklearn/metrics/classification.py:1143: UndefinedMetricWarning: F-score is ill-defined and being set to 0.0 in labels with no predicted samples.\n",
      "  'precision', 'predicted', average, warn_for)\n"
     ]
    },
    {
     "name": "stdout",
     "output_type": "stream",
     "text": [
      "[CV]  learning_rate=0.01, max_depth=1, min_samples_leaf=3, min_samples_split=2, n_estimators=100, score=0.298840651454471, total=   7.4s\n",
      "[CV] learning_rate=0.01, max_depth=1, min_samples_leaf=3, min_samples_split=2, n_estimators=100 \n"
     ]
    },
    {
     "name": "stderr",
     "output_type": "stream",
     "text": [
      "/anaconda3/lib/python3.7/site-packages/sklearn/metrics/classification.py:1143: UndefinedMetricWarning: F-score is ill-defined and being set to 0.0 in labels with no predicted samples.\n",
      "  'precision', 'predicted', average, warn_for)\n",
      "/anaconda3/lib/python3.7/site-packages/sklearn/metrics/classification.py:1143: UndefinedMetricWarning: F-score is ill-defined and being set to 0.0 in labels with no predicted samples.\n",
      "  'precision', 'predicted', average, warn_for)\n"
     ]
    },
    {
     "name": "stdout",
     "output_type": "stream",
     "text": [
      "[CV]  learning_rate=0.01, max_depth=1, min_samples_leaf=3, min_samples_split=2, n_estimators=100, score=0.2961324973786142, total=   7.5s\n",
      "[CV] learning_rate=0.01, max_depth=1, min_samples_leaf=3, min_samples_split=2, n_estimators=100 \n"
     ]
    },
    {
     "name": "stderr",
     "output_type": "stream",
     "text": [
      "/anaconda3/lib/python3.7/site-packages/sklearn/metrics/classification.py:1143: UndefinedMetricWarning: F-score is ill-defined and being set to 0.0 in labels with no predicted samples.\n",
      "  'precision', 'predicted', average, warn_for)\n",
      "/anaconda3/lib/python3.7/site-packages/sklearn/metrics/classification.py:1143: UndefinedMetricWarning: F-score is ill-defined and being set to 0.0 in labels with no predicted samples.\n",
      "  'precision', 'predicted', average, warn_for)\n"
     ]
    },
    {
     "name": "stdout",
     "output_type": "stream",
     "text": [
      "[CV]  learning_rate=0.01, max_depth=1, min_samples_leaf=3, min_samples_split=2, n_estimators=100, score=0.3028981655893261, total=   7.9s\n",
      "[CV] learning_rate=0.01, max_depth=1, min_samples_leaf=3, min_samples_split=2, n_estimators=200 \n"
     ]
    },
    {
     "name": "stderr",
     "output_type": "stream",
     "text": [
      "/anaconda3/lib/python3.7/site-packages/sklearn/metrics/classification.py:1143: UndefinedMetricWarning: F-score is ill-defined and being set to 0.0 in labels with no predicted samples.\n",
      "  'precision', 'predicted', average, warn_for)\n",
      "/anaconda3/lib/python3.7/site-packages/sklearn/metrics/classification.py:1143: UndefinedMetricWarning: F-score is ill-defined and being set to 0.0 in labels with no predicted samples.\n",
      "  'precision', 'predicted', average, warn_for)\n"
     ]
    },
    {
     "name": "stdout",
     "output_type": "stream",
     "text": [
      "[CV]  learning_rate=0.01, max_depth=1, min_samples_leaf=3, min_samples_split=2, n_estimators=200, score=0.30288334775043463, total=  15.5s\n",
      "[CV] learning_rate=0.01, max_depth=1, min_samples_leaf=3, min_samples_split=2, n_estimators=200 \n"
     ]
    },
    {
     "name": "stderr",
     "output_type": "stream",
     "text": [
      "/anaconda3/lib/python3.7/site-packages/sklearn/metrics/classification.py:1143: UndefinedMetricWarning: F-score is ill-defined and being set to 0.0 in labels with no predicted samples.\n",
      "  'precision', 'predicted', average, warn_for)\n",
      "/anaconda3/lib/python3.7/site-packages/sklearn/metrics/classification.py:1143: UndefinedMetricWarning: F-score is ill-defined and being set to 0.0 in labels with no predicted samples.\n",
      "  'precision', 'predicted', average, warn_for)\n"
     ]
    },
    {
     "name": "stdout",
     "output_type": "stream",
     "text": [
      "[CV]  learning_rate=0.01, max_depth=1, min_samples_leaf=3, min_samples_split=2, n_estimators=200, score=0.3019404966164512, total=  13.3s\n",
      "[CV] learning_rate=0.01, max_depth=1, min_samples_leaf=3, min_samples_split=2, n_estimators=200 \n"
     ]
    },
    {
     "name": "stderr",
     "output_type": "stream",
     "text": [
      "/anaconda3/lib/python3.7/site-packages/sklearn/metrics/classification.py:1143: UndefinedMetricWarning: F-score is ill-defined and being set to 0.0 in labels with no predicted samples.\n",
      "  'precision', 'predicted', average, warn_for)\n",
      "/anaconda3/lib/python3.7/site-packages/sklearn/metrics/classification.py:1143: UndefinedMetricWarning: F-score is ill-defined and being set to 0.0 in labels with no predicted samples.\n",
      "  'precision', 'predicted', average, warn_for)\n"
     ]
    },
    {
     "name": "stdout",
     "output_type": "stream",
     "text": [
      "[CV]  learning_rate=0.01, max_depth=1, min_samples_leaf=3, min_samples_split=2, n_estimators=200, score=0.30761625938824994, total=  15.5s\n",
      "[CV] learning_rate=0.01, max_depth=1, min_samples_leaf=3, min_samples_split=5, n_estimators=50 \n"
     ]
    },
    {
     "name": "stderr",
     "output_type": "stream",
     "text": [
      "/anaconda3/lib/python3.7/site-packages/sklearn/metrics/classification.py:1143: UndefinedMetricWarning: F-score is ill-defined and being set to 0.0 in labels with no predicted samples.\n",
      "  'precision', 'predicted', average, warn_for)\n",
      "/anaconda3/lib/python3.7/site-packages/sklearn/metrics/classification.py:1143: UndefinedMetricWarning: F-score is ill-defined and being set to 0.0 in labels with no predicted samples.\n",
      "  'precision', 'predicted', average, warn_for)\n"
     ]
    },
    {
     "name": "stdout",
     "output_type": "stream",
     "text": [
      "[CV]  learning_rate=0.01, max_depth=1, min_samples_leaf=3, min_samples_split=5, n_estimators=50, score=0.2869735784482812, total=   3.9s\n",
      "[CV] learning_rate=0.01, max_depth=1, min_samples_leaf=3, min_samples_split=5, n_estimators=50 \n"
     ]
    },
    {
     "name": "stderr",
     "output_type": "stream",
     "text": [
      "/anaconda3/lib/python3.7/site-packages/sklearn/metrics/classification.py:1143: UndefinedMetricWarning: F-score is ill-defined and being set to 0.0 in labels with no predicted samples.\n",
      "  'precision', 'predicted', average, warn_for)\n",
      "/anaconda3/lib/python3.7/site-packages/sklearn/metrics/classification.py:1143: UndefinedMetricWarning: F-score is ill-defined and being set to 0.0 in labels with no predicted samples.\n",
      "  'precision', 'predicted', average, warn_for)\n"
     ]
    },
    {
     "name": "stdout",
     "output_type": "stream",
     "text": [
      "[CV]  learning_rate=0.01, max_depth=1, min_samples_leaf=3, min_samples_split=5, n_estimators=50, score=0.2636777686735714, total=   3.9s\n",
      "[CV] learning_rate=0.01, max_depth=1, min_samples_leaf=3, min_samples_split=5, n_estimators=50 \n"
     ]
    },
    {
     "name": "stderr",
     "output_type": "stream",
     "text": [
      "/anaconda3/lib/python3.7/site-packages/sklearn/metrics/classification.py:1143: UndefinedMetricWarning: F-score is ill-defined and being set to 0.0 in labels with no predicted samples.\n",
      "  'precision', 'predicted', average, warn_for)\n",
      "/anaconda3/lib/python3.7/site-packages/sklearn/metrics/classification.py:1143: UndefinedMetricWarning: F-score is ill-defined and being set to 0.0 in labels with no predicted samples.\n",
      "  'precision', 'predicted', average, warn_for)\n"
     ]
    },
    {
     "name": "stdout",
     "output_type": "stream",
     "text": [
      "[CV]  learning_rate=0.01, max_depth=1, min_samples_leaf=3, min_samples_split=5, n_estimators=50, score=0.26831588865207917, total=   3.8s\n",
      "[CV] learning_rate=0.01, max_depth=1, min_samples_leaf=3, min_samples_split=5, n_estimators=100 \n"
     ]
    },
    {
     "name": "stderr",
     "output_type": "stream",
     "text": [
      "/anaconda3/lib/python3.7/site-packages/sklearn/metrics/classification.py:1143: UndefinedMetricWarning: F-score is ill-defined and being set to 0.0 in labels with no predicted samples.\n",
      "  'precision', 'predicted', average, warn_for)\n",
      "/anaconda3/lib/python3.7/site-packages/sklearn/metrics/classification.py:1143: UndefinedMetricWarning: F-score is ill-defined and being set to 0.0 in labels with no predicted samples.\n",
      "  'precision', 'predicted', average, warn_for)\n"
     ]
    },
    {
     "name": "stdout",
     "output_type": "stream",
     "text": [
      "[CV]  learning_rate=0.01, max_depth=1, min_samples_leaf=3, min_samples_split=5, n_estimators=100, score=0.298840651454471, total=   7.6s\n",
      "[CV] learning_rate=0.01, max_depth=1, min_samples_leaf=3, min_samples_split=5, n_estimators=100 \n"
     ]
    },
    {
     "name": "stderr",
     "output_type": "stream",
     "text": [
      "/anaconda3/lib/python3.7/site-packages/sklearn/metrics/classification.py:1143: UndefinedMetricWarning: F-score is ill-defined and being set to 0.0 in labels with no predicted samples.\n",
      "  'precision', 'predicted', average, warn_for)\n",
      "/anaconda3/lib/python3.7/site-packages/sklearn/metrics/classification.py:1143: UndefinedMetricWarning: F-score is ill-defined and being set to 0.0 in labels with no predicted samples.\n",
      "  'precision', 'predicted', average, warn_for)\n"
     ]
    },
    {
     "name": "stdout",
     "output_type": "stream",
     "text": [
      "[CV]  learning_rate=0.01, max_depth=1, min_samples_leaf=3, min_samples_split=5, n_estimators=100, score=0.2961324973786142, total=   7.7s\n",
      "[CV] learning_rate=0.01, max_depth=1, min_samples_leaf=3, min_samples_split=5, n_estimators=100 \n"
     ]
    },
    {
     "name": "stderr",
     "output_type": "stream",
     "text": [
      "/anaconda3/lib/python3.7/site-packages/sklearn/metrics/classification.py:1143: UndefinedMetricWarning: F-score is ill-defined and being set to 0.0 in labels with no predicted samples.\n",
      "  'precision', 'predicted', average, warn_for)\n",
      "/anaconda3/lib/python3.7/site-packages/sklearn/metrics/classification.py:1143: UndefinedMetricWarning: F-score is ill-defined and being set to 0.0 in labels with no predicted samples.\n",
      "  'precision', 'predicted', average, warn_for)\n"
     ]
    },
    {
     "name": "stdout",
     "output_type": "stream",
     "text": [
      "[CV]  learning_rate=0.01, max_depth=1, min_samples_leaf=3, min_samples_split=5, n_estimators=100, score=0.3028981655893261, total=   7.9s\n",
      "[CV] learning_rate=0.01, max_depth=1, min_samples_leaf=3, min_samples_split=5, n_estimators=200 \n"
     ]
    },
    {
     "name": "stderr",
     "output_type": "stream",
     "text": [
      "/anaconda3/lib/python3.7/site-packages/sklearn/metrics/classification.py:1143: UndefinedMetricWarning: F-score is ill-defined and being set to 0.0 in labels with no predicted samples.\n",
      "  'precision', 'predicted', average, warn_for)\n",
      "/anaconda3/lib/python3.7/site-packages/sklearn/metrics/classification.py:1143: UndefinedMetricWarning: F-score is ill-defined and being set to 0.0 in labels with no predicted samples.\n",
      "  'precision', 'predicted', average, warn_for)\n"
     ]
    },
    {
     "name": "stdout",
     "output_type": "stream",
     "text": [
      "[CV]  learning_rate=0.01, max_depth=1, min_samples_leaf=3, min_samples_split=5, n_estimators=200, score=0.30288334775043463, total=  15.3s\n",
      "[CV] learning_rate=0.01, max_depth=1, min_samples_leaf=3, min_samples_split=5, n_estimators=200 \n"
     ]
    },
    {
     "name": "stderr",
     "output_type": "stream",
     "text": [
      "/anaconda3/lib/python3.7/site-packages/sklearn/metrics/classification.py:1143: UndefinedMetricWarning: F-score is ill-defined and being set to 0.0 in labels with no predicted samples.\n",
      "  'precision', 'predicted', average, warn_for)\n",
      "/anaconda3/lib/python3.7/site-packages/sklearn/metrics/classification.py:1143: UndefinedMetricWarning: F-score is ill-defined and being set to 0.0 in labels with no predicted samples.\n",
      "  'precision', 'predicted', average, warn_for)\n"
     ]
    },
    {
     "name": "stdout",
     "output_type": "stream",
     "text": [
      "[CV]  learning_rate=0.01, max_depth=1, min_samples_leaf=3, min_samples_split=5, n_estimators=200, score=0.3019404966164512, total=  15.6s\n",
      "[CV] learning_rate=0.01, max_depth=1, min_samples_leaf=3, min_samples_split=5, n_estimators=200 \n"
     ]
    },
    {
     "name": "stderr",
     "output_type": "stream",
     "text": [
      "/anaconda3/lib/python3.7/site-packages/sklearn/metrics/classification.py:1143: UndefinedMetricWarning: F-score is ill-defined and being set to 0.0 in labels with no predicted samples.\n",
      "  'precision', 'predicted', average, warn_for)\n",
      "/anaconda3/lib/python3.7/site-packages/sklearn/metrics/classification.py:1143: UndefinedMetricWarning: F-score is ill-defined and being set to 0.0 in labels with no predicted samples.\n",
      "  'precision', 'predicted', average, warn_for)\n"
     ]
    },
    {
     "name": "stdout",
     "output_type": "stream",
     "text": [
      "[CV]  learning_rate=0.01, max_depth=1, min_samples_leaf=3, min_samples_split=5, n_estimators=200, score=0.30761625938824994, total=  15.1s\n",
      "[CV] learning_rate=0.01, max_depth=1, min_samples_leaf=5, min_samples_split=2, n_estimators=50 \n"
     ]
    },
    {
     "name": "stderr",
     "output_type": "stream",
     "text": [
      "/anaconda3/lib/python3.7/site-packages/sklearn/metrics/classification.py:1143: UndefinedMetricWarning: F-score is ill-defined and being set to 0.0 in labels with no predicted samples.\n",
      "  'precision', 'predicted', average, warn_for)\n",
      "/anaconda3/lib/python3.7/site-packages/sklearn/metrics/classification.py:1143: UndefinedMetricWarning: F-score is ill-defined and being set to 0.0 in labels with no predicted samples.\n",
      "  'precision', 'predicted', average, warn_for)\n"
     ]
    },
    {
     "name": "stdout",
     "output_type": "stream",
     "text": [
      "[CV]  learning_rate=0.01, max_depth=1, min_samples_leaf=5, min_samples_split=2, n_estimators=50, score=0.2869735784482812, total=   3.8s\n",
      "[CV] learning_rate=0.01, max_depth=1, min_samples_leaf=5, min_samples_split=2, n_estimators=50 \n"
     ]
    },
    {
     "name": "stderr",
     "output_type": "stream",
     "text": [
      "/anaconda3/lib/python3.7/site-packages/sklearn/metrics/classification.py:1143: UndefinedMetricWarning: F-score is ill-defined and being set to 0.0 in labels with no predicted samples.\n",
      "  'precision', 'predicted', average, warn_for)\n",
      "/anaconda3/lib/python3.7/site-packages/sklearn/metrics/classification.py:1143: UndefinedMetricWarning: F-score is ill-defined and being set to 0.0 in labels with no predicted samples.\n",
      "  'precision', 'predicted', average, warn_for)\n"
     ]
    },
    {
     "name": "stdout",
     "output_type": "stream",
     "text": [
      "[CV]  learning_rate=0.01, max_depth=1, min_samples_leaf=5, min_samples_split=2, n_estimators=50, score=0.2636777686735714, total=   3.9s\n",
      "[CV] learning_rate=0.01, max_depth=1, min_samples_leaf=5, min_samples_split=2, n_estimators=50 \n"
     ]
    },
    {
     "name": "stderr",
     "output_type": "stream",
     "text": [
      "/anaconda3/lib/python3.7/site-packages/sklearn/metrics/classification.py:1143: UndefinedMetricWarning: F-score is ill-defined and being set to 0.0 in labels with no predicted samples.\n",
      "  'precision', 'predicted', average, warn_for)\n",
      "/anaconda3/lib/python3.7/site-packages/sklearn/metrics/classification.py:1143: UndefinedMetricWarning: F-score is ill-defined and being set to 0.0 in labels with no predicted samples.\n",
      "  'precision', 'predicted', average, warn_for)\n"
     ]
    },
    {
     "name": "stdout",
     "output_type": "stream",
     "text": [
      "[CV]  learning_rate=0.01, max_depth=1, min_samples_leaf=5, min_samples_split=2, n_estimators=50, score=0.26831588865207917, total=   3.9s\n",
      "[CV] learning_rate=0.01, max_depth=1, min_samples_leaf=5, min_samples_split=2, n_estimators=100 \n"
     ]
    },
    {
     "name": "stderr",
     "output_type": "stream",
     "text": [
      "/anaconda3/lib/python3.7/site-packages/sklearn/metrics/classification.py:1143: UndefinedMetricWarning: F-score is ill-defined and being set to 0.0 in labels with no predicted samples.\n",
      "  'precision', 'predicted', average, warn_for)\n",
      "/anaconda3/lib/python3.7/site-packages/sklearn/metrics/classification.py:1143: UndefinedMetricWarning: F-score is ill-defined and being set to 0.0 in labels with no predicted samples.\n",
      "  'precision', 'predicted', average, warn_for)\n"
     ]
    },
    {
     "name": "stdout",
     "output_type": "stream",
     "text": [
      "[CV]  learning_rate=0.01, max_depth=1, min_samples_leaf=5, min_samples_split=2, n_estimators=100, score=0.298840651454471, total=   7.7s\n",
      "[CV] learning_rate=0.01, max_depth=1, min_samples_leaf=5, min_samples_split=2, n_estimators=100 \n"
     ]
    },
    {
     "name": "stderr",
     "output_type": "stream",
     "text": [
      "/anaconda3/lib/python3.7/site-packages/sklearn/metrics/classification.py:1143: UndefinedMetricWarning: F-score is ill-defined and being set to 0.0 in labels with no predicted samples.\n",
      "  'precision', 'predicted', average, warn_for)\n",
      "/anaconda3/lib/python3.7/site-packages/sklearn/metrics/classification.py:1143: UndefinedMetricWarning: F-score is ill-defined and being set to 0.0 in labels with no predicted samples.\n",
      "  'precision', 'predicted', average, warn_for)\n"
     ]
    },
    {
     "name": "stdout",
     "output_type": "stream",
     "text": [
      "[CV]  learning_rate=0.01, max_depth=1, min_samples_leaf=5, min_samples_split=2, n_estimators=100, score=0.2961324973786142, total=   8.0s\n",
      "[CV] learning_rate=0.01, max_depth=1, min_samples_leaf=5, min_samples_split=2, n_estimators=100 \n"
     ]
    },
    {
     "name": "stderr",
     "output_type": "stream",
     "text": [
      "/anaconda3/lib/python3.7/site-packages/sklearn/metrics/classification.py:1143: UndefinedMetricWarning: F-score is ill-defined and being set to 0.0 in labels with no predicted samples.\n",
      "  'precision', 'predicted', average, warn_for)\n",
      "/anaconda3/lib/python3.7/site-packages/sklearn/metrics/classification.py:1143: UndefinedMetricWarning: F-score is ill-defined and being set to 0.0 in labels with no predicted samples.\n",
      "  'precision', 'predicted', average, warn_for)\n"
     ]
    },
    {
     "name": "stdout",
     "output_type": "stream",
     "text": [
      "[CV]  learning_rate=0.01, max_depth=1, min_samples_leaf=5, min_samples_split=2, n_estimators=100, score=0.3028981655893261, total=   7.5s\n",
      "[CV] learning_rate=0.01, max_depth=1, min_samples_leaf=5, min_samples_split=2, n_estimators=200 \n"
     ]
    },
    {
     "name": "stderr",
     "output_type": "stream",
     "text": [
      "/anaconda3/lib/python3.7/site-packages/sklearn/metrics/classification.py:1143: UndefinedMetricWarning: F-score is ill-defined and being set to 0.0 in labels with no predicted samples.\n",
      "  'precision', 'predicted', average, warn_for)\n",
      "/anaconda3/lib/python3.7/site-packages/sklearn/metrics/classification.py:1143: UndefinedMetricWarning: F-score is ill-defined and being set to 0.0 in labels with no predicted samples.\n",
      "  'precision', 'predicted', average, warn_for)\n"
     ]
    },
    {
     "name": "stdout",
     "output_type": "stream",
     "text": [
      "[CV]  learning_rate=0.01, max_depth=1, min_samples_leaf=5, min_samples_split=2, n_estimators=200, score=0.30288334775043463, total=  15.9s\n",
      "[CV] learning_rate=0.01, max_depth=1, min_samples_leaf=5, min_samples_split=2, n_estimators=200 \n"
     ]
    },
    {
     "name": "stderr",
     "output_type": "stream",
     "text": [
      "/anaconda3/lib/python3.7/site-packages/sklearn/metrics/classification.py:1143: UndefinedMetricWarning: F-score is ill-defined and being set to 0.0 in labels with no predicted samples.\n",
      "  'precision', 'predicted', average, warn_for)\n",
      "/anaconda3/lib/python3.7/site-packages/sklearn/metrics/classification.py:1143: UndefinedMetricWarning: F-score is ill-defined and being set to 0.0 in labels with no predicted samples.\n",
      "  'precision', 'predicted', average, warn_for)\n"
     ]
    },
    {
     "name": "stdout",
     "output_type": "stream",
     "text": [
      "[CV]  learning_rate=0.01, max_depth=1, min_samples_leaf=5, min_samples_split=2, n_estimators=200, score=0.3019404966164512, total=  16.9s\n",
      "[CV] learning_rate=0.01, max_depth=1, min_samples_leaf=5, min_samples_split=2, n_estimators=200 \n"
     ]
    },
    {
     "name": "stderr",
     "output_type": "stream",
     "text": [
      "/anaconda3/lib/python3.7/site-packages/sklearn/metrics/classification.py:1143: UndefinedMetricWarning: F-score is ill-defined and being set to 0.0 in labels with no predicted samples.\n",
      "  'precision', 'predicted', average, warn_for)\n",
      "/anaconda3/lib/python3.7/site-packages/sklearn/metrics/classification.py:1143: UndefinedMetricWarning: F-score is ill-defined and being set to 0.0 in labels with no predicted samples.\n",
      "  'precision', 'predicted', average, warn_for)\n"
     ]
    },
    {
     "name": "stdout",
     "output_type": "stream",
     "text": [
      "[CV]  learning_rate=0.01, max_depth=1, min_samples_leaf=5, min_samples_split=2, n_estimators=200, score=0.30761625938824994, total=  15.4s\n",
      "[CV] learning_rate=0.01, max_depth=1, min_samples_leaf=5, min_samples_split=5, n_estimators=50 \n"
     ]
    },
    {
     "name": "stderr",
     "output_type": "stream",
     "text": [
      "/anaconda3/lib/python3.7/site-packages/sklearn/metrics/classification.py:1143: UndefinedMetricWarning: F-score is ill-defined and being set to 0.0 in labels with no predicted samples.\n",
      "  'precision', 'predicted', average, warn_for)\n",
      "/anaconda3/lib/python3.7/site-packages/sklearn/metrics/classification.py:1143: UndefinedMetricWarning: F-score is ill-defined and being set to 0.0 in labels with no predicted samples.\n",
      "  'precision', 'predicted', average, warn_for)\n"
     ]
    },
    {
     "name": "stdout",
     "output_type": "stream",
     "text": [
      "[CV]  learning_rate=0.01, max_depth=1, min_samples_leaf=5, min_samples_split=5, n_estimators=50, score=0.2869735784482812, total=   4.0s\n",
      "[CV] learning_rate=0.01, max_depth=1, min_samples_leaf=5, min_samples_split=5, n_estimators=50 \n"
     ]
    },
    {
     "name": "stderr",
     "output_type": "stream",
     "text": [
      "/anaconda3/lib/python3.7/site-packages/sklearn/metrics/classification.py:1143: UndefinedMetricWarning: F-score is ill-defined and being set to 0.0 in labels with no predicted samples.\n",
      "  'precision', 'predicted', average, warn_for)\n",
      "/anaconda3/lib/python3.7/site-packages/sklearn/metrics/classification.py:1143: UndefinedMetricWarning: F-score is ill-defined and being set to 0.0 in labels with no predicted samples.\n",
      "  'precision', 'predicted', average, warn_for)\n"
     ]
    },
    {
     "name": "stdout",
     "output_type": "stream",
     "text": [
      "[CV]  learning_rate=0.01, max_depth=1, min_samples_leaf=5, min_samples_split=5, n_estimators=50, score=0.2636777686735714, total=   4.0s\n",
      "[CV] learning_rate=0.01, max_depth=1, min_samples_leaf=5, min_samples_split=5, n_estimators=50 \n"
     ]
    },
    {
     "name": "stderr",
     "output_type": "stream",
     "text": [
      "/anaconda3/lib/python3.7/site-packages/sklearn/metrics/classification.py:1143: UndefinedMetricWarning: F-score is ill-defined and being set to 0.0 in labels with no predicted samples.\n",
      "  'precision', 'predicted', average, warn_for)\n",
      "/anaconda3/lib/python3.7/site-packages/sklearn/metrics/classification.py:1143: UndefinedMetricWarning: F-score is ill-defined and being set to 0.0 in labels with no predicted samples.\n",
      "  'precision', 'predicted', average, warn_for)\n"
     ]
    },
    {
     "name": "stdout",
     "output_type": "stream",
     "text": [
      "[CV]  learning_rate=0.01, max_depth=1, min_samples_leaf=5, min_samples_split=5, n_estimators=50, score=0.26831588865207917, total=   3.9s\n",
      "[CV] learning_rate=0.01, max_depth=1, min_samples_leaf=5, min_samples_split=5, n_estimators=100 \n"
     ]
    },
    {
     "name": "stderr",
     "output_type": "stream",
     "text": [
      "/anaconda3/lib/python3.7/site-packages/sklearn/metrics/classification.py:1143: UndefinedMetricWarning: F-score is ill-defined and being set to 0.0 in labels with no predicted samples.\n",
      "  'precision', 'predicted', average, warn_for)\n",
      "/anaconda3/lib/python3.7/site-packages/sklearn/metrics/classification.py:1143: UndefinedMetricWarning: F-score is ill-defined and being set to 0.0 in labels with no predicted samples.\n",
      "  'precision', 'predicted', average, warn_for)\n"
     ]
    },
    {
     "name": "stdout",
     "output_type": "stream",
     "text": [
      "[CV]  learning_rate=0.01, max_depth=1, min_samples_leaf=5, min_samples_split=5, n_estimators=100, score=0.298840651454471, total=   7.8s\n",
      "[CV] learning_rate=0.01, max_depth=1, min_samples_leaf=5, min_samples_split=5, n_estimators=100 \n"
     ]
    },
    {
     "name": "stderr",
     "output_type": "stream",
     "text": [
      "/anaconda3/lib/python3.7/site-packages/sklearn/metrics/classification.py:1143: UndefinedMetricWarning: F-score is ill-defined and being set to 0.0 in labels with no predicted samples.\n",
      "  'precision', 'predicted', average, warn_for)\n",
      "/anaconda3/lib/python3.7/site-packages/sklearn/metrics/classification.py:1143: UndefinedMetricWarning: F-score is ill-defined and being set to 0.0 in labels with no predicted samples.\n",
      "  'precision', 'predicted', average, warn_for)\n"
     ]
    },
    {
     "name": "stdout",
     "output_type": "stream",
     "text": [
      "[CV]  learning_rate=0.01, max_depth=1, min_samples_leaf=5, min_samples_split=5, n_estimators=100, score=0.2961324973786142, total=   8.1s\n",
      "[CV] learning_rate=0.01, max_depth=1, min_samples_leaf=5, min_samples_split=5, n_estimators=100 \n"
     ]
    },
    {
     "name": "stderr",
     "output_type": "stream",
     "text": [
      "/anaconda3/lib/python3.7/site-packages/sklearn/metrics/classification.py:1143: UndefinedMetricWarning: F-score is ill-defined and being set to 0.0 in labels with no predicted samples.\n",
      "  'precision', 'predicted', average, warn_for)\n",
      "/anaconda3/lib/python3.7/site-packages/sklearn/metrics/classification.py:1143: UndefinedMetricWarning: F-score is ill-defined and being set to 0.0 in labels with no predicted samples.\n",
      "  'precision', 'predicted', average, warn_for)\n"
     ]
    },
    {
     "name": "stdout",
     "output_type": "stream",
     "text": [
      "[CV]  learning_rate=0.01, max_depth=1, min_samples_leaf=5, min_samples_split=5, n_estimators=100, score=0.3028981655893261, total=   7.7s\n",
      "[CV] learning_rate=0.01, max_depth=1, min_samples_leaf=5, min_samples_split=5, n_estimators=200 \n"
     ]
    },
    {
     "name": "stderr",
     "output_type": "stream",
     "text": [
      "/anaconda3/lib/python3.7/site-packages/sklearn/metrics/classification.py:1143: UndefinedMetricWarning: F-score is ill-defined and being set to 0.0 in labels with no predicted samples.\n",
      "  'precision', 'predicted', average, warn_for)\n",
      "/anaconda3/lib/python3.7/site-packages/sklearn/metrics/classification.py:1143: UndefinedMetricWarning: F-score is ill-defined and being set to 0.0 in labels with no predicted samples.\n",
      "  'precision', 'predicted', average, warn_for)\n"
     ]
    },
    {
     "name": "stdout",
     "output_type": "stream",
     "text": [
      "[CV]  learning_rate=0.01, max_depth=1, min_samples_leaf=5, min_samples_split=5, n_estimators=200, score=0.30288334775043463, total=  15.3s\n",
      "[CV] learning_rate=0.01, max_depth=1, min_samples_leaf=5, min_samples_split=5, n_estimators=200 \n"
     ]
    },
    {
     "name": "stderr",
     "output_type": "stream",
     "text": [
      "/anaconda3/lib/python3.7/site-packages/sklearn/metrics/classification.py:1143: UndefinedMetricWarning: F-score is ill-defined and being set to 0.0 in labels with no predicted samples.\n",
      "  'precision', 'predicted', average, warn_for)\n",
      "/anaconda3/lib/python3.7/site-packages/sklearn/metrics/classification.py:1143: UndefinedMetricWarning: F-score is ill-defined and being set to 0.0 in labels with no predicted samples.\n",
      "  'precision', 'predicted', average, warn_for)\n"
     ]
    },
    {
     "name": "stdout",
     "output_type": "stream",
     "text": [
      "[CV]  learning_rate=0.01, max_depth=1, min_samples_leaf=5, min_samples_split=5, n_estimators=200, score=0.3019404966164512, total=  15.2s\n",
      "[CV] learning_rate=0.01, max_depth=1, min_samples_leaf=5, min_samples_split=5, n_estimators=200 \n"
     ]
    },
    {
     "name": "stderr",
     "output_type": "stream",
     "text": [
      "/anaconda3/lib/python3.7/site-packages/sklearn/metrics/classification.py:1143: UndefinedMetricWarning: F-score is ill-defined and being set to 0.0 in labels with no predicted samples.\n",
      "  'precision', 'predicted', average, warn_for)\n",
      "/anaconda3/lib/python3.7/site-packages/sklearn/metrics/classification.py:1143: UndefinedMetricWarning: F-score is ill-defined and being set to 0.0 in labels with no predicted samples.\n",
      "  'precision', 'predicted', average, warn_for)\n"
     ]
    },
    {
     "name": "stdout",
     "output_type": "stream",
     "text": [
      "[CV]  learning_rate=0.01, max_depth=1, min_samples_leaf=5, min_samples_split=5, n_estimators=200, score=0.30761625938824994, total=  15.5s\n",
      "[CV] learning_rate=0.01, max_depth=3, min_samples_leaf=1, min_samples_split=2, n_estimators=50 \n"
     ]
    },
    {
     "name": "stderr",
     "output_type": "stream",
     "text": [
      "/anaconda3/lib/python3.7/site-packages/sklearn/metrics/classification.py:1143: UndefinedMetricWarning: F-score is ill-defined and being set to 0.0 in labels with no predicted samples.\n",
      "  'precision', 'predicted', average, warn_for)\n",
      "/anaconda3/lib/python3.7/site-packages/sklearn/metrics/classification.py:1143: UndefinedMetricWarning: F-score is ill-defined and being set to 0.0 in labels with no predicted samples.\n",
      "  'precision', 'predicted', average, warn_for)\n"
     ]
    },
    {
     "name": "stdout",
     "output_type": "stream",
     "text": [
      "[CV]  learning_rate=0.01, max_depth=3, min_samples_leaf=1, min_samples_split=2, n_estimators=50, score=0.3026594253926677, total=  10.1s\n",
      "[CV] learning_rate=0.01, max_depth=3, min_samples_leaf=1, min_samples_split=2, n_estimators=50 \n"
     ]
    },
    {
     "name": "stderr",
     "output_type": "stream",
     "text": [
      "/anaconda3/lib/python3.7/site-packages/sklearn/metrics/classification.py:1143: UndefinedMetricWarning: F-score is ill-defined and being set to 0.0 in labels with no predicted samples.\n",
      "  'precision', 'predicted', average, warn_for)\n",
      "/anaconda3/lib/python3.7/site-packages/sklearn/metrics/classification.py:1143: UndefinedMetricWarning: F-score is ill-defined and being set to 0.0 in labels with no predicted samples.\n",
      "  'precision', 'predicted', average, warn_for)\n"
     ]
    },
    {
     "name": "stdout",
     "output_type": "stream",
     "text": [
      "[CV]  learning_rate=0.01, max_depth=3, min_samples_leaf=1, min_samples_split=2, n_estimators=50, score=0.29462323461721523, total=  10.1s\n",
      "[CV] learning_rate=0.01, max_depth=3, min_samples_leaf=1, min_samples_split=2, n_estimators=50 \n"
     ]
    },
    {
     "name": "stderr",
     "output_type": "stream",
     "text": [
      "/anaconda3/lib/python3.7/site-packages/sklearn/metrics/classification.py:1143: UndefinedMetricWarning: F-score is ill-defined and being set to 0.0 in labels with no predicted samples.\n",
      "  'precision', 'predicted', average, warn_for)\n",
      "/anaconda3/lib/python3.7/site-packages/sklearn/metrics/classification.py:1143: UndefinedMetricWarning: F-score is ill-defined and being set to 0.0 in labels with no predicted samples.\n",
      "  'precision', 'predicted', average, warn_for)\n"
     ]
    },
    {
     "name": "stdout",
     "output_type": "stream",
     "text": [
      "[CV]  learning_rate=0.01, max_depth=3, min_samples_leaf=1, min_samples_split=2, n_estimators=50, score=0.3018696880884922, total=   9.9s\n",
      "[CV] learning_rate=0.01, max_depth=3, min_samples_leaf=1, min_samples_split=2, n_estimators=100 \n"
     ]
    },
    {
     "name": "stderr",
     "output_type": "stream",
     "text": [
      "/anaconda3/lib/python3.7/site-packages/sklearn/metrics/classification.py:1143: UndefinedMetricWarning: F-score is ill-defined and being set to 0.0 in labels with no predicted samples.\n",
      "  'precision', 'predicted', average, warn_for)\n",
      "/anaconda3/lib/python3.7/site-packages/sklearn/metrics/classification.py:1143: UndefinedMetricWarning: F-score is ill-defined and being set to 0.0 in labels with no predicted samples.\n",
      "  'precision', 'predicted', average, warn_for)\n"
     ]
    },
    {
     "name": "stdout",
     "output_type": "stream",
     "text": [
      "[CV]  learning_rate=0.01, max_depth=3, min_samples_leaf=1, min_samples_split=2, n_estimators=100, score=0.3144051618289685, total=  19.1s\n",
      "[CV] learning_rate=0.01, max_depth=3, min_samples_leaf=1, min_samples_split=2, n_estimators=100 \n",
      "[CV]  learning_rate=0.01, max_depth=3, min_samples_leaf=1, min_samples_split=2, n_estimators=100, score=0.3050426722858091, total=  20.0s\n",
      "[CV] learning_rate=0.01, max_depth=3, min_samples_leaf=1, min_samples_split=2, n_estimators=100 \n"
     ]
    },
    {
     "name": "stderr",
     "output_type": "stream",
     "text": [
      "/anaconda3/lib/python3.7/site-packages/sklearn/metrics/classification.py:1143: UndefinedMetricWarning: F-score is ill-defined and being set to 0.0 in labels with no predicted samples.\n",
      "  'precision', 'predicted', average, warn_for)\n",
      "/anaconda3/lib/python3.7/site-packages/sklearn/metrics/classification.py:1143: UndefinedMetricWarning: F-score is ill-defined and being set to 0.0 in labels with no predicted samples.\n",
      "  'precision', 'predicted', average, warn_for)\n"
     ]
    },
    {
     "name": "stdout",
     "output_type": "stream",
     "text": [
      "[CV]  learning_rate=0.01, max_depth=3, min_samples_leaf=1, min_samples_split=2, n_estimators=100, score=0.3109338589353703, total=  19.7s\n",
      "[CV] learning_rate=0.01, max_depth=3, min_samples_leaf=1, min_samples_split=2, n_estimators=200 \n",
      "[CV]  learning_rate=0.01, max_depth=3, min_samples_leaf=1, min_samples_split=2, n_estimators=200, score=0.31977862163489207, total=  38.7s\n",
      "[CV] learning_rate=0.01, max_depth=3, min_samples_leaf=1, min_samples_split=2, n_estimators=200 \n",
      "[CV]  learning_rate=0.01, max_depth=3, min_samples_leaf=1, min_samples_split=2, n_estimators=200, score=0.32103271887325713, total=  38.4s\n",
      "[CV] learning_rate=0.01, max_depth=3, min_samples_leaf=1, min_samples_split=2, n_estimators=200 \n",
      "[CV]  learning_rate=0.01, max_depth=3, min_samples_leaf=1, min_samples_split=2, n_estimators=200, score=0.32048658360741283, total=  40.4s\n",
      "[CV] learning_rate=0.01, max_depth=3, min_samples_leaf=1, min_samples_split=5, n_estimators=50 \n"
     ]
    },
    {
     "name": "stderr",
     "output_type": "stream",
     "text": [
      "/anaconda3/lib/python3.7/site-packages/sklearn/metrics/classification.py:1143: UndefinedMetricWarning: F-score is ill-defined and being set to 0.0 in labels with no predicted samples.\n",
      "  'precision', 'predicted', average, warn_for)\n",
      "/anaconda3/lib/python3.7/site-packages/sklearn/metrics/classification.py:1143: UndefinedMetricWarning: F-score is ill-defined and being set to 0.0 in labels with no predicted samples.\n",
      "  'precision', 'predicted', average, warn_for)\n"
     ]
    },
    {
     "name": "stdout",
     "output_type": "stream",
     "text": [
      "[CV]  learning_rate=0.01, max_depth=3, min_samples_leaf=1, min_samples_split=5, n_estimators=50, score=0.3026594253926677, total=   9.6s\n",
      "[CV] learning_rate=0.01, max_depth=3, min_samples_leaf=1, min_samples_split=5, n_estimators=50 \n"
     ]
    },
    {
     "name": "stderr",
     "output_type": "stream",
     "text": [
      "/anaconda3/lib/python3.7/site-packages/sklearn/metrics/classification.py:1143: UndefinedMetricWarning: F-score is ill-defined and being set to 0.0 in labels with no predicted samples.\n",
      "  'precision', 'predicted', average, warn_for)\n",
      "/anaconda3/lib/python3.7/site-packages/sklearn/metrics/classification.py:1143: UndefinedMetricWarning: F-score is ill-defined and being set to 0.0 in labels with no predicted samples.\n",
      "  'precision', 'predicted', average, warn_for)\n"
     ]
    },
    {
     "name": "stdout",
     "output_type": "stream",
     "text": [
      "[CV]  learning_rate=0.01, max_depth=3, min_samples_leaf=1, min_samples_split=5, n_estimators=50, score=0.29462323461721523, total=   9.8s\n",
      "[CV] learning_rate=0.01, max_depth=3, min_samples_leaf=1, min_samples_split=5, n_estimators=50 \n"
     ]
    },
    {
     "name": "stderr",
     "output_type": "stream",
     "text": [
      "/anaconda3/lib/python3.7/site-packages/sklearn/metrics/classification.py:1143: UndefinedMetricWarning: F-score is ill-defined and being set to 0.0 in labels with no predicted samples.\n",
      "  'precision', 'predicted', average, warn_for)\n",
      "/anaconda3/lib/python3.7/site-packages/sklearn/metrics/classification.py:1143: UndefinedMetricWarning: F-score is ill-defined and being set to 0.0 in labels with no predicted samples.\n",
      "  'precision', 'predicted', average, warn_for)\n"
     ]
    },
    {
     "name": "stdout",
     "output_type": "stream",
     "text": [
      "[CV]  learning_rate=0.01, max_depth=3, min_samples_leaf=1, min_samples_split=5, n_estimators=50, score=0.3018696880884922, total=  10.2s\n",
      "[CV] learning_rate=0.01, max_depth=3, min_samples_leaf=1, min_samples_split=5, n_estimators=100 \n"
     ]
    },
    {
     "name": "stderr",
     "output_type": "stream",
     "text": [
      "/anaconda3/lib/python3.7/site-packages/sklearn/metrics/classification.py:1143: UndefinedMetricWarning: F-score is ill-defined and being set to 0.0 in labels with no predicted samples.\n",
      "  'precision', 'predicted', average, warn_for)\n",
      "/anaconda3/lib/python3.7/site-packages/sklearn/metrics/classification.py:1143: UndefinedMetricWarning: F-score is ill-defined and being set to 0.0 in labels with no predicted samples.\n",
      "  'precision', 'predicted', average, warn_for)\n"
     ]
    },
    {
     "name": "stdout",
     "output_type": "stream",
     "text": [
      "[CV]  learning_rate=0.01, max_depth=3, min_samples_leaf=1, min_samples_split=5, n_estimators=100, score=0.3144051618289685, total=  19.6s\n",
      "[CV] learning_rate=0.01, max_depth=3, min_samples_leaf=1, min_samples_split=5, n_estimators=100 \n",
      "[CV]  learning_rate=0.01, max_depth=3, min_samples_leaf=1, min_samples_split=5, n_estimators=100, score=0.3050426722858091, total=  19.3s\n",
      "[CV] learning_rate=0.01, max_depth=3, min_samples_leaf=1, min_samples_split=5, n_estimators=100 \n"
     ]
    },
    {
     "name": "stderr",
     "output_type": "stream",
     "text": [
      "/anaconda3/lib/python3.7/site-packages/sklearn/metrics/classification.py:1143: UndefinedMetricWarning: F-score is ill-defined and being set to 0.0 in labels with no predicted samples.\n",
      "  'precision', 'predicted', average, warn_for)\n",
      "/anaconda3/lib/python3.7/site-packages/sklearn/metrics/classification.py:1143: UndefinedMetricWarning: F-score is ill-defined and being set to 0.0 in labels with no predicted samples.\n",
      "  'precision', 'predicted', average, warn_for)\n"
     ]
    },
    {
     "name": "stdout",
     "output_type": "stream",
     "text": [
      "[CV]  learning_rate=0.01, max_depth=3, min_samples_leaf=1, min_samples_split=5, n_estimators=100, score=0.3109338589353703, total=  19.5s\n",
      "[CV] learning_rate=0.01, max_depth=3, min_samples_leaf=1, min_samples_split=5, n_estimators=200 \n",
      "[CV]  learning_rate=0.01, max_depth=3, min_samples_leaf=1, min_samples_split=5, n_estimators=200, score=0.31977862163489207, total=  38.2s\n",
      "[CV] learning_rate=0.01, max_depth=3, min_samples_leaf=1, min_samples_split=5, n_estimators=200 \n",
      "[CV]  learning_rate=0.01, max_depth=3, min_samples_leaf=1, min_samples_split=5, n_estimators=200, score=0.32103271887325713, total=  38.9s\n",
      "[CV] learning_rate=0.01, max_depth=3, min_samples_leaf=1, min_samples_split=5, n_estimators=200 \n",
      "[CV]  learning_rate=0.01, max_depth=3, min_samples_leaf=1, min_samples_split=5, n_estimators=200, score=0.32048658360741283, total=  38.6s\n",
      "[CV] learning_rate=0.01, max_depth=3, min_samples_leaf=3, min_samples_split=2, n_estimators=50 \n"
     ]
    },
    {
     "name": "stderr",
     "output_type": "stream",
     "text": [
      "/anaconda3/lib/python3.7/site-packages/sklearn/metrics/classification.py:1143: UndefinedMetricWarning: F-score is ill-defined and being set to 0.0 in labels with no predicted samples.\n",
      "  'precision', 'predicted', average, warn_for)\n",
      "/anaconda3/lib/python3.7/site-packages/sklearn/metrics/classification.py:1143: UndefinedMetricWarning: F-score is ill-defined and being set to 0.0 in labels with no predicted samples.\n",
      "  'precision', 'predicted', average, warn_for)\n"
     ]
    },
    {
     "name": "stdout",
     "output_type": "stream",
     "text": [
      "[CV]  learning_rate=0.01, max_depth=3, min_samples_leaf=3, min_samples_split=2, n_estimators=50, score=0.3026594253926677, total=  10.0s\n",
      "[CV] learning_rate=0.01, max_depth=3, min_samples_leaf=3, min_samples_split=2, n_estimators=50 \n"
     ]
    },
    {
     "name": "stderr",
     "output_type": "stream",
     "text": [
      "/anaconda3/lib/python3.7/site-packages/sklearn/metrics/classification.py:1143: UndefinedMetricWarning: F-score is ill-defined and being set to 0.0 in labels with no predicted samples.\n",
      "  'precision', 'predicted', average, warn_for)\n",
      "/anaconda3/lib/python3.7/site-packages/sklearn/metrics/classification.py:1143: UndefinedMetricWarning: F-score is ill-defined and being set to 0.0 in labels with no predicted samples.\n",
      "  'precision', 'predicted', average, warn_for)\n"
     ]
    },
    {
     "name": "stdout",
     "output_type": "stream",
     "text": [
      "[CV]  learning_rate=0.01, max_depth=3, min_samples_leaf=3, min_samples_split=2, n_estimators=50, score=0.29462323461721523, total=   9.8s\n",
      "[CV] learning_rate=0.01, max_depth=3, min_samples_leaf=3, min_samples_split=2, n_estimators=50 \n"
     ]
    },
    {
     "name": "stderr",
     "output_type": "stream",
     "text": [
      "/anaconda3/lib/python3.7/site-packages/sklearn/metrics/classification.py:1143: UndefinedMetricWarning: F-score is ill-defined and being set to 0.0 in labels with no predicted samples.\n",
      "  'precision', 'predicted', average, warn_for)\n",
      "/anaconda3/lib/python3.7/site-packages/sklearn/metrics/classification.py:1143: UndefinedMetricWarning: F-score is ill-defined and being set to 0.0 in labels with no predicted samples.\n",
      "  'precision', 'predicted', average, warn_for)\n"
     ]
    },
    {
     "name": "stdout",
     "output_type": "stream",
     "text": [
      "[CV]  learning_rate=0.01, max_depth=3, min_samples_leaf=3, min_samples_split=2, n_estimators=50, score=0.3018696880884922, total=   9.8s\n",
      "[CV] learning_rate=0.01, max_depth=3, min_samples_leaf=3, min_samples_split=2, n_estimators=100 \n"
     ]
    },
    {
     "name": "stderr",
     "output_type": "stream",
     "text": [
      "/anaconda3/lib/python3.7/site-packages/sklearn/metrics/classification.py:1143: UndefinedMetricWarning: F-score is ill-defined and being set to 0.0 in labels with no predicted samples.\n",
      "  'precision', 'predicted', average, warn_for)\n",
      "/anaconda3/lib/python3.7/site-packages/sklearn/metrics/classification.py:1143: UndefinedMetricWarning: F-score is ill-defined and being set to 0.0 in labels with no predicted samples.\n",
      "  'precision', 'predicted', average, warn_for)\n"
     ]
    },
    {
     "name": "stdout",
     "output_type": "stream",
     "text": [
      "[CV]  learning_rate=0.01, max_depth=3, min_samples_leaf=3, min_samples_split=2, n_estimators=100, score=0.3144051618289685, total=  19.9s\n",
      "[CV] learning_rate=0.01, max_depth=3, min_samples_leaf=3, min_samples_split=2, n_estimators=100 \n",
      "[CV]  learning_rate=0.01, max_depth=3, min_samples_leaf=3, min_samples_split=2, n_estimators=100, score=0.3050426722858091, total=  19.5s\n",
      "[CV] learning_rate=0.01, max_depth=3, min_samples_leaf=3, min_samples_split=2, n_estimators=100 \n"
     ]
    },
    {
     "name": "stderr",
     "output_type": "stream",
     "text": [
      "/anaconda3/lib/python3.7/site-packages/sklearn/metrics/classification.py:1143: UndefinedMetricWarning: F-score is ill-defined and being set to 0.0 in labels with no predicted samples.\n",
      "  'precision', 'predicted', average, warn_for)\n",
      "/anaconda3/lib/python3.7/site-packages/sklearn/metrics/classification.py:1143: UndefinedMetricWarning: F-score is ill-defined and being set to 0.0 in labels with no predicted samples.\n",
      "  'precision', 'predicted', average, warn_for)\n"
     ]
    },
    {
     "name": "stdout",
     "output_type": "stream",
     "text": [
      "[CV]  learning_rate=0.01, max_depth=3, min_samples_leaf=3, min_samples_split=2, n_estimators=100, score=0.3109338589353703, total=  20.6s\n",
      "[CV] learning_rate=0.01, max_depth=3, min_samples_leaf=3, min_samples_split=2, n_estimators=200 \n",
      "[CV]  learning_rate=0.01, max_depth=3, min_samples_leaf=3, min_samples_split=2, n_estimators=200, score=0.31976666157620465, total=  38.6s\n",
      "[CV] learning_rate=0.01, max_depth=3, min_samples_leaf=3, min_samples_split=2, n_estimators=200 \n",
      "[CV]  learning_rate=0.01, max_depth=3, min_samples_leaf=3, min_samples_split=2, n_estimators=200, score=0.32103271887325713, total=  38.0s\n",
      "[CV] learning_rate=0.01, max_depth=3, min_samples_leaf=3, min_samples_split=2, n_estimators=200 \n",
      "[CV]  learning_rate=0.01, max_depth=3, min_samples_leaf=3, min_samples_split=2, n_estimators=200, score=0.32048658360741283, total=  38.3s\n",
      "[CV] learning_rate=0.01, max_depth=3, min_samples_leaf=3, min_samples_split=5, n_estimators=50 \n"
     ]
    },
    {
     "name": "stderr",
     "output_type": "stream",
     "text": [
      "/anaconda3/lib/python3.7/site-packages/sklearn/metrics/classification.py:1143: UndefinedMetricWarning: F-score is ill-defined and being set to 0.0 in labels with no predicted samples.\n",
      "  'precision', 'predicted', average, warn_for)\n",
      "/anaconda3/lib/python3.7/site-packages/sklearn/metrics/classification.py:1143: UndefinedMetricWarning: F-score is ill-defined and being set to 0.0 in labels with no predicted samples.\n",
      "  'precision', 'predicted', average, warn_for)\n"
     ]
    },
    {
     "name": "stdout",
     "output_type": "stream",
     "text": [
      "[CV]  learning_rate=0.01, max_depth=3, min_samples_leaf=3, min_samples_split=5, n_estimators=50, score=0.3026594253926677, total=  10.1s\n",
      "[CV] learning_rate=0.01, max_depth=3, min_samples_leaf=3, min_samples_split=5, n_estimators=50 \n"
     ]
    },
    {
     "name": "stderr",
     "output_type": "stream",
     "text": [
      "/anaconda3/lib/python3.7/site-packages/sklearn/metrics/classification.py:1143: UndefinedMetricWarning: F-score is ill-defined and being set to 0.0 in labels with no predicted samples.\n",
      "  'precision', 'predicted', average, warn_for)\n",
      "/anaconda3/lib/python3.7/site-packages/sklearn/metrics/classification.py:1143: UndefinedMetricWarning: F-score is ill-defined and being set to 0.0 in labels with no predicted samples.\n",
      "  'precision', 'predicted', average, warn_for)\n"
     ]
    },
    {
     "name": "stdout",
     "output_type": "stream",
     "text": [
      "[CV]  learning_rate=0.01, max_depth=3, min_samples_leaf=3, min_samples_split=5, n_estimators=50, score=0.29462323461721523, total=   9.7s\n",
      "[CV] learning_rate=0.01, max_depth=3, min_samples_leaf=3, min_samples_split=5, n_estimators=50 \n"
     ]
    },
    {
     "name": "stderr",
     "output_type": "stream",
     "text": [
      "/anaconda3/lib/python3.7/site-packages/sklearn/metrics/classification.py:1143: UndefinedMetricWarning: F-score is ill-defined and being set to 0.0 in labels with no predicted samples.\n",
      "  'precision', 'predicted', average, warn_for)\n",
      "/anaconda3/lib/python3.7/site-packages/sklearn/metrics/classification.py:1143: UndefinedMetricWarning: F-score is ill-defined and being set to 0.0 in labels with no predicted samples.\n",
      "  'precision', 'predicted', average, warn_for)\n"
     ]
    },
    {
     "name": "stdout",
     "output_type": "stream",
     "text": [
      "[CV]  learning_rate=0.01, max_depth=3, min_samples_leaf=3, min_samples_split=5, n_estimators=50, score=0.3018696880884922, total=   9.8s\n",
      "[CV] learning_rate=0.01, max_depth=3, min_samples_leaf=3, min_samples_split=5, n_estimators=100 \n"
     ]
    },
    {
     "name": "stderr",
     "output_type": "stream",
     "text": [
      "/anaconda3/lib/python3.7/site-packages/sklearn/metrics/classification.py:1143: UndefinedMetricWarning: F-score is ill-defined and being set to 0.0 in labels with no predicted samples.\n",
      "  'precision', 'predicted', average, warn_for)\n",
      "/anaconda3/lib/python3.7/site-packages/sklearn/metrics/classification.py:1143: UndefinedMetricWarning: F-score is ill-defined and being set to 0.0 in labels with no predicted samples.\n",
      "  'precision', 'predicted', average, warn_for)\n"
     ]
    },
    {
     "name": "stdout",
     "output_type": "stream",
     "text": [
      "[CV]  learning_rate=0.01, max_depth=3, min_samples_leaf=3, min_samples_split=5, n_estimators=100, score=0.3144051618289685, total=  20.3s\n",
      "[CV] learning_rate=0.01, max_depth=3, min_samples_leaf=3, min_samples_split=5, n_estimators=100 \n",
      "[CV]  learning_rate=0.01, max_depth=3, min_samples_leaf=3, min_samples_split=5, n_estimators=100, score=0.3050426722858091, total=  19.7s\n",
      "[CV] learning_rate=0.01, max_depth=3, min_samples_leaf=3, min_samples_split=5, n_estimators=100 \n"
     ]
    },
    {
     "name": "stderr",
     "output_type": "stream",
     "text": [
      "/anaconda3/lib/python3.7/site-packages/sklearn/metrics/classification.py:1143: UndefinedMetricWarning: F-score is ill-defined and being set to 0.0 in labels with no predicted samples.\n",
      "  'precision', 'predicted', average, warn_for)\n",
      "/anaconda3/lib/python3.7/site-packages/sklearn/metrics/classification.py:1143: UndefinedMetricWarning: F-score is ill-defined and being set to 0.0 in labels with no predicted samples.\n",
      "  'precision', 'predicted', average, warn_for)\n"
     ]
    },
    {
     "name": "stdout",
     "output_type": "stream",
     "text": [
      "[CV]  learning_rate=0.01, max_depth=3, min_samples_leaf=3, min_samples_split=5, n_estimators=100, score=0.3109338589353703, total=  19.7s\n",
      "[CV] learning_rate=0.01, max_depth=3, min_samples_leaf=3, min_samples_split=5, n_estimators=200 \n",
      "[CV]  learning_rate=0.01, max_depth=3, min_samples_leaf=3, min_samples_split=5, n_estimators=200, score=0.31976666157620465, total=  39.2s\n",
      "[CV] learning_rate=0.01, max_depth=3, min_samples_leaf=3, min_samples_split=5, n_estimators=200 \n",
      "[CV]  learning_rate=0.01, max_depth=3, min_samples_leaf=3, min_samples_split=5, n_estimators=200, score=0.32103271887325713, total=  38.2s\n",
      "[CV] learning_rate=0.01, max_depth=3, min_samples_leaf=3, min_samples_split=5, n_estimators=200 \n",
      "[CV]  learning_rate=0.01, max_depth=3, min_samples_leaf=3, min_samples_split=5, n_estimators=200, score=0.32048658360741283, total=  38.3s\n",
      "[CV] learning_rate=0.01, max_depth=3, min_samples_leaf=5, min_samples_split=2, n_estimators=50 \n"
     ]
    },
    {
     "name": "stderr",
     "output_type": "stream",
     "text": [
      "/anaconda3/lib/python3.7/site-packages/sklearn/metrics/classification.py:1143: UndefinedMetricWarning: F-score is ill-defined and being set to 0.0 in labels with no predicted samples.\n",
      "  'precision', 'predicted', average, warn_for)\n",
      "/anaconda3/lib/python3.7/site-packages/sklearn/metrics/classification.py:1143: UndefinedMetricWarning: F-score is ill-defined and being set to 0.0 in labels with no predicted samples.\n",
      "  'precision', 'predicted', average, warn_for)\n"
     ]
    },
    {
     "name": "stdout",
     "output_type": "stream",
     "text": [
      "[CV]  learning_rate=0.01, max_depth=3, min_samples_leaf=5, min_samples_split=2, n_estimators=50, score=0.3026594253926677, total=  10.4s\n",
      "[CV] learning_rate=0.01, max_depth=3, min_samples_leaf=5, min_samples_split=2, n_estimators=50 \n"
     ]
    },
    {
     "name": "stderr",
     "output_type": "stream",
     "text": [
      "/anaconda3/lib/python3.7/site-packages/sklearn/metrics/classification.py:1143: UndefinedMetricWarning: F-score is ill-defined and being set to 0.0 in labels with no predicted samples.\n",
      "  'precision', 'predicted', average, warn_for)\n",
      "/anaconda3/lib/python3.7/site-packages/sklearn/metrics/classification.py:1143: UndefinedMetricWarning: F-score is ill-defined and being set to 0.0 in labels with no predicted samples.\n",
      "  'precision', 'predicted', average, warn_for)\n"
     ]
    },
    {
     "name": "stdout",
     "output_type": "stream",
     "text": [
      "[CV]  learning_rate=0.01, max_depth=3, min_samples_leaf=5, min_samples_split=2, n_estimators=50, score=0.29462323461721523, total=   9.5s\n",
      "[CV] learning_rate=0.01, max_depth=3, min_samples_leaf=5, min_samples_split=2, n_estimators=50 \n"
     ]
    },
    {
     "name": "stderr",
     "output_type": "stream",
     "text": [
      "/anaconda3/lib/python3.7/site-packages/sklearn/metrics/classification.py:1143: UndefinedMetricWarning: F-score is ill-defined and being set to 0.0 in labels with no predicted samples.\n",
      "  'precision', 'predicted', average, warn_for)\n",
      "/anaconda3/lib/python3.7/site-packages/sklearn/metrics/classification.py:1143: UndefinedMetricWarning: F-score is ill-defined and being set to 0.0 in labels with no predicted samples.\n",
      "  'precision', 'predicted', average, warn_for)\n"
     ]
    },
    {
     "name": "stdout",
     "output_type": "stream",
     "text": [
      "[CV]  learning_rate=0.01, max_depth=3, min_samples_leaf=5, min_samples_split=2, n_estimators=50, score=0.3018696880884922, total=   9.6s\n",
      "[CV] learning_rate=0.01, max_depth=3, min_samples_leaf=5, min_samples_split=2, n_estimators=100 \n"
     ]
    },
    {
     "name": "stderr",
     "output_type": "stream",
     "text": [
      "/anaconda3/lib/python3.7/site-packages/sklearn/metrics/classification.py:1143: UndefinedMetricWarning: F-score is ill-defined and being set to 0.0 in labels with no predicted samples.\n",
      "  'precision', 'predicted', average, warn_for)\n",
      "/anaconda3/lib/python3.7/site-packages/sklearn/metrics/classification.py:1143: UndefinedMetricWarning: F-score is ill-defined and being set to 0.0 in labels with no predicted samples.\n",
      "  'precision', 'predicted', average, warn_for)\n"
     ]
    },
    {
     "name": "stdout",
     "output_type": "stream",
     "text": [
      "[CV]  learning_rate=0.01, max_depth=3, min_samples_leaf=5, min_samples_split=2, n_estimators=100, score=0.3144051618289685, total=  19.1s\n",
      "[CV] learning_rate=0.01, max_depth=3, min_samples_leaf=5, min_samples_split=2, n_estimators=100 \n",
      "[CV]  learning_rate=0.01, max_depth=3, min_samples_leaf=5, min_samples_split=2, n_estimators=100, score=0.3050426722858091, total=  19.3s\n",
      "[CV] learning_rate=0.01, max_depth=3, min_samples_leaf=5, min_samples_split=2, n_estimators=100 \n"
     ]
    },
    {
     "name": "stderr",
     "output_type": "stream",
     "text": [
      "/anaconda3/lib/python3.7/site-packages/sklearn/metrics/classification.py:1143: UndefinedMetricWarning: F-score is ill-defined and being set to 0.0 in labels with no predicted samples.\n",
      "  'precision', 'predicted', average, warn_for)\n",
      "/anaconda3/lib/python3.7/site-packages/sklearn/metrics/classification.py:1143: UndefinedMetricWarning: F-score is ill-defined and being set to 0.0 in labels with no predicted samples.\n",
      "  'precision', 'predicted', average, warn_for)\n"
     ]
    },
    {
     "name": "stdout",
     "output_type": "stream",
     "text": [
      "[CV]  learning_rate=0.01, max_depth=3, min_samples_leaf=5, min_samples_split=2, n_estimators=100, score=0.3109338589353703, total=  19.0s\n",
      "[CV] learning_rate=0.01, max_depth=3, min_samples_leaf=5, min_samples_split=2, n_estimators=200 \n",
      "[CV]  learning_rate=0.01, max_depth=3, min_samples_leaf=5, min_samples_split=2, n_estimators=200, score=0.3196936469380838, total=  35.6s\n",
      "[CV] learning_rate=0.01, max_depth=3, min_samples_leaf=5, min_samples_split=2, n_estimators=200 \n",
      "[CV]  learning_rate=0.01, max_depth=3, min_samples_leaf=5, min_samples_split=2, n_estimators=200, score=0.32103271887325713, total=  32.7s\n",
      "[CV] learning_rate=0.01, max_depth=3, min_samples_leaf=5, min_samples_split=2, n_estimators=200 \n",
      "[CV]  learning_rate=0.01, max_depth=3, min_samples_leaf=5, min_samples_split=2, n_estimators=200, score=0.3202084107909459, total=  35.1s\n",
      "[CV] learning_rate=0.01, max_depth=3, min_samples_leaf=5, min_samples_split=5, n_estimators=50 \n"
     ]
    },
    {
     "name": "stderr",
     "output_type": "stream",
     "text": [
      "/anaconda3/lib/python3.7/site-packages/sklearn/metrics/classification.py:1143: UndefinedMetricWarning: F-score is ill-defined and being set to 0.0 in labels with no predicted samples.\n",
      "  'precision', 'predicted', average, warn_for)\n",
      "/anaconda3/lib/python3.7/site-packages/sklearn/metrics/classification.py:1143: UndefinedMetricWarning: F-score is ill-defined and being set to 0.0 in labels with no predicted samples.\n",
      "  'precision', 'predicted', average, warn_for)\n"
     ]
    },
    {
     "name": "stdout",
     "output_type": "stream",
     "text": [
      "[CV]  learning_rate=0.01, max_depth=3, min_samples_leaf=5, min_samples_split=5, n_estimators=50, score=0.3026594253926677, total=   9.7s\n",
      "[CV] learning_rate=0.01, max_depth=3, min_samples_leaf=5, min_samples_split=5, n_estimators=50 \n"
     ]
    },
    {
     "name": "stderr",
     "output_type": "stream",
     "text": [
      "/anaconda3/lib/python3.7/site-packages/sklearn/metrics/classification.py:1143: UndefinedMetricWarning: F-score is ill-defined and being set to 0.0 in labels with no predicted samples.\n",
      "  'precision', 'predicted', average, warn_for)\n",
      "/anaconda3/lib/python3.7/site-packages/sklearn/metrics/classification.py:1143: UndefinedMetricWarning: F-score is ill-defined and being set to 0.0 in labels with no predicted samples.\n",
      "  'precision', 'predicted', average, warn_for)\n"
     ]
    },
    {
     "name": "stdout",
     "output_type": "stream",
     "text": [
      "[CV]  learning_rate=0.01, max_depth=3, min_samples_leaf=5, min_samples_split=5, n_estimators=50, score=0.29462323461721523, total=   9.5s\n",
      "[CV] learning_rate=0.01, max_depth=3, min_samples_leaf=5, min_samples_split=5, n_estimators=50 \n"
     ]
    },
    {
     "name": "stderr",
     "output_type": "stream",
     "text": [
      "/anaconda3/lib/python3.7/site-packages/sklearn/metrics/classification.py:1143: UndefinedMetricWarning: F-score is ill-defined and being set to 0.0 in labels with no predicted samples.\n",
      "  'precision', 'predicted', average, warn_for)\n",
      "/anaconda3/lib/python3.7/site-packages/sklearn/metrics/classification.py:1143: UndefinedMetricWarning: F-score is ill-defined and being set to 0.0 in labels with no predicted samples.\n",
      "  'precision', 'predicted', average, warn_for)\n"
     ]
    },
    {
     "name": "stdout",
     "output_type": "stream",
     "text": [
      "[CV]  learning_rate=0.01, max_depth=3, min_samples_leaf=5, min_samples_split=5, n_estimators=50, score=0.3018696880884922, total=   9.9s\n",
      "[CV] learning_rate=0.01, max_depth=3, min_samples_leaf=5, min_samples_split=5, n_estimators=100 \n"
     ]
    },
    {
     "name": "stderr",
     "output_type": "stream",
     "text": [
      "/anaconda3/lib/python3.7/site-packages/sklearn/metrics/classification.py:1143: UndefinedMetricWarning: F-score is ill-defined and being set to 0.0 in labels with no predicted samples.\n",
      "  'precision', 'predicted', average, warn_for)\n",
      "/anaconda3/lib/python3.7/site-packages/sklearn/metrics/classification.py:1143: UndefinedMetricWarning: F-score is ill-defined and being set to 0.0 in labels with no predicted samples.\n",
      "  'precision', 'predicted', average, warn_for)\n"
     ]
    },
    {
     "name": "stdout",
     "output_type": "stream",
     "text": [
      "[CV]  learning_rate=0.01, max_depth=3, min_samples_leaf=5, min_samples_split=5, n_estimators=100, score=0.3144051618289685, total=  18.9s\n",
      "[CV] learning_rate=0.01, max_depth=3, min_samples_leaf=5, min_samples_split=5, n_estimators=100 \n",
      "[CV]  learning_rate=0.01, max_depth=3, min_samples_leaf=5, min_samples_split=5, n_estimators=100, score=0.3050426722858091, total=  19.3s\n",
      "[CV] learning_rate=0.01, max_depth=3, min_samples_leaf=5, min_samples_split=5, n_estimators=100 \n"
     ]
    },
    {
     "name": "stderr",
     "output_type": "stream",
     "text": [
      "/anaconda3/lib/python3.7/site-packages/sklearn/metrics/classification.py:1143: UndefinedMetricWarning: F-score is ill-defined and being set to 0.0 in labels with no predicted samples.\n",
      "  'precision', 'predicted', average, warn_for)\n",
      "/anaconda3/lib/python3.7/site-packages/sklearn/metrics/classification.py:1143: UndefinedMetricWarning: F-score is ill-defined and being set to 0.0 in labels with no predicted samples.\n",
      "  'precision', 'predicted', average, warn_for)\n"
     ]
    },
    {
     "name": "stdout",
     "output_type": "stream",
     "text": [
      "[CV]  learning_rate=0.01, max_depth=3, min_samples_leaf=5, min_samples_split=5, n_estimators=100, score=0.3109338589353703, total=  20.6s\n",
      "[CV] learning_rate=0.01, max_depth=3, min_samples_leaf=5, min_samples_split=5, n_estimators=200 \n",
      "[CV]  learning_rate=0.01, max_depth=3, min_samples_leaf=5, min_samples_split=5, n_estimators=200, score=0.3196936469380838, total=  37.8s\n",
      "[CV] learning_rate=0.01, max_depth=3, min_samples_leaf=5, min_samples_split=5, n_estimators=200 \n",
      "[CV]  learning_rate=0.01, max_depth=3, min_samples_leaf=5, min_samples_split=5, n_estimators=200, score=0.32103271887325713, total=  37.3s\n",
      "[CV] learning_rate=0.01, max_depth=3, min_samples_leaf=5, min_samples_split=5, n_estimators=200 \n",
      "[CV]  learning_rate=0.01, max_depth=3, min_samples_leaf=5, min_samples_split=5, n_estimators=200, score=0.3202084107909459, total=  38.2s\n",
      "[CV] learning_rate=0.01, max_depth=6, min_samples_leaf=1, min_samples_split=2, n_estimators=50 \n",
      "[CV]  learning_rate=0.01, max_depth=6, min_samples_leaf=1, min_samples_split=2, n_estimators=50, score=0.31830818329953603, total=  25.6s\n",
      "[CV] learning_rate=0.01, max_depth=6, min_samples_leaf=1, min_samples_split=2, n_estimators=50 \n",
      "[CV]  learning_rate=0.01, max_depth=6, min_samples_leaf=1, min_samples_split=2, n_estimators=50, score=0.3082753997442753, total=  25.6s\n",
      "[CV] learning_rate=0.01, max_depth=6, min_samples_leaf=1, min_samples_split=2, n_estimators=50 \n",
      "[CV]  learning_rate=0.01, max_depth=6, min_samples_leaf=1, min_samples_split=2, n_estimators=50, score=0.3115474967412026, total=  25.4s\n",
      "[CV] learning_rate=0.01, max_depth=6, min_samples_leaf=1, min_samples_split=2, n_estimators=100 \n",
      "[CV]  learning_rate=0.01, max_depth=6, min_samples_leaf=1, min_samples_split=2, n_estimators=100, score=0.32903913560246406, total=  51.3s\n",
      "[CV] learning_rate=0.01, max_depth=6, min_samples_leaf=1, min_samples_split=2, n_estimators=100 \n",
      "[CV]  learning_rate=0.01, max_depth=6, min_samples_leaf=1, min_samples_split=2, n_estimators=100, score=0.3243536876252593, total=  50.1s\n",
      "[CV] learning_rate=0.01, max_depth=6, min_samples_leaf=1, min_samples_split=2, n_estimators=100 \n",
      "[CV]  learning_rate=0.01, max_depth=6, min_samples_leaf=1, min_samples_split=2, n_estimators=100, score=0.3238784856218906, total=  52.0s\n",
      "[CV] learning_rate=0.01, max_depth=6, min_samples_leaf=1, min_samples_split=2, n_estimators=200 \n",
      "[CV]  learning_rate=0.01, max_depth=6, min_samples_leaf=1, min_samples_split=2, n_estimators=200, score=0.3383472158610539, total= 1.6min\n",
      "[CV] learning_rate=0.01, max_depth=6, min_samples_leaf=1, min_samples_split=2, n_estimators=200 \n",
      "[CV]  learning_rate=0.01, max_depth=6, min_samples_leaf=1, min_samples_split=2, n_estimators=200, score=0.33648174561456373, total= 1.7min\n",
      "[CV] learning_rate=0.01, max_depth=6, min_samples_leaf=1, min_samples_split=2, n_estimators=200 \n",
      "[CV]  learning_rate=0.01, max_depth=6, min_samples_leaf=1, min_samples_split=2, n_estimators=200, score=0.3353450128119633, total= 1.7min\n",
      "[CV] learning_rate=0.01, max_depth=6, min_samples_leaf=1, min_samples_split=5, n_estimators=50 \n",
      "[CV]  learning_rate=0.01, max_depth=6, min_samples_leaf=1, min_samples_split=5, n_estimators=50, score=0.31826806998520857, total=  24.5s\n",
      "[CV] learning_rate=0.01, max_depth=6, min_samples_leaf=1, min_samples_split=5, n_estimators=50 \n",
      "[CV]  learning_rate=0.01, max_depth=6, min_samples_leaf=1, min_samples_split=5, n_estimators=50, score=0.3082541173788366, total=  25.3s\n",
      "[CV] learning_rate=0.01, max_depth=6, min_samples_leaf=1, min_samples_split=5, n_estimators=50 \n",
      "[CV]  learning_rate=0.01, max_depth=6, min_samples_leaf=1, min_samples_split=5, n_estimators=50, score=0.3124179593581696, total=  24.5s\n",
      "[CV] learning_rate=0.01, max_depth=6, min_samples_leaf=1, min_samples_split=5, n_estimators=100 \n",
      "[CV]  learning_rate=0.01, max_depth=6, min_samples_leaf=1, min_samples_split=5, n_estimators=100, score=0.3273333046898467, total=  50.2s\n",
      "[CV] learning_rate=0.01, max_depth=6, min_samples_leaf=1, min_samples_split=5, n_estimators=100 \n",
      "[CV]  learning_rate=0.01, max_depth=6, min_samples_leaf=1, min_samples_split=5, n_estimators=100, score=0.3240799626480588, total=  52.4s\n",
      "[CV] learning_rate=0.01, max_depth=6, min_samples_leaf=1, min_samples_split=5, n_estimators=100 \n",
      "[CV]  learning_rate=0.01, max_depth=6, min_samples_leaf=1, min_samples_split=5, n_estimators=100, score=0.3240476582385548, total=  51.4s\n",
      "[CV] learning_rate=0.01, max_depth=6, min_samples_leaf=1, min_samples_split=5, n_estimators=200 \n",
      "[CV]  learning_rate=0.01, max_depth=6, min_samples_leaf=1, min_samples_split=5, n_estimators=200, score=0.3401251728179142, total= 1.7min\n",
      "[CV] learning_rate=0.01, max_depth=6, min_samples_leaf=1, min_samples_split=5, n_estimators=200 \n",
      "[CV]  learning_rate=0.01, max_depth=6, min_samples_leaf=1, min_samples_split=5, n_estimators=200, score=0.33590555998826516, total= 1.5min\n",
      "[CV] learning_rate=0.01, max_depth=6, min_samples_leaf=1, min_samples_split=5, n_estimators=200 \n",
      "[CV]  learning_rate=0.01, max_depth=6, min_samples_leaf=1, min_samples_split=5, n_estimators=200, score=0.33559114580824523, total= 1.4min\n",
      "[CV] learning_rate=0.01, max_depth=6, min_samples_leaf=3, min_samples_split=2, n_estimators=50 \n",
      "[CV]  learning_rate=0.01, max_depth=6, min_samples_leaf=3, min_samples_split=2, n_estimators=50, score=0.3193269993554589, total=  21.8s\n",
      "[CV] learning_rate=0.01, max_depth=6, min_samples_leaf=3, min_samples_split=2, n_estimators=50 \n",
      "[CV]  learning_rate=0.01, max_depth=6, min_samples_leaf=3, min_samples_split=2, n_estimators=50, score=0.3086703206681842, total=  24.0s\n",
      "[CV] learning_rate=0.01, max_depth=6, min_samples_leaf=3, min_samples_split=2, n_estimators=50 \n",
      "[CV]  learning_rate=0.01, max_depth=6, min_samples_leaf=3, min_samples_split=2, n_estimators=50, score=0.3117642242995728, total=  22.0s\n",
      "[CV] learning_rate=0.01, max_depth=6, min_samples_leaf=3, min_samples_split=2, n_estimators=100 \n",
      "[CV]  learning_rate=0.01, max_depth=6, min_samples_leaf=3, min_samples_split=2, n_estimators=100, score=0.32824443145234394, total=  42.7s\n",
      "[CV] learning_rate=0.01, max_depth=6, min_samples_leaf=3, min_samples_split=2, n_estimators=100 \n",
      "[CV]  learning_rate=0.01, max_depth=6, min_samples_leaf=3, min_samples_split=2, n_estimators=100, score=0.3245498250005145, total=  42.3s\n",
      "[CV] learning_rate=0.01, max_depth=6, min_samples_leaf=3, min_samples_split=2, n_estimators=100 \n",
      "[CV]  learning_rate=0.01, max_depth=6, min_samples_leaf=3, min_samples_split=2, n_estimators=100, score=0.32358957715186804, total=  41.9s\n",
      "[CV] learning_rate=0.01, max_depth=6, min_samples_leaf=3, min_samples_split=2, n_estimators=200 \n",
      "[CV]  learning_rate=0.01, max_depth=6, min_samples_leaf=3, min_samples_split=2, n_estimators=200, score=0.34009468720942976, total= 1.4min\n",
      "[CV] learning_rate=0.01, max_depth=6, min_samples_leaf=3, min_samples_split=2, n_estimators=200 \n",
      "[CV]  learning_rate=0.01, max_depth=6, min_samples_leaf=3, min_samples_split=2, n_estimators=200, score=0.3353462222796682, total= 1.4min\n",
      "[CV] learning_rate=0.01, max_depth=6, min_samples_leaf=3, min_samples_split=2, n_estimators=200 \n",
      "[CV]  learning_rate=0.01, max_depth=6, min_samples_leaf=3, min_samples_split=2, n_estimators=200, score=0.3364725754324101, total= 1.4min\n",
      "[CV] learning_rate=0.01, max_depth=6, min_samples_leaf=3, min_samples_split=5, n_estimators=50 \n",
      "[CV]  learning_rate=0.01, max_depth=6, min_samples_leaf=3, min_samples_split=5, n_estimators=50, score=0.3193269993554589, total=  21.9s\n",
      "[CV] learning_rate=0.01, max_depth=6, min_samples_leaf=3, min_samples_split=5, n_estimators=50 \n",
      "[CV]  learning_rate=0.01, max_depth=6, min_samples_leaf=3, min_samples_split=5, n_estimators=50, score=0.3086703206681842, total=  21.9s\n",
      "[CV] learning_rate=0.01, max_depth=6, min_samples_leaf=3, min_samples_split=5, n_estimators=50 \n",
      "[CV]  learning_rate=0.01, max_depth=6, min_samples_leaf=3, min_samples_split=5, n_estimators=50, score=0.31144122822860615, total=  22.0s\n",
      "[CV] learning_rate=0.01, max_depth=6, min_samples_leaf=3, min_samples_split=5, n_estimators=100 \n",
      "[CV]  learning_rate=0.01, max_depth=6, min_samples_leaf=3, min_samples_split=5, n_estimators=100, score=0.32824443145234394, total=  41.9s\n",
      "[CV] learning_rate=0.01, max_depth=6, min_samples_leaf=3, min_samples_split=5, n_estimators=100 \n"
     ]
    },
    {
     "name": "stdout",
     "output_type": "stream",
     "text": [
      "[CV]  learning_rate=0.01, max_depth=6, min_samples_leaf=3, min_samples_split=5, n_estimators=100, score=0.32449474885329005, total=  41.8s\n",
      "[CV] learning_rate=0.01, max_depth=6, min_samples_leaf=3, min_samples_split=5, n_estimators=100 \n",
      "[CV]  learning_rate=0.01, max_depth=6, min_samples_leaf=3, min_samples_split=5, n_estimators=100, score=0.32358957715186804, total=  43.5s\n",
      "[CV] learning_rate=0.01, max_depth=6, min_samples_leaf=3, min_samples_split=5, n_estimators=200 \n",
      "[CV]  learning_rate=0.01, max_depth=6, min_samples_leaf=3, min_samples_split=5, n_estimators=200, score=0.3400699010924683, total= 1.4min\n",
      "[CV] learning_rate=0.01, max_depth=6, min_samples_leaf=3, min_samples_split=5, n_estimators=200 \n",
      "[CV]  learning_rate=0.01, max_depth=6, min_samples_leaf=3, min_samples_split=5, n_estimators=200, score=0.3354254820403215, total= 1.4min\n",
      "[CV] learning_rate=0.01, max_depth=6, min_samples_leaf=3, min_samples_split=5, n_estimators=200 \n",
      "[CV]  learning_rate=0.01, max_depth=6, min_samples_leaf=3, min_samples_split=5, n_estimators=200, score=0.3365244279517401, total= 1.4min\n",
      "[CV] learning_rate=0.01, max_depth=6, min_samples_leaf=5, min_samples_split=2, n_estimators=50 \n",
      "[CV]  learning_rate=0.01, max_depth=6, min_samples_leaf=5, min_samples_split=2, n_estimators=50, score=0.318686414013835, total=  23.4s\n",
      "[CV] learning_rate=0.01, max_depth=6, min_samples_leaf=5, min_samples_split=2, n_estimators=50 \n",
      "[CV]  learning_rate=0.01, max_depth=6, min_samples_leaf=5, min_samples_split=2, n_estimators=50, score=0.30963057704491814, total=  23.1s\n",
      "[CV] learning_rate=0.01, max_depth=6, min_samples_leaf=5, min_samples_split=2, n_estimators=50 \n",
      "[CV]  learning_rate=0.01, max_depth=6, min_samples_leaf=5, min_samples_split=2, n_estimators=50, score=0.3109508456445576, total=  22.3s\n",
      "[CV] learning_rate=0.01, max_depth=6, min_samples_leaf=5, min_samples_split=2, n_estimators=100 \n",
      "[CV]  learning_rate=0.01, max_depth=6, min_samples_leaf=5, min_samples_split=2, n_estimators=100, score=0.32742250208972706, total=  42.4s\n",
      "[CV] learning_rate=0.01, max_depth=6, min_samples_leaf=5, min_samples_split=2, n_estimators=100 \n",
      "[CV]  learning_rate=0.01, max_depth=6, min_samples_leaf=5, min_samples_split=2, n_estimators=100, score=0.32372233370671327, total=  43.0s\n",
      "[CV] learning_rate=0.01, max_depth=6, min_samples_leaf=5, min_samples_split=2, n_estimators=100 \n",
      "[CV]  learning_rate=0.01, max_depth=6, min_samples_leaf=5, min_samples_split=2, n_estimators=100, score=0.3239120648997023, total=  41.6s\n",
      "[CV] learning_rate=0.01, max_depth=6, min_samples_leaf=5, min_samples_split=2, n_estimators=200 \n",
      "[CV]  learning_rate=0.01, max_depth=6, min_samples_leaf=5, min_samples_split=2, n_estimators=200, score=0.34060013312012827, total= 1.4min\n",
      "[CV] learning_rate=0.01, max_depth=6, min_samples_leaf=5, min_samples_split=2, n_estimators=200 \n",
      "[CV]  learning_rate=0.01, max_depth=6, min_samples_leaf=5, min_samples_split=2, n_estimators=200, score=0.3355671885350764, total= 1.5min\n",
      "[CV] learning_rate=0.01, max_depth=6, min_samples_leaf=5, min_samples_split=2, n_estimators=200 \n",
      "[CV]  learning_rate=0.01, max_depth=6, min_samples_leaf=5, min_samples_split=2, n_estimators=200, score=0.3367165254148004, total= 1.4min\n",
      "[CV] learning_rate=0.01, max_depth=6, min_samples_leaf=5, min_samples_split=5, n_estimators=50 \n",
      "[CV]  learning_rate=0.01, max_depth=6, min_samples_leaf=5, min_samples_split=5, n_estimators=50, score=0.31918409469100645, total=  22.3s\n",
      "[CV] learning_rate=0.01, max_depth=6, min_samples_leaf=5, min_samples_split=5, n_estimators=50 \n",
      "[CV]  learning_rate=0.01, max_depth=6, min_samples_leaf=5, min_samples_split=5, n_estimators=50, score=0.30963057704491814, total=  22.6s\n",
      "[CV] learning_rate=0.01, max_depth=6, min_samples_leaf=5, min_samples_split=5, n_estimators=50 \n",
      "[CV]  learning_rate=0.01, max_depth=6, min_samples_leaf=5, min_samples_split=5, n_estimators=50, score=0.3109508456445576, total=  22.7s\n",
      "[CV] learning_rate=0.01, max_depth=6, min_samples_leaf=5, min_samples_split=5, n_estimators=100 \n",
      "[CV]  learning_rate=0.01, max_depth=6, min_samples_leaf=5, min_samples_split=5, n_estimators=100, score=0.32742250208972706, total=  43.6s\n",
      "[CV] learning_rate=0.01, max_depth=6, min_samples_leaf=5, min_samples_split=5, n_estimators=100 \n",
      "[CV]  learning_rate=0.01, max_depth=6, min_samples_leaf=5, min_samples_split=5, n_estimators=100, score=0.32372233370671327, total=  43.4s\n",
      "[CV] learning_rate=0.01, max_depth=6, min_samples_leaf=5, min_samples_split=5, n_estimators=100 \n",
      "[CV]  learning_rate=0.01, max_depth=6, min_samples_leaf=5, min_samples_split=5, n_estimators=100, score=0.3239120648997023, total=  41.7s\n",
      "[CV] learning_rate=0.01, max_depth=6, min_samples_leaf=5, min_samples_split=5, n_estimators=200 \n",
      "[CV]  learning_rate=0.01, max_depth=6, min_samples_leaf=5, min_samples_split=5, n_estimators=200, score=0.34060013312012827, total= 1.4min\n",
      "[CV] learning_rate=0.01, max_depth=6, min_samples_leaf=5, min_samples_split=5, n_estimators=200 \n",
      "[CV]  learning_rate=0.01, max_depth=6, min_samples_leaf=5, min_samples_split=5, n_estimators=200, score=0.3355671885350764, total= 1.4min\n",
      "[CV] learning_rate=0.01, max_depth=6, min_samples_leaf=5, min_samples_split=5, n_estimators=200 \n",
      "[CV]  learning_rate=0.01, max_depth=6, min_samples_leaf=5, min_samples_split=5, n_estimators=200, score=0.3367165254148004, total= 1.4min\n"
     ]
    },
    {
     "name": "stderr",
     "output_type": "stream",
     "text": [
      "[Parallel(n_jobs=1)]: Done 486 out of 486 | elapsed: 204.5min finished\n"
     ]
    },
    {
     "data": {
      "text/plain": [
       "GridSearchCV(cv=3, error_score='raise-deprecating',\n",
       "       estimator=GradientBoostingClassifier(criterion='friedman_mse', init=None,\n",
       "              learning_rate=0.1, loss='deviance', max_depth=3,\n",
       "              max_features=None, max_leaf_nodes=None,\n",
       "              min_impurity_decrease=0.0, min_impurity_split=None,\n",
       "              min_samples_leaf=1, min_sampl...      subsample=1.0, tol=0.0001, validation_fraction=0.1,\n",
       "              verbose=0, warm_start=False),\n",
       "       fit_params=None, iid='warn', n_jobs=None,\n",
       "       param_grid={'n_estimators': [50, 100, 200], 'learning_rate': [1, 0.1, 0.01], 'max_depth': [1, 3, 6], 'min_samples_split': [2, 5], 'min_samples_leaf': [1, 3, 5]},\n",
       "       pre_dispatch='2*n_jobs', refit=True, return_train_score=True,\n",
       "       scoring='f1_macro', verbose=5)"
      ]
     },
     "execution_count": 17,
     "metadata": {},
     "output_type": "execute_result"
    }
   ],
   "source": [
    "#search = RandomizedSearchCV(clf, params, n_iter=20, cv=3, return_train_score=True, verbose=5, scoring='f1_macro')\n",
    "search = GridSearchCV(clf, params, cv=3, return_train_score=True, verbose=5, scoring='f1_macro')\n",
    "\n",
    "\n",
    "search.fit(X,y)"
   ]
  },
  {
   "cell_type": "markdown",
   "metadata": {},
   "source": [
    "### Tuned Results"
   ]
  },
  {
   "cell_type": "code",
   "execution_count": 18,
   "metadata": {},
   "outputs": [
    {
     "name": "stdout",
     "output_type": "stream",
     "text": [
      "Mean Training Score: 0.42711659825678344\n",
      "Mean Testing Score: 0.5902743399395555\n",
      "\n",
      "Best Parameter Found:\n"
     ]
    },
    {
     "data": {
      "text/plain": [
       "{'learning_rate': 1,\n",
       " 'max_depth': 6,\n",
       " 'min_samples_leaf': 3,\n",
       " 'min_samples_split': 2,\n",
       " 'n_estimators': 50}"
      ]
     },
     "execution_count": 18,
     "metadata": {},
     "output_type": "execute_result"
    }
   ],
   "source": [
    "print(\"Mean Training Score:\", np.mean(search.cv_results_['mean_train_score']))\n",
    "print(\"Mean Testing Score:\", search.score(X, y))\n",
    "print(\"\\nBest Parameter Found:\")\n",
    "search.best_params_"
   ]
  },
  {
   "cell_type": "markdown",
   "metadata": {},
   "source": [
    "### Model with the Best Parameters"
   ]
  },
  {
   "cell_type": "code",
   "execution_count": 19,
   "metadata": {},
   "outputs": [
    {
     "data": {
      "text/plain": [
       "GradientBoostingClassifier(criterion='friedman_mse', init=None,\n",
       "              learning_rate=1, loss='deviance', max_depth=6,\n",
       "              max_features=None, max_leaf_nodes=None,\n",
       "              min_impurity_decrease=0.0, min_impurity_split=None,\n",
       "              min_samples_leaf=3, min_samples_split=2,\n",
       "              min_weight_fraction_leaf=0.0, n_estimators=50,\n",
       "              n_iter_no_change=None, presort='auto', random_state=None,\n",
       "              subsample=1.0, tol=0.0001, validation_fraction=0.1,\n",
       "              verbose=0, warm_start=False)"
      ]
     },
     "execution_count": 19,
     "metadata": {},
     "output_type": "execute_result"
    }
   ],
   "source": [
    "search_clf = search.best_estimator_\n",
    "\n",
    "search_clf.fit(X_train, y_train)"
   ]
  },
  {
   "cell_type": "markdown",
   "metadata": {},
   "source": [
    "#### Results from Optimum Parameters"
   ]
  },
  {
   "cell_type": "code",
   "execution_count": 20,
   "metadata": {},
   "outputs": [
    {
     "name": "stdout",
     "output_type": "stream",
     "text": [
      "              precision    recall  f1-score   support\n",
      "\n",
      "        Sell       0.28      0.14      0.18      2884\n",
      "         Buy       0.42      0.36      0.39      5565\n",
      "        Hold       0.46      0.62      0.53      6594\n",
      "\n",
      "   micro avg       0.43      0.43      0.43     15043\n",
      "   macro avg       0.39      0.37      0.37     15043\n",
      "weighted avg       0.41      0.43      0.41     15043\n",
      "\n"
     ]
    }
   ],
   "source": [
    "# Classifier predictions\n",
    "s_pred = search_clf.predict(X_test)\n",
    "\n",
    "#Printing out results\n",
    "report = classification_report(y_test, s_pred, target_names=['Sell', 'Buy', 'Hold'])\n",
    "print(report)"
   ]
  },
  {
   "cell_type": "markdown",
   "metadata": {},
   "source": [
    "### Confusion Matrix for Optimum Parameters"
   ]
  },
  {
   "cell_type": "code",
   "execution_count": 21,
   "metadata": {},
   "outputs": [
    {
     "data": {
      "image/png": "[encoded data removed]",
      "text/plain": [
       "<Figure size 864x432 with 2 Axes>"
      ]
     },
     "metadata": {
      "needs_background": "light"
     },
     "output_type": "display_data"
    }
   ],
   "source": [
    "plot_confusion_matrix(y_test, s_pred, title=\"Confusion Matrix\")\n",
    "np.set_printoptions(precision=1)\n",
    "# Plot non-normalized confusion matrix\n",
    "plt.show()"
   ]
  },
  {
   "cell_type": "code",
   "execution_count": null,
   "metadata": {},
   "outputs": [],
   "source": []
  }
 ],
 "metadata": {
  "kernelspec": {
   "display_name": "Python 3",
   "language": "python",
   "name": "python3"
  },
  "language_info": {
   "codemirror_mode": {
    "name": "ipython",
    "version": 3
   },
   "file_extension": ".py",
   "mimetype": "text/x-python",
   "name": "python",
   "nbconvert_exporter": "python",
   "pygments_lexer": "ipython3",
   "version": "3.7.3"
  }
 },
 "nbformat": 4,
 "nbformat_minor": 2
}
