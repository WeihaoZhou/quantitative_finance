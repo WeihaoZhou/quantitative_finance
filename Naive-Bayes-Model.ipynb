{
 "cells": [
  {
   "cell_type": "markdown",
   "metadata": {},
   "source": [
    "# Model: Naive Bayes"
   ]
  },
  {
   "cell_type": "markdown",
   "metadata": {},
   "source": [
    "### Importing Libraries"
   ]
  },
  {
   "cell_type": "code",
   "execution_count": 1,
   "metadata": {},
   "outputs": [],
   "source": [
    "import _pickle as pickle\n",
    "import numpy as np\n",
    "import pandas as pd\n",
    "from sklearn.model_selection import train_test_split\n",
    "from sklearn.metrics import precision_score, recall_score, accuracy_score, f1_score, confusion_matrix, classification_report\n",
    "import matplotlib.pyplot as plt"
   ]
  },
  {
   "cell_type": "markdown",
   "metadata": {},
   "source": [
    "### Loading in Data"
   ]
  },
  {
   "cell_type": "code",
   "execution_count": 2,
   "metadata": {},
   "outputs": [],
   "source": [
    "with open(\"top10_df.pkl\",'rb') as fp:\n",
    "    df = pickle.load(fp)"
   ]
  },
  {
   "cell_type": "markdown",
   "metadata": {},
   "source": [
    "### Scaling the Data"
   ]
  },
  {
   "cell_type": "code",
   "execution_count": 3,
   "metadata": {},
   "outputs": [],
   "source": [
    "from sklearn.preprocessing import StandardScaler\n",
    "\n",
    "scaler = StandardScaler()\n",
    "\n",
    "features_df = df.drop([\"Decision\"], 1)\n",
    "\n",
    "scaled_df = pd.DataFrame(scaler.fit_transform(features_df), \n",
    "                               index=features_df.index, \n",
    "                               columns=features_df.columns)\n",
    "\n",
    "df = scaled_df.join(df.Decision)"
   ]
  },
  {
   "cell_type": "markdown",
   "metadata": {},
   "source": [
    "### Splitting the Data"
   ]
  },
  {
   "cell_type": "code",
   "execution_count": 4,
   "metadata": {},
   "outputs": [],
   "source": [
    "X = df.drop([\"Decision\"], 1)\n",
    "y = df.Decision\n",
    "\n",
    "# Train, test, split\n",
    "X_train, X_test, y_train, y_test = train_test_split(X, y)"
   ]
  },
  {
   "cell_type": "markdown",
   "metadata": {},
   "source": [
    "### Helper Functions"
   ]
  },
  {
   "cell_type": "markdown",
   "metadata": {},
   "source": [
    "#### Function for plotting confusion matrix"
   ]
  },
  {
   "cell_type": "code",
   "execution_count": 5,
   "metadata": {},
   "outputs": [],
   "source": [
    "def plot_confusion_matrix(y_true, y_pred, labels=[\"Sell\", \"Buy\", \"Hold\"], \n",
    "                          normalize=False, title=None, cmap=plt.cm.coolwarm):\n",
    "\n",
    "    cm = confusion_matrix(y_true, y_pred)\n",
    "    fig, ax = plt.subplots(figsize=(12,6))\n",
    "    im = ax.imshow(cm, interpolation='nearest', cmap=cmap)\n",
    "    ax.figure.colorbar(im, ax=ax)\n",
    "    # We want to show all ticks...\n",
    "    ax.set(xticks=np.arange(cm.shape[1]),\n",
    "           yticks=np.arange(cm.shape[0]),\n",
    "           # ... and label them with the respective list entries\n",
    "           xticklabels=labels, yticklabels=labels,\n",
    "           title=title,\n",
    "           ylabel='ACTUAL',\n",
    "           xlabel='PREDICTED')\n",
    "    # Rotate the tick labels and set their alignment.\n",
    "    plt.setp(ax.get_xticklabels(), rotation=45, ha=\"right\",\n",
    "             rotation_mode=\"anchor\")\n",
    "    # Loop over data dimensions and create text annotations.\n",
    "    fmt = '.2f' if normalize else 'd'\n",
    "    thresh = cm.max() / 1.5\n",
    "    for i in range(cm.shape[0]):\n",
    "        for j in range(cm.shape[1]):\n",
    "            ax.text(j, i, format(cm[i, j], fmt),\n",
    "                    ha=\"center\", va=\"center\",\n",
    "                    color=\"snow\" if cm[i, j] > thresh else \"orange\",\n",
    "                    size=26)\n",
    "    ax.grid(False)\n",
    "    fig.tight_layout()\n",
    "    return ax"
   ]
  },
  {
   "cell_type": "markdown",
   "metadata": {},
   "source": [
    "## Modeling\n",
    "The preferred evaluation metric used will be __Precision__ for each class.  They will be optimized using the __F1 Score-Macro-Average__ to balance the Precision and Recall.  This is done because we want to not only be correct when predicting but also make a decent amount of predictions for each class.  Classes such as 'Buy' and 'Sell' are more important than 'Hold'."
   ]
  },
  {
   "cell_type": "markdown",
   "metadata": {},
   "source": [
    "### Fitting and Training"
   ]
  },
  {
   "cell_type": "code",
   "execution_count": 6,
   "metadata": {
    "scrolled": false
   },
   "outputs": [
    {
     "data": {
      "text/plain": [
       "GaussianNB(priors=None, var_smoothing=1e-09)"
      ]
     },
     "execution_count": 6,
     "metadata": {},
     "output_type": "execute_result"
    }
   ],
   "source": [
    "# Importing the model\n",
    "from sklearn.naive_bayes import GaussianNB\n",
    "\n",
    "# Fitting and training\n",
    "clf = GaussianNB()\n",
    "clf.fit(X_train, y_train)"
   ]
  },
  {
   "cell_type": "markdown",
   "metadata": {},
   "source": [
    "### Printing out Evaluation Metrics"
   ]
  },
  {
   "cell_type": "code",
   "execution_count": 7,
   "metadata": {},
   "outputs": [
    {
     "name": "stdout",
     "output_type": "stream",
     "text": [
      "              precision    recall  f1-score   support\n",
      "\n",
      "        Sell       0.19      0.99      0.32      2883\n",
      "         Buy       0.36      0.01      0.02      5479\n",
      "        Hold       0.42      0.00      0.00      6681\n",
      "\n",
      "   micro avg       0.19      0.19      0.19     15043\n",
      "   macro avg       0.32      0.33      0.11     15043\n",
      "weighted avg       0.35      0.19      0.07     15043\n",
      "\n"
     ]
    }
   ],
   "source": [
    "# Classifier predictions\n",
    "pred = clf.predict(X_test)\n",
    "\n",
    "#Printing out results\n",
    "report = classification_report(y_test, pred, target_names=['Sell', 'Buy', 'Hold'])\n",
    "print(report)"
   ]
  },
  {
   "cell_type": "markdown",
   "metadata": {},
   "source": [
    "### Confusion Matrix"
   ]
  },
  {
   "cell_type": "code",
   "execution_count": 8,
   "metadata": {},
   "outputs": [
    {
     "data": {
      "image/png": "[encoded data removed]",
      "text/plain": [
       "<Figure size 864x432 with 2 Axes>"
      ]
     },
     "metadata": {
      "needs_background": "light"
     },
     "output_type": "display_data"
    }
   ],
   "source": [
    "plot_confusion_matrix(y_test, pred, title=\"Confusion Matrix\")\n",
    "np.set_printoptions(precision=1)\n",
    "# Plot non-normalized confusion matrix\n",
    "plt.show()"
   ]
  },
  {
   "cell_type": "markdown",
   "metadata": {},
   "source": [
    "## Tuning Model Parameters"
   ]
  },
  {
   "cell_type": "code",
   "execution_count": 9,
   "metadata": {},
   "outputs": [],
   "source": [
    "from sklearn.model_selection import GridSearchCV"
   ]
  },
  {
   "cell_type": "markdown",
   "metadata": {},
   "source": [
    "### Parameters"
   ]
  },
  {
   "cell_type": "code",
   "execution_count": 10,
   "metadata": {},
   "outputs": [],
   "source": [
    "# Parameters to Tune\n",
    "params = {'var_smoothing': [1.5**-i for i in range(-20,20, 2)]}"
   ]
  },
  {
   "cell_type": "code",
   "execution_count": 11,
   "metadata": {
    "scrolled": true
   },
   "outputs": [
    {
     "name": "stdout",
     "output_type": "stream",
     "text": [
      "Fitting 3 folds for each of 20 candidates, totalling 60 fits\n",
      "[CV] var_smoothing=3325.256730079651 .................................\n",
      "[CV]  var_smoothing=3325.256730079651, score=0.20344580706251877, total=   0.1s\n",
      "[CV] var_smoothing=3325.256730079651 .................................\n"
     ]
    },
    {
     "name": "stderr",
     "output_type": "stream",
     "text": [
      "[Parallel(n_jobs=1)]: Using backend SequentialBackend with 1 concurrent workers.\n",
      "/anaconda3/lib/python3.7/site-packages/sklearn/metrics/classification.py:1143: UndefinedMetricWarning: F-score is ill-defined and being set to 0.0 in labels with no predicted samples.\n",
      "  'precision', 'predicted', average, warn_for)\n",
      "/anaconda3/lib/python3.7/site-packages/sklearn/metrics/classification.py:1143: UndefinedMetricWarning: F-score is ill-defined and being set to 0.0 in labels with no predicted samples.\n",
      "  'precision', 'predicted', average, warn_for)\n",
      "[Parallel(n_jobs=1)]: Done   1 out of   1 | elapsed:    0.1s remaining:    0.0s\n",
      "/anaconda3/lib/python3.7/site-packages/sklearn/metrics/classification.py:1143: UndefinedMetricWarning: F-score is ill-defined and being set to 0.0 in labels with no predicted samples.\n",
      "  'precision', 'predicted', average, warn_for)\n",
      "/anaconda3/lib/python3.7/site-packages/sklearn/metrics/classification.py:1143: UndefinedMetricWarning: F-score is ill-defined and being set to 0.0 in labels with no predicted samples.\n",
      "  'precision', 'predicted', average, warn_for)\n"
     ]
    },
    {
     "name": "stdout",
     "output_type": "stream",
     "text": [
      "[CV]  var_smoothing=3325.256730079651, score=0.20344580706251877, total=   0.0s\n",
      "[CV] var_smoothing=3325.256730079651 .................................\n",
      "[CV]  var_smoothing=3325.256730079651, score=0.2034438554550809, total=   0.1s\n",
      "[CV] var_smoothing=1477.8918800354004 ................................\n",
      "[CV]  var_smoothing=1477.8918800354004, score=0.20344580706251877, total=   0.1s\n"
     ]
    },
    {
     "name": "stderr",
     "output_type": "stream",
     "text": [
      "[Parallel(n_jobs=1)]: Done   2 out of   2 | elapsed:    0.2s remaining:    0.0s\n",
      "/anaconda3/lib/python3.7/site-packages/sklearn/metrics/classification.py:1143: UndefinedMetricWarning: F-score is ill-defined and being set to 0.0 in labels with no predicted samples.\n",
      "  'precision', 'predicted', average, warn_for)\n",
      "/anaconda3/lib/python3.7/site-packages/sklearn/metrics/classification.py:1143: UndefinedMetricWarning: F-score is ill-defined and being set to 0.0 in labels with no predicted samples.\n",
      "  'precision', 'predicted', average, warn_for)\n",
      "[Parallel(n_jobs=1)]: Done   3 out of   3 | elapsed:    0.3s remaining:    0.0s\n",
      "/anaconda3/lib/python3.7/site-packages/sklearn/metrics/classification.py:1143: UndefinedMetricWarning: F-score is ill-defined and being set to 0.0 in labels with no predicted samples.\n",
      "  'precision', 'predicted', average, warn_for)\n",
      "/anaconda3/lib/python3.7/site-packages/sklearn/metrics/classification.py:1143: UndefinedMetricWarning: F-score is ill-defined and being set to 0.0 in labels with no predicted samples.\n",
      "  'precision', 'predicted', average, warn_for)\n",
      "[Parallel(n_jobs=1)]: Done   4 out of   4 | elapsed:    0.4s remaining:    0.0s\n",
      "/anaconda3/lib/python3.7/site-packages/sklearn/metrics/classification.py:1143: UndefinedMetricWarning: F-score is ill-defined and being set to 0.0 in labels with no predicted samples.\n",
      "  'precision', 'predicted', average, warn_for)\n",
      "/anaconda3/lib/python3.7/site-packages/sklearn/metrics/classification.py:1143: UndefinedMetricWarning: F-score is ill-defined and being set to 0.0 in labels with no predicted samples.\n",
      "  'precision', 'predicted', average, warn_for)\n",
      "/anaconda3/lib/python3.7/site-packages/sklearn/metrics/classification.py:1143: UndefinedMetricWarning: F-score is ill-defined and being set to 0.0 in labels with no predicted samples.\n",
      "  'precision', 'predicted', average, warn_for)\n",
      "/anaconda3/lib/python3.7/site-packages/sklearn/metrics/classification.py:1143: UndefinedMetricWarning: F-score is ill-defined and being set to 0.0 in labels with no predicted samples.\n",
      "  'precision', 'predicted', average, warn_for)\n",
      "/anaconda3/lib/python3.7/site-packages/sklearn/metrics/classification.py:1143: UndefinedMetricWarning: F-score is ill-defined and being set to 0.0 in labels with no predicted samples.\n",
      "  'precision', 'predicted', average, warn_for)\n",
      "/anaconda3/lib/python3.7/site-packages/sklearn/metrics/classification.py:1143: UndefinedMetricWarning: F-score is ill-defined and being set to 0.0 in labels with no predicted samples.\n",
      "  'precision', 'predicted', average, warn_for)\n"
     ]
    },
    {
     "name": "stdout",
     "output_type": "stream",
     "text": [
      "[CV] var_smoothing=1477.8918800354004 ................................\n",
      "[CV]  var_smoothing=1477.8918800354004, score=0.20344580706251877, total=   0.1s\n",
      "[CV] var_smoothing=1477.8918800354004 ................................\n",
      "[CV]  var_smoothing=1477.8918800354004, score=0.2034438554550809, total=   0.0s\n",
      "[CV] var_smoothing=656.8408355712891 .................................\n",
      "[CV]  var_smoothing=656.8408355712891, score=0.20344580706251877, total=   0.0s\n",
      "[CV] var_smoothing=656.8408355712891 .................................\n"
     ]
    },
    {
     "name": "stderr",
     "output_type": "stream",
     "text": [
      "/anaconda3/lib/python3.7/site-packages/sklearn/metrics/classification.py:1143: UndefinedMetricWarning: F-score is ill-defined and being set to 0.0 in labels with no predicted samples.\n",
      "  'precision', 'predicted', average, warn_for)\n",
      "/anaconda3/lib/python3.7/site-packages/sklearn/metrics/classification.py:1143: UndefinedMetricWarning: F-score is ill-defined and being set to 0.0 in labels with no predicted samples.\n",
      "  'precision', 'predicted', average, warn_for)\n",
      "/anaconda3/lib/python3.7/site-packages/sklearn/metrics/classification.py:1143: UndefinedMetricWarning: F-score is ill-defined and being set to 0.0 in labels with no predicted samples.\n",
      "  'precision', 'predicted', average, warn_for)\n",
      "/anaconda3/lib/python3.7/site-packages/sklearn/metrics/classification.py:1143: UndefinedMetricWarning: F-score is ill-defined and being set to 0.0 in labels with no predicted samples.\n",
      "  'precision', 'predicted', average, warn_for)\n",
      "/anaconda3/lib/python3.7/site-packages/sklearn/metrics/classification.py:1143: UndefinedMetricWarning: F-score is ill-defined and being set to 0.0 in labels with no predicted samples.\n",
      "  'precision', 'predicted', average, warn_for)\n"
     ]
    },
    {
     "name": "stdout",
     "output_type": "stream",
     "text": [
      "[CV]  var_smoothing=656.8408355712891, score=0.20344580706251877, total=   0.1s\n",
      "[CV] var_smoothing=656.8408355712891 .................................\n",
      "[CV]  var_smoothing=656.8408355712891, score=0.2034438554550809, total=   0.0s\n",
      "[CV] var_smoothing=291.92926025390625 ................................\n"
     ]
    },
    {
     "name": "stderr",
     "output_type": "stream",
     "text": [
      "/anaconda3/lib/python3.7/site-packages/sklearn/metrics/classification.py:1143: UndefinedMetricWarning: F-score is ill-defined and being set to 0.0 in labels with no predicted samples.\n",
      "  'precision', 'predicted', average, warn_for)\n",
      "/anaconda3/lib/python3.7/site-packages/sklearn/metrics/classification.py:1143: UndefinedMetricWarning: F-score is ill-defined and being set to 0.0 in labels with no predicted samples.\n",
      "  'precision', 'predicted', average, warn_for)\n",
      "/anaconda3/lib/python3.7/site-packages/sklearn/metrics/classification.py:1143: UndefinedMetricWarning: F-score is ill-defined and being set to 0.0 in labels with no predicted samples.\n",
      "  'precision', 'predicted', average, warn_for)\n",
      "/anaconda3/lib/python3.7/site-packages/sklearn/metrics/classification.py:1143: UndefinedMetricWarning: F-score is ill-defined and being set to 0.0 in labels with no predicted samples.\n",
      "  'precision', 'predicted', average, warn_for)\n"
     ]
    },
    {
     "name": "stdout",
     "output_type": "stream",
     "text": [
      "[CV]  var_smoothing=291.92926025390625, score=0.20344580706251877, total=   0.1s\n",
      "[CV] var_smoothing=291.92926025390625 ................................\n",
      "[CV]  var_smoothing=291.92926025390625, score=0.20344580706251877, total=   0.1s\n",
      "[CV] var_smoothing=291.92926025390625 ................................\n"
     ]
    },
    {
     "name": "stderr",
     "output_type": "stream",
     "text": [
      "/anaconda3/lib/python3.7/site-packages/sklearn/metrics/classification.py:1143: UndefinedMetricWarning: F-score is ill-defined and being set to 0.0 in labels with no predicted samples.\n",
      "  'precision', 'predicted', average, warn_for)\n",
      "/anaconda3/lib/python3.7/site-packages/sklearn/metrics/classification.py:1143: UndefinedMetricWarning: F-score is ill-defined and being set to 0.0 in labels with no predicted samples.\n",
      "  'precision', 'predicted', average, warn_for)\n"
     ]
    },
    {
     "name": "stdout",
     "output_type": "stream",
     "text": [
      "[CV]  var_smoothing=291.92926025390625, score=0.2034438554550809, total=   0.1s\n",
      "[CV] var_smoothing=129.746337890625 ..................................\n",
      "[CV]  var_smoothing=129.746337890625, score=0.20354125078198207, total=   0.1s\n",
      "[CV] var_smoothing=129.746337890625 ..................................\n",
      "[CV]  var_smoothing=129.746337890625, score=0.203459903917221, total=   0.0s\n",
      "[CV] var_smoothing=129.746337890625 ..................................\n"
     ]
    },
    {
     "name": "stderr",
     "output_type": "stream",
     "text": [
      "/anaconda3/lib/python3.7/site-packages/sklearn/metrics/classification.py:1143: UndefinedMetricWarning: F-score is ill-defined and being set to 0.0 in labels with no predicted samples.\n",
      "  'precision', 'predicted', average, warn_for)\n",
      "/anaconda3/lib/python3.7/site-packages/sklearn/metrics/classification.py:1143: UndefinedMetricWarning: F-score is ill-defined and being set to 0.0 in labels with no predicted samples.\n",
      "  'precision', 'predicted', average, warn_for)\n"
     ]
    },
    {
     "name": "stdout",
     "output_type": "stream",
     "text": [
      "[CV]  var_smoothing=129.746337890625, score=0.2034438554550809, total=   0.1s\n",
      "[CV] var_smoothing=57.6650390625 .....................................\n",
      "[CV]  var_smoothing=57.6650390625, score=0.20371988224262882, total=   0.0s\n",
      "[CV] var_smoothing=57.6650390625 .....................................\n",
      "[CV]  var_smoothing=57.6650390625, score=0.2035572995559267, total=   0.0s\n",
      "[CV] var_smoothing=57.6650390625 .....................................\n",
      "[CV]  var_smoothing=57.6650390625, score=0.20365277122698686, total=   0.1s\n",
      "[CV] var_smoothing=25.62890625 .......................................\n",
      "[CV]  var_smoothing=25.62890625, score=0.20402705047194478, total=   0.0s\n",
      "[CV] var_smoothing=25.62890625 .......................................\n",
      "[CV]  var_smoothing=25.62890625, score=0.2039802298279889, total=   0.1s\n",
      "[CV] var_smoothing=25.62890625 .......................................\n",
      "[CV]  var_smoothing=25.62890625, score=0.20380676335264217, total=   0.1s\n",
      "[CV] var_smoothing=11.390625 .........................................\n",
      "[CV]  var_smoothing=11.390625, score=0.2042713281904872, total=   0.0s\n",
      "[CV] var_smoothing=11.390625 .........................................\n",
      "[CV]  var_smoothing=11.390625, score=0.2044826647037368, total=   0.1s\n",
      "[CV] var_smoothing=11.390625 .........................................\n",
      "[CV]  var_smoothing=11.390625, score=0.20494970742163984, total=   0.1s\n",
      "[CV] var_smoothing=5.0625 ............................................\n",
      "[CV] .. var_smoothing=5.0625, score=0.20621992092778121, total=   0.0s\n",
      "[CV] var_smoothing=5.0625 ............................................\n",
      "[CV] .. var_smoothing=5.0625, score=0.20567001471125515, total=   0.0s\n",
      "[CV] var_smoothing=5.0625 ............................................\n",
      "[CV] .. var_smoothing=5.0625, score=0.20630130841529837, total=   0.1s\n",
      "[CV] var_smoothing=2.25 ..............................................\n",
      "[CV] .... var_smoothing=2.25, score=0.20811845248158092, total=   0.0s\n",
      "[CV] var_smoothing=2.25 ..............................................\n",
      "[CV] .... var_smoothing=2.25, score=0.21087148819796056, total=   0.0s\n",
      "[CV] var_smoothing=2.25 ..............................................\n",
      "[CV] .... var_smoothing=2.25, score=0.20767792487937242, total=   0.1s\n",
      "[CV] var_smoothing=1.0 ...............................................\n",
      "[CV] ..... var_smoothing=1.0, score=0.21297504843326123, total=   0.1s\n",
      "[CV] var_smoothing=1.0 ...............................................\n",
      "[CV] ...... var_smoothing=1.0, score=0.2145315576676584, total=   0.1s\n",
      "[CV] var_smoothing=1.0 ...............................................\n",
      "[CV] ..... var_smoothing=1.0, score=0.21063370984063823, total=   0.1s\n",
      "[CV] var_smoothing=0.4444444444444444 ................................\n",
      "[CV]  var_smoothing=0.4444444444444444, score=0.22447319595724705, total=   0.1s\n",
      "[CV] var_smoothing=0.4444444444444444 ................................\n",
      "[CV]  var_smoothing=0.4444444444444444, score=0.21883510769425416, total=   0.1s\n",
      "[CV] var_smoothing=0.4444444444444444 ................................\n",
      "[CV]  var_smoothing=0.4444444444444444, score=0.220328262629656, total=   0.0s\n",
      "[CV] var_smoothing=0.19753086419753085 ...............................\n",
      "[CV]  var_smoothing=0.19753086419753085, score=0.22795814074614218, total=   0.1s\n",
      "[CV] var_smoothing=0.19753086419753085 ...............................\n",
      "[CV]  var_smoothing=0.19753086419753085, score=0.24246210925951642, total=   0.1s\n",
      "[CV] var_smoothing=0.19753086419753085 ...............................\n",
      "[CV]  var_smoothing=0.19753086419753085, score=0.23584660353797002, total=   0.0s\n",
      "[CV] var_smoothing=0.0877914951989026 ................................\n",
      "[CV]  var_smoothing=0.0877914951989026, score=0.22876311435777805, total=   0.1s\n",
      "[CV] var_smoothing=0.0877914951989026 ................................\n",
      "[CV]  var_smoothing=0.0877914951989026, score=0.14078930316511365, total=   0.1s\n",
      "[CV] var_smoothing=0.0877914951989026 ................................\n",
      "[CV]  var_smoothing=0.0877914951989026, score=0.13129267024091154, total=   0.0s\n",
      "[CV] var_smoothing=0.03901844231062338 ...............................\n",
      "[CV]  var_smoothing=0.03901844231062338, score=0.23247368028880552, total=   0.1s\n",
      "[CV] var_smoothing=0.03901844231062338 ...............................\n",
      "[CV]  var_smoothing=0.03901844231062338, score=0.13040685549849607, total=   0.1s\n",
      "[CV] var_smoothing=0.03901844231062338 ...............................\n",
      "[CV]  var_smoothing=0.03901844231062338, score=0.12893345193956549, total=   0.1s\n",
      "[CV] var_smoothing=0.017341529915832612 ..............................\n",
      "[CV]  var_smoothing=0.017341529915832612, score=0.23441109254764847, total=   0.0s\n",
      "[CV] var_smoothing=0.017341529915832612 ..............................\n",
      "[CV]  var_smoothing=0.017341529915832612, score=0.12817074044741805, total=   0.1s\n",
      "[CV] var_smoothing=0.017341529915832612 ..............................\n",
      "[CV]  var_smoothing=0.017341529915832612, score=0.12589718487450582, total=   0.1s\n",
      "[CV] var_smoothing=0.0077073466292589396 .............................\n",
      "[CV]  var_smoothing=0.0077073466292589396, score=0.23576881091637317, total=   0.1s\n",
      "[CV] var_smoothing=0.0077073466292589396 .............................\n",
      "[CV]  var_smoothing=0.0077073466292589396, score=0.12511030929416492, total=   0.1s\n",
      "[CV] var_smoothing=0.0077073466292589396 .............................\n",
      "[CV]  var_smoothing=0.0077073466292589396, score=0.12465298777050604, total=   0.1s\n",
      "[CV] var_smoothing=0.0034254873907817508 .............................\n",
      "[CV]  var_smoothing=0.0034254873907817508, score=0.23388664194306305, total=   0.1s\n",
      "[CV] var_smoothing=0.0034254873907817508 .............................\n",
      "[CV]  var_smoothing=0.0034254873907817508, score=0.1245717846720029, total=   0.1s\n",
      "[CV] var_smoothing=0.0034254873907817508 .............................\n",
      "[CV]  var_smoothing=0.0034254873907817508, score=0.12399397475648527, total=   0.1s\n",
      "[CV] var_smoothing=0.0015224388403474447 .............................\n",
      "[CV]  var_smoothing=0.0015224388403474447, score=0.23444098651492604, total=   0.1s\n",
      "[CV] var_smoothing=0.0015224388403474447 .............................\n",
      "[CV]  var_smoothing=0.0015224388403474447, score=0.12384986048412598, total=   0.0s\n",
      "[CV] var_smoothing=0.0015224388403474447 .............................\n",
      "[CV]  var_smoothing=0.0015224388403474447, score=0.12301519450113547, total=   0.1s\n",
      "[CV] var_smoothing=0.0006766394845988643 .............................\n",
      "[CV]  var_smoothing=0.0006766394845988643, score=0.23565426342776485, total=   0.1s\n",
      "[CV] var_smoothing=0.0006766394845988643 .............................\n",
      "[CV]  var_smoothing=0.0006766394845988643, score=0.12361343275563706, total=   0.0s\n",
      "[CV] var_smoothing=0.0006766394845988643 .............................\n",
      "[CV]  var_smoothing=0.0006766394845988643, score=0.12266660179236853, total=   0.1s\n"
     ]
    },
    {
     "name": "stderr",
     "output_type": "stream",
     "text": [
      "[Parallel(n_jobs=1)]: Done  60 out of  60 | elapsed:    6.2s finished\n"
     ]
    },
    {
     "data": {
      "text/plain": [
       "GridSearchCV(cv=3, error_score='raise-deprecating',\n",
       "       estimator=GaussianNB(priors=None, var_smoothing=1e-09),\n",
       "       fit_params=None, iid='warn', n_jobs=None,\n",
       "       param_grid={'var_smoothing': [3325.256730079651, 1477.8918800354004, 656.8408355712891, 291.92926025390625, 129.746337890625, 57.6650390625, 25.62890625, 11.390625, 5.0625, 2.25, 1.0, 0.4444444444444444, 0.19753086419753085, 0.0877914951989026, 0.03901844231062338, 0.017341529915832612, 0.0077073466292589396, 0.0034254873907817508, 0.0015224388403474447, 0.0006766394845988643]},\n",
       "       pre_dispatch='2*n_jobs', refit=True, return_train_score=True,\n",
       "       scoring='f1_macro', verbose=5)"
      ]
     },
     "execution_count": 11,
     "metadata": {},
     "output_type": "execute_result"
    }
   ],
   "source": [
    "search = GridSearchCV(clf, params, cv=3, return_train_score=True, verbose=5, scoring='f1_macro')\n",
    "\n",
    "search.fit(X,y)"
   ]
  },
  {
   "cell_type": "markdown",
   "metadata": {},
   "source": [
    "### Tuned Results"
   ]
  },
  {
   "cell_type": "code",
   "execution_count": 12,
   "metadata": {},
   "outputs": [
    {
     "name": "stdout",
     "output_type": "stream",
     "text": [
      "Mean Training Score: 0.1925702357428987\n",
      "Mean Testing Score: 0.22827527034824532\n",
      "\n",
      "Best Parameter Found:\n"
     ]
    },
    {
     "data": {
      "text/plain": [
       "{'var_smoothing': 0.19753086419753085}"
      ]
     },
     "execution_count": 12,
     "metadata": {},
     "output_type": "execute_result"
    }
   ],
   "source": [
    "print(\"Mean Training Score:\", np.mean(search.cv_results_['mean_train_score']))\n",
    "print(\"Mean Testing Score:\", search.score(X, y))\n",
    "print(\"\\nBest Parameter Found:\")\n",
    "search.best_params_"
   ]
  },
  {
   "cell_type": "markdown",
   "metadata": {},
   "source": [
    "### Model with the Best Parameters"
   ]
  },
  {
   "cell_type": "code",
   "execution_count": 13,
   "metadata": {},
   "outputs": [
    {
     "data": {
      "text/plain": [
       "GaussianNB(priors=None, var_smoothing=0.19753086419753085)"
      ]
     },
     "execution_count": 13,
     "metadata": {},
     "output_type": "execute_result"
    }
   ],
   "source": [
    "search_clf = search.best_estimator_\n",
    "\n",
    "search_clf.fit(X_train, y_train)"
   ]
  },
  {
   "cell_type": "markdown",
   "metadata": {},
   "source": [
    "#### Results from Optimum Parameters"
   ]
  },
  {
   "cell_type": "code",
   "execution_count": 14,
   "metadata": {},
   "outputs": [
    {
     "name": "stdout",
     "output_type": "stream",
     "text": [
      "              precision    recall  f1-score   support\n",
      "\n",
      "        Sell       0.24      0.02      0.04      2883\n",
      "         Buy       0.37      0.02      0.03      5479\n",
      "        Hold       0.44      0.97      0.61      6681\n",
      "\n",
      "   micro avg       0.44      0.44      0.44     15043\n",
      "   macro avg       0.35      0.34      0.23     15043\n",
      "weighted avg       0.38      0.44      0.29     15043\n",
      "\n"
     ]
    }
   ],
   "source": [
    "# Classifier predictions\n",
    "s_pred = search_clf.predict(X_test)\n",
    "\n",
    "#Printing out results\n",
    "report = classification_report(y_test, s_pred, target_names=['Sell', 'Buy', 'Hold'])\n",
    "print(report)"
   ]
  },
  {
   "cell_type": "markdown",
   "metadata": {},
   "source": [
    "### Confusion Matrix for Optimum Parameters"
   ]
  },
  {
   "cell_type": "code",
   "execution_count": 15,
   "metadata": {},
   "outputs": [
    {
     "data": {
      "image/png": "[encoded data removed]",
      "text/plain": [
       "<Figure size 864x432 with 2 Axes>"
      ]
     },
     "metadata": {
      "needs_background": "light"
     },
     "output_type": "display_data"
    }
   ],
   "source": [
    "plot_confusion_matrix(y_test, s_pred, title=\"Confusion Matrix\")\n",
    "np.set_printoptions(precision=1)\n",
    "# Plot non-normalized confusion matrix\n",
    "plt.show()"
   ]
  },
  {
   "cell_type": "code",
   "execution_count": null,
   "metadata": {},
   "outputs": [],
   "source": []
  }
 ],
 "metadata": {
  "kernelspec": {
   "display_name": "Python 3",
   "language": "python",
   "name": "python3"
  },
  "language_info": {
   "codemirror_mode": {
    "name": "ipython",
    "version": 3
   },
   "file_extension": ".py",
   "mimetype": "text/x-python",
   "name": "python",
   "nbconvert_exporter": "python",
   "pygments_lexer": "ipython3",
   "version": "3.7.3"
  }
 },
 "nbformat": 4,
 "nbformat_minor": 2
}
